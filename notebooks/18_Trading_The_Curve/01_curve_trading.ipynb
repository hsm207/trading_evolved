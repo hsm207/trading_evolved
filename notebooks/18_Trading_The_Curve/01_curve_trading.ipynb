{
 "cells": [
  {
   "cell_type": "code",
   "execution_count": 1,
   "metadata": {},
   "outputs": [
    {
     "data": {
      "application/javascript": [
       "\n",
       "            setTimeout(function() {\n",
       "                var nbb_cell_id = 1;\n",
       "                var nbb_unformatted_code = \"%load_ext nb_black\";\n",
       "                var nbb_formatted_code = \"%load_ext nb_black\";\n",
       "                var nbb_cells = Jupyter.notebook.get_cells();\n",
       "                for (var i = 0; i < nbb_cells.length; ++i) {\n",
       "                    if (nbb_cells[i].input_prompt_number == nbb_cell_id) {\n",
       "                        if (nbb_cells[i].get_text() == nbb_unformatted_code) {\n",
       "                             nbb_cells[i].set_text(nbb_formatted_code);\n",
       "                        }\n",
       "                        break;\n",
       "                    }\n",
       "                }\n",
       "            }, 500);\n",
       "            "
      ],
      "text/plain": [
       "<IPython.core.display.Javascript object>"
      ]
     },
     "metadata": {},
     "output_type": "display_data"
    }
   ],
   "source": [
    "%load_ext nb_black"
   ]
  },
  {
   "cell_type": "code",
   "execution_count": 2,
   "metadata": {},
   "outputs": [
    {
     "data": {
      "application/javascript": [
       "\n",
       "            setTimeout(function() {\n",
       "                var nbb_cell_id = 2;\n",
       "                var nbb_unformatted_code = \"import zipline\\nfrom zipline.api import future_symbol,  \\\\\\n    set_commission, set_slippage, schedule_function, \\\\\\n    date_rules, time_rules, continuous_future, order_target\\n\\nfrom datetime import datetime\\nimport matplotlib.pyplot as plt\\nimport pyfolio as pf\\nimport pandas as pd\\nimport numpy as np\\n\\nfrom zipline.finance.commission import PerTrade, PerContract\\nfrom zipline.finance.slippage import FixedSlippage, VolatilityVolumeShare\\n\\n# We'll use this to find a future date, X months out.\\nfrom dateutil.relativedelta import relativedelta\";\n",
       "                var nbb_formatted_code = \"import zipline\\nfrom zipline.api import (\\n    future_symbol,\\n    set_commission,\\n    set_slippage,\\n    schedule_function,\\n    date_rules,\\n    time_rules,\\n    continuous_future,\\n    order_target,\\n)\\n\\nfrom datetime import datetime\\nimport matplotlib.pyplot as plt\\nimport pyfolio as pf\\nimport pandas as pd\\nimport numpy as np\\n\\nfrom zipline.finance.commission import PerTrade, PerContract\\nfrom zipline.finance.slippage import FixedSlippage, VolatilityVolumeShare\\n\\n# We'll use this to find a future date, X months out.\\nfrom dateutil.relativedelta import relativedelta\";\n",
       "                var nbb_cells = Jupyter.notebook.get_cells();\n",
       "                for (var i = 0; i < nbb_cells.length; ++i) {\n",
       "                    if (nbb_cells[i].input_prompt_number == nbb_cell_id) {\n",
       "                        if (nbb_cells[i].get_text() == nbb_unformatted_code) {\n",
       "                             nbb_cells[i].set_text(nbb_formatted_code);\n",
       "                        }\n",
       "                        break;\n",
       "                    }\n",
       "                }\n",
       "            }, 500);\n",
       "            "
      ],
      "text/plain": [
       "<IPython.core.display.Javascript object>"
      ]
     },
     "metadata": {},
     "output_type": "display_data"
    }
   ],
   "source": [
    "import zipline\n",
    "from zipline.api import (\n",
    "    future_symbol,\n",
    "    set_commission,\n",
    "    set_slippage,\n",
    "    schedule_function,\n",
    "    date_rules,\n",
    "    time_rules,\n",
    "    continuous_future,\n",
    "    order_target,\n",
    ")\n",
    "\n",
    "from datetime import datetime\n",
    "import matplotlib.pyplot as plt\n",
    "import pyfolio as pf\n",
    "import pandas as pd\n",
    "import numpy as np\n",
    "\n",
    "from zipline.finance.commission import PerTrade, PerContract\n",
    "from zipline.finance.slippage import FixedSlippage, VolatilityVolumeShare\n",
    "\n",
    "# We'll use this to find a future date, X months out.\n",
    "from dateutil.relativedelta import relativedelta"
   ]
  },
  {
   "cell_type": "code",
   "execution_count": 3,
   "metadata": {},
   "outputs": [
    {
     "data": {
      "application/javascript": [
       "\n",
       "            setTimeout(function() {\n",
       "                var nbb_cell_id = 3;\n",
       "                var nbb_unformatted_code = \"# settings\\nspread_months = 12 \\npos_per_side = 5\\ntarget_exposure_per_side = 1.5\\ninitial_portfolio_millions = 1\\nvolume_order_cap = 0.25\";\n",
       "                var nbb_formatted_code = \"# settings\\nspread_months = 12\\npos_per_side = 5\\ntarget_exposure_per_side = 1.5\\ninitial_portfolio_millions = 1\\nvolume_order_cap = 0.25\";\n",
       "                var nbb_cells = Jupyter.notebook.get_cells();\n",
       "                for (var i = 0; i < nbb_cells.length; ++i) {\n",
       "                    if (nbb_cells[i].input_prompt_number == nbb_cell_id) {\n",
       "                        if (nbb_cells[i].get_text() == nbb_unformatted_code) {\n",
       "                             nbb_cells[i].set_text(nbb_formatted_code);\n",
       "                        }\n",
       "                        break;\n",
       "                    }\n",
       "                }\n",
       "            }, 500);\n",
       "            "
      ],
      "text/plain": [
       "<IPython.core.display.Javascript object>"
      ]
     },
     "metadata": {},
     "output_type": "display_data"
    }
   ],
   "source": [
    "# settings\n",
    "spread_months = 12\n",
    "pos_per_side = 5\n",
    "target_exposure_per_side = 1.5\n",
    "initial_portfolio_millions = 1\n",
    "volume_order_cap = 0.25"
   ]
  },
  {
   "cell_type": "code",
   "execution_count": 4,
   "metadata": {},
   "outputs": [
    {
     "data": {
      "text/plain": [
       "Text(0.5, 1.0, 'Drawdown')"
      ]
     },
     "execution_count": 4,
     "metadata": {},
     "output_type": "execute_result"
    },
    {
     "data": {
      "image/png": "[encoded data removed]",
      "text/plain": [
       "<Figure size 720x432 with 2 Axes>"
      ]
     },
     "metadata": {
      "needs_background": "light"
     },
     "output_type": "display_data"
    },
    {
     "data": {
      "application/javascript": [
       "\n",
       "            setTimeout(function() {\n",
       "                var nbb_cell_id = 4;\n",
       "                var nbb_unformatted_code = \"# DataFame for storing and updating the data that we want to graph\\ndynamic_results = pd.DataFrame()\\n\\nfig = plt.figure(figsize=(10, 6))\\nax = fig.add_subplot(211)\\nax.set_title('Curve Trading')\\nax2 = fig.add_subplot(212)\\nax2.set_title('Drawdown')\";\n",
       "                var nbb_formatted_code = \"# DataFame for storing and updating the data that we want to graph\\ndynamic_results = pd.DataFrame()\\n\\nfig = plt.figure(figsize=(10, 6))\\nax = fig.add_subplot(211)\\nax.set_title(\\\"Curve Trading\\\")\\nax2 = fig.add_subplot(212)\\nax2.set_title(\\\"Drawdown\\\")\";\n",
       "                var nbb_cells = Jupyter.notebook.get_cells();\n",
       "                for (var i = 0; i < nbb_cells.length; ++i) {\n",
       "                    if (nbb_cells[i].input_prompt_number == nbb_cell_id) {\n",
       "                        if (nbb_cells[i].get_text() == nbb_unformatted_code) {\n",
       "                             nbb_cells[i].set_text(nbb_formatted_code);\n",
       "                        }\n",
       "                        break;\n",
       "                    }\n",
       "                }\n",
       "            }, 500);\n",
       "            "
      ],
      "text/plain": [
       "<IPython.core.display.Javascript object>"
      ]
     },
     "metadata": {},
     "output_type": "display_data"
    }
   ],
   "source": [
    "# DataFame for storing and updating the data that we want to graph\n",
    "dynamic_results = pd.DataFrame()\n",
    "\n",
    "fig = plt.figure(figsize=(10, 6))\n",
    "ax = fig.add_subplot(211)\n",
    "ax.set_title('Curve Trading')\n",
    "ax2 = fig.add_subplot(212)\n",
    "ax2.set_title('Drawdown')\n"
   ]
  },
  {
   "cell_type": "code",
   "execution_count": 5,
   "metadata": {},
   "outputs": [
    {
     "data": {
      "application/javascript": [
       "\n",
       "            setTimeout(function() {\n",
       "                var nbb_cell_id = 5;\n",
       "                var nbb_unformatted_code = \"def initialize(context):\\n    \\\"\\\"\\\"\\n    Friction Settings\\n    \\\"\\\"\\\"\\n    context.enable_commission = True\\n    context.enable_slippage = True   \\n    \\n    if context.enable_commission:\\n        comm_model = PerContract(cost=0.85, exchange_fee=1.5)\\n    else:\\n        comm_model = PerTrade(cost=0.0)\\n    set_commission(us_futures=comm_model)\\n    \\n    if context.enable_slippage:\\n        slippage_model=VolatilityVolumeShare(volume_limit=0.3)\\n    else:\\n        slippage_model=FixedSlippage(spread=0.0)      \\n    set_slippage(us_futures=slippage_model)\\n    \\n    \\\"\\\"\\\"\\n    Markets to trade\\n    \\\"\\\"\\\" \\n    most_liquid_commods = [\\n        'CL','HO','RB','NG','GC','LC','_C','_S','_W','SB', 'HG', 'CT', 'KC'\\n    ]\\n    \\n    context.universe = [\\n        continuous_future(market, offset=0, roll='volume', adjustment='mul') \\n        for market in most_liquid_commods               \\n        ]\\n        \\n    schedule_function(weekly_trade, date_rules.week_start(), time_rules.market_close()) \\n    \\n    schedule_function(update_chart,date_rules.month_start(), time_rules.market_close())     \";\n",
       "                var nbb_formatted_code = \"def initialize(context):\\n    \\\"\\\"\\\"\\n    Friction Settings\\n    \\\"\\\"\\\"\\n    context.enable_commission = True\\n    context.enable_slippage = True\\n\\n    if context.enable_commission:\\n        comm_model = PerContract(cost=0.85, exchange_fee=1.5)\\n    else:\\n        comm_model = PerTrade(cost=0.0)\\n    set_commission(us_futures=comm_model)\\n\\n    if context.enable_slippage:\\n        slippage_model = VolatilityVolumeShare(volume_limit=0.3)\\n    else:\\n        slippage_model = FixedSlippage(spread=0.0)\\n    set_slippage(us_futures=slippage_model)\\n\\n    \\\"\\\"\\\"\\n    Markets to trade\\n    \\\"\\\"\\\"\\n    most_liquid_commods = [\\n        \\\"CL\\\",\\n        \\\"HO\\\",\\n        \\\"RB\\\",\\n        \\\"NG\\\",\\n        \\\"GC\\\",\\n        \\\"LC\\\",\\n        \\\"_C\\\",\\n        \\\"_S\\\",\\n        \\\"_W\\\",\\n        \\\"SB\\\",\\n        \\\"HG\\\",\\n        \\\"CT\\\",\\n        \\\"KC\\\",\\n    ]\\n\\n    context.universe = [\\n        continuous_future(market, offset=0, roll=\\\"volume\\\", adjustment=\\\"mul\\\")\\n        for market in most_liquid_commods\\n    ]\\n\\n    schedule_function(weekly_trade, date_rules.week_start(), time_rules.market_close())\\n\\n    schedule_function(update_chart, date_rules.month_start(), time_rules.market_close())\";\n",
       "                var nbb_cells = Jupyter.notebook.get_cells();\n",
       "                for (var i = 0; i < nbb_cells.length; ++i) {\n",
       "                    if (nbb_cells[i].input_prompt_number == nbb_cell_id) {\n",
       "                        if (nbb_cells[i].get_text() == nbb_unformatted_code) {\n",
       "                             nbb_cells[i].set_text(nbb_formatted_code);\n",
       "                        }\n",
       "                        break;\n",
       "                    }\n",
       "                }\n",
       "            }, 500);\n",
       "            "
      ],
      "text/plain": [
       "<IPython.core.display.Javascript object>"
      ]
     },
     "metadata": {},
     "output_type": "display_data"
    }
   ],
   "source": [
    "def initialize(context):\n",
    "    \"\"\"\n",
    "    Friction Settings\n",
    "    \"\"\"\n",
    "    context.enable_commission = True\n",
    "    context.enable_slippage = True\n",
    "\n",
    "    if context.enable_commission:\n",
    "        comm_model = PerContract(cost=0.85, exchange_fee=1.5)\n",
    "    else:\n",
    "        comm_model = PerTrade(cost=0.0)\n",
    "    set_commission(us_futures=comm_model)\n",
    "\n",
    "    if context.enable_slippage:\n",
    "        slippage_model = VolatilityVolumeShare(volume_limit=0.3)\n",
    "    else:\n",
    "        slippage_model = FixedSlippage(spread=0.0)\n",
    "    set_slippage(us_futures=slippage_model)\n",
    "\n",
    "    \"\"\"\n",
    "    Markets to trade\n",
    "    \"\"\"\n",
    "    most_liquid_commods = [\n",
    "        \"CL\",\n",
    "        \"HO\",\n",
    "        \"RB\",\n",
    "        \"NG\",\n",
    "        \"GC\",\n",
    "        \"LC\",\n",
    "        \"_C\",\n",
    "        \"_S\",\n",
    "        \"_W\",\n",
    "        \"SB\",\n",
    "        \"HG\",\n",
    "        \"CT\",\n",
    "        \"KC\",\n",
    "    ]\n",
    "\n",
    "    context.universe = [\n",
    "        continuous_future(market, offset=0, roll=\"volume\", adjustment=\"mul\")\n",
    "        for market in most_liquid_commods\n",
    "    ]\n",
    "\n",
    "    schedule_function(weekly_trade, date_rules.week_start(), time_rules.market_close())\n",
    "\n",
    "    schedule_function(update_chart, date_rules.month_start(), time_rules.market_close())"
   ]
  },
  {
   "cell_type": "code",
   "execution_count": 6,
   "metadata": {},
   "outputs": [
    {
     "data": {
      "application/javascript": [
       "\n",
       "            setTimeout(function() {\n",
       "                var nbb_cell_id = 6;\n",
       "                var nbb_unformatted_code = \"def update_chart(context,data):\\n    # This function continuously update the graph during the backtest\\n    today = data.current_session.date()\\n    pv = context.portfolio.portfolio_value\\n    exp = context.portfolio.positions_exposure\\n    dynamic_results.loc[today, 'PortfolioValue'] = pv\\n    \\n    drawdown = (pv / dynamic_results['PortfolioValue'].max()) - 1\\n    exposure = exp / pv\\n    dynamic_results.loc[today, 'Drawdown'] = drawdown\\n    \\n    if ax.lines:\\n        ax.lines[0].set_xdata(dynamic_results.index)\\n        ax.lines[0].set_ydata(dynamic_results.PortfolioValue)\\n        ax2.lines[0].set_xdata(dynamic_results.index)\\n        ax2.lines[0].set_ydata(dynamic_results.Drawdown)\\n    else:\\n        ax.plot(dynamic_results.PortfolioValue)\\n        ax2.plot(dynamic_results.Drawdown)\\n        \\n    ax.set_ylim(\\n        dynamic_results.PortfolioValue.min(),\\n        dynamic_results.PortfolioValue.max()\\n    )\\n    ax.set_xlim(\\n        dynamic_results.index.min(),\\n        dynamic_results.index.max()\\n    )\\n    ax2.set_ylim(\\n        dynamic_results.Drawdown.min(),\\n        dynamic_results.Drawdown.max()\\n    )\\n    ax2.set_xlim(\\n        dynamic_results.index.min(),\\n        dynamic_results.index.max()\\n    )\\n    \\n    fig.canvas.draw()\";\n",
       "                var nbb_formatted_code = \"def update_chart(context, data):\\n    # This function continuously update the graph during the backtest\\n    today = data.current_session.date()\\n    pv = context.portfolio.portfolio_value\\n    exp = context.portfolio.positions_exposure\\n    dynamic_results.loc[today, \\\"PortfolioValue\\\"] = pv\\n\\n    drawdown = (pv / dynamic_results[\\\"PortfolioValue\\\"].max()) - 1\\n    exposure = exp / pv\\n    dynamic_results.loc[today, \\\"Drawdown\\\"] = drawdown\\n\\n    if ax.lines:\\n        ax.lines[0].set_xdata(dynamic_results.index)\\n        ax.lines[0].set_ydata(dynamic_results.PortfolioValue)\\n        ax2.lines[0].set_xdata(dynamic_results.index)\\n        ax2.lines[0].set_ydata(dynamic_results.Drawdown)\\n    else:\\n        ax.plot(dynamic_results.PortfolioValue)\\n        ax2.plot(dynamic_results.Drawdown)\\n\\n    ax.set_ylim(\\n        dynamic_results.PortfolioValue.min(), dynamic_results.PortfolioValue.max()\\n    )\\n    ax.set_xlim(dynamic_results.index.min(), dynamic_results.index.max())\\n    ax2.set_ylim(dynamic_results.Drawdown.min(), dynamic_results.Drawdown.max())\\n    ax2.set_xlim(dynamic_results.index.min(), dynamic_results.index.max())\\n\\n    fig.canvas.draw()\";\n",
       "                var nbb_cells = Jupyter.notebook.get_cells();\n",
       "                for (var i = 0; i < nbb_cells.length; ++i) {\n",
       "                    if (nbb_cells[i].input_prompt_number == nbb_cell_id) {\n",
       "                        if (nbb_cells[i].get_text() == nbb_unformatted_code) {\n",
       "                             nbb_cells[i].set_text(nbb_formatted_code);\n",
       "                        }\n",
       "                        break;\n",
       "                    }\n",
       "                }\n",
       "            }, 500);\n",
       "            "
      ],
      "text/plain": [
       "<IPython.core.display.Javascript object>"
      ]
     },
     "metadata": {},
     "output_type": "display_data"
    }
   ],
   "source": [
    "def update_chart(context, data):\n",
    "    # This function continuously update the graph during the backtest\n",
    "    today = data.current_session.date()\n",
    "    pv = context.portfolio.portfolio_value\n",
    "    exp = context.portfolio.positions_exposure\n",
    "    dynamic_results.loc[today, \"PortfolioValue\"] = pv\n",
    "\n",
    "    drawdown = (pv / dynamic_results[\"PortfolioValue\"].max()) - 1\n",
    "    exposure = exp / pv\n",
    "    dynamic_results.loc[today, \"Drawdown\"] = drawdown\n",
    "\n",
    "    if ax.lines:\n",
    "        ax.lines[0].set_xdata(dynamic_results.index)\n",
    "        ax.lines[0].set_ydata(dynamic_results.PortfolioValue)\n",
    "        ax2.lines[0].set_xdata(dynamic_results.index)\n",
    "        ax2.lines[0].set_ydata(dynamic_results.Drawdown)\n",
    "    else:\n",
    "        ax.plot(dynamic_results.PortfolioValue)\n",
    "        ax2.plot(dynamic_results.Drawdown)\n",
    "\n",
    "    ax.set_ylim(\n",
    "        dynamic_results.PortfolioValue.min(), dynamic_results.PortfolioValue.max()\n",
    "    )\n",
    "    ax.set_xlim(dynamic_results.index.min(), dynamic_results.index.max())\n",
    "    ax2.set_ylim(dynamic_results.Drawdown.min(), dynamic_results.Drawdown.max())\n",
    "    ax2.set_xlim(dynamic_results.index.min(), dynamic_results.index.max())\n",
    "\n",
    "    fig.canvas.draw()"
   ]
  },
  {
   "cell_type": "code",
   "execution_count": 7,
   "metadata": {},
   "outputs": [
    {
     "data": {
      "application/javascript": [
       "\n",
       "            setTimeout(function() {\n",
       "                var nbb_cell_id = 7;\n",
       "                var nbb_unformatted_code = \"def weekly_trade(context, data):\\n    # Empty DataFrame to be filled in later.\\n    carry_df = pd.DataFrame(index = context.universe)\\n    \\n    for continuation in context.universe:\\n        # Get the chain\\n        chain = data.current_chain(continuation)\\n\\n        # Transform the chain into dataframe\\n        df = pd.DataFrame(index = chain)\\n        for contract in chain:\\n            df.loc[contract, 'future'] = contract\\n            df.loc[contract, 'expiration_date'] = contract.expiration_date\\n\\n        # Locate the contract closest to the target date.\\n        # X months out from the front contract.\\n        closest_expiration_date = df.iloc[0].expiration_date\\n        target_expiration_date = closest_expiration_date + relativedelta(months=+spread_months)\\n        df['days_to_target'] = abs(df.expiration_date - target_expiration_date) \\n        target_contract = df.loc[df.days_to_target == df.days_to_target.min()]\\n        \\n        # Get prices for front contract and target contract\\n        prices = data.current(\\n            [\\n                df.index[0], \\n                target_contract.index[0]\\n            ],\\n            'close'\\n        )\\n        \\n        # Check the exact day difference between the contracts\\n        days_to_front = int(\\n            (target_contract.expiration_date - closest_expiration_date)[0].days\\n        )\\n        \\n        # Calculate the annualized carry\\n        annualized_carry = (np.power(\\n                            (prices[0] / prices[1]), (365 / days_to_front))\\n                            ) - 1\\n        \\n        carry_df.loc[continuation, 'front'] = df.iloc[0].future\\n        carry_df.loc[continuation, 'next'] = target_contract.index[0]\\n        carry_df.loc[continuation, 'carry'] = annualized_carry\\n        \\n    # Sort on carry\\n    carry_df.sort_values('carry', inplace=True, ascending=False)\\n    carry_df.dropna(inplace=True)\\n    \\n    new_portfolio = []\\n    new_longs = []\\n    new_shorts = []\\n    \\n    # Contract Selection\\n    for i in np.arange(0, pos_per_side): \\n        j = -(i+1)\\n        \\n        # Buy top, short bottom\\n        long_contract = carry_df.iloc[i].next\\n        short_contract = carry_df.iloc[j].next\\n        \\n        new_longs.append(long_contract)\\n        new_shorts.append(short_contract)\\n\\n    # Get data for the new portfolio\\n    new_portfolio = new_longs + new_shorts\\n    hist = data.history(new_portfolio,  fields=['close','volume'], \\n        frequency='1d', \\n        bar_count=10,\\n        )\\n    \\n    # Simple Equal Weighted\\n    target_weight = (\\n        target_exposure_per_side  * context.portfolio.portfolio_value \\n        ) / pos_per_side\\n    \\n    # Trading\\n    for contract in new_portfolio:\\n        # Slice history for contract\\n        h = hist.xs(contract, 2)\\n        \\n        # Equal weighted, with volume based cap.\\n        contracts_to_trade = target_weight / \\\\\\n            contract.price_multiplier / \\\\\\n            h.close[-1]\\n        \\n        # Position size cap\\n        contracts_cap = int(h['volume'].mean() * volume_order_cap)\\n        \\n        # Limit trade size to position size cap.\\n        contracts_to_trade = min(contracts_to_trade, contracts_cap)\\n        \\n        # Negative position for shorts\\n        if contract in new_shorts:\\n            contracts_to_trade *= -1\\n        \\n        # Execute\\n        order_target(contract, contracts_to_trade)\\n\\n    # Close any other open position\\n    for pos in context.portfolio.positions:\\n        if pos not in new_portfolio:\\n            order_target(pos, 0.0)\";\n",
       "                var nbb_formatted_code = \"def weekly_trade(context, data):\\n    # Empty DataFrame to be filled in later.\\n    carry_df = pd.DataFrame(index=context.universe)\\n\\n    for continuation in context.universe:\\n        # Get the chain\\n        chain = data.current_chain(continuation)\\n\\n        # Transform the chain into dataframe\\n        df = pd.DataFrame(index=chain)\\n        for contract in chain:\\n            df.loc[contract, \\\"future\\\"] = contract\\n            df.loc[contract, \\\"expiration_date\\\"] = contract.expiration_date\\n\\n        # Locate the contract closest to the target date.\\n        # X months out from the front contract.\\n        closest_expiration_date = df.iloc[0].expiration_date\\n        target_expiration_date = closest_expiration_date + relativedelta(\\n            months=+spread_months\\n        )\\n        df[\\\"days_to_target\\\"] = abs(df.expiration_date - target_expiration_date)\\n        target_contract = df.loc[df.days_to_target == df.days_to_target.min()]\\n\\n        # Get prices for front contract and target contract\\n        prices = data.current([df.index[0], target_contract.index[0]], \\\"close\\\")\\n\\n        # Check the exact day difference between the contracts\\n        days_to_front = int(\\n            (target_contract.expiration_date - closest_expiration_date)[0].days\\n        )\\n\\n        # Calculate the annualized carry\\n        annualized_carry = (\\n            np.power((prices[0] / prices[1]), (365 / days_to_front))\\n        ) - 1\\n\\n        carry_df.loc[continuation, \\\"front\\\"] = df.iloc[0].future\\n        carry_df.loc[continuation, \\\"next\\\"] = target_contract.index[0]\\n        carry_df.loc[continuation, \\\"carry\\\"] = annualized_carry\\n\\n    # Sort on carry\\n    carry_df.sort_values(\\\"carry\\\", inplace=True, ascending=False)\\n    carry_df.dropna(inplace=True)\\n\\n    new_portfolio = []\\n    new_longs = []\\n    new_shorts = []\\n\\n    # Contract Selection\\n    for i in np.arange(0, pos_per_side):\\n        j = -(i + 1)\\n\\n        # Buy top, short bottom\\n        long_contract = carry_df.iloc[i].next\\n        short_contract = carry_df.iloc[j].next\\n\\n        new_longs.append(long_contract)\\n        new_shorts.append(short_contract)\\n\\n    # Get data for the new portfolio\\n    new_portfolio = new_longs + new_shorts\\n    hist = data.history(\\n        new_portfolio,\\n        fields=[\\\"close\\\", \\\"volume\\\"],\\n        frequency=\\\"1d\\\",\\n        bar_count=10,\\n    )\\n\\n    # Simple Equal Weighted\\n    target_weight = (\\n        target_exposure_per_side * context.portfolio.portfolio_value\\n    ) / pos_per_side\\n\\n    # Trading\\n    for contract in new_portfolio:\\n        # Slice history for contract\\n        h = hist.xs(contract, 2)\\n\\n        # Equal weighted, with volume based cap.\\n        contracts_to_trade = target_weight / contract.price_multiplier / h.close[-1]\\n\\n        # Position size cap\\n        contracts_cap = int(h[\\\"volume\\\"].mean() * volume_order_cap)\\n\\n        # Limit trade size to position size cap.\\n        contracts_to_trade = min(contracts_to_trade, contracts_cap)\\n\\n        # Negative position for shorts\\n        if contract in new_shorts:\\n            contracts_to_trade *= -1\\n\\n        # Execute\\n        order_target(contract, contracts_to_trade)\\n\\n    # Close any other open position\\n    for pos in context.portfolio.positions:\\n        if pos not in new_portfolio:\\n            order_target(pos, 0.0)\";\n",
       "                var nbb_cells = Jupyter.notebook.get_cells();\n",
       "                for (var i = 0; i < nbb_cells.length; ++i) {\n",
       "                    if (nbb_cells[i].input_prompt_number == nbb_cell_id) {\n",
       "                        if (nbb_cells[i].get_text() == nbb_unformatted_code) {\n",
       "                             nbb_cells[i].set_text(nbb_formatted_code);\n",
       "                        }\n",
       "                        break;\n",
       "                    }\n",
       "                }\n",
       "            }, 500);\n",
       "            "
      ],
      "text/plain": [
       "<IPython.core.display.Javascript object>"
      ]
     },
     "metadata": {},
     "output_type": "display_data"
    }
   ],
   "source": [
    "def weekly_trade(context, data):\n",
    "    # Empty DataFrame to be filled in later.\n",
    "    carry_df = pd.DataFrame(index=context.universe)\n",
    "\n",
    "    for continuation in context.universe:\n",
    "        # Get the chain\n",
    "        chain = data.current_chain(continuation)\n",
    "\n",
    "        # Transform the chain into dataframe\n",
    "        df = pd.DataFrame(index=chain)\n",
    "        for contract in chain:\n",
    "            df.loc[contract, \"future\"] = contract\n",
    "            df.loc[contract, \"expiration_date\"] = contract.expiration_date\n",
    "\n",
    "        # Locate the contract closest to the target date.\n",
    "        # X months out from the front contract.\n",
    "        closest_expiration_date = df.iloc[0].expiration_date\n",
    "        target_expiration_date = closest_expiration_date + relativedelta(\n",
    "            months=+spread_months\n",
    "        )\n",
    "        df[\"days_to_target\"] = abs(df.expiration_date - target_expiration_date)\n",
    "        target_contract = df.loc[df.days_to_target == df.days_to_target.min()]\n",
    "\n",
    "        # Get prices for front contract and target contract\n",
    "        prices = data.current([df.index[0], target_contract.index[0]], \"close\")\n",
    "\n",
    "        # Check the exact day difference between the contracts\n",
    "        days_to_front = int(\n",
    "            (target_contract.expiration_date - closest_expiration_date)[0].days\n",
    "        )\n",
    "\n",
    "        # Calculate the annualized carry\n",
    "        annualized_carry = (\n",
    "            np.power((prices[0] / prices[1]), (365 / days_to_front))\n",
    "        ) - 1\n",
    "\n",
    "        carry_df.loc[continuation, \"front\"] = df.iloc[0].future\n",
    "        carry_df.loc[continuation, \"next\"] = target_contract.index[0]\n",
    "        carry_df.loc[continuation, \"carry\"] = annualized_carry\n",
    "\n",
    "    # Sort on carry\n",
    "    carry_df.sort_values(\"carry\", inplace=True, ascending=False)\n",
    "    carry_df.dropna(inplace=True)\n",
    "\n",
    "    new_portfolio = []\n",
    "    new_longs = []\n",
    "    new_shorts = []\n",
    "\n",
    "    # Contract Selection\n",
    "    for i in np.arange(0, pos_per_side):\n",
    "        j = -(i + 1)\n",
    "\n",
    "        # Buy top, short bottom\n",
    "        long_contract = carry_df.iloc[i].next\n",
    "        short_contract = carry_df.iloc[j].next\n",
    "\n",
    "        new_longs.append(long_contract)\n",
    "        new_shorts.append(short_contract)\n",
    "\n",
    "    # Get data for the new portfolio\n",
    "    new_portfolio = new_longs + new_shorts\n",
    "    hist = data.history(\n",
    "        new_portfolio,\n",
    "        fields=[\"close\", \"volume\"],\n",
    "        frequency=\"1d\",\n",
    "        bar_count=10,\n",
    "    )\n",
    "\n",
    "    # Simple Equal Weighted\n",
    "    target_weight = (\n",
    "        target_exposure_per_side * context.portfolio.portfolio_value\n",
    "    ) / pos_per_side\n",
    "\n",
    "    # Trading\n",
    "    for contract in new_portfolio:\n",
    "        # Slice history for contract\n",
    "        h = hist.xs(contract, 2)\n",
    "\n",
    "        # Equal weighted, with volume based cap.\n",
    "        contracts_to_trade = target_weight / contract.price_multiplier / h.close[-1]\n",
    "\n",
    "        # Position size cap\n",
    "        contracts_cap = int(h[\"volume\"].mean() * volume_order_cap)\n",
    "\n",
    "        # Limit trade size to position size cap.\n",
    "        contracts_to_trade = min(contracts_to_trade, contracts_cap)\n",
    "\n",
    "        # Negative position for shorts\n",
    "        if contract in new_shorts:\n",
    "            contracts_to_trade *= -1\n",
    "\n",
    "        # Execute\n",
    "        order_target(contract, contracts_to_trade)\n",
    "\n",
    "    # Close any other open position\n",
    "    for pos in context.portfolio.positions:\n",
    "        if pos not in new_portfolio:\n",
    "            order_target(pos, 0.0)"
   ]
  },
  {
   "cell_type": "code",
   "execution_count": 8,
   "metadata": {},
   "outputs": [
    {
     "data": {
      "application/javascript": [
       "\n",
       "            setTimeout(function() {\n",
       "                var nbb_cell_id = 8;\n",
       "                var nbb_unformatted_code = \"start = pd.Timestamp(\\\"2001-01-01 08:15:21\\\", tz='utc')\\nend = pd.Timestamp(\\\"2018-12-30 08:15:12\\\", tz='utc')\";\n",
       "                var nbb_formatted_code = \"start = pd.Timestamp(\\\"2001-01-01 08:15:21\\\", tz=\\\"utc\\\")\\nend = pd.Timestamp(\\\"2018-12-30 08:15:12\\\", tz=\\\"utc\\\")\";\n",
       "                var nbb_cells = Jupyter.notebook.get_cells();\n",
       "                for (var i = 0; i < nbb_cells.length; ++i) {\n",
       "                    if (nbb_cells[i].input_prompt_number == nbb_cell_id) {\n",
       "                        if (nbb_cells[i].get_text() == nbb_unformatted_code) {\n",
       "                             nbb_cells[i].set_text(nbb_formatted_code);\n",
       "                        }\n",
       "                        break;\n",
       "                    }\n",
       "                }\n",
       "            }, 500);\n",
       "            "
      ],
      "text/plain": [
       "<IPython.core.display.Javascript object>"
      ]
     },
     "metadata": {},
     "output_type": "display_data"
    }
   ],
   "source": [
    "start = pd.Timestamp(\"2001-01-01 08:15:21\", tz=\"utc\")\n",
    "end = pd.Timestamp(\"2018-12-30 08:15:12\", tz=\"utc\")"
   ]
  },
  {
   "cell_type": "code",
   "execution_count": 9,
   "metadata": {},
   "outputs": [
    {
     "name": "stderr",
     "output_type": "stream",
     "text": [
      "<string>:13: UserWarning: Overwriting bundle with name 'random_futures'\n"
     ]
    },
    {
     "ename": "UnknownBundle",
     "evalue": "No bundle registered with the name 'futures'",
     "output_type": "error",
     "traceback": [
      "\u001b[0;31m---------------------------------------------------------------------------\u001b[0m",
      "\u001b[0;31mUnknownBundle\u001b[0m                             Traceback (most recent call last)",
      "\u001b[0;32m<ipython-input-9-05519c9e884d>\u001b[0m in \u001b[0;36m<module>\u001b[0;34m\u001b[0m\n\u001b[1;32m      4\u001b[0m     \u001b[0mcapital_base\u001b[0m\u001b[0;34m=\u001b[0m\u001b[0minitial_portfolio_millions\u001b[0m \u001b[0;34m*\u001b[0m \u001b[0;36m1000000\u001b[0m\u001b[0;34m,\u001b[0m\u001b[0;34m\u001b[0m\u001b[0;34m\u001b[0m\u001b[0m\n\u001b[1;32m      5\u001b[0m     \u001b[0mdata_frequency\u001b[0m \u001b[0;34m=\u001b[0m \u001b[0;34m'daily'\u001b[0m\u001b[0;34m,\u001b[0m\u001b[0;34m\u001b[0m\u001b[0;34m\u001b[0m\u001b[0m\n\u001b[0;32m----> 6\u001b[0;31m     bundle='futures' ) \n\u001b[0m",
      "\u001b[0;32m/zipline/zipline/utils/run_algo.py\u001b[0m in \u001b[0;36mrun_algorithm\u001b[0;34m(start, end, initialize, capital_base, handle_data, before_trading_start, analyze, data_frequency, bundle, bundle_timestamp, trading_calendar, metrics_set, benchmark_returns, default_extension, extensions, strict_extensions, environ, blotter)\u001b[0m\n\u001b[1;32m    407\u001b[0m         \u001b[0menviron\u001b[0m\u001b[0;34m=\u001b[0m\u001b[0menviron\u001b[0m\u001b[0;34m,\u001b[0m\u001b[0;34m\u001b[0m\u001b[0;34m\u001b[0m\u001b[0m\n\u001b[1;32m    408\u001b[0m         \u001b[0mblotter\u001b[0m\u001b[0;34m=\u001b[0m\u001b[0mblotter\u001b[0m\u001b[0;34m,\u001b[0m\u001b[0;34m\u001b[0m\u001b[0;34m\u001b[0m\u001b[0m\n\u001b[0;32m--> 409\u001b[0;31m         \u001b[0mbenchmark_spec\u001b[0m\u001b[0;34m=\u001b[0m\u001b[0mbenchmark_spec\u001b[0m\u001b[0;34m,\u001b[0m\u001b[0;34m\u001b[0m\u001b[0;34m\u001b[0m\u001b[0m\n\u001b[0m\u001b[1;32m    410\u001b[0m     )\n\u001b[1;32m    411\u001b[0m \u001b[0;34m\u001b[0m\u001b[0m\n",
      "\u001b[0;32m/zipline/zipline/utils/run_algo.py\u001b[0m in \u001b[0;36m_run\u001b[0;34m(handle_data, initialize, before_trading_start, analyze, algofile, algotext, defines, data_frequency, capital_base, bundle, bundle_timestamp, start, end, output, trading_calendar, print_algo, metrics_set, local_namespace, environ, blotter, benchmark_spec)\u001b[0m\n\u001b[1;32m     89\u001b[0m         \u001b[0mbundle\u001b[0m\u001b[0;34m,\u001b[0m\u001b[0;34m\u001b[0m\u001b[0;34m\u001b[0m\u001b[0m\n\u001b[1;32m     90\u001b[0m         \u001b[0menviron\u001b[0m\u001b[0;34m,\u001b[0m\u001b[0;34m\u001b[0m\u001b[0;34m\u001b[0m\u001b[0m\n\u001b[0;32m---> 91\u001b[0;31m         \u001b[0mbundle_timestamp\u001b[0m\u001b[0;34m,\u001b[0m\u001b[0;34m\u001b[0m\u001b[0;34m\u001b[0m\u001b[0m\n\u001b[0m\u001b[1;32m     92\u001b[0m     )\n\u001b[1;32m     93\u001b[0m \u001b[0;34m\u001b[0m\u001b[0m\n",
      "\u001b[0;32m/zipline/zipline/data/bundles/core.py\u001b[0m in \u001b[0;36mload\u001b[0;34m(name, environ, timestamp)\u001b[0m\n\u001b[1;32m    511\u001b[0m         \u001b[0;32mif\u001b[0m \u001b[0mtimestamp\u001b[0m \u001b[0;32mis\u001b[0m \u001b[0;32mNone\u001b[0m\u001b[0;34m:\u001b[0m\u001b[0;34m\u001b[0m\u001b[0;34m\u001b[0m\u001b[0m\n\u001b[1;32m    512\u001b[0m             \u001b[0mtimestamp\u001b[0m \u001b[0;34m=\u001b[0m \u001b[0mpd\u001b[0m\u001b[0;34m.\u001b[0m\u001b[0mTimestamp\u001b[0m\u001b[0;34m.\u001b[0m\u001b[0mutcnow\u001b[0m\u001b[0;34m(\u001b[0m\u001b[0;34m)\u001b[0m\u001b[0;34m\u001b[0m\u001b[0;34m\u001b[0m\u001b[0m\n\u001b[0;32m--> 513\u001b[0;31m         \u001b[0mtimestr\u001b[0m \u001b[0;34m=\u001b[0m \u001b[0mmost_recent_data\u001b[0m\u001b[0;34m(\u001b[0m\u001b[0mname\u001b[0m\u001b[0;34m,\u001b[0m \u001b[0mtimestamp\u001b[0m\u001b[0;34m,\u001b[0m \u001b[0menviron\u001b[0m\u001b[0;34m=\u001b[0m\u001b[0menviron\u001b[0m\u001b[0;34m)\u001b[0m\u001b[0;34m\u001b[0m\u001b[0;34m\u001b[0m\u001b[0m\n\u001b[0m\u001b[1;32m    514\u001b[0m         return BundleData(\n\u001b[1;32m    515\u001b[0m             asset_finder=AssetFinder(\n",
      "\u001b[0;32m/zipline/zipline/data/bundles/core.py\u001b[0m in \u001b[0;36mmost_recent_data\u001b[0;34m(bundle_name, timestamp, environ)\u001b[0m\n\u001b[1;32m    466\u001b[0m         \"\"\"\n\u001b[1;32m    467\u001b[0m         \u001b[0;32mif\u001b[0m \u001b[0mbundle_name\u001b[0m \u001b[0;32mnot\u001b[0m \u001b[0;32min\u001b[0m \u001b[0mbundles\u001b[0m\u001b[0;34m:\u001b[0m\u001b[0;34m\u001b[0m\u001b[0;34m\u001b[0m\u001b[0m\n\u001b[0;32m--> 468\u001b[0;31m             \u001b[0;32mraise\u001b[0m \u001b[0mUnknownBundle\u001b[0m\u001b[0;34m(\u001b[0m\u001b[0mbundle_name\u001b[0m\u001b[0;34m)\u001b[0m\u001b[0;34m\u001b[0m\u001b[0;34m\u001b[0m\u001b[0m\n\u001b[0m\u001b[1;32m    469\u001b[0m \u001b[0;34m\u001b[0m\u001b[0m\n\u001b[1;32m    470\u001b[0m         \u001b[0;32mtry\u001b[0m\u001b[0;34m:\u001b[0m\u001b[0;34m\u001b[0m\u001b[0;34m\u001b[0m\u001b[0m\n",
      "\u001b[0;31mUnknownBundle\u001b[0m: No bundle registered with the name 'futures'"
     ]
    },
    {
     "data": {
      "application/javascript": [
       "\n",
       "            setTimeout(function() {\n",
       "                var nbb_cell_id = 9;\n",
       "                var nbb_unformatted_code = \"perf = zipline.run_algorithm(\\n    start=start, end=end, \\n    initialize=initialize, \\n    capital_base=initial_portfolio_millions * 1000000,  \\n    data_frequency = 'daily', \\n    bundle='futures' ) \";\n",
       "                var nbb_formatted_code = \"perf = zipline.run_algorithm(\\n    start=start,\\n    end=end,\\n    initialize=initialize,\\n    capital_base=initial_portfolio_millions * 1000000,\\n    data_frequency=\\\"daily\\\",\\n    bundle=\\\"futures\\\",\\n)\";\n",
       "                var nbb_cells = Jupyter.notebook.get_cells();\n",
       "                for (var i = 0; i < nbb_cells.length; ++i) {\n",
       "                    if (nbb_cells[i].input_prompt_number == nbb_cell_id) {\n",
       "                        if (nbb_cells[i].get_text() == nbb_unformatted_code) {\n",
       "                             nbb_cells[i].set_text(nbb_formatted_code);\n",
       "                        }\n",
       "                        break;\n",
       "                    }\n",
       "                }\n",
       "            }, 500);\n",
       "            "
      ],
      "text/plain": [
       "<IPython.core.display.Javascript object>"
      ]
     },
     "metadata": {},
     "output_type": "display_data"
    }
   ],
   "source": [
    "perf = zipline.run_algorithm(\n",
    "    start=start, end=end, \n",
    "    initialize=initialize, \n",
    "    capital_base=initial_portfolio_millions * 1000000,  \n",
    "    data_frequency = 'daily', \n",
    "    bundle='random_futures' )"
   ]
  },
  {
   "cell_type": "code",
   "execution_count": 10,
   "metadata": {},
   "outputs": [
    {
     "ename": "NameError",
     "evalue": "name 'perf' is not defined",
     "output_type": "error",
     "traceback": [
      "\u001b[0;31m---------------------------------------------------------------------------\u001b[0m",
      "\u001b[0;31mNameError\u001b[0m                                 Traceback (most recent call last)",
      "\u001b[0;32m<ipython-input-10-28b732c5125a>\u001b[0m in \u001b[0;36m<module>\u001b[0;34m\u001b[0m\n\u001b[0;32m----> 1\u001b[0;31m \u001b[0mreturns\u001b[0m\u001b[0;34m,\u001b[0m \u001b[0mpositions\u001b[0m\u001b[0;34m,\u001b[0m \u001b[0mtransactions\u001b[0m \u001b[0;34m=\u001b[0m \u001b[0mpf\u001b[0m\u001b[0;34m.\u001b[0m\u001b[0mutils\u001b[0m\u001b[0;34m.\u001b[0m\u001b[0mextract_rets_pos_txn_from_zipline\u001b[0m\u001b[0;34m(\u001b[0m\u001b[0mperf\u001b[0m\u001b[0;34m)\u001b[0m\u001b[0;34m\u001b[0m\u001b[0;34m\u001b[0m\u001b[0m\n\u001b[0m\u001b[1;32m      2\u001b[0m \u001b[0mpf\u001b[0m\u001b[0;34m.\u001b[0m\u001b[0mcreate_returns_tear_sheet\u001b[0m\u001b[0;34m(\u001b[0m\u001b[0mreturns\u001b[0m\u001b[0;34m,\u001b[0m \u001b[0mbenchmark_rets\u001b[0m\u001b[0;34m=\u001b[0m\u001b[0;32mNone\u001b[0m\u001b[0;34m)\u001b[0m\u001b[0;34m\u001b[0m\u001b[0;34m\u001b[0m\u001b[0m\n",
      "\u001b[0;31mNameError\u001b[0m: name 'perf' is not defined"
     ]
    },
    {
     "data": {
      "application/javascript": [
       "\n",
       "            setTimeout(function() {\n",
       "                var nbb_cell_id = 10;\n",
       "                var nbb_unformatted_code = \"returns, positions, transactions = pf.utils.extract_rets_pos_txn_from_zipline(perf)\\npf.create_returns_tear_sheet(returns, benchmark_rets=None)\";\n",
       "                var nbb_formatted_code = \"returns, positions, transactions = pf.utils.extract_rets_pos_txn_from_zipline(perf)\\npf.create_returns_tear_sheet(returns, benchmark_rets=None)\";\n",
       "                var nbb_cells = Jupyter.notebook.get_cells();\n",
       "                for (var i = 0; i < nbb_cells.length; ++i) {\n",
       "                    if (nbb_cells[i].input_prompt_number == nbb_cell_id) {\n",
       "                        if (nbb_cells[i].get_text() == nbb_unformatted_code) {\n",
       "                             nbb_cells[i].set_text(nbb_formatted_code);\n",
       "                        }\n",
       "                        break;\n",
       "                    }\n",
       "                }\n",
       "            }, 500);\n",
       "            "
      ],
      "text/plain": [
       "<IPython.core.display.Javascript object>"
      ]
     },
     "metadata": {},
     "output_type": "display_data"
    }
   ],
   "source": [
    "returns, positions, transactions = pf.utils.extract_rets_pos_txn_from_zipline(perf)\n",
    "pf.create_returns_tear_sheet(returns, benchmark_rets=None)"
   ]
  }
 ],
 "metadata": {
  "kernelspec": {
   "display_name": "Python 3",
   "language": "python",
   "name": "python3"
  },
  "language_info": {
   "codemirror_mode": {
    "name": "ipython",
    "version": 3
   },
   "file_extension": ".py",
   "mimetype": "text/x-python",
   "name": "python",
   "nbconvert_exporter": "python",
   "pygments_lexer": "ipython3",
   "version": "3.6.12"
  }
 },
 "nbformat": 4,
 "nbformat_minor": 4
}
