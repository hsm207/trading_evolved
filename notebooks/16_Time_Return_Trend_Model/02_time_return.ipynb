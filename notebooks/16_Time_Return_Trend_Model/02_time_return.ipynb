{
 "cells": [
  {
   "cell_type": "code",
   "execution_count": 1,
   "metadata": {},
   "outputs": [
    {
     "data": {
      "application/javascript": [
       "\n",
       "            setTimeout(function() {\n",
       "                var nbb_cell_id = 1;\n",
       "                var nbb_unformatted_code = \"%load_ext nb_black\";\n",
       "                var nbb_formatted_code = \"%load_ext nb_black\";\n",
       "                var nbb_cells = Jupyter.notebook.get_cells();\n",
       "                for (var i = 0; i < nbb_cells.length; ++i) {\n",
       "                    if (nbb_cells[i].input_prompt_number == nbb_cell_id) {\n",
       "                        if (nbb_cells[i].get_text() == nbb_unformatted_code) {\n",
       "                             nbb_cells[i].set_text(nbb_formatted_code);\n",
       "                        }\n",
       "                        break;\n",
       "                    }\n",
       "                }\n",
       "            }, 500);\n",
       "            "
      ],
      "text/plain": [
       "<IPython.core.display.Javascript object>"
      ]
     },
     "metadata": {},
     "output_type": "display_data"
    }
   ],
   "source": [
    "%load_ext nb_black"
   ]
  },
  {
   "cell_type": "code",
   "execution_count": 2,
   "metadata": {},
   "outputs": [
    {
     "data": {
      "application/javascript": [
       "\n",
       "            setTimeout(function() {\n",
       "                var nbb_cell_id = 2;\n",
       "                var nbb_unformatted_code = \"import zipline\\nfrom zipline.api import (\\n    future_symbol,\\n    set_commission,\\n    set_slippage,\\n    schedule_function,\\n    date_rules,\\n    time_rules,\\n    continuous_future,\\n    order_target,\\n)\\nfrom datetime import datetime\\nimport matplotlib.pyplot as plt\\nimport matplotlib\\nimport pyfolio as pf\\nimport pandas as pd\\nimport numpy as np\\nfrom zipline.finance.commission import PerShare, PerTrade, PerContract\\nfrom zipline.finance.slippage import (\\n    VolumeShareSlippage,\\n    FixedSlippage,\\n    VolatilityVolumeShare,\\n)\";\n",
       "                var nbb_formatted_code = \"import zipline\\nfrom zipline.api import (\\n    future_symbol,\\n    set_commission,\\n    set_slippage,\\n    schedule_function,\\n    date_rules,\\n    time_rules,\\n    continuous_future,\\n    order_target,\\n)\\nfrom datetime import datetime\\nimport matplotlib.pyplot as plt\\nimport matplotlib\\nimport pyfolio as pf\\nimport pandas as pd\\nimport numpy as np\\nfrom zipline.finance.commission import PerShare, PerTrade, PerContract\\nfrom zipline.finance.slippage import (\\n    VolumeShareSlippage,\\n    FixedSlippage,\\n    VolatilityVolumeShare,\\n)\";\n",
       "                var nbb_cells = Jupyter.notebook.get_cells();\n",
       "                for (var i = 0; i < nbb_cells.length; ++i) {\n",
       "                    if (nbb_cells[i].input_prompt_number == nbb_cell_id) {\n",
       "                        if (nbb_cells[i].get_text() == nbb_unformatted_code) {\n",
       "                             nbb_cells[i].set_text(nbb_formatted_code);\n",
       "                        }\n",
       "                        break;\n",
       "                    }\n",
       "                }\n",
       "            }, 500);\n",
       "            "
      ],
      "text/plain": [
       "<IPython.core.display.Javascript object>"
      ]
     },
     "metadata": {},
     "output_type": "display_data"
    }
   ],
   "source": [
    "import zipline\n",
    "from zipline.api import (\n",
    "    future_symbol,\n",
    "    set_commission,\n",
    "    set_slippage,\n",
    "    schedule_function,\n",
    "    date_rules,\n",
    "    time_rules,\n",
    "    continuous_future,\n",
    "    order_target,\n",
    ")\n",
    "from datetime import datetime\n",
    "import matplotlib.pyplot as plt\n",
    "import matplotlib\n",
    "import pyfolio as pf\n",
    "import pandas as pd\n",
    "import numpy as np\n",
    "from zipline.finance.commission import PerShare, PerTrade, PerContract\n",
    "from zipline.finance.slippage import (\n",
    "    VolumeShareSlippage,\n",
    "    FixedSlippage,\n",
    "    VolatilityVolumeShare,\n",
    ")"
   ]
  },
  {
   "cell_type": "code",
   "execution_count": 3,
   "metadata": {},
   "outputs": [
    {
     "data": {
      "application/javascript": [
       "\n",
       "            setTimeout(function() {\n",
       "                var nbb_cell_id = 3;\n",
       "                var nbb_unformatted_code = \"\\\"\\\"\\\"\\nModel Settings\\n\\\"\\\"\\\"\\nstarting_portfolio = 10000000\\nrisk_factor = 0.001\\nvola_window = 60\\n# short_trend_window = 125\\n# long_trend_window = 250\\nshort_trend_window = 5\\nlong_trend_window = 10\";\n",
       "                var nbb_formatted_code = \"\\\"\\\"\\\"\\nModel Settings\\n\\\"\\\"\\\"\\nstarting_portfolio = 10000000\\nrisk_factor = 0.001\\nvola_window = 60\\n# short_trend_window = 125\\n# long_trend_window = 250\\nshort_trend_window = 5\\nlong_trend_window = 10\";\n",
       "                var nbb_cells = Jupyter.notebook.get_cells();\n",
       "                for (var i = 0; i < nbb_cells.length; ++i) {\n",
       "                    if (nbb_cells[i].input_prompt_number == nbb_cell_id) {\n",
       "                        if (nbb_cells[i].get_text() == nbb_unformatted_code) {\n",
       "                             nbb_cells[i].set_text(nbb_formatted_code);\n",
       "                        }\n",
       "                        break;\n",
       "                    }\n",
       "                }\n",
       "            }, 500);\n",
       "            "
      ],
      "text/plain": [
       "<IPython.core.display.Javascript object>"
      ]
     },
     "metadata": {},
     "output_type": "display_data"
    }
   ],
   "source": [
    "\"\"\"\n",
    "Model Settings\n",
    "\"\"\"\n",
    "starting_portfolio = 10000000\n",
    "risk_factor = 0.001\n",
    "vola_window = 60\n",
    "# short_trend_window = 125\n",
    "# long_trend_window = 250\n",
    "short_trend_window = 5\n",
    "long_trend_window = 10"
   ]
  },
  {
   "cell_type": "code",
   "execution_count": 4,
   "metadata": {},
   "outputs": [
    {
     "data": {
      "text/plain": [
       "Text(0.5, 1.0, 'Time Return Performance')"
      ]
     },
     "execution_count": 4,
     "metadata": {},
     "output_type": "execute_result"
    },
    {
     "data": {
      "image/png": "[encoded data removed]",
      "text/plain": [
       "<Figure size 720x432 with 1 Axes>"
      ]
     },
     "metadata": {
      "needs_background": "light"
     },
     "output_type": "display_data"
    },
    {
     "data": {
      "application/javascript": [
       "\n",
       "            setTimeout(function() {\n",
       "                var nbb_cell_id = 4;\n",
       "                var nbb_unformatted_code = \"\\\"\\\"\\\"\\nPrepare for dynamic chart\\n\\\"\\\"\\\"\\ndynamic_results = pd.DataFrame()\\nfig = plt.figure(figsize=(10, 6))\\nax = fig.add_subplot(111)\\nax.set_title(\\\"Time Return Performance\\\")\";\n",
       "                var nbb_formatted_code = \"\\\"\\\"\\\"\\nPrepare for dynamic chart\\n\\\"\\\"\\\"\\ndynamic_results = pd.DataFrame()\\nfig = plt.figure(figsize=(10, 6))\\nax = fig.add_subplot(111)\\nax.set_title(\\\"Time Return Performance\\\")\";\n",
       "                var nbb_cells = Jupyter.notebook.get_cells();\n",
       "                for (var i = 0; i < nbb_cells.length; ++i) {\n",
       "                    if (nbb_cells[i].input_prompt_number == nbb_cell_id) {\n",
       "                        if (nbb_cells[i].get_text() == nbb_unformatted_code) {\n",
       "                             nbb_cells[i].set_text(nbb_formatted_code);\n",
       "                        }\n",
       "                        break;\n",
       "                    }\n",
       "                }\n",
       "            }, 500);\n",
       "            "
      ],
      "text/plain": [
       "<IPython.core.display.Javascript object>"
      ]
     },
     "metadata": {},
     "output_type": "display_data"
    }
   ],
   "source": [
    "\"\"\"\n",
    "Prepare for dynamic chart\n",
    "\"\"\"\n",
    "dynamic_results = pd.DataFrame()\n",
    "fig = plt.figure(figsize=(10, 6))\n",
    "ax = fig.add_subplot(111)\n",
    "ax.set_title(\"Time Return Performance\")"
   ]
  },
  {
   "cell_type": "code",
   "execution_count": 5,
   "metadata": {},
   "outputs": [
    {
     "data": {
      "application/javascript": [
       "\n",
       "            setTimeout(function() {\n",
       "                var nbb_cell_id = 5;\n",
       "                var nbb_unformatted_code = \"def initialize(context):\\n    \\\"\\\"\\\"\\n    Cost Settings\\n    \\\"\\\"\\\"\\n    context.enable_commission = True\\n    context.enable_slippage = True\\n\\n    if context.enable_commission:\\n        comm_model = PerContract(cost=0.85, exchange_fee=1.5)\\n    else:\\n        comm_model = PerTrade(cost=0.0)\\n\\n    set_commission(us_futures=comm_model)\\n\\n    if context.enable_slippage:\\n        slippage_model = VolatilityVolumeShare(volume_limit=0.2)\\n    else:\\n        slippage_model = FixedSlippage(spread=0.0)\\n\\n    set_slippage(us_futures=slippage_model)\\n\\n    #     currencies = [\\n    #         \\\"AD\\\",\\n    #         \\\"BP\\\",\\n    #         \\\"CD\\\",\\n    #         \\\"CU\\\",\\n    #         \\\"DX\\\",\\n    #         \\\"JY\\\",\\n    #         \\\"NE\\\",\\n    #         \\\"SF\\\",\\n    #     ]\\n    #     agriculturals = [\\n    #         \\\"BL\\\",\\n    #         \\\"BO\\\",\\n    #         \\\"_C\\\",\\n    #         \\\"CC\\\",\\n    #         \\\"CT\\\",\\n    #         \\\"FC\\\",\\n    #         \\\"KC\\\",\\n    #         \\\"LB\\\",\\n    #         \\\"LC\\\",\\n    #         \\\"LR\\\",\\n    #         \\\"LS\\\",\\n    #         \\\"_O\\\",\\n    #         \\\"_S\\\",\\n    #         \\\"SB\\\",\\n    #         \\\"_W\\\",\\n    #     ]\\n    #     nonagriculturals = [\\n    #         \\\"CL\\\",\\n    #         \\\"GC\\\",\\n    #         \\\"HG\\\",\\n    #         \\\"HO\\\",\\n    #         \\\"LG\\\",\\n    #         \\\"NG\\\",\\n    #         \\\"PA\\\",\\n    #         \\\"PL\\\",\\n    #         \\\"RB\\\",\\n    #         \\\"SI\\\",\\n    #     ]\\n    #     equities = [\\n    #         \\\"ES\\\",\\n    #         \\\"NK\\\",\\n    #         \\\"NQ\\\",\\n    #         \\\"TW\\\",\\n    #         \\\"VX\\\",\\n    #         \\\"YM\\\",\\n    #     ]\\n    #     rates = [\\n    #         \\\"ED\\\",\\n    #         \\\"FV\\\",\\n    #         \\\"TU\\\",\\n    #         \\\"TY\\\",\\n    #         \\\"US\\\",\\n    #     ]\\n\\n    #     # Join sector lists into one list\\n    #     markets = currencies + agriculturals + nonagriculturals + equities + rates\\n    # since we used random futures data...\\n    #     markets = pd.read_csv(\\\"/tmp/data/futures_meta/meta.csv\\\")[\\\"root_symbol\\\"].tolist()\\n    markets = [\\\"AD\\\"]\\n\\n    # Make a list of all continuations\\n    context.universe = [\\n        continuous_future(market, offset=0, roll=\\\"volume\\\", adjustment=\\\"mul\\\")\\n        for market in markets\\n    ]\\n\\n    # Schedule daily trading\\n    schedule_function(rebalance, date_rules.month_start(), time_rules.market_close())\\n\\n    # Schedule daily roll check\\n    schedule_function(roll_futures, date_rules.every_day(), time_rules.market_close())\\n\\n    # Schedule monthly chart update\\n    schedule_function(update_chart, date_rules.month_start(), time_rules.market_close())\";\n",
       "                var nbb_formatted_code = \"def initialize(context):\\n    \\\"\\\"\\\"\\n    Cost Settings\\n    \\\"\\\"\\\"\\n    context.enable_commission = True\\n    context.enable_slippage = True\\n\\n    if context.enable_commission:\\n        comm_model = PerContract(cost=0.85, exchange_fee=1.5)\\n    else:\\n        comm_model = PerTrade(cost=0.0)\\n\\n    set_commission(us_futures=comm_model)\\n\\n    if context.enable_slippage:\\n        slippage_model = VolatilityVolumeShare(volume_limit=0.2)\\n    else:\\n        slippage_model = FixedSlippage(spread=0.0)\\n\\n    set_slippage(us_futures=slippage_model)\\n\\n    #     currencies = [\\n    #         \\\"AD\\\",\\n    #         \\\"BP\\\",\\n    #         \\\"CD\\\",\\n    #         \\\"CU\\\",\\n    #         \\\"DX\\\",\\n    #         \\\"JY\\\",\\n    #         \\\"NE\\\",\\n    #         \\\"SF\\\",\\n    #     ]\\n    #     agriculturals = [\\n    #         \\\"BL\\\",\\n    #         \\\"BO\\\",\\n    #         \\\"_C\\\",\\n    #         \\\"CC\\\",\\n    #         \\\"CT\\\",\\n    #         \\\"FC\\\",\\n    #         \\\"KC\\\",\\n    #         \\\"LB\\\",\\n    #         \\\"LC\\\",\\n    #         \\\"LR\\\",\\n    #         \\\"LS\\\",\\n    #         \\\"_O\\\",\\n    #         \\\"_S\\\",\\n    #         \\\"SB\\\",\\n    #         \\\"_W\\\",\\n    #     ]\\n    #     nonagriculturals = [\\n    #         \\\"CL\\\",\\n    #         \\\"GC\\\",\\n    #         \\\"HG\\\",\\n    #         \\\"HO\\\",\\n    #         \\\"LG\\\",\\n    #         \\\"NG\\\",\\n    #         \\\"PA\\\",\\n    #         \\\"PL\\\",\\n    #         \\\"RB\\\",\\n    #         \\\"SI\\\",\\n    #     ]\\n    #     equities = [\\n    #         \\\"ES\\\",\\n    #         \\\"NK\\\",\\n    #         \\\"NQ\\\",\\n    #         \\\"TW\\\",\\n    #         \\\"VX\\\",\\n    #         \\\"YM\\\",\\n    #     ]\\n    #     rates = [\\n    #         \\\"ED\\\",\\n    #         \\\"FV\\\",\\n    #         \\\"TU\\\",\\n    #         \\\"TY\\\",\\n    #         \\\"US\\\",\\n    #     ]\\n\\n    #     # Join sector lists into one list\\n    #     markets = currencies + agriculturals + nonagriculturals + equities + rates\\n    # since we used random futures data...\\n    #     markets = pd.read_csv(\\\"/tmp/data/futures_meta/meta.csv\\\")[\\\"root_symbol\\\"].tolist()\\n    markets = [\\\"AD\\\"]\\n\\n    # Make a list of all continuations\\n    context.universe = [\\n        continuous_future(market, offset=0, roll=\\\"volume\\\", adjustment=\\\"mul\\\")\\n        for market in markets\\n    ]\\n\\n    # Schedule daily trading\\n    schedule_function(rebalance, date_rules.month_start(), time_rules.market_close())\\n\\n    # Schedule daily roll check\\n    schedule_function(roll_futures, date_rules.every_day(), time_rules.market_close())\\n\\n    # Schedule monthly chart update\\n    schedule_function(update_chart, date_rules.month_start(), time_rules.market_close())\";\n",
       "                var nbb_cells = Jupyter.notebook.get_cells();\n",
       "                for (var i = 0; i < nbb_cells.length; ++i) {\n",
       "                    if (nbb_cells[i].input_prompt_number == nbb_cell_id) {\n",
       "                        if (nbb_cells[i].get_text() == nbb_unformatted_code) {\n",
       "                             nbb_cells[i].set_text(nbb_formatted_code);\n",
       "                        }\n",
       "                        break;\n",
       "                    }\n",
       "                }\n",
       "            }, 500);\n",
       "            "
      ],
      "text/plain": [
       "<IPython.core.display.Javascript object>"
      ]
     },
     "metadata": {},
     "output_type": "display_data"
    }
   ],
   "source": [
    "def initialize(context):\n",
    "    \"\"\"\n",
    "    Cost Settings\n",
    "    \"\"\"\n",
    "    context.enable_commission = True\n",
    "    context.enable_slippage = True\n",
    "\n",
    "    if context.enable_commission:\n",
    "        comm_model = PerContract(cost=0.85, exchange_fee=1.5)\n",
    "    else:\n",
    "        comm_model = PerTrade(cost=0.0)\n",
    "\n",
    "    set_commission(us_futures=comm_model)\n",
    "\n",
    "    if context.enable_slippage:\n",
    "        slippage_model = VolatilityVolumeShare(volume_limit=0.2)\n",
    "    else:\n",
    "        slippage_model = FixedSlippage(spread=0.0)\n",
    "\n",
    "    set_slippage(us_futures=slippage_model)\n",
    "\n",
    "    #     currencies = [\n",
    "    #         \"AD\",\n",
    "    #         \"BP\",\n",
    "    #         \"CD\",\n",
    "    #         \"CU\",\n",
    "    #         \"DX\",\n",
    "    #         \"JY\",\n",
    "    #         \"NE\",\n",
    "    #         \"SF\",\n",
    "    #     ]\n",
    "    #     agriculturals = [\n",
    "    #         \"BL\",\n",
    "    #         \"BO\",\n",
    "    #         \"_C\",\n",
    "    #         \"CC\",\n",
    "    #         \"CT\",\n",
    "    #         \"FC\",\n",
    "    #         \"KC\",\n",
    "    #         \"LB\",\n",
    "    #         \"LC\",\n",
    "    #         \"LR\",\n",
    "    #         \"LS\",\n",
    "    #         \"_O\",\n",
    "    #         \"_S\",\n",
    "    #         \"SB\",\n",
    "    #         \"_W\",\n",
    "    #     ]\n",
    "    #     nonagriculturals = [\n",
    "    #         \"CL\",\n",
    "    #         \"GC\",\n",
    "    #         \"HG\",\n",
    "    #         \"HO\",\n",
    "    #         \"LG\",\n",
    "    #         \"NG\",\n",
    "    #         \"PA\",\n",
    "    #         \"PL\",\n",
    "    #         \"RB\",\n",
    "    #         \"SI\",\n",
    "    #     ]\n",
    "    #     equities = [\n",
    "    #         \"ES\",\n",
    "    #         \"NK\",\n",
    "    #         \"NQ\",\n",
    "    #         \"TW\",\n",
    "    #         \"VX\",\n",
    "    #         \"YM\",\n",
    "    #     ]\n",
    "    #     rates = [\n",
    "    #         \"ED\",\n",
    "    #         \"FV\",\n",
    "    #         \"TU\",\n",
    "    #         \"TY\",\n",
    "    #         \"US\",\n",
    "    #     ]\n",
    "\n",
    "    #     # Join sector lists into one list\n",
    "    #     markets = currencies + agriculturals + nonagriculturals + equities + rates\n",
    "    # since we used random futures data...\n",
    "    #     markets = pd.read_csv(\"/tmp/data/futures_meta/meta.csv\")[\"root_symbol\"].tolist()\n",
    "    markets = [\"AD\"]\n",
    "\n",
    "    # Make a list of all continuations\n",
    "    context.universe = [\n",
    "        continuous_future(market, offset=0, roll=\"volume\", adjustment=\"mul\")\n",
    "        for market in markets\n",
    "    ]\n",
    "\n",
    "    # Schedule daily trading\n",
    "    schedule_function(rebalance, date_rules.month_start(), time_rules.market_close())\n",
    "\n",
    "    # Schedule daily roll check\n",
    "    schedule_function(roll_futures, date_rules.every_day(), time_rules.market_close())\n",
    "\n",
    "    # Schedule monthly chart update\n",
    "    schedule_function(update_chart, date_rules.month_start(), time_rules.market_close())"
   ]
  },
  {
   "cell_type": "code",
   "execution_count": 6,
   "metadata": {},
   "outputs": [
    {
     "data": {
      "application/javascript": [
       "\n",
       "            setTimeout(function() {\n",
       "                var nbb_cell_id = 6;\n",
       "                var nbb_unformatted_code = \"def update_chart(context, data):\\n    # This function continuously update the graph during the backtest\\n    today = data.current_session.date()\\n    dynamic_results.loc[today, \\\"PortfolioValue\\\"] = context.portfolio.portfolio_value\\n\\n    if ax.lines:  # Update existing line\\n        ax.lines[0].set_xdata(dynamic_results.index)\\n        ax.lines[0].set_ydata(dynamic_results.PortfolioValue)\\n    else:  # Create new line\\n        ax.semilogy(dynamic_results)\\n\\n    # Update scales min/max\\n    ax.set_ylim(\\n        dynamic_results.PortfolioValue.min(), dynamic_results.PortfolioValue.max()\\n    )\\n    ax.set_xlim(dynamic_results.index.min(), dynamic_results.index.max())\\n\\n    # Redraw the graph\\n    fig.canvas.draw()\";\n",
       "                var nbb_formatted_code = \"def update_chart(context, data):\\n    # This function continuously update the graph during the backtest\\n    today = data.current_session.date()\\n    dynamic_results.loc[today, \\\"PortfolioValue\\\"] = context.portfolio.portfolio_value\\n\\n    if ax.lines:  # Update existing line\\n        ax.lines[0].set_xdata(dynamic_results.index)\\n        ax.lines[0].set_ydata(dynamic_results.PortfolioValue)\\n    else:  # Create new line\\n        ax.semilogy(dynamic_results)\\n\\n    # Update scales min/max\\n    ax.set_ylim(\\n        dynamic_results.PortfolioValue.min(), dynamic_results.PortfolioValue.max()\\n    )\\n    ax.set_xlim(dynamic_results.index.min(), dynamic_results.index.max())\\n\\n    # Redraw the graph\\n    fig.canvas.draw()\";\n",
       "                var nbb_cells = Jupyter.notebook.get_cells();\n",
       "                for (var i = 0; i < nbb_cells.length; ++i) {\n",
       "                    if (nbb_cells[i].input_prompt_number == nbb_cell_id) {\n",
       "                        if (nbb_cells[i].get_text() == nbb_unformatted_code) {\n",
       "                             nbb_cells[i].set_text(nbb_formatted_code);\n",
       "                        }\n",
       "                        break;\n",
       "                    }\n",
       "                }\n",
       "            }, 500);\n",
       "            "
      ],
      "text/plain": [
       "<IPython.core.display.Javascript object>"
      ]
     },
     "metadata": {},
     "output_type": "display_data"
    }
   ],
   "source": [
    "def update_chart(context, data):\n",
    "    # This function continuously update the graph during the backtest\n",
    "    today = data.current_session.date()\n",
    "    dynamic_results.loc[today, \"PortfolioValue\"] = context.portfolio.portfolio_value\n",
    "\n",
    "    if ax.lines:  # Update existing line\n",
    "        ax.lines[0].set_xdata(dynamic_results.index)\n",
    "        ax.lines[0].set_ydata(dynamic_results.PortfolioValue)\n",
    "    else:  # Create new line\n",
    "        ax.semilogy(dynamic_results)\n",
    "\n",
    "    # Update scales min/max\n",
    "    ax.set_ylim(\n",
    "        dynamic_results.PortfolioValue.min(), dynamic_results.PortfolioValue.max()\n",
    "    )\n",
    "    ax.set_xlim(dynamic_results.index.min(), dynamic_results.index.max())\n",
    "\n",
    "    # Redraw the graph\n",
    "    fig.canvas.draw()"
   ]
  },
  {
   "cell_type": "code",
   "execution_count": 7,
   "metadata": {},
   "outputs": [
    {
     "data": {
      "application/javascript": [
       "\n",
       "            setTimeout(function() {\n",
       "                var nbb_cell_id = 7;\n",
       "                var nbb_unformatted_code = \"def roll_futures(context, data):\\n    today = data.current_session.date()\\n    open_orders = zipline.api.get_open_orders()\\n    for held_contract in context.portfolio.positions:\\n        if held_contract in open_orders:\\n            continue\\n        days_to_auto_close = (held_contract.auto_close_date.date() - today).days\\n        if days_to_auto_close > 10:\\n            continue\\n\\n        # Make a continuation\\n        continuation = continuous_future(\\n            held_contract.root_symbol, offset=0, roll=\\\"volume\\\", adjustment=\\\"mul\\\"\\n        )\\n        continuation_contract = data.current(continuation, \\\"contract\\\")\\n\\n        if continuation_contract != held_contract:\\n            pos_size = context.portfolio.positions[held_contract].amount\\n            order_target(held_contract, 0)\\n            order_target(continuation_contract, pos_size)\";\n",
       "                var nbb_formatted_code = \"def roll_futures(context, data):\\n    today = data.current_session.date()\\n    open_orders = zipline.api.get_open_orders()\\n    for held_contract in context.portfolio.positions:\\n        if held_contract in open_orders:\\n            continue\\n        days_to_auto_close = (held_contract.auto_close_date.date() - today).days\\n        if days_to_auto_close > 10:\\n            continue\\n\\n        # Make a continuation\\n        continuation = continuous_future(\\n            held_contract.root_symbol, offset=0, roll=\\\"volume\\\", adjustment=\\\"mul\\\"\\n        )\\n        continuation_contract = data.current(continuation, \\\"contract\\\")\\n\\n        if continuation_contract != held_contract:\\n            pos_size = context.portfolio.positions[held_contract].amount\\n            order_target(held_contract, 0)\\n            order_target(continuation_contract, pos_size)\";\n",
       "                var nbb_cells = Jupyter.notebook.get_cells();\n",
       "                for (var i = 0; i < nbb_cells.length; ++i) {\n",
       "                    if (nbb_cells[i].input_prompt_number == nbb_cell_id) {\n",
       "                        if (nbb_cells[i].get_text() == nbb_unformatted_code) {\n",
       "                             nbb_cells[i].set_text(nbb_formatted_code);\n",
       "                        }\n",
       "                        break;\n",
       "                    }\n",
       "                }\n",
       "            }, 500);\n",
       "            "
      ],
      "text/plain": [
       "<IPython.core.display.Javascript object>"
      ]
     },
     "metadata": {},
     "output_type": "display_data"
    }
   ],
   "source": [
    "def roll_futures(context, data):\n",
    "    today = data.current_session.date()\n",
    "    open_orders = zipline.api.get_open_orders()\n",
    "    for held_contract in context.portfolio.positions:\n",
    "        if held_contract in open_orders:\n",
    "            continue\n",
    "        days_to_auto_close = (held_contract.auto_close_date.date() - today).days\n",
    "        if days_to_auto_close > 10:\n",
    "            continue\n",
    "\n",
    "        # Make a continuation\n",
    "        continuation = continuous_future(\n",
    "            held_contract.root_symbol, offset=0, roll=\"volume\", adjustment=\"mul\"\n",
    "        )\n",
    "        continuation_contract = data.current(continuation, \"contract\")\n",
    "\n",
    "        if continuation_contract != held_contract:\n",
    "            pos_size = context.portfolio.positions[held_contract].amount\n",
    "            order_target(held_contract, 0)\n",
    "            order_target(continuation_contract, pos_size)"
   ]
  },
  {
   "cell_type": "code",
   "execution_count": 8,
   "metadata": {},
   "outputs": [
    {
     "data": {
      "application/javascript": [
       "\n",
       "            setTimeout(function() {\n",
       "                var nbb_cell_id = 8;\n",
       "                var nbb_unformatted_code = \"def position_size(portfolio_value, std, pv, avg_volume):\\n    target_variation = portfolio_value * risk_factor\\n    contract_variation = std * pv\\n    contracts = target_variation / contract_variation\\n    return int(np.nan_to_num(contracts))\";\n",
       "                var nbb_formatted_code = \"def position_size(portfolio_value, std, pv, avg_volume):\\n    target_variation = portfolio_value * risk_factor\\n    contract_variation = std * pv\\n    contracts = target_variation / contract_variation\\n    return int(np.nan_to_num(contracts))\";\n",
       "                var nbb_cells = Jupyter.notebook.get_cells();\n",
       "                for (var i = 0; i < nbb_cells.length; ++i) {\n",
       "                    if (nbb_cells[i].input_prompt_number == nbb_cell_id) {\n",
       "                        if (nbb_cells[i].get_text() == nbb_unformatted_code) {\n",
       "                             nbb_cells[i].set_text(nbb_formatted_code);\n",
       "                        }\n",
       "                        break;\n",
       "                    }\n",
       "                }\n",
       "            }, 500);\n",
       "            "
      ],
      "text/plain": [
       "<IPython.core.display.Javascript object>"
      ]
     },
     "metadata": {},
     "output_type": "display_data"
    }
   ],
   "source": [
    "def position_size(portfolio_value, std, pv, avg_volume):\n",
    "    target_variation = portfolio_value * risk_factor\n",
    "    contract_variation = std * pv\n",
    "    contracts = target_variation / contract_variation\n",
    "    return int(np.nan_to_num(contracts))"
   ]
  },
  {
   "cell_type": "code",
   "execution_count": 9,
   "metadata": {},
   "outputs": [
    {
     "data": {
      "application/javascript": [
       "\n",
       "            setTimeout(function() {\n",
       "                var nbb_cell_id = 9;\n",
       "                var nbb_unformatted_code = \"def rebalance(context, data):\\n    # Get the history\\n    hist = data.history(\\n        context.universe,\\n        fields=[\\\"close\\\", \\\"volume\\\"],\\n        frequency=\\\"1d\\\",\\n        bar_count=long_trend_window,\\n    )\\n\\n    # Make a dictionary of open positions\\n    open_pos = {pos.root_symbol: pos for pos in context.portfolio.positions}\\n\\n    # Loop all markets\\n    for continuation in context.universe:\\n        # Slice off history for this market\\n        h = hist.xs(continuation, 2)\\n        root = continuation.root_symbol\\n\\n        # Calculate volatility\\n        std = h.close.diff()[-vola_window:].std()\\n\\n        if root in open_pos:  # Position is already open\\n            p = context.portfolio.positions[open_pos[root]]\\n            if p.amount > 0:  # Long position\\n                if h.close[-1] < h.close[-long_trend_window]:\\n                    # Lost slow trend, close position\\n                    order_target(open_pos[root], 0)\\n                elif h.close[-1] < h.close[-short_trend_window]:\\n                    # Lost fast trend, close position\\n                    order_target(open_pos[root], 0)\\n            else:  # Short position\\n                if h.close[-1] > h.close[-long_trend_window]:\\n                    # Lost slow trend, close position\\n                    order_target(open_pos[root], 0)\\n                elif h.close[-1] > h.close[-short_trend_window]:\\n                    # Lost fast trend, close position\\n                    order_target(open_pos[root], 0)\\n\\n        else:  # No position open yet.\\n            if (h.close[-1] > h.close[-long_trend_window]) and (\\n                h.close[-1] > h.close[-short_trend_window]\\n            ):\\n                # Buy new position\\n                contract = data.current(continuation, \\\"contract\\\")\\n                contracts_to_trade = position_size(\\n                    context.portfolio.portfolio_value,\\n                    std,\\n                    contract.price_multiplier,\\n                    h[\\\"volume\\\"][-20:].mean(),\\n                )\\n\\n                order_target(contract, contracts_to_trade)\\n            elif (h.close[-1] < h.close[-long_trend_window]) and (\\n                h.close[-1] < h.close[-short_trend_window]\\n            ):\\n                # New short position\\n                contract = data.current(continuation, \\\"contract\\\")\\n                contracts_to_trade = position_size(\\n                    context.portfolio.portfolio_value,\\n                    std,\\n                    contract.price_multiplier,\\n                    h[\\\"volume\\\"][-20:].mean(),\\n                )\\n\\n                order_target(contract, contracts_to_trade * -1)\";\n",
       "                var nbb_formatted_code = \"def rebalance(context, data):\\n    # Get the history\\n    hist = data.history(\\n        context.universe,\\n        fields=[\\\"close\\\", \\\"volume\\\"],\\n        frequency=\\\"1d\\\",\\n        bar_count=long_trend_window,\\n    )\\n\\n    # Make a dictionary of open positions\\n    open_pos = {pos.root_symbol: pos for pos in context.portfolio.positions}\\n\\n    # Loop all markets\\n    for continuation in context.universe:\\n        # Slice off history for this market\\n        h = hist.xs(continuation, 2)\\n        root = continuation.root_symbol\\n\\n        # Calculate volatility\\n        std = h.close.diff()[-vola_window:].std()\\n\\n        if root in open_pos:  # Position is already open\\n            p = context.portfolio.positions[open_pos[root]]\\n            if p.amount > 0:  # Long position\\n                if h.close[-1] < h.close[-long_trend_window]:\\n                    # Lost slow trend, close position\\n                    order_target(open_pos[root], 0)\\n                elif h.close[-1] < h.close[-short_trend_window]:\\n                    # Lost fast trend, close position\\n                    order_target(open_pos[root], 0)\\n            else:  # Short position\\n                if h.close[-1] > h.close[-long_trend_window]:\\n                    # Lost slow trend, close position\\n                    order_target(open_pos[root], 0)\\n                elif h.close[-1] > h.close[-short_trend_window]:\\n                    # Lost fast trend, close position\\n                    order_target(open_pos[root], 0)\\n\\n        else:  # No position open yet.\\n            if (h.close[-1] > h.close[-long_trend_window]) and (\\n                h.close[-1] > h.close[-short_trend_window]\\n            ):\\n                # Buy new position\\n                contract = data.current(continuation, \\\"contract\\\")\\n                contracts_to_trade = position_size(\\n                    context.portfolio.portfolio_value,\\n                    std,\\n                    contract.price_multiplier,\\n                    h[\\\"volume\\\"][-20:].mean(),\\n                )\\n\\n                order_target(contract, contracts_to_trade)\\n            elif (h.close[-1] < h.close[-long_trend_window]) and (\\n                h.close[-1] < h.close[-short_trend_window]\\n            ):\\n                # New short position\\n                contract = data.current(continuation, \\\"contract\\\")\\n                contracts_to_trade = position_size(\\n                    context.portfolio.portfolio_value,\\n                    std,\\n                    contract.price_multiplier,\\n                    h[\\\"volume\\\"][-20:].mean(),\\n                )\\n\\n                order_target(contract, contracts_to_trade * -1)\";\n",
       "                var nbb_cells = Jupyter.notebook.get_cells();\n",
       "                for (var i = 0; i < nbb_cells.length; ++i) {\n",
       "                    if (nbb_cells[i].input_prompt_number == nbb_cell_id) {\n",
       "                        if (nbb_cells[i].get_text() == nbb_unformatted_code) {\n",
       "                             nbb_cells[i].set_text(nbb_formatted_code);\n",
       "                        }\n",
       "                        break;\n",
       "                    }\n",
       "                }\n",
       "            }, 500);\n",
       "            "
      ],
      "text/plain": [
       "<IPython.core.display.Javascript object>"
      ]
     },
     "metadata": {},
     "output_type": "display_data"
    }
   ],
   "source": [
    "def rebalance(context, data):\n",
    "    # Get the history\n",
    "    hist = data.history(\n",
    "        context.universe,\n",
    "        fields=[\"close\", \"volume\"],\n",
    "        frequency=\"1d\",\n",
    "        bar_count=long_trend_window,\n",
    "    )\n",
    "\n",
    "    # Make a dictionary of open positions\n",
    "    open_pos = {pos.root_symbol: pos for pos in context.portfolio.positions}\n",
    "\n",
    "    # Loop all markets\n",
    "    for continuation in context.universe:\n",
    "        # Slice off history for this market\n",
    "        h = hist.xs(continuation, 2)\n",
    "        root = continuation.root_symbol\n",
    "\n",
    "        # Calculate volatility\n",
    "        std = h.close.diff()[-vola_window:].std()\n",
    "\n",
    "        if root in open_pos:  # Position is already open\n",
    "            p = context.portfolio.positions[open_pos[root]]\n",
    "            if p.amount > 0:  # Long position\n",
    "                if h.close[-1] < h.close[-long_trend_window]:\n",
    "                    # Lost slow trend, close position\n",
    "                    order_target(open_pos[root], 0)\n",
    "                elif h.close[-1] < h.close[-short_trend_window]:\n",
    "                    # Lost fast trend, close position\n",
    "                    order_target(open_pos[root], 0)\n",
    "            else:  # Short position\n",
    "                if h.close[-1] > h.close[-long_trend_window]:\n",
    "                    # Lost slow trend, close position\n",
    "                    order_target(open_pos[root], 0)\n",
    "                elif h.close[-1] > h.close[-short_trend_window]:\n",
    "                    # Lost fast trend, close position\n",
    "                    order_target(open_pos[root], 0)\n",
    "\n",
    "        else:  # No position open yet.\n",
    "            if (h.close[-1] > h.close[-long_trend_window]) and (\n",
    "                h.close[-1] > h.close[-short_trend_window]\n",
    "            ):\n",
    "                # Buy new position\n",
    "                contract = data.current(continuation, \"contract\")\n",
    "                contracts_to_trade = position_size(\n",
    "                    context.portfolio.portfolio_value,\n",
    "                    std,\n",
    "                    contract.price_multiplier,\n",
    "                    h[\"volume\"][-20:].mean(),\n",
    "                )\n",
    "\n",
    "                order_target(contract, contracts_to_trade)\n",
    "            elif (h.close[-1] < h.close[-long_trend_window]) and (\n",
    "                h.close[-1] < h.close[-short_trend_window]\n",
    "            ):\n",
    "                # New short position\n",
    "                contract = data.current(continuation, \"contract\")\n",
    "                contracts_to_trade = position_size(\n",
    "                    context.portfolio.portfolio_value,\n",
    "                    std,\n",
    "                    contract.price_multiplier,\n",
    "                    h[\"volume\"][-20:].mean(),\n",
    "                )\n",
    "\n",
    "                order_target(contract, contracts_to_trade * -1)"
   ]
  },
  {
   "cell_type": "code",
   "execution_count": 10,
   "metadata": {},
   "outputs": [
    {
     "data": {
      "application/javascript": [
       "\n",
       "            setTimeout(function() {\n",
       "                var nbb_cell_id = 10;\n",
       "                var nbb_unformatted_code = \"start = pd.Timestamp(\\\"2018-01-01 08:15:12\\\", tz=\\\"utc\\\")\\nend = pd.Timestamp(\\\"2018-12-31 08:15:12\\\", tz=\\\"utc\\\")\";\n",
       "                var nbb_formatted_code = \"start = pd.Timestamp(\\\"2018-01-01 08:15:12\\\", tz=\\\"utc\\\")\\nend = pd.Timestamp(\\\"2018-12-31 08:15:12\\\", tz=\\\"utc\\\")\";\n",
       "                var nbb_cells = Jupyter.notebook.get_cells();\n",
       "                for (var i = 0; i < nbb_cells.length; ++i) {\n",
       "                    if (nbb_cells[i].input_prompt_number == nbb_cell_id) {\n",
       "                        if (nbb_cells[i].get_text() == nbb_unformatted_code) {\n",
       "                             nbb_cells[i].set_text(nbb_formatted_code);\n",
       "                        }\n",
       "                        break;\n",
       "                    }\n",
       "                }\n",
       "            }, 500);\n",
       "            "
      ],
      "text/plain": [
       "<IPython.core.display.Javascript object>"
      ]
     },
     "metadata": {},
     "output_type": "display_data"
    }
   ],
   "source": [
    "start = pd.Timestamp(\"2018-01-01 08:15:12\", tz=\"utc\")\n",
    "end = pd.Timestamp(\"2018-12-31 08:15:12\", tz=\"utc\")"
   ]
  },
  {
   "cell_type": "code",
   "execution_count": 11,
   "metadata": {},
   "outputs": [
    {
     "name": "stderr",
     "output_type": "stream",
     "text": [
      "<string>:13: UserWarning: Overwriting bundle with name 'random_futures'\n"
     ]
    },
    {
     "ename": "KeyError",
     "evalue": "<class 'zipline.assets.continuous_futures.ContinuousFuture'>",
     "output_type": "error",
     "traceback": [
      "\u001b[0;31m---------------------------------------------------------------------------\u001b[0m",
      "\u001b[0;31mKeyError\u001b[0m                                  Traceback (most recent call last)",
      "\u001b[0;32m<ipython-input-11-726ce5753b0a>\u001b[0m in \u001b[0;36m<module>\u001b[0;34m\u001b[0m\n\u001b[1;32m      5\u001b[0m     \u001b[0mcapital_base\u001b[0m\u001b[0;34m=\u001b[0m\u001b[0mstarting_portfolio\u001b[0m\u001b[0;34m,\u001b[0m\u001b[0;34m\u001b[0m\u001b[0;34m\u001b[0m\u001b[0m\n\u001b[1;32m      6\u001b[0m     \u001b[0mdata_frequency\u001b[0m\u001b[0;34m=\u001b[0m\u001b[0;34m\"daily\"\u001b[0m\u001b[0;34m,\u001b[0m\u001b[0;34m\u001b[0m\u001b[0;34m\u001b[0m\u001b[0m\n\u001b[0;32m----> 7\u001b[0;31m     \u001b[0mbundle\u001b[0m\u001b[0;34m=\u001b[0m\u001b[0;34m\"random_futures\"\u001b[0m\u001b[0;34m,\u001b[0m\u001b[0;34m\u001b[0m\u001b[0;34m\u001b[0m\u001b[0m\n\u001b[0m\u001b[1;32m      8\u001b[0m )\n",
      "\u001b[0;32m/zipline/zipline/utils/run_algo.py\u001b[0m in \u001b[0;36mrun_algorithm\u001b[0;34m(start, end, initialize, capital_base, handle_data, before_trading_start, analyze, data_frequency, bundle, bundle_timestamp, trading_calendar, metrics_set, benchmark_returns, default_extension, extensions, strict_extensions, environ, blotter)\u001b[0m\n\u001b[1;32m    407\u001b[0m         \u001b[0menviron\u001b[0m\u001b[0;34m=\u001b[0m\u001b[0menviron\u001b[0m\u001b[0;34m,\u001b[0m\u001b[0;34m\u001b[0m\u001b[0;34m\u001b[0m\u001b[0m\n\u001b[1;32m    408\u001b[0m         \u001b[0mblotter\u001b[0m\u001b[0;34m=\u001b[0m\u001b[0mblotter\u001b[0m\u001b[0;34m,\u001b[0m\u001b[0;34m\u001b[0m\u001b[0;34m\u001b[0m\u001b[0m\n\u001b[0;32m--> 409\u001b[0;31m         \u001b[0mbenchmark_spec\u001b[0m\u001b[0;34m=\u001b[0m\u001b[0mbenchmark_spec\u001b[0m\u001b[0;34m,\u001b[0m\u001b[0;34m\u001b[0m\u001b[0;34m\u001b[0m\u001b[0m\n\u001b[0m\u001b[1;32m    410\u001b[0m     )\n\u001b[1;32m    411\u001b[0m \u001b[0;34m\u001b[0m\u001b[0m\n",
      "\u001b[0;32m/zipline/zipline/utils/run_algo.py\u001b[0m in \u001b[0;36m_run\u001b[0;34m(handle_data, initialize, before_trading_start, analyze, algofile, algotext, defines, data_frequency, capital_base, bundle, bundle_timestamp, start, end, output, trading_calendar, print_algo, metrics_set, local_namespace, environ, blotter, benchmark_spec)\u001b[0m\n\u001b[1;32m    214\u001b[0m             \u001b[0;34m}\u001b[0m \u001b[0;32mif\u001b[0m \u001b[0malgotext\u001b[0m \u001b[0;32mis\u001b[0m \u001b[0;32mNone\u001b[0m \u001b[0;32melse\u001b[0m \u001b[0;34m{\u001b[0m\u001b[0;34m\u001b[0m\u001b[0;34m\u001b[0m\u001b[0m\n\u001b[1;32m    215\u001b[0m                 \u001b[0;34m'algo_filename'\u001b[0m\u001b[0;34m:\u001b[0m \u001b[0mgetattr\u001b[0m\u001b[0;34m(\u001b[0m\u001b[0malgofile\u001b[0m\u001b[0;34m,\u001b[0m \u001b[0;34m'name'\u001b[0m\u001b[0;34m,\u001b[0m \u001b[0;34m'<algorithm>'\u001b[0m\u001b[0;34m)\u001b[0m\u001b[0;34m,\u001b[0m\u001b[0;34m\u001b[0m\u001b[0;34m\u001b[0m\u001b[0m\n\u001b[0;32m--> 216\u001b[0;31m                 \u001b[0;34m'script'\u001b[0m\u001b[0;34m:\u001b[0m \u001b[0malgotext\u001b[0m\u001b[0;34m,\u001b[0m\u001b[0;34m\u001b[0m\u001b[0;34m\u001b[0m\u001b[0m\n\u001b[0m\u001b[1;32m    217\u001b[0m             }\n\u001b[1;32m    218\u001b[0m         ).run()\n",
      "\u001b[0;32m/zipline/zipline/algorithm.py\u001b[0m in \u001b[0;36mrun\u001b[0;34m(self, data_portal)\u001b[0m\n\u001b[1;32m    641\u001b[0m         \u001b[0;32mtry\u001b[0m\u001b[0;34m:\u001b[0m\u001b[0;34m\u001b[0m\u001b[0;34m\u001b[0m\u001b[0m\n\u001b[1;32m    642\u001b[0m             \u001b[0mperfs\u001b[0m \u001b[0;34m=\u001b[0m \u001b[0;34m[\u001b[0m\u001b[0;34m]\u001b[0m\u001b[0;34m\u001b[0m\u001b[0;34m\u001b[0m\u001b[0m\n\u001b[0;32m--> 643\u001b[0;31m             \u001b[0;32mfor\u001b[0m \u001b[0mperf\u001b[0m \u001b[0;32min\u001b[0m \u001b[0mself\u001b[0m\u001b[0;34m.\u001b[0m\u001b[0mget_generator\u001b[0m\u001b[0;34m(\u001b[0m\u001b[0;34m)\u001b[0m\u001b[0;34m:\u001b[0m\u001b[0;34m\u001b[0m\u001b[0;34m\u001b[0m\u001b[0m\n\u001b[0m\u001b[1;32m    644\u001b[0m                 \u001b[0mperfs\u001b[0m\u001b[0;34m.\u001b[0m\u001b[0mappend\u001b[0m\u001b[0;34m(\u001b[0m\u001b[0mperf\u001b[0m\u001b[0;34m)\u001b[0m\u001b[0;34m\u001b[0m\u001b[0;34m\u001b[0m\u001b[0m\n\u001b[1;32m    645\u001b[0m \u001b[0;34m\u001b[0m\u001b[0m\n",
      "\u001b[0;32m/zipline/zipline/gens/tradesimulation.py\u001b[0m in \u001b[0;36mtransform\u001b[0;34m(self)\u001b[0m\n\u001b[1;32m    203\u001b[0m             \u001b[0;32mfor\u001b[0m \u001b[0mdt\u001b[0m\u001b[0;34m,\u001b[0m \u001b[0maction\u001b[0m \u001b[0;32min\u001b[0m \u001b[0mself\u001b[0m\u001b[0;34m.\u001b[0m\u001b[0mclock\u001b[0m\u001b[0;34m:\u001b[0m\u001b[0;34m\u001b[0m\u001b[0;34m\u001b[0m\u001b[0m\n\u001b[1;32m    204\u001b[0m                 \u001b[0;32mif\u001b[0m \u001b[0maction\u001b[0m \u001b[0;34m==\u001b[0m \u001b[0mBAR\u001b[0m\u001b[0;34m:\u001b[0m\u001b[0;34m\u001b[0m\u001b[0;34m\u001b[0m\u001b[0m\n\u001b[0;32m--> 205\u001b[0;31m                     \u001b[0;32mfor\u001b[0m \u001b[0mcapital_change_packet\u001b[0m \u001b[0;32min\u001b[0m \u001b[0mevery_bar\u001b[0m\u001b[0;34m(\u001b[0m\u001b[0mdt\u001b[0m\u001b[0;34m)\u001b[0m\u001b[0;34m:\u001b[0m\u001b[0;34m\u001b[0m\u001b[0;34m\u001b[0m\u001b[0m\n\u001b[0m\u001b[1;32m    206\u001b[0m                         \u001b[0;32myield\u001b[0m \u001b[0mcapital_change_packet\u001b[0m\u001b[0;34m\u001b[0m\u001b[0;34m\u001b[0m\u001b[0m\n\u001b[1;32m    207\u001b[0m                 \u001b[0;32melif\u001b[0m \u001b[0maction\u001b[0m \u001b[0;34m==\u001b[0m \u001b[0mSESSION_START\u001b[0m\u001b[0;34m:\u001b[0m\u001b[0;34m\u001b[0m\u001b[0;34m\u001b[0m\u001b[0m\n",
      "\u001b[0;32m/zipline/zipline/gens/tradesimulation.py\u001b[0m in \u001b[0;36mevery_bar\u001b[0;34m(dt_to_use, current_data, handle_data)\u001b[0m\n\u001b[1;32m    131\u001b[0m                 \u001b[0mmetrics_tracker\u001b[0m\u001b[0;34m.\u001b[0m\u001b[0mprocess_commission\u001b[0m\u001b[0;34m(\u001b[0m\u001b[0mcommission\u001b[0m\u001b[0;34m)\u001b[0m\u001b[0;34m\u001b[0m\u001b[0;34m\u001b[0m\u001b[0m\n\u001b[1;32m    132\u001b[0m \u001b[0;34m\u001b[0m\u001b[0m\n\u001b[0;32m--> 133\u001b[0;31m             \u001b[0mhandle_data\u001b[0m\u001b[0;34m(\u001b[0m\u001b[0malgo\u001b[0m\u001b[0;34m,\u001b[0m \u001b[0mcurrent_data\u001b[0m\u001b[0;34m,\u001b[0m \u001b[0mdt_to_use\u001b[0m\u001b[0;34m)\u001b[0m\u001b[0;34m\u001b[0m\u001b[0;34m\u001b[0m\u001b[0m\n\u001b[0m\u001b[1;32m    134\u001b[0m \u001b[0;34m\u001b[0m\u001b[0m\n\u001b[1;32m    135\u001b[0m             \u001b[0;31m# grab any new orders from the blotter, then clear the list.\u001b[0m\u001b[0;34m\u001b[0m\u001b[0;34m\u001b[0m\u001b[0;34m\u001b[0m\u001b[0m\n",
      "\u001b[0;32m/zipline/zipline/utils/events.py\u001b[0m in \u001b[0;36mhandle_data\u001b[0;34m(self, context, data, dt)\u001b[0m\n\u001b[1;32m    216\u001b[0m                     \u001b[0mcontext\u001b[0m\u001b[0;34m,\u001b[0m\u001b[0;34m\u001b[0m\u001b[0;34m\u001b[0m\u001b[0m\n\u001b[1;32m    217\u001b[0m                     \u001b[0mdata\u001b[0m\u001b[0;34m,\u001b[0m\u001b[0;34m\u001b[0m\u001b[0;34m\u001b[0m\u001b[0m\n\u001b[0;32m--> 218\u001b[0;31m                     \u001b[0mdt\u001b[0m\u001b[0;34m,\u001b[0m\u001b[0;34m\u001b[0m\u001b[0;34m\u001b[0m\u001b[0m\n\u001b[0m\u001b[1;32m    219\u001b[0m                 )\n\u001b[1;32m    220\u001b[0m \u001b[0;34m\u001b[0m\u001b[0m\n",
      "\u001b[0;32m/zipline/zipline/utils/events.py\u001b[0m in \u001b[0;36mhandle_data\u001b[0;34m(self, context, data, dt)\u001b[0m\n\u001b[1;32m    235\u001b[0m         \"\"\"\n\u001b[1;32m    236\u001b[0m         \u001b[0;32mif\u001b[0m \u001b[0mself\u001b[0m\u001b[0;34m.\u001b[0m\u001b[0mrule\u001b[0m\u001b[0;34m.\u001b[0m\u001b[0mshould_trigger\u001b[0m\u001b[0;34m(\u001b[0m\u001b[0mdt\u001b[0m\u001b[0;34m)\u001b[0m\u001b[0;34m:\u001b[0m\u001b[0;34m\u001b[0m\u001b[0;34m\u001b[0m\u001b[0m\n\u001b[0;32m--> 237\u001b[0;31m             \u001b[0mself\u001b[0m\u001b[0;34m.\u001b[0m\u001b[0mcallback\u001b[0m\u001b[0;34m(\u001b[0m\u001b[0mcontext\u001b[0m\u001b[0;34m,\u001b[0m \u001b[0mdata\u001b[0m\u001b[0;34m)\u001b[0m\u001b[0;34m\u001b[0m\u001b[0;34m\u001b[0m\u001b[0m\n\u001b[0m\u001b[1;32m    238\u001b[0m \u001b[0;34m\u001b[0m\u001b[0m\n\u001b[1;32m    239\u001b[0m \u001b[0;34m\u001b[0m\u001b[0m\n",
      "\u001b[0;32m<ipython-input-9-c02b6a8abb8e>\u001b[0m in \u001b[0;36mrebalance\u001b[0;34m(context, data)\u001b[0m\n\u001b[1;32m      5\u001b[0m         \u001b[0mfields\u001b[0m\u001b[0;34m=\u001b[0m\u001b[0;34m[\u001b[0m\u001b[0;34m\"close\"\u001b[0m\u001b[0;34m,\u001b[0m \u001b[0;34m\"volume\"\u001b[0m\u001b[0;34m]\u001b[0m\u001b[0;34m,\u001b[0m\u001b[0;34m\u001b[0m\u001b[0;34m\u001b[0m\u001b[0m\n\u001b[1;32m      6\u001b[0m         \u001b[0mfrequency\u001b[0m\u001b[0;34m=\u001b[0m\u001b[0;34m\"1d\"\u001b[0m\u001b[0;34m,\u001b[0m\u001b[0;34m\u001b[0m\u001b[0;34m\u001b[0m\u001b[0m\n\u001b[0;32m----> 7\u001b[0;31m         \u001b[0mbar_count\u001b[0m\u001b[0;34m=\u001b[0m\u001b[0mlong_trend_window\u001b[0m\u001b[0;34m,\u001b[0m\u001b[0;34m\u001b[0m\u001b[0;34m\u001b[0m\u001b[0m\n\u001b[0m\u001b[1;32m      8\u001b[0m     )\n\u001b[1;32m      9\u001b[0m \u001b[0;34m\u001b[0m\u001b[0m\n",
      "\u001b[0;32m/zipline/zipline/_protocol.pyx\u001b[0m in \u001b[0;36mzipline._protocol.check_parameters.__call__.assert_keywords_and_call\u001b[0;34m()\u001b[0m\n",
      "\u001b[0;32m/zipline/zipline/_protocol.pyx\u001b[0m in \u001b[0;36mzipline._protocol.BarData.history\u001b[0;34m()\u001b[0m\n",
      "\u001b[0;32m/zipline/zipline/data/data_portal.py\u001b[0m in \u001b[0;36mget_history_window\u001b[0;34m(self, assets, end_dt, bar_count, frequency, field, data_frequency, ffill)\u001b[0m\n\u001b[1;32m    965\u001b[0m             \u001b[0;32melse\u001b[0m\u001b[0;34m:\u001b[0m\u001b[0;34m\u001b[0m\u001b[0;34m\u001b[0m\u001b[0m\n\u001b[1;32m    966\u001b[0m                 df = self._get_history_daily_window(assets, end_dt, bar_count,\n\u001b[0;32m--> 967\u001b[0;31m                                                     field, data_frequency)\n\u001b[0m\u001b[1;32m    968\u001b[0m         \u001b[0;32melif\u001b[0m \u001b[0mfrequency\u001b[0m \u001b[0;34m==\u001b[0m \u001b[0;34m\"1m\"\u001b[0m\u001b[0;34m:\u001b[0m\u001b[0;34m\u001b[0m\u001b[0;34m\u001b[0m\u001b[0m\n\u001b[1;32m    969\u001b[0m             \u001b[0;32mif\u001b[0m \u001b[0mfield\u001b[0m \u001b[0;34m==\u001b[0m \u001b[0;34m\"price\"\u001b[0m\u001b[0;34m:\u001b[0m\u001b[0;34m\u001b[0m\u001b[0;34m\u001b[0m\u001b[0m\n",
      "\u001b[0;32m/zipline/zipline/data/data_portal.py\u001b[0m in \u001b[0;36m_get_history_daily_window\u001b[0;34m(self, assets, end_dt, bar_count, field_to_use, data_frequency)\u001b[0m\n\u001b[1;32m    804\u001b[0m \u001b[0;34m\u001b[0m\u001b[0m\n\u001b[1;32m    805\u001b[0m         data = self._get_history_daily_window_data(\n\u001b[0;32m--> 806\u001b[0;31m             \u001b[0massets\u001b[0m\u001b[0;34m,\u001b[0m \u001b[0mdays_for_window\u001b[0m\u001b[0;34m,\u001b[0m \u001b[0mend_dt\u001b[0m\u001b[0;34m,\u001b[0m \u001b[0mfield_to_use\u001b[0m\u001b[0;34m,\u001b[0m \u001b[0mdata_frequency\u001b[0m\u001b[0;34m\u001b[0m\u001b[0;34m\u001b[0m\u001b[0m\n\u001b[0m\u001b[1;32m    807\u001b[0m         )\n\u001b[1;32m    808\u001b[0m         return pd.DataFrame(\n",
      "\u001b[0;32m/zipline/zipline/data/data_portal.py\u001b[0m in \u001b[0;36m_get_history_daily_window_data\u001b[0;34m(self, assets, days_for_window, end_dt, field_to_use, data_frequency)\u001b[0m\n\u001b[1;32m    827\u001b[0m                 \u001b[0mfield_to_use\u001b[0m\u001b[0;34m,\u001b[0m\u001b[0;34m\u001b[0m\u001b[0;34m\u001b[0m\u001b[0m\n\u001b[1;32m    828\u001b[0m                 \u001b[0mdays_for_window\u001b[0m\u001b[0;34m,\u001b[0m\u001b[0;34m\u001b[0m\u001b[0;34m\u001b[0m\u001b[0m\n\u001b[0;32m--> 829\u001b[0;31m                 \u001b[0mextra_slot\u001b[0m\u001b[0;34m=\u001b[0m\u001b[0;32mFalse\u001b[0m\u001b[0;34m\u001b[0m\u001b[0;34m\u001b[0m\u001b[0m\n\u001b[0m\u001b[1;32m    830\u001b[0m             )\n\u001b[1;32m    831\u001b[0m         \u001b[0;32melse\u001b[0m\u001b[0;34m:\u001b[0m\u001b[0;34m\u001b[0m\u001b[0;34m\u001b[0m\u001b[0m\n",
      "\u001b[0;32m/zipline/zipline/data/data_portal.py\u001b[0m in \u001b[0;36m_get_daily_window_data\u001b[0;34m(self, assets, field, days_in_window, extra_slot)\u001b[0m\n\u001b[1;32m   1115\u001b[0m                                                 \u001b[0mdays_in_window\u001b[0m\u001b[0;34m,\u001b[0m\u001b[0;34m\u001b[0m\u001b[0;34m\u001b[0m\u001b[0m\n\u001b[1;32m   1116\u001b[0m                                                 \u001b[0mfield\u001b[0m\u001b[0;34m,\u001b[0m\u001b[0;34m\u001b[0m\u001b[0;34m\u001b[0m\u001b[0m\n\u001b[0;32m-> 1117\u001b[0;31m                                                 extra_slot)\n\u001b[0m\u001b[1;32m   1118\u001b[0m             \u001b[0;32mif\u001b[0m \u001b[0mextra_slot\u001b[0m\u001b[0;34m:\u001b[0m\u001b[0;34m\u001b[0m\u001b[0;34m\u001b[0m\u001b[0m\n\u001b[1;32m   1119\u001b[0m                 \u001b[0mreturn_array\u001b[0m\u001b[0;34m[\u001b[0m\u001b[0;34m:\u001b[0m\u001b[0mlen\u001b[0m\u001b[0;34m(\u001b[0m\u001b[0mreturn_array\u001b[0m\u001b[0;34m)\u001b[0m \u001b[0;34m-\u001b[0m \u001b[0;36m1\u001b[0m\u001b[0;34m,\u001b[0m \u001b[0;34m:\u001b[0m\u001b[0;34m]\u001b[0m \u001b[0;34m=\u001b[0m \u001b[0mdata\u001b[0m\u001b[0;34m\u001b[0m\u001b[0;34m\u001b[0m\u001b[0m\n",
      "\u001b[0;32m/zipline/zipline/data/history_loader.py\u001b[0m in \u001b[0;36mhistory\u001b[0;34m(self, assets, dts, field, is_perspective_after)\u001b[0m\n\u001b[1;32m    547\u001b[0m                                              \u001b[0mdts\u001b[0m\u001b[0;34m,\u001b[0m\u001b[0;34m\u001b[0m\u001b[0;34m\u001b[0m\u001b[0m\n\u001b[1;32m    548\u001b[0m                                              \u001b[0mfield\u001b[0m\u001b[0;34m,\u001b[0m\u001b[0;34m\u001b[0m\u001b[0;34m\u001b[0m\u001b[0m\n\u001b[0;32m--> 549\u001b[0;31m                                              is_perspective_after)\n\u001b[0m\u001b[1;32m    550\u001b[0m         \u001b[0mend_ix\u001b[0m \u001b[0;34m=\u001b[0m \u001b[0mself\u001b[0m\u001b[0;34m.\u001b[0m\u001b[0m_calendar\u001b[0m\u001b[0;34m.\u001b[0m\u001b[0msearchsorted\u001b[0m\u001b[0;34m(\u001b[0m\u001b[0mdts\u001b[0m\u001b[0;34m[\u001b[0m\u001b[0;34m-\u001b[0m\u001b[0;36m1\u001b[0m\u001b[0;34m]\u001b[0m\u001b[0;34m)\u001b[0m\u001b[0;34m\u001b[0m\u001b[0;34m\u001b[0m\u001b[0m\n\u001b[1;32m    551\u001b[0m \u001b[0;34m\u001b[0m\u001b[0m\n",
      "\u001b[0;32m/zipline/zipline/data/history_loader.py\u001b[0m in \u001b[0;36m_ensure_sliding_windows\u001b[0;34m(self, assets, dts, field, is_perspective_after)\u001b[0m\n\u001b[1;32m    429\u001b[0m                 \u001b[0madj_dts\u001b[0m \u001b[0;34m=\u001b[0m \u001b[0mprefetch_dts\u001b[0m\u001b[0;34m\u001b[0m\u001b[0;34m\u001b[0m\u001b[0m\n\u001b[1;32m    430\u001b[0m             \u001b[0mprefetch_len\u001b[0m \u001b[0;34m=\u001b[0m \u001b[0mlen\u001b[0m\u001b[0;34m(\u001b[0m\u001b[0mprefetch_dts\u001b[0m\u001b[0;34m)\u001b[0m\u001b[0;34m\u001b[0m\u001b[0;34m\u001b[0m\u001b[0m\n\u001b[0;32m--> 431\u001b[0;31m             \u001b[0marray\u001b[0m \u001b[0;34m=\u001b[0m \u001b[0mself\u001b[0m\u001b[0;34m.\u001b[0m\u001b[0m_array\u001b[0m\u001b[0;34m(\u001b[0m\u001b[0mprefetch_dts\u001b[0m\u001b[0;34m,\u001b[0m \u001b[0mneeded_assets\u001b[0m\u001b[0;34m,\u001b[0m \u001b[0mfield\u001b[0m\u001b[0;34m)\u001b[0m\u001b[0;34m\u001b[0m\u001b[0;34m\u001b[0m\u001b[0m\n\u001b[0m\u001b[1;32m    432\u001b[0m \u001b[0;34m\u001b[0m\u001b[0m\n\u001b[1;32m    433\u001b[0m             \u001b[0;32mif\u001b[0m \u001b[0mfield\u001b[0m \u001b[0;34m==\u001b[0m \u001b[0;34m'sid'\u001b[0m\u001b[0;34m:\u001b[0m\u001b[0;34m\u001b[0m\u001b[0;34m\u001b[0m\u001b[0m\n",
      "\u001b[0;32m/zipline/zipline/data/history_loader.py\u001b[0m in \u001b[0;36m_array\u001b[0;34m(self, dts, assets, field)\u001b[0m\n\u001b[1;32m    571\u001b[0m             \u001b[0mdts\u001b[0m\u001b[0;34m[\u001b[0m\u001b[0;36m0\u001b[0m\u001b[0;34m]\u001b[0m\u001b[0;34m,\u001b[0m\u001b[0;34m\u001b[0m\u001b[0;34m\u001b[0m\u001b[0m\n\u001b[1;32m    572\u001b[0m             \u001b[0mdts\u001b[0m\u001b[0;34m[\u001b[0m\u001b[0;34m-\u001b[0m\u001b[0;36m1\u001b[0m\u001b[0;34m]\u001b[0m\u001b[0;34m,\u001b[0m\u001b[0;34m\u001b[0m\u001b[0;34m\u001b[0m\u001b[0m\n\u001b[0;32m--> 573\u001b[0;31m             \u001b[0massets\u001b[0m\u001b[0;34m,\u001b[0m\u001b[0;34m\u001b[0m\u001b[0;34m\u001b[0m\u001b[0m\n\u001b[0m\u001b[1;32m    574\u001b[0m         )[0]\n\u001b[1;32m    575\u001b[0m \u001b[0;34m\u001b[0m\u001b[0m\n",
      "\u001b[0;32m/zipline/zipline/data/dispatch_bar_reader.py\u001b[0m in \u001b[0;36mload_raw_arrays\u001b[0;34m(self, fields, start_dt, end_dt, sids)\u001b[0m\n\u001b[1;32m    110\u001b[0m         \u001b[0;32mfor\u001b[0m \u001b[0mi\u001b[0m\u001b[0;34m,\u001b[0m \u001b[0masset\u001b[0m \u001b[0;32min\u001b[0m \u001b[0menumerate\u001b[0m\u001b[0;34m(\u001b[0m\u001b[0massets\u001b[0m\u001b[0;34m)\u001b[0m\u001b[0;34m:\u001b[0m\u001b[0;34m\u001b[0m\u001b[0;34m\u001b[0m\u001b[0m\n\u001b[1;32m    111\u001b[0m             \u001b[0mt\u001b[0m \u001b[0;34m=\u001b[0m \u001b[0mtype\u001b[0m\u001b[0;34m(\u001b[0m\u001b[0masset\u001b[0m\u001b[0;34m)\u001b[0m\u001b[0;34m\u001b[0m\u001b[0;34m\u001b[0m\u001b[0m\n\u001b[0;32m--> 112\u001b[0;31m             \u001b[0msid_groups\u001b[0m\u001b[0;34m[\u001b[0m\u001b[0mt\u001b[0m\u001b[0;34m]\u001b[0m\u001b[0;34m.\u001b[0m\u001b[0mappend\u001b[0m\u001b[0;34m(\u001b[0m\u001b[0masset\u001b[0m\u001b[0;34m)\u001b[0m\u001b[0;34m\u001b[0m\u001b[0;34m\u001b[0m\u001b[0m\n\u001b[0m\u001b[1;32m    113\u001b[0m             \u001b[0mout_pos\u001b[0m\u001b[0;34m[\u001b[0m\u001b[0mt\u001b[0m\u001b[0;34m]\u001b[0m\u001b[0;34m.\u001b[0m\u001b[0mappend\u001b[0m\u001b[0;34m(\u001b[0m\u001b[0mi\u001b[0m\u001b[0;34m)\u001b[0m\u001b[0;34m\u001b[0m\u001b[0;34m\u001b[0m\u001b[0m\n\u001b[1;32m    114\u001b[0m \u001b[0;34m\u001b[0m\u001b[0m\n",
      "\u001b[0;31mKeyError\u001b[0m: <class 'zipline.assets.continuous_futures.ContinuousFuture'>"
     ]
    },
    {
     "data": {
      "application/javascript": [
       "\n",
       "            setTimeout(function() {\n",
       "                var nbb_cell_id = 11;\n",
       "                var nbb_unformatted_code = \"perf = zipline.run_algorithm(\\n    start=start,\\n    end=end,\\n    initialize=initialize,\\n    capital_base=starting_portfolio,\\n    data_frequency=\\\"daily\\\",\\n    bundle=\\\"random_futures\\\",\\n)\";\n",
       "                var nbb_formatted_code = \"perf = zipline.run_algorithm(\\n    start=start,\\n    end=end,\\n    initialize=initialize,\\n    capital_base=starting_portfolio,\\n    data_frequency=\\\"daily\\\",\\n    bundle=\\\"random_futures\\\",\\n)\";\n",
       "                var nbb_cells = Jupyter.notebook.get_cells();\n",
       "                for (var i = 0; i < nbb_cells.length; ++i) {\n",
       "                    if (nbb_cells[i].input_prompt_number == nbb_cell_id) {\n",
       "                        if (nbb_cells[i].get_text() == nbb_unformatted_code) {\n",
       "                             nbb_cells[i].set_text(nbb_formatted_code);\n",
       "                        }\n",
       "                        break;\n",
       "                    }\n",
       "                }\n",
       "            }, 500);\n",
       "            "
      ],
      "text/plain": [
       "<IPython.core.display.Javascript object>"
      ]
     },
     "metadata": {},
     "output_type": "display_data"
    }
   ],
   "source": [
    "perf = zipline.run_algorithm(\n",
    "    start=start,\n",
    "    end=end,\n",
    "    initialize=initialize,\n",
    "    capital_base=starting_portfolio,\n",
    "    data_frequency=\"daily\",\n",
    "    bundle=\"random_futures\",\n",
    ")"
   ]
  },
  {
   "cell_type": "code",
   "execution_count": null,
   "metadata": {},
   "outputs": [],
   "source": []
  }
 ],
 "metadata": {
  "kernelspec": {
   "display_name": "Python 3",
   "language": "python",
   "name": "python3"
  },
  "language_info": {
   "codemirror_mode": {
    "name": "ipython",
    "version": 3
   },
   "file_extension": ".py",
   "mimetype": "text/x-python",
   "name": "python",
   "nbconvert_exporter": "python",
   "pygments_lexer": "ipython3",
   "version": "3.6.12"
  }
 },
 "nbformat": 4,
 "nbformat_minor": 4
}
