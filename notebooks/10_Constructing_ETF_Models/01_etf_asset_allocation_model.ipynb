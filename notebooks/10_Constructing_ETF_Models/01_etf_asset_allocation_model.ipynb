{
 "cells": [
  {
   "cell_type": "code",
   "execution_count": 1,
   "metadata": {},
   "outputs": [
    {
     "data": {
      "application/javascript": [
       "\n",
       "            setTimeout(function() {\n",
       "                var nbb_cell_id = 1;\n",
       "                var nbb_unformatted_code = \"%load_ext nb_black\";\n",
       "                var nbb_formatted_code = \"%load_ext nb_black\";\n",
       "                var nbb_cells = Jupyter.notebook.get_cells();\n",
       "                for (var i = 0; i < nbb_cells.length; ++i) {\n",
       "                    if (nbb_cells[i].input_prompt_number == nbb_cell_id) {\n",
       "                        if (nbb_cells[i].get_text() == nbb_unformatted_code) {\n",
       "                             nbb_cells[i].set_text(nbb_formatted_code);\n",
       "                        }\n",
       "                        break;\n",
       "                    }\n",
       "                }\n",
       "            }, 500);\n",
       "            "
      ],
      "text/plain": [
       "<IPython.core.display.Javascript object>"
      ]
     },
     "metadata": {},
     "output_type": "display_data"
    }
   ],
   "source": [
    "%load_ext nb_black"
   ]
  },
  {
   "cell_type": "code",
   "execution_count": 2,
   "metadata": {},
   "outputs": [
    {
     "data": {
      "application/javascript": [
       "\n",
       "            setTimeout(function() {\n",
       "                var nbb_cell_id = 2;\n",
       "                var nbb_unformatted_code = \"import zipline\\nfrom zipline.api import (\\n    order_target_percent,\\n    symbol,\\n    schedule_function,\\n    date_rules,\\n    time_rules,\\n)\\nfrom datetime import datetime\\nimport pandas as pd\\nimport numpy as np\\nfrom matplotlib import pyplot as plt, ticker, rc\";\n",
       "                var nbb_formatted_code = \"import zipline\\nfrom zipline.api import (\\n    order_target_percent,\\n    symbol,\\n    schedule_function,\\n    date_rules,\\n    time_rules,\\n)\\nfrom datetime import datetime\\nimport pandas as pd\\nimport numpy as np\\nfrom matplotlib import pyplot as plt, ticker, rc\";\n",
       "                var nbb_cells = Jupyter.notebook.get_cells();\n",
       "                for (var i = 0; i < nbb_cells.length; ++i) {\n",
       "                    if (nbb_cells[i].input_prompt_number == nbb_cell_id) {\n",
       "                        if (nbb_cells[i].get_text() == nbb_unformatted_code) {\n",
       "                             nbb_cells[i].set_text(nbb_formatted_code);\n",
       "                        }\n",
       "                        break;\n",
       "                    }\n",
       "                }\n",
       "            }, 500);\n",
       "            "
      ],
      "text/plain": [
       "<IPython.core.display.Javascript object>"
      ]
     },
     "metadata": {},
     "output_type": "display_data"
    }
   ],
   "source": [
    "import zipline\n",
    "from zipline.api import (\n",
    "    order_target_percent,\n",
    "    symbol,\n",
    "    schedule_function,\n",
    "    date_rules,\n",
    "    time_rules,\n",
    ")\n",
    "from datetime import datetime\n",
    "import pandas as pd\n",
    "import numpy as np\n",
    "from matplotlib import pyplot as plt, ticker, rc"
   ]
  },
  {
   "cell_type": "code",
   "execution_count": 3,
   "metadata": {},
   "outputs": [
    {
     "data": {
      "application/javascript": [
       "\n",
       "            setTimeout(function() {\n",
       "                var nbb_cell_id = 3;\n",
       "                var nbb_unformatted_code = \"def initialize(context):\\n    # Securities and target weights\\n    context.securities = {\\n        \\\"SPY\\\": 0.25,\\n        \\\"TLT\\\": 0.3,\\n        \\\"IEF\\\": 0.3,\\n        \\\"GLD\\\": 0.075,\\n        \\\"DBC\\\": 0.075,\\n    }\\n\\n    # Schedule rebalance for once a month\\n    schedule_function(rebalance, date_rules.month_start(), time_rules.market_open())\";\n",
       "                var nbb_formatted_code = \"def initialize(context):\\n    # Securities and target weights\\n    context.securities = {\\n        \\\"SPY\\\": 0.25,\\n        \\\"TLT\\\": 0.3,\\n        \\\"IEF\\\": 0.3,\\n        \\\"GLD\\\": 0.075,\\n        \\\"DBC\\\": 0.075,\\n    }\\n\\n    # Schedule rebalance for once a month\\n    schedule_function(rebalance, date_rules.month_start(), time_rules.market_open())\";\n",
       "                var nbb_cells = Jupyter.notebook.get_cells();\n",
       "                for (var i = 0; i < nbb_cells.length; ++i) {\n",
       "                    if (nbb_cells[i].input_prompt_number == nbb_cell_id) {\n",
       "                        if (nbb_cells[i].get_text() == nbb_unformatted_code) {\n",
       "                             nbb_cells[i].set_text(nbb_formatted_code);\n",
       "                        }\n",
       "                        break;\n",
       "                    }\n",
       "                }\n",
       "            }, 500);\n",
       "            "
      ],
      "text/plain": [
       "<IPython.core.display.Javascript object>"
      ]
     },
     "metadata": {},
     "output_type": "display_data"
    }
   ],
   "source": [
    "def initialize(context):\n",
    "    # Securities and target weights\n",
    "    context.securities = {\n",
    "        \"SPY\": 0.25,\n",
    "        \"TLT\": 0.3,\n",
    "        \"IEF\": 0.3,\n",
    "        \"GLD\": 0.075,\n",
    "        \"DBC\": 0.075,\n",
    "    }\n",
    "\n",
    "    # Schedule rebalance for once a month\n",
    "    schedule_function(rebalance, date_rules.month_start(), time_rules.market_open())"
   ]
  },
  {
   "cell_type": "code",
   "execution_count": 4,
   "metadata": {},
   "outputs": [
    {
     "data": {
      "application/javascript": [
       "\n",
       "            setTimeout(function() {\n",
       "                var nbb_cell_id = 4;\n",
       "                var nbb_unformatted_code = \"def rebalance(context, data):\\n    # Loop through the securities\\n    for sec, weight in context.securities.items():\\n        sym = symbol(sec)\\n        # Check if we can trade\\n        if data.can_trade(sym):\\n            # Reset the weight\\n            order_target_percent(sym, weight)\";\n",
       "                var nbb_formatted_code = \"def rebalance(context, data):\\n    # Loop through the securities\\n    for sec, weight in context.securities.items():\\n        sym = symbol(sec)\\n        # Check if we can trade\\n        if data.can_trade(sym):\\n            # Reset the weight\\n            order_target_percent(sym, weight)\";\n",
       "                var nbb_cells = Jupyter.notebook.get_cells();\n",
       "                for (var i = 0; i < nbb_cells.length; ++i) {\n",
       "                    if (nbb_cells[i].input_prompt_number == nbb_cell_id) {\n",
       "                        if (nbb_cells[i].get_text() == nbb_unformatted_code) {\n",
       "                             nbb_cells[i].set_text(nbb_formatted_code);\n",
       "                        }\n",
       "                        break;\n",
       "                    }\n",
       "                }\n",
       "            }, 500);\n",
       "            "
      ],
      "text/plain": [
       "<IPython.core.display.Javascript object>"
      ]
     },
     "metadata": {},
     "output_type": "display_data"
    }
   ],
   "source": [
    "def rebalance(context, data):\n",
    "    # Loop through the securities\n",
    "    for sec, weight in context.securities.items():\n",
    "        sym = symbol(sec)\n",
    "        # Check if we can trade\n",
    "        if data.can_trade(sym):\n",
    "            # Reset the weight\n",
    "            order_target_percent(sym, weight)"
   ]
  },
  {
   "cell_type": "code",
   "execution_count": 5,
   "metadata": {},
   "outputs": [
    {
     "data": {
      "application/javascript": [
       "\n",
       "            setTimeout(function() {\n",
       "                var nbb_cell_id = 5;\n",
       "                var nbb_unformatted_code = \"start = pd.Timestamp(\\\"1997-01-01 08:15:12\\\", tz=\\\"UTC\\\")\\nend = pd.Timestamp(\\\"2018-12-31 08:15:12\\\", tz=\\\"UTC\\\")\";\n",
       "                var nbb_formatted_code = \"start = pd.Timestamp(\\\"1997-01-01 08:15:12\\\", tz=\\\"UTC\\\")\\nend = pd.Timestamp(\\\"2018-12-31 08:15:12\\\", tz=\\\"UTC\\\")\";\n",
       "                var nbb_cells = Jupyter.notebook.get_cells();\n",
       "                for (var i = 0; i < nbb_cells.length; ++i) {\n",
       "                    if (nbb_cells[i].input_prompt_number == nbb_cell_id) {\n",
       "                        if (nbb_cells[i].get_text() == nbb_unformatted_code) {\n",
       "                             nbb_cells[i].set_text(nbb_formatted_code);\n",
       "                        }\n",
       "                        break;\n",
       "                    }\n",
       "                }\n",
       "            }, 500);\n",
       "            "
      ],
      "text/plain": [
       "<IPython.core.display.Javascript object>"
      ]
     },
     "metadata": {},
     "output_type": "display_data"
    }
   ],
   "source": [
    "start = pd.Timestamp(\"1997-01-01 08:15:12\", tz=\"UTC\")\n",
    "end = pd.Timestamp(\"2018-12-31 08:15:12\", tz=\"UTC\")"
   ]
  },
  {
   "cell_type": "code",
   "execution_count": 6,
   "metadata": {},
   "outputs": [
    {
     "ename": "UnknownBundle",
     "evalue": "No bundle registered with the name 'ac_equities_db'",
     "output_type": "error",
     "traceback": [
      "\u001b[0;31m---------------------------------------------------------------------------\u001b[0m",
      "\u001b[0;31mUnknownBundle\u001b[0m                             Traceback (most recent call last)",
      "\u001b[0;32m<timed exec>\u001b[0m in \u001b[0;36m<module>\u001b[0;34m\u001b[0m\n",
      "\u001b[0;32m/zipline/zipline/utils/run_algo.py\u001b[0m in \u001b[0;36mrun_algorithm\u001b[0;34m(start, end, initialize, capital_base, handle_data, before_trading_start, analyze, data_frequency, bundle, bundle_timestamp, trading_calendar, metrics_set, benchmark_returns, default_extension, extensions, strict_extensions, environ, blotter)\u001b[0m\n\u001b[1;32m    407\u001b[0m         \u001b[0menviron\u001b[0m\u001b[0;34m=\u001b[0m\u001b[0menviron\u001b[0m\u001b[0;34m,\u001b[0m\u001b[0;34m\u001b[0m\u001b[0;34m\u001b[0m\u001b[0m\n\u001b[1;32m    408\u001b[0m         \u001b[0mblotter\u001b[0m\u001b[0;34m=\u001b[0m\u001b[0mblotter\u001b[0m\u001b[0;34m,\u001b[0m\u001b[0;34m\u001b[0m\u001b[0;34m\u001b[0m\u001b[0m\n\u001b[0;32m--> 409\u001b[0;31m         \u001b[0mbenchmark_spec\u001b[0m\u001b[0;34m=\u001b[0m\u001b[0mbenchmark_spec\u001b[0m\u001b[0;34m,\u001b[0m\u001b[0;34m\u001b[0m\u001b[0;34m\u001b[0m\u001b[0m\n\u001b[0m\u001b[1;32m    410\u001b[0m     )\n\u001b[1;32m    411\u001b[0m \u001b[0;34m\u001b[0m\u001b[0m\n",
      "\u001b[0;32m/zipline/zipline/utils/run_algo.py\u001b[0m in \u001b[0;36m_run\u001b[0;34m(handle_data, initialize, before_trading_start, analyze, algofile, algotext, defines, data_frequency, capital_base, bundle, bundle_timestamp, start, end, output, trading_calendar, print_algo, metrics_set, local_namespace, environ, blotter, benchmark_spec)\u001b[0m\n\u001b[1;32m     89\u001b[0m         \u001b[0mbundle\u001b[0m\u001b[0;34m,\u001b[0m\u001b[0;34m\u001b[0m\u001b[0;34m\u001b[0m\u001b[0m\n\u001b[1;32m     90\u001b[0m         \u001b[0menviron\u001b[0m\u001b[0;34m,\u001b[0m\u001b[0;34m\u001b[0m\u001b[0;34m\u001b[0m\u001b[0m\n\u001b[0;32m---> 91\u001b[0;31m         \u001b[0mbundle_timestamp\u001b[0m\u001b[0;34m,\u001b[0m\u001b[0;34m\u001b[0m\u001b[0;34m\u001b[0m\u001b[0m\n\u001b[0m\u001b[1;32m     92\u001b[0m     )\n\u001b[1;32m     93\u001b[0m \u001b[0;34m\u001b[0m\u001b[0m\n",
      "\u001b[0;32m/zipline/zipline/data/bundles/core.py\u001b[0m in \u001b[0;36mload\u001b[0;34m(name, environ, timestamp)\u001b[0m\n\u001b[1;32m    511\u001b[0m         \u001b[0;32mif\u001b[0m \u001b[0mtimestamp\u001b[0m \u001b[0;32mis\u001b[0m \u001b[0;32mNone\u001b[0m\u001b[0;34m:\u001b[0m\u001b[0;34m\u001b[0m\u001b[0;34m\u001b[0m\u001b[0m\n\u001b[1;32m    512\u001b[0m             \u001b[0mtimestamp\u001b[0m \u001b[0;34m=\u001b[0m \u001b[0mpd\u001b[0m\u001b[0;34m.\u001b[0m\u001b[0mTimestamp\u001b[0m\u001b[0;34m.\u001b[0m\u001b[0mutcnow\u001b[0m\u001b[0;34m(\u001b[0m\u001b[0;34m)\u001b[0m\u001b[0;34m\u001b[0m\u001b[0;34m\u001b[0m\u001b[0m\n\u001b[0;32m--> 513\u001b[0;31m         \u001b[0mtimestr\u001b[0m \u001b[0;34m=\u001b[0m \u001b[0mmost_recent_data\u001b[0m\u001b[0;34m(\u001b[0m\u001b[0mname\u001b[0m\u001b[0;34m,\u001b[0m \u001b[0mtimestamp\u001b[0m\u001b[0;34m,\u001b[0m \u001b[0menviron\u001b[0m\u001b[0;34m=\u001b[0m\u001b[0menviron\u001b[0m\u001b[0;34m)\u001b[0m\u001b[0;34m\u001b[0m\u001b[0;34m\u001b[0m\u001b[0m\n\u001b[0m\u001b[1;32m    514\u001b[0m         return BundleData(\n\u001b[1;32m    515\u001b[0m             asset_finder=AssetFinder(\n",
      "\u001b[0;32m/zipline/zipline/data/bundles/core.py\u001b[0m in \u001b[0;36mmost_recent_data\u001b[0;34m(bundle_name, timestamp, environ)\u001b[0m\n\u001b[1;32m    466\u001b[0m         \"\"\"\n\u001b[1;32m    467\u001b[0m         \u001b[0;32mif\u001b[0m \u001b[0mbundle_name\u001b[0m \u001b[0;32mnot\u001b[0m \u001b[0;32min\u001b[0m \u001b[0mbundles\u001b[0m\u001b[0;34m:\u001b[0m\u001b[0;34m\u001b[0m\u001b[0;34m\u001b[0m\u001b[0m\n\u001b[0;32m--> 468\u001b[0;31m             \u001b[0;32mraise\u001b[0m \u001b[0mUnknownBundle\u001b[0m\u001b[0;34m(\u001b[0m\u001b[0mbundle_name\u001b[0m\u001b[0;34m)\u001b[0m\u001b[0;34m\u001b[0m\u001b[0;34m\u001b[0m\u001b[0m\n\u001b[0m\u001b[1;32m    469\u001b[0m \u001b[0;34m\u001b[0m\u001b[0m\n\u001b[1;32m    470\u001b[0m         \u001b[0;32mtry\u001b[0m\u001b[0;34m:\u001b[0m\u001b[0;34m\u001b[0m\u001b[0;34m\u001b[0m\u001b[0m\n",
      "\u001b[0;31mUnknownBundle\u001b[0m: No bundle registered with the name 'ac_equities_db'"
     ]
    },
    {
     "data": {
      "application/javascript": [
       "\n",
       "            setTimeout(function() {\n",
       "                var nbb_cell_id = 6;\n",
       "                var nbb_unformatted_code = \"%%time\\nresult = zipline.run_algorithm(\\n    start=start,  # Set start\\n    end=end,  # Set end\\n    initialize=initialize,  # Define startup function\\n    capital_base=100000,  # Set initial capital\\n    data_frequency=\\\"daily\\\",  # Set data frequency\\n    bundle=\\\"ac_equities_db\\\", # Select bundle i.e bring your own data!\\n)\";\n",
       "                var nbb_formatted_code = \"%%time\\nresult = zipline.run_algorithm(\\n    start=start,  # Set start\\n    end=end,  # Set end\\n    initialize=initialize,  # Define startup function\\n    capital_base=100000,  # Set initial capital\\n    data_frequency=\\\"daily\\\",  # Set data frequency\\n    bundle=\\\"ac_equities_db\\\", # Select bundle i.e bring your own data!\\n)\";\n",
       "                var nbb_cells = Jupyter.notebook.get_cells();\n",
       "                for (var i = 0; i < nbb_cells.length; ++i) {\n",
       "                    if (nbb_cells[i].input_prompt_number == nbb_cell_id) {\n",
       "                        if (nbb_cells[i].get_text() == nbb_unformatted_code) {\n",
       "                             nbb_cells[i].set_text(nbb_formatted_code);\n",
       "                        }\n",
       "                        break;\n",
       "                    }\n",
       "                }\n",
       "            }, 500);\n",
       "            "
      ],
      "text/plain": [
       "<IPython.core.display.Javascript object>"
      ]
     },
     "metadata": {},
     "output_type": "display_data"
    }
   ],
   "source": [
    "%%time\n",
    "result = zipline.run_algorithm(\n",
    "    start=start,  # Set start\n",
    "    end=end,  # Set end\n",
    "    initialize=initialize,  # Define startup function\n",
    "    capital_base=100000,  # Set initial capital\n",
    "    data_frequency=\"daily\",  # Set data frequency\n",
    "    bundle=\"ac_equities_db\", # Select bundle i.e bring your own data!\n",
    ")"
   ]
  },
  {
   "cell_type": "markdown",
   "metadata": {},
   "source": [
    "Analyze the results:"
   ]
  },
  {
   "cell_type": "code",
   "execution_count": 7,
   "metadata": {},
   "outputs": [
    {
     "data": {
      "application/javascript": [
       "\n",
       "            setTimeout(function() {\n",
       "                var nbb_cell_id = 7;\n",
       "                var nbb_unformatted_code = \"# Format for book image\\nfont = {\\\"family\\\": \\\"eurostile\\\", \\\"weight\\\": \\\"normal\\\", \\\"size\\\": 16}\\nrc(\\\"font\\\", **font)\";\n",
       "                var nbb_formatted_code = \"# Format for book image\\nfont = {\\\"family\\\": \\\"eurostile\\\", \\\"weight\\\": \\\"normal\\\", \\\"size\\\": 16}\\nrc(\\\"font\\\", **font)\";\n",
       "                var nbb_cells = Jupyter.notebook.get_cells();\n",
       "                for (var i = 0; i < nbb_cells.length; ++i) {\n",
       "                    if (nbb_cells[i].input_prompt_number == nbb_cell_id) {\n",
       "                        if (nbb_cells[i].get_text() == nbb_unformatted_code) {\n",
       "                             nbb_cells[i].set_text(nbb_formatted_code);\n",
       "                        }\n",
       "                        break;\n",
       "                    }\n",
       "                }\n",
       "            }, 500);\n",
       "            "
      ],
      "text/plain": [
       "<IPython.core.display.Javascript object>"
      ]
     },
     "metadata": {},
     "output_type": "display_data"
    }
   ],
   "source": [
    "# Format for book image\n",
    "font = {\"family\": \"eurostile\", \"weight\": \"normal\", \"size\": 16}\n",
    "rc(\"font\", **font)"
   ]
  },
  {
   "cell_type": "code",
   "execution_count": 8,
   "metadata": {},
   "outputs": [
    {
     "data": {
      "application/javascript": [
       "\n",
       "            setTimeout(function() {\n",
       "                var nbb_cell_id = 8;\n",
       "                var nbb_unformatted_code = \"# Settings\\nwindow = 252\\nyear_length = 252\";\n",
       "                var nbb_formatted_code = \"# Settings\\nwindow = 252\\nyear_length = 252\";\n",
       "                var nbb_cells = Jupyter.notebook.get_cells();\n",
       "                for (var i = 0; i < nbb_cells.length; ++i) {\n",
       "                    if (nbb_cells[i].input_prompt_number == nbb_cell_id) {\n",
       "                        if (nbb_cells[i].get_text() == nbb_unformatted_code) {\n",
       "                             nbb_cells[i].set_text(nbb_formatted_code);\n",
       "                        }\n",
       "                        break;\n",
       "                    }\n",
       "                }\n",
       "            }, 500);\n",
       "            "
      ],
      "text/plain": [
       "<IPython.core.display.Javascript object>"
      ]
     },
     "metadata": {},
     "output_type": "display_data"
    }
   ],
   "source": [
    "# Settings\n",
    "window = 252\n",
    "year_length = 252"
   ]
  },
  {
   "cell_type": "code",
   "execution_count": 9,
   "metadata": {},
   "outputs": [
    {
     "ename": "NameError",
     "evalue": "name 'result' is not defined",
     "output_type": "error",
     "traceback": [
      "\u001b[0;31m---------------------------------------------------------------------------\u001b[0m",
      "\u001b[0;31mNameError\u001b[0m                                 Traceback (most recent call last)",
      "\u001b[0;32m<ipython-input-9-c0e1de143779>\u001b[0m in \u001b[0;36m<module>\u001b[0;34m\u001b[0m\n\u001b[1;32m      1\u001b[0m \u001b[0;31m# Copy the columsn we need\u001b[0m\u001b[0;34m\u001b[0m\u001b[0;34m\u001b[0m\u001b[0;34m\u001b[0m\u001b[0m\n\u001b[0;32m----> 2\u001b[0;31m \u001b[0mdf\u001b[0m \u001b[0;34m=\u001b[0m \u001b[0mresult\u001b[0m\u001b[0;34m.\u001b[0m\u001b[0mcopy\u001b[0m\u001b[0;34m(\u001b[0m\u001b[0;34m)\u001b[0m\u001b[0;34m.\u001b[0m\u001b[0mfilter\u001b[0m\u001b[0;34m(\u001b[0m\u001b[0mitems\u001b[0m\u001b[0;34m=\u001b[0m\u001b[0;34m[\u001b[0m\u001b[0;34m\"portfolio_value\"\u001b[0m\u001b[0;34m,\u001b[0m \u001b[0;34m\"gross_leverage\"\u001b[0m\u001b[0;34m]\u001b[0m\u001b[0;34m)\u001b[0m\u001b[0;34m\u001b[0m\u001b[0;34m\u001b[0m\u001b[0m\n\u001b[0m",
      "\u001b[0;31mNameError\u001b[0m: name 'result' is not defined"
     ]
    },
    {
     "data": {
      "application/javascript": [
       "\n",
       "            setTimeout(function() {\n",
       "                var nbb_cell_id = 9;\n",
       "                var nbb_unformatted_code = \"# Copy the columsn we need\\ndf = result.copy().filter(items=[\\\"portfolio_value\\\", \\\"gross_leverage\\\"])\";\n",
       "                var nbb_formatted_code = \"# Copy the columsn we need\\ndf = result.copy().filter(items=[\\\"portfolio_value\\\", \\\"gross_leverage\\\"])\";\n",
       "                var nbb_cells = Jupyter.notebook.get_cells();\n",
       "                for (var i = 0; i < nbb_cells.length; ++i) {\n",
       "                    if (nbb_cells[i].input_prompt_number == nbb_cell_id) {\n",
       "                        if (nbb_cells[i].get_text() == nbb_unformatted_code) {\n",
       "                             nbb_cells[i].set_text(nbb_formatted_code);\n",
       "                        }\n",
       "                        break;\n",
       "                    }\n",
       "                }\n",
       "            }, 500);\n",
       "            "
      ],
      "text/plain": [
       "<IPython.core.display.Javascript object>"
      ]
     },
     "metadata": {},
     "output_type": "display_data"
    }
   ],
   "source": [
    "# Copy the columsn we need\n",
    "df = result.copy().filter(items=[\"portfolio_value\", \"gross_leverage\"])"
   ]
  },
  {
   "cell_type": "code",
   "execution_count": null,
   "metadata": {},
   "outputs": [],
   "source": [
    "# Function for annualized return\n",
    "def ann_ret(ts):\n",
    "    return np.power((ts[-1] / ts[0]), (year_length / len(ts))) - 1\n",
    "\n",
    "\n",
    "# Function for drawdown\n",
    "def dd(ts):\n",
    "    return np.min(ts / np.maximum.accumulate(ts)) - 1"
   ]
  },
  {
   "cell_type": "code",
   "execution_count": null,
   "metadata": {},
   "outputs": [],
   "source": [
    "# Get a rolling window\n",
    "rolling_window = result.portfolio_value.rolling(window)"
   ]
  },
  {
   "cell_type": "code",
   "execution_count": null,
   "metadata": {},
   "outputs": [],
   "source": [
    "# Calculate rolling analytics\n",
    "df[\"annualized\"] = rolling_window.apply(ann_ret)\n",
    "df[\"drawdown\"] = rolling_window.apply(dd)"
   ]
  },
  {
   "cell_type": "code",
   "execution_count": null,
   "metadata": {},
   "outputs": [],
   "source": [
    "# Drop initial n/a values\n",
    "df.dropna(inplace=True)"
   ]
  },
  {
   "cell_type": "code",
   "execution_count": null,
   "metadata": {},
   "outputs": [],
   "source": [
    "# Make a figure\n",
    "fig = plt.figure(figsize=(12, 12))"
   ]
  },
  {
   "cell_type": "code",
   "execution_count": null,
   "metadata": {},
   "outputs": [],
   "source": [
    "# Make the base lower, just to make the graph easier to read\n",
    "df[\"portfolio_value\"] /= 100"
   ]
  },
  {
   "cell_type": "code",
   "execution_count": null,
   "metadata": {},
   "outputs": [],
   "source": [
    "# First chart\n",
    "ax = fig.add_subplot(411)\n",
    "ax.set_title(\"Strategy Results\")\n",
    "ax.plot(\n",
    "    df[\"portfolio_value\"],\n",
    "    linestyle=\"-\",\n",
    "    color=\"black\",\n",
    "    label=\"Equity Curve\",\n",
    "    linewidth=3.0,\n",
    ")\n",
    "\n",
    "# Set log scale\n",
    "ax.set_yscale(\"log\")\n",
    "\n",
    "# Make the axis look nicer\n",
    "ax.yaxis.set_ticks(\n",
    "    np.arange(df[\"portfolio_value\"].min(), df[\"portfolio_value\"].max(), 500)\n",
    ")\n",
    "ax.yaxis.set_major_formatter(ticker.FormatStrFormatter(\"%0.0f\"))\n",
    "\n",
    "# Add legend and grid\n",
    "ax.legend()\n",
    "ax.grid(False)"
   ]
  },
  {
   "cell_type": "code",
   "execution_count": null,
   "metadata": {},
   "outputs": [],
   "source": [
    "# Second chart\n",
    "ax = fig.add_subplot(412)\n",
    "ax.plot(df['gross_leverage'], \n",
    "        label='Strategy exposure'.format(window), \n",
    "        linestyle='-', \n",
    "        color='black',\n",
    "        linewidth=1.0)\n",
    "\n",
    "# Make the axis look nicer\n",
    "ax.yaxis.set_ticks(np.arange(df['gross_leverage'].min(), df['gross_leverage'].max(), 0.2 ))\n",
    "ax.yaxis.set_major_formatter(ticker.FormatStrFormatter('%0.1f'))\n",
    "\n",
    "# Add legend and grid\n",
    "ax.legend()\n",
    "ax.grid(True)\n"
   ]
  },
  {
   "cell_type": "code",
   "execution_count": null,
   "metadata": {},
   "outputs": [],
   "source": [
    "# Third chart\n",
    "ax = fig.add_subplot(413)\n",
    "ax.plot(df['annualized'], \n",
    "        label='{} days annualized return'.format(window), \n",
    "        linestyle='-', \n",
    "        color='black',\n",
    "        linewidth=1.0)\n",
    "ax.axhline(df['annualized'].mean(), color='black', linewidth=1.5, label='Mean {:0.1f}%'.format(df['annualized'].mean() * 100))\n",
    "\n",
    "# Make the axis look nicer\n",
    "ax.yaxis.set_ticks(np.arange(df['annualized'].min(), df['annualized'].max(), 0.1 ))\n",
    "ax.yaxis.set_major_formatter(ticker.FormatStrFormatter('%0.2f'))\n",
    "\n",
    "# Add legend and grid\n",
    "ax.legend()\n",
    "ax.grid(True)\n"
   ]
  },
  {
   "cell_type": "code",
   "execution_count": null,
   "metadata": {},
   "outputs": [],
   "source": [
    "# Fourth chart\n",
    "ax = fig.add_subplot(414)\n",
    "ax.plot(\n",
    "    df[\"drawdown\"],\n",
    "    label=\"{} days max drawdown\".format(window),\n",
    "    linestyle=\"-\",\n",
    "    color=\"black\",\n",
    "    linewidth=1.0,\n",
    ")\n",
    "\n",
    "# Make the axis look nicer\n",
    "ax.yaxis.set_ticks(np.arange(df[\"drawdown\"].min(), df[\"drawdown\"].max(), 0.02))\n",
    "ax.yaxis.set_major_formatter(ticker.FormatStrFormatter(\"%0.2f\"))\n",
    "\n",
    "# Add legend and grid\n",
    "ax.legend()\n",
    "ax.grid(True)"
   ]
  },
  {
   "cell_type": "code",
   "execution_count": null,
   "metadata": {},
   "outputs": [],
   "source": [
    "fig"
   ]
  }
 ],
 "metadata": {
  "kernelspec": {
   "display_name": "Python 3",
   "language": "python",
   "name": "python3"
  },
  "language_info": {
   "codemirror_mode": {
    "name": "ipython",
    "version": 3
   },
   "file_extension": ".py",
   "mimetype": "text/x-python",
   "name": "python",
   "nbconvert_exporter": "python",
   "pygments_lexer": "ipython3",
   "version": "3.6.12"
  }
 },
 "nbformat": 4,
 "nbformat_minor": 4
}
