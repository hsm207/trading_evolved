{
 "cells": [
  {
   "cell_type": "markdown",
   "metadata": {},
   "source": [
    "View available bundles:"
   ]
  },
  {
   "cell_type": "code",
   "execution_count": 1,
   "metadata": {},
   "outputs": [
    {
     "name": "stdout",
     "output_type": "stream",
     "text": [
      "csvdir <no ingestions>\n",
      "quandl <no ingestions>\n",
      "quantopian-quandl <no ingestions>\n"
     ]
    },
    {
     "name": "stderr",
     "output_type": "stream",
     "text": [
      "fatal: not a git repository (or any of the parent directories): .git\n"
     ]
    }
   ],
   "source": [
    "%%bash\n",
    "\n",
    "zipline bundles"
   ]
  },
  {
   "cell_type": "markdown",
   "metadata": {},
   "source": [
    "Ingest the quandl bundle:"
   ]
  },
  {
   "cell_type": "code",
   "execution_count": 2,
   "metadata": {},
   "outputs": [
    {
     "name": "stderr",
     "output_type": "stream",
     "text": [
      "fatal: not a git repository (or any of the parent directories): .git\n",
      "[2020-11-15 06:14:53.663044] INFO: zipline.data.bundles.core: Ingesting quandl.\n",
      "[2020-11-15 06:14:53.663318] INFO: zipline.data.bundles.quandl: Downloading WIKI metadata.\n",
      "[2020-11-15 06:17:55.441235] INFO: zipline.data.bundles.quandl: Parsing raw data.\n",
      "[2020-11-15 06:20:35.739856] INFO: zipline.data.bundles.quandl: Generating asset metadata.\n",
      "/zipline/zipline/data/bcolz_daily_bars.py:367: UserWarning: Ignoring 1 values because they are out of bounds for uint32:             open  high   low  close        volume  ex_dividend  split_ratio\n",
      "2011-04-11  1.79  1.84  1.55    1.7  6.674913e+09          0.0          1.0\n",
      "  winsorise_uint32(raw_data, invalid_data_behavior, 'volume', *OHLC)\n",
      "[2020-11-15 06:26:12.351720] INFO: zipline.data.bundles.quandl: Parsing split data.\n",
      "[2020-11-15 06:26:13.521040] INFO: zipline.data.bundles.quandl: Parsing dividend data.\n",
      "[2020-11-15 06:26:20.155000] WARNING: zipline.data.adjustments: Couldn't compute ratio for dividend sid=67, ex_date=2017-11-09, amount=0.620\n",
      "[2020-11-15 06:26:20.155384] WARNING: zipline.data.adjustments: Couldn't compute ratio for dividend sid=93, ex_date=2017-11-09, amount=0.240\n",
      "[2020-11-15 06:26:20.155734] WARNING: zipline.data.adjustments: Couldn't compute ratio for dividend sid=161, ex_date=2017-11-09, amount=0.110\n",
      "[2020-11-15 06:26:20.155976] WARNING: zipline.data.adjustments: Couldn't compute ratio for dividend sid=283, ex_date=2017-11-09, amount=0.415\n",
      "[2020-11-15 06:26:20.156255] WARNING: zipline.data.adjustments: Couldn't compute ratio for dividend sid=298, ex_date=2017-11-09, amount=1.420\n",
      "[2020-11-15 06:26:20.156485] WARNING: zipline.data.adjustments: Couldn't compute ratio for dividend sid=318, ex_date=2017-11-09, amount=0.330\n",
      "[2020-11-15 06:26:20.156733] WARNING: zipline.data.adjustments: Couldn't compute ratio for dividend sid=434, ex_date=2017-11-09, amount=0.110\n",
      "[2020-11-15 06:26:20.156980] WARNING: zipline.data.adjustments: Couldn't compute ratio for dividend sid=516, ex_date=1996-05-30, amount=0.310\n",
      "[2020-11-15 06:26:20.157267] WARNING: zipline.data.adjustments: Couldn't compute ratio for dividend sid=524, ex_date=2017-11-09, amount=0.050\n",
      "[2020-11-15 06:26:20.157518] WARNING: zipline.data.adjustments: Couldn't compute ratio for dividend sid=556, ex_date=2017-11-09, amount=0.075\n",
      "[2020-11-15 06:26:20.157776] WARNING: zipline.data.adjustments: Couldn't compute ratio for dividend sid=578, ex_date=2017-11-09, amount=0.160\n",
      "[2020-11-15 06:26:20.158019] WARNING: zipline.data.adjustments: Couldn't compute ratio for dividend sid=605, ex_date=2017-11-09, amount=0.040\n",
      "[2020-11-15 06:26:20.158236] WARNING: zipline.data.adjustments: Couldn't compute ratio for dividend sid=666, ex_date=1990-03-26, amount=0.140\n",
      "[2020-11-15 06:26:20.158486] WARNING: zipline.data.adjustments: Couldn't compute ratio for dividend sid=694, ex_date=1990-03-27, amount=0.100\n",
      "[2020-11-15 06:26:20.158699] WARNING: zipline.data.adjustments: Couldn't compute ratio for dividend sid=723, ex_date=2017-11-09, amount=1.620\n",
      "[2020-11-15 06:26:20.158917] WARNING: zipline.data.adjustments: Couldn't compute ratio for dividend sid=758, ex_date=2017-11-09, amount=0.500\n",
      "[2020-11-15 06:26:20.159136] WARNING: zipline.data.adjustments: Couldn't compute ratio for dividend sid=788, ex_date=2017-11-09, amount=0.060\n",
      "[2020-11-15 06:26:20.159343] WARNING: zipline.data.adjustments: Couldn't compute ratio for dividend sid=859, ex_date=1995-05-09, amount=0.100\n",
      "[2020-11-15 06:26:20.159565] WARNING: zipline.data.adjustments: Couldn't compute ratio for dividend sid=904, ex_date=2017-11-09, amount=0.135\n",
      "[2020-11-15 06:26:20.159764] WARNING: zipline.data.adjustments: Couldn't compute ratio for dividend sid=975, ex_date=2017-11-09, amount=0.030\n",
      "[2020-11-15 06:26:20.159967] WARNING: zipline.data.adjustments: Couldn't compute ratio for dividend sid=1057, ex_date=2017-11-09, amount=0.250\n",
      "[2020-11-15 06:26:20.160208] WARNING: zipline.data.adjustments: Couldn't compute ratio for dividend sid=1088, ex_date=1990-03-26, amount=0.240\n",
      "[2020-11-15 06:26:20.160486] WARNING: zipline.data.adjustments: Couldn't compute ratio for dividend sid=1091, ex_date=2017-11-09, amount=0.075\n",
      "[2020-11-15 06:26:20.160697] WARNING: zipline.data.adjustments: Couldn't compute ratio for dividend sid=1111, ex_date=1993-03-04, amount=0.070\n",
      "[2020-11-15 06:26:20.169728] WARNING: zipline.data.adjustments: Couldn't compute ratio for dividend sid=1172, ex_date=2017-11-09, amount=0.130\n",
      "[2020-11-15 06:26:20.169969] WARNING: zipline.data.adjustments: Couldn't compute ratio for dividend sid=1209, ex_date=2017-11-09, amount=0.010\n",
      "[2020-11-15 06:26:20.170108] WARNING: zipline.data.adjustments: Couldn't compute ratio for dividend sid=1322, ex_date=1995-05-25, amount=0.150\n",
      "[2020-11-15 06:26:20.170234] WARNING: zipline.data.adjustments: Couldn't compute ratio for dividend sid=1441, ex_date=2017-11-09, amount=1.500\n",
      "[2020-11-15 06:26:20.170355] WARNING: zipline.data.adjustments: Couldn't compute ratio for dividend sid=1525, ex_date=2017-11-09, amount=0.090\n",
      "[2020-11-15 06:26:20.170520] WARNING: zipline.data.adjustments: Couldn't compute ratio for dividend sid=1600, ex_date=2015-07-06, amount=16.500\n",
      "[2020-11-15 06:26:20.170657] WARNING: zipline.data.adjustments: Couldn't compute ratio for dividend sid=1642, ex_date=2017-11-09, amount=0.270\n",
      "[2020-11-15 06:26:20.170788] WARNING: zipline.data.adjustments: Couldn't compute ratio for dividend sid=1748, ex_date=2017-11-09, amount=0.740\n",
      "[2020-11-15 06:26:20.170916] WARNING: zipline.data.adjustments: Couldn't compute ratio for dividend sid=1876, ex_date=2017-11-09, amount=0.120\n",
      "[2020-11-15 06:26:20.171042] WARNING: zipline.data.adjustments: Couldn't compute ratio for dividend sid=1922, ex_date=2017-11-09, amount=0.040\n",
      "[2020-11-15 06:26:20.171168] WARNING: zipline.data.adjustments: Couldn't compute ratio for dividend sid=1947, ex_date=1990-03-26, amount=0.150\n",
      "[2020-11-15 06:26:20.171295] WARNING: zipline.data.adjustments: Couldn't compute ratio for dividend sid=2098, ex_date=2017-11-09, amount=0.200\n",
      "[2020-11-15 06:26:20.171483] WARNING: zipline.data.adjustments: Couldn't compute ratio for dividend sid=2118, ex_date=2014-11-06, amount=0.050\n",
      "[2020-11-15 06:26:20.171622] WARNING: zipline.data.adjustments: Couldn't compute ratio for dividend sid=2120, ex_date=2017-11-09, amount=0.110\n",
      "[2020-11-15 06:26:20.171742] WARNING: zipline.data.adjustments: Couldn't compute ratio for dividend sid=2149, ex_date=2017-11-09, amount=0.330\n",
      "[2020-11-15 06:26:20.171861] WARNING: zipline.data.adjustments: Couldn't compute ratio for dividend sid=2204, ex_date=2017-11-09, amount=0.320\n",
      "[2020-11-15 06:26:20.171976] WARNING: zipline.data.adjustments: Couldn't compute ratio for dividend sid=2220, ex_date=2017-11-09, amount=0.660\n",
      "[2020-11-15 06:26:20.172092] WARNING: zipline.data.adjustments: Couldn't compute ratio for dividend sid=2281, ex_date=2017-11-09, amount=0.450\n",
      "[2020-11-15 06:26:20.172207] WARNING: zipline.data.adjustments: Couldn't compute ratio for dividend sid=2389, ex_date=2017-11-09, amount=0.140\n",
      "[2020-11-15 06:26:20.172324] WARNING: zipline.data.adjustments: Couldn't compute ratio for dividend sid=2441, ex_date=2017-11-09, amount=0.215\n",
      "[2020-11-15 06:26:20.172477] WARNING: zipline.data.adjustments: Couldn't compute ratio for dividend sid=2517, ex_date=2017-11-09, amount=0.080\n",
      "[2020-11-15 06:26:20.172607] WARNING: zipline.data.adjustments: Couldn't compute ratio for dividend sid=2582, ex_date=2017-11-09, amount=0.780\n",
      "[2020-11-15 06:26:20.172726] WARNING: zipline.data.adjustments: Couldn't compute ratio for dividend sid=2622, ex_date=2017-11-09, amount=0.390\n",
      "[2020-11-15 06:26:20.172843] WARNING: zipline.data.adjustments: Couldn't compute ratio for dividend sid=2662, ex_date=2015-01-14, amount=0.750\n",
      "[2020-11-15 06:26:20.172960] WARNING: zipline.data.adjustments: Couldn't compute ratio for dividend sid=2754, ex_date=2000-12-27, amount=0.250\n",
      "[2020-11-15 06:26:20.173076] WARNING: zipline.data.adjustments: Couldn't compute ratio for dividend sid=2754, ex_date=2009-09-11, amount=0.420\n",
      "[2020-11-15 06:26:20.173191] WARNING: zipline.data.adjustments: Couldn't compute ratio for dividend sid=2754, ex_date=2009-12-11, amount=0.420\n",
      "[2020-11-15 06:26:20.173308] WARNING: zipline.data.adjustments: Couldn't compute ratio for dividend sid=2754, ex_date=2010-03-11, amount=0.420\n",
      "[2020-11-15 06:26:20.173472] WARNING: zipline.data.adjustments: Couldn't compute ratio for dividend sid=2754, ex_date=2010-12-15, amount=0.180\n",
      "[2020-11-15 06:26:20.173607] WARNING: zipline.data.adjustments: Couldn't compute ratio for dividend sid=2766, ex_date=2017-11-09, amount=0.320\n",
      "[2020-11-15 06:26:20.173726] WARNING: zipline.data.adjustments: Couldn't compute ratio for dividend sid=2798, ex_date=2017-11-09, amount=0.065\n",
      "[2020-11-15 06:26:20.173846] WARNING: zipline.data.adjustments: Couldn't compute ratio for dividend sid=2817, ex_date=1992-03-03, amount=0.300\n",
      "[2020-11-15 06:26:20.173963] WARNING: zipline.data.adjustments: Couldn't compute ratio for dividend sid=2824, ex_date=2017-11-09, amount=0.120\n",
      "[2020-11-15 06:26:20.174078] WARNING: zipline.data.adjustments: Couldn't compute ratio for dividend sid=2843, ex_date=2017-11-09, amount=0.150\n",
      "[2020-11-15 06:26:20.174198] WARNING: zipline.data.adjustments: Couldn't compute ratio for dividend sid=2857, ex_date=2011-09-07, amount=0.410\n",
      "[2020-11-15 06:26:20.174315] WARNING: zipline.data.adjustments: Couldn't compute ratio for dividend sid=2968, ex_date=1990-03-26, amount=0.100\n",
      "[2020-11-15 06:26:20.174470] WARNING: zipline.data.adjustments: Couldn't compute ratio for dividend sid=3005, ex_date=1990-03-26, amount=0.070\n",
      "[2020-11-15 06:26:20.174607] WARNING: zipline.data.adjustments: Couldn't compute ratio for dividend sid=3078, ex_date=2014-05-12, amount=0.060\n",
      "[2020-11-15 06:26:20.174727] WARNING: zipline.data.adjustments: Couldn't compute ratio for dividend sid=3117, ex_date=2017-11-09, amount=0.430\n",
      "[2020-11-15 06:26:20.174844] WARNING: zipline.data.adjustments: Couldn't compute ratio for dividend sid=3138, ex_date=2010-08-16, amount=0.060\n",
      "[2020-11-15 06:26:20.174962] WARNING: zipline.data.adjustments: Couldn't compute ratio for dividend sid=3145, ex_date=2017-11-09, amount=0.050\n",
      "[2020-11-15 06:26:20.185954] WARNING: zipline.data.adjustments: Dividend ratio <= 0 for dividend sid=501, ex_date=2006-01-03, amount=41.560\n",
      "[2020-11-15 06:26:20.186313] WARNING: zipline.data.adjustments: Dividend ratio <= 0 for dividend sid=1557, ex_date=2007-07-02, amount=88.530\n",
      "[2020-11-15 06:26:20.186585] WARNING: zipline.data.adjustments: Dividend ratio <= 0 for dividend sid=1632, ex_date=2000-07-13, amount=181.000\n",
      "[2020-11-15 06:26:20.186836] WARNING: zipline.data.adjustments: Dividend ratio <= 0 for dividend sid=1657, ex_date=2013-09-30, amount=21.355\n",
      "[2020-11-15 06:26:20.187283] WARNING: zipline.data.adjustments: Dividend ratio <= 0 for dividend sid=1775, ex_date=1994-12-01, amount=76.000\n",
      "[2020-11-15 06:26:20.187717] WARNING: zipline.data.adjustments: Dividend ratio <= 0 for dividend sid=1776, ex_date=1996-11-04, amount=36.708\n",
      "[2020-11-15 06:26:20.187947] WARNING: zipline.data.adjustments: Dividend ratio <= 0 for dividend sid=2455, ex_date=2016-10-03, amount=25.611\n",
      "[2020-11-15 06:26:20.188138] WARNING: zipline.data.adjustments: Dividend ratio <= 0 for dividend sid=2687, ex_date=2008-06-26, amount=10.000\n",
      "[2020-11-15 06:26:20.188321] WARNING: zipline.data.adjustments: Dividend ratio <= 0 for dividend sid=2900, ex_date=2007-07-02, amount=88.530\n",
      "[2020-11-15 06:26:20.188517] WARNING: zipline.data.adjustments: Dividend ratio <= 0 for dividend sid=3088, ex_date=2015-04-27, amount=31.291\n"
     ]
    }
   ],
   "source": [
    "%%bash\n",
    "\n",
    "zipline ingest -b quandl"
   ]
  },
  {
   "cell_type": "markdown",
   "metadata": {},
   "source": [
    "Check bundle has been ingested:"
   ]
  },
  {
   "cell_type": "code",
   "execution_count": 3,
   "metadata": {},
   "outputs": [
    {
     "name": "stdout",
     "output_type": "stream",
     "text": [
      "csvdir <no ingestions>\n",
      "quandl 2020-11-15 06:14:52.280340\n",
      "quantopian-quandl <no ingestions>\n"
     ]
    },
    {
     "name": "stderr",
     "output_type": "stream",
     "text": [
      "fatal: not a git repository (or any of the parent directories): .git\n"
     ]
    }
   ],
   "source": [
    "%%bash\n",
    "\n",
    "zipline bundles"
   ]
  }
 ],
 "metadata": {
  "kernelspec": {
   "display_name": "Python 3",
   "language": "python",
   "name": "python3"
  },
  "language_info": {
   "codemirror_mode": {
    "name": "ipython",
    "version": 3
   },
   "file_extension": ".py",
   "mimetype": "text/x-python",
   "name": "python",
   "nbconvert_exporter": "python",
   "pygments_lexer": "ipython3",
   "version": "3.6.12"
  }
 },
 "nbformat": 4,
 "nbformat_minor": 4
}
