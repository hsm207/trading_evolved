{
 "cells": [
  {
   "cell_type": "code",
   "execution_count": 1,
   "metadata": {},
   "outputs": [
    {
     "data": {
      "application/javascript": [
       "\n",
       "            setTimeout(function() {\n",
       "                var nbb_cell_id = 1;\n",
       "                var nbb_unformatted_code = \"%load_ext nb_black\";\n",
       "                var nbb_formatted_code = \"%load_ext nb_black\";\n",
       "                var nbb_cells = Jupyter.notebook.get_cells();\n",
       "                for (var i = 0; i < nbb_cells.length; ++i) {\n",
       "                    if (nbb_cells[i].input_prompt_number == nbb_cell_id) {\n",
       "                        if (nbb_cells[i].get_text() == nbb_unformatted_code) {\n",
       "                             nbb_cells[i].set_text(nbb_formatted_code);\n",
       "                        }\n",
       "                        break;\n",
       "                    }\n",
       "                }\n",
       "            }, 500);\n",
       "            "
      ],
      "text/plain": [
       "<IPython.core.display.Javascript object>"
      ]
     },
     "metadata": {},
     "output_type": "display_data"
    }
   ],
   "source": [
    "%load_ext nb_black"
   ]
  },
  {
   "cell_type": "code",
   "execution_count": 2,
   "metadata": {},
   "outputs": [
    {
     "data": {
      "application/javascript": [
       "\n",
       "            setTimeout(function() {\n",
       "                var nbb_cell_id = 2;\n",
       "                var nbb_unformatted_code = \"import numpy as np\\nimport pandas as pd\\nimport statsmodels.formula.api as smf\\nfrom scipy.stats import ttest_ind\";\n",
       "                var nbb_formatted_code = \"import numpy as np\\nimport pandas as pd\\nimport statsmodels.formula.api as smf\\nfrom scipy.stats import ttest_ind\";\n",
       "                var nbb_cells = Jupyter.notebook.get_cells();\n",
       "                for (var i = 0; i < nbb_cells.length; ++i) {\n",
       "                    if (nbb_cells[i].input_prompt_number == nbb_cell_id) {\n",
       "                        if (nbb_cells[i].get_text() == nbb_unformatted_code) {\n",
       "                             nbb_cells[i].set_text(nbb_formatted_code);\n",
       "                        }\n",
       "                        break;\n",
       "                    }\n",
       "                }\n",
       "            }, 500);\n",
       "            "
      ],
      "text/plain": [
       "<IPython.core.display.Javascript object>"
      ]
     },
     "metadata": {},
     "output_type": "display_data"
    }
   ],
   "source": [
    "import numpy as np\n",
    "import pandas as pd\n",
    "import statsmodels.formula.api as smf\n",
    "from scipy.stats import ttest_ind"
   ]
  },
  {
   "cell_type": "markdown",
   "metadata": {},
   "source": [
    "Import the backtest results from Andreas Clenow's [website](https://www.followingthetrend.com/trading-evolved/):"
   ]
  },
  {
   "cell_type": "code",
   "execution_count": 3,
   "metadata": {},
   "outputs": [
    {
     "name": "stdout",
     "output_type": "stream",
     "text": [
      "total 1.2M\n",
      "drwxr-xr-x  2 root root 4.0K Jul 15  2019 .\n",
      "drwxr-xr-x 20 root root 4.0K Nov 15 09:12 ..\n",
      "-rw-r--r--  1 root root 165K Mar 27  2019 SPXTR.csv\n",
      "-rw-r--r--  1 root root 202K Mar 27  2019 core_trend.csv\n",
      "-rw-r--r--  1 root root 201K Mar 27  2019 counter_trend.csv\n",
      "-rw-r--r--  1 root root 201K Mar 28  2019 curve_trading.csv\n",
      "-rw-r--r--  1 root root 165K Mar 27  2019 equity_momentum.csv\n",
      "-rw-r--r--  1 root root 201K Mar 27  2019 time_return.csv\n"
     ]
    },
    {
     "data": {
      "application/javascript": [
       "\n",
       "            setTimeout(function() {\n",
       "                var nbb_cell_id = 3;\n",
       "                var nbb_unformatted_code = \"%%bash\\ncd /tmp\\nrm -rf trading_evolved\\nrm -f trading_evolved.zip\\n\\nwget -q -O trading_evolved.zip trading_evolved.zip https://dl.dropbox.com/s/tj85sufbsi820ya/Trading%20Evolved.zip?dl=1\\nunzip -q -d trading_evolved trading_evolved.zip\\nls -lah trading_evolved/Backtests\";\n",
       "                var nbb_formatted_code = \"%%bash\\ncd /tmp\\nrm -rf trading_evolved\\nrm -f trading_evolved.zip\\n\\nwget -q -O trading_evolved.zip trading_evolved.zip https://dl.dropbox.com/s/tj85sufbsi820ya/Trading%20Evolved.zip?dl=1\\nunzip -q -d trading_evolved trading_evolved.zip\\nls -lah trading_evolved/Backtests\";\n",
       "                var nbb_cells = Jupyter.notebook.get_cells();\n",
       "                for (var i = 0; i < nbb_cells.length; ++i) {\n",
       "                    if (nbb_cells[i].input_prompt_number == nbb_cell_id) {\n",
       "                        if (nbb_cells[i].get_text() == nbb_unformatted_code) {\n",
       "                             nbb_cells[i].set_text(nbb_formatted_code);\n",
       "                        }\n",
       "                        break;\n",
       "                    }\n",
       "                }\n",
       "            }, 500);\n",
       "            "
      ],
      "text/plain": [
       "<IPython.core.display.Javascript object>"
      ]
     },
     "metadata": {},
     "output_type": "display_data"
    }
   ],
   "source": [
    "%%bash\n",
    "cd /tmp\n",
    "rm -rf trading_evolved\n",
    "rm -f trading_evolved.zip\n",
    "\n",
    "wget -q -O trading_evolved.zip trading_evolved.zip https://dl.dropbox.com/s/tj85sufbsi820ya/Trading%20Evolved.zip?dl=1\n",
    "unzip -q -d trading_evolved trading_evolved.zip\n",
    "ls -lah trading_evolved/Backtests"
   ]
  },
  {
   "cell_type": "code",
   "execution_count": 4,
   "metadata": {},
   "outputs": [
    {
     "data": {
      "application/javascript": [
       "\n",
       "            setTimeout(function() {\n",
       "                var nbb_cell_id = 4;\n",
       "                var nbb_unformatted_code = \"data_path = \\\"/tmp/trading_evolved/Backtests/\\\"\";\n",
       "                var nbb_formatted_code = \"data_path = \\\"/tmp/trading_evolved/Backtests/\\\"\";\n",
       "                var nbb_cells = Jupyter.notebook.get_cells();\n",
       "                for (var i = 0; i < nbb_cells.length; ++i) {\n",
       "                    if (nbb_cells[i].input_prompt_number == nbb_cell_id) {\n",
       "                        if (nbb_cells[i].get_text() == nbb_unformatted_code) {\n",
       "                             nbb_cells[i].set_text(nbb_formatted_code);\n",
       "                        }\n",
       "                        break;\n",
       "                    }\n",
       "                }\n",
       "            }, 500);\n",
       "            "
      ],
      "text/plain": [
       "<IPython.core.display.Javascript object>"
      ]
     },
     "metadata": {},
     "output_type": "display_data"
    }
   ],
   "source": [
    "data_path = \"/tmp/trading_evolved/Backtests/\""
   ]
  },
  {
   "cell_type": "markdown",
   "metadata": {},
   "source": [
    "Plot cumulative returns of the strategy and the benchmark:"
   ]
  },
  {
   "cell_type": "code",
   "execution_count": 5,
   "metadata": {},
   "outputs": [
    {
     "name": "stderr",
     "output_type": "stream",
     "text": [
      "/usr/local/lib/python3.6/site-packages/pandas/plotting/_compat.py:57: MatplotlibDeprecationWarning: \n",
      "The compare_versions function was deprecated in Matplotlib 3.2 and will be removed two minor releases later.\n",
      "  return matplotlib.compare_versions('2.0.0', matplotlib.__version__)\n"
     ]
    },
    {
     "data": {
      "text/plain": [
       "<AxesSubplot:xlabel='0'>"
      ]
     },
     "execution_count": 5,
     "metadata": {},
     "output_type": "execute_result"
    },
    {
     "data": {
      "image/png": "[encoded data removed]",
      "text/plain": [
       "<Figure size 432x288 with 1 Axes>"
      ]
     },
     "metadata": {
      "needs_background": "light"
     },
     "output_type": "display_data"
    },
    {
     "data": {
      "application/javascript": [
       "\n",
       "            setTimeout(function() {\n",
       "                var nbb_cell_id = 5;\n",
       "                var nbb_unformatted_code = \"strat = \\\"equity_momentum\\\"\\nbench = \\\"SPXTR\\\"\\nbenchmark = pd.read_csv(\\n    \\\"{}{}.csv\\\".format(data_path, bench), index_col=0, header=None, parse_dates=True\\n)\\nstrategy = pd.read_csv(\\n    \\\"{}{}.csv\\\".format(data_path, strat), index_col=0, header=None, parse_dates=True\\n)\\n\\nfirst_date = pd.Series([benchmark.index[0], strategy.index[0]]).max()\\nbenchmark = benchmark[first_date:]\\nstrategy = strategy[first_date:]\\n\\nbenchmark = benchmark.reindex(strategy.index).ffill()\\n\\nbenchmark_perc_returns = benchmark.diff() / benchmark.shift(1)\\nstrategy_perc_returns = strategy.diff() / strategy.shift(1)\\n\\nbenchmark_cum_returns = benchmark_perc_returns.cumsum()\\nstrategy_cum_returns = strategy_perc_returns.cumsum()\\nboth_cum_returns = pd.concat([benchmark_cum_returns, strategy_cum_returns], axis=1)\\nboth_cum_returns.columns = [\\\"benchmark\\\", \\\"strategy\\\"]\\nboth_cum_returns.plot()\";\n",
       "                var nbb_formatted_code = \"strat = \\\"equity_momentum\\\"\\nbench = \\\"SPXTR\\\"\\nbenchmark = pd.read_csv(\\n    \\\"{}{}.csv\\\".format(data_path, bench), index_col=0, header=None, parse_dates=True\\n)\\nstrategy = pd.read_csv(\\n    \\\"{}{}.csv\\\".format(data_path, strat), index_col=0, header=None, parse_dates=True\\n)\\n\\nfirst_date = pd.Series([benchmark.index[0], strategy.index[0]]).max()\\nbenchmark = benchmark[first_date:]\\nstrategy = strategy[first_date:]\\n\\nbenchmark = benchmark.reindex(strategy.index).ffill()\\n\\nbenchmark_perc_returns = benchmark.diff() / benchmark.shift(1)\\nstrategy_perc_returns = strategy.diff() / strategy.shift(1)\\n\\nbenchmark_cum_returns = benchmark_perc_returns.cumsum()\\nstrategy_cum_returns = strategy_perc_returns.cumsum()\\nboth_cum_returns = pd.concat([benchmark_cum_returns, strategy_cum_returns], axis=1)\\nboth_cum_returns.columns = [\\\"benchmark\\\", \\\"strategy\\\"]\\nboth_cum_returns.plot()\";\n",
       "                var nbb_cells = Jupyter.notebook.get_cells();\n",
       "                for (var i = 0; i < nbb_cells.length; ++i) {\n",
       "                    if (nbb_cells[i].input_prompt_number == nbb_cell_id) {\n",
       "                        if (nbb_cells[i].get_text() == nbb_unformatted_code) {\n",
       "                             nbb_cells[i].set_text(nbb_formatted_code);\n",
       "                        }\n",
       "                        break;\n",
       "                    }\n",
       "                }\n",
       "            }, 500);\n",
       "            "
      ],
      "text/plain": [
       "<IPython.core.display.Javascript object>"
      ]
     },
     "metadata": {},
     "output_type": "display_data"
    }
   ],
   "source": [
    "strat = \"equity_momentum\"\n",
    "bench = \"SPXTR\"\n",
    "benchmark = pd.read_csv(\n",
    "    \"{}{}.csv\".format(data_path, bench), index_col=0, header=None, parse_dates=True\n",
    ")\n",
    "strategy = pd.read_csv(\n",
    "    \"{}{}.csv\".format(data_path, strat), index_col=0, header=None, parse_dates=True\n",
    ")\n",
    "\n",
    "first_date = pd.Series([benchmark.index[0], strategy.index[0]]).max()\n",
    "benchmark = benchmark[first_date:]\n",
    "strategy = strategy[first_date:]\n",
    "\n",
    "benchmark = benchmark.reindex(strategy.index).ffill()\n",
    "\n",
    "benchmark_perc_returns = benchmark.diff() / benchmark.shift(1)\n",
    "strategy_perc_returns = strategy.diff() / strategy.shift(1)\n",
    "\n",
    "benchmark_cum_returns = benchmark_perc_returns.cumsum()\n",
    "strategy_cum_returns = strategy_perc_returns.cumsum()\n",
    "both_cum_returns = pd.concat([benchmark_cum_returns, strategy_cum_returns], axis=1)\n",
    "both_cum_returns.columns = [\"benchmark\", \"strategy\"]\n",
    "both_cum_returns.plot()"
   ]
  },
  {
   "cell_type": "markdown",
   "metadata": {},
   "source": [
    "The difference in cumulative returns between strategy and benchmark:"
   ]
  },
  {
   "cell_type": "code",
   "execution_count": 6,
   "metadata": {},
   "outputs": [
    {
     "name": "stderr",
     "output_type": "stream",
     "text": [
      "/usr/local/lib/python3.6/site-packages/pandas/plotting/_compat.py:57: MatplotlibDeprecationWarning: \n",
      "The compare_versions function was deprecated in Matplotlib 3.2 and will be removed two minor releases later.\n",
      "  return matplotlib.compare_versions('2.0.0', matplotlib.__version__)\n"
     ]
    },
    {
     "data": {
      "text/plain": [
       "<AxesSubplot:xlabel='0'>"
      ]
     },
     "execution_count": 6,
     "metadata": {},
     "output_type": "execute_result"
    },
    {
     "data": {
      "image/png": "[encoded data removed]",
      "text/plain": [
       "<Figure size 432x288 with 1 Axes>"
      ]
     },
     "metadata": {
      "needs_background": "light"
     },
     "output_type": "display_data"
    },
    {
     "data": {
      "application/javascript": [
       "\n",
       "            setTimeout(function() {\n",
       "                var nbb_cell_id = 6;\n",
       "                var nbb_unformatted_code = \"diff_cum_returns = strategy_cum_returns - benchmark_cum_returns\\ndiff_cum_returns.plot()\";\n",
       "                var nbb_formatted_code = \"diff_cum_returns = strategy_cum_returns - benchmark_cum_returns\\ndiff_cum_returns.plot()\";\n",
       "                var nbb_cells = Jupyter.notebook.get_cells();\n",
       "                for (var i = 0; i < nbb_cells.length; ++i) {\n",
       "                    if (nbb_cells[i].input_prompt_number == nbb_cell_id) {\n",
       "                        if (nbb_cells[i].get_text() == nbb_unformatted_code) {\n",
       "                             nbb_cells[i].set_text(nbb_formatted_code);\n",
       "                        }\n",
       "                        break;\n",
       "                    }\n",
       "                }\n",
       "            }, 500);\n",
       "            "
      ],
      "text/plain": [
       "<IPython.core.display.Javascript object>"
      ]
     },
     "metadata": {},
     "output_type": "display_data"
    }
   ],
   "source": [
    "diff_cum_returns = strategy_cum_returns - benchmark_cum_returns\n",
    "diff_cum_returns.plot()"
   ]
  },
  {
   "cell_type": "markdown",
   "metadata": {},
   "source": [
    "The annual return and volatility of the strategy and the benchmark:"
   ]
  },
  {
   "cell_type": "code",
   "execution_count": 7,
   "metadata": {},
   "outputs": [
    {
     "data": {
      "text/plain": [
       "1    0.131047\n",
       "dtype: float64"
      ]
     },
     "execution_count": 7,
     "metadata": {},
     "output_type": "execute_result"
    },
    {
     "data": {
      "application/javascript": [
       "\n",
       "            setTimeout(function() {\n",
       "                var nbb_cell_id = 7;\n",
       "                var nbb_unformatted_code = \"strategy_perc_returns.mean() * 256\";\n",
       "                var nbb_formatted_code = \"strategy_perc_returns.mean() * 256\";\n",
       "                var nbb_cells = Jupyter.notebook.get_cells();\n",
       "                for (var i = 0; i < nbb_cells.length; ++i) {\n",
       "                    if (nbb_cells[i].input_prompt_number == nbb_cell_id) {\n",
       "                        if (nbb_cells[i].get_text() == nbb_unformatted_code) {\n",
       "                             nbb_cells[i].set_text(nbb_formatted_code);\n",
       "                        }\n",
       "                        break;\n",
       "                    }\n",
       "                }\n",
       "            }, 500);\n",
       "            "
      ],
      "text/plain": [
       "<IPython.core.display.Javascript object>"
      ]
     },
     "metadata": {},
     "output_type": "display_data"
    }
   ],
   "source": [
    "strategy_perc_returns.mean() * 256"
   ]
  },
  {
   "cell_type": "code",
   "execution_count": 8,
   "metadata": {},
   "outputs": [
    {
     "data": {
      "text/plain": [
       "1    0.094309\n",
       "dtype: float64"
      ]
     },
     "execution_count": 8,
     "metadata": {},
     "output_type": "execute_result"
    },
    {
     "data": {
      "application/javascript": [
       "\n",
       "            setTimeout(function() {\n",
       "                var nbb_cell_id = 8;\n",
       "                var nbb_unformatted_code = \"benchmark_perc_returns.mean() * 256\";\n",
       "                var nbb_formatted_code = \"benchmark_perc_returns.mean() * 256\";\n",
       "                var nbb_cells = Jupyter.notebook.get_cells();\n",
       "                for (var i = 0; i < nbb_cells.length; ++i) {\n",
       "                    if (nbb_cells[i].input_prompt_number == nbb_cell_id) {\n",
       "                        if (nbb_cells[i].get_text() == nbb_unformatted_code) {\n",
       "                             nbb_cells[i].set_text(nbb_formatted_code);\n",
       "                        }\n",
       "                        break;\n",
       "                    }\n",
       "                }\n",
       "            }, 500);\n",
       "            "
      ],
      "text/plain": [
       "<IPython.core.display.Javascript object>"
      ]
     },
     "metadata": {},
     "output_type": "display_data"
    }
   ],
   "source": [
    "benchmark_perc_returns.mean() * 256"
   ]
  },
  {
   "cell_type": "code",
   "execution_count": 9,
   "metadata": {},
   "outputs": [
    {
     "data": {
      "text/plain": [
       "1    0.202094\n",
       "dtype: float64"
      ]
     },
     "execution_count": 9,
     "metadata": {},
     "output_type": "execute_result"
    },
    {
     "data": {
      "application/javascript": [
       "\n",
       "            setTimeout(function() {\n",
       "                var nbb_cell_id = 9;\n",
       "                var nbb_unformatted_code = \"strategy_perc_returns.std() * 16\";\n",
       "                var nbb_formatted_code = \"strategy_perc_returns.std() * 16\";\n",
       "                var nbb_cells = Jupyter.notebook.get_cells();\n",
       "                for (var i = 0; i < nbb_cells.length; ++i) {\n",
       "                    if (nbb_cells[i].input_prompt_number == nbb_cell_id) {\n",
       "                        if (nbb_cells[i].get_text() == nbb_unformatted_code) {\n",
       "                             nbb_cells[i].set_text(nbb_formatted_code);\n",
       "                        }\n",
       "                        break;\n",
       "                    }\n",
       "                }\n",
       "            }, 500);\n",
       "            "
      ],
      "text/plain": [
       "<IPython.core.display.Javascript object>"
      ]
     },
     "metadata": {},
     "output_type": "display_data"
    }
   ],
   "source": [
    "strategy_perc_returns.std() * 16"
   ]
  },
  {
   "cell_type": "code",
   "execution_count": 10,
   "metadata": {},
   "outputs": [
    {
     "data": {
      "text/plain": [
       "1    0.192621\n",
       "dtype: float64"
      ]
     },
     "execution_count": 10,
     "metadata": {},
     "output_type": "execute_result"
    },
    {
     "data": {
      "application/javascript": [
       "\n",
       "            setTimeout(function() {\n",
       "                var nbb_cell_id = 10;\n",
       "                var nbb_unformatted_code = \"benchmark_perc_returns.std() * 16\";\n",
       "                var nbb_formatted_code = \"benchmark_perc_returns.std() * 16\";\n",
       "                var nbb_cells = Jupyter.notebook.get_cells();\n",
       "                for (var i = 0; i < nbb_cells.length; ++i) {\n",
       "                    if (nbb_cells[i].input_prompt_number == nbb_cell_id) {\n",
       "                        if (nbb_cells[i].get_text() == nbb_unformatted_code) {\n",
       "                             nbb_cells[i].set_text(nbb_formatted_code);\n",
       "                        }\n",
       "                        break;\n",
       "                    }\n",
       "                }\n",
       "            }, 500);\n",
       "            "
      ],
      "text/plain": [
       "<IPython.core.display.Javascript object>"
      ]
     },
     "metadata": {},
     "output_type": "display_data"
    }
   ],
   "source": [
    "benchmark_perc_returns.std() * 16"
   ]
  },
  {
   "cell_type": "markdown",
   "metadata": {},
   "source": [
    "In terms of sharpe ratio:"
   ]
  },
  {
   "cell_type": "code",
   "execution_count": 11,
   "metadata": {},
   "outputs": [
    {
     "data": {
      "application/javascript": [
       "\n",
       "            setTimeout(function() {\n",
       "                var nbb_cell_id = 11;\n",
       "                var nbb_unformatted_code = \"def simple_sharpe_ratio(perc_returns):\\n    return (perc_returns.mean() * 256) / (perc_returns.std() * 16)\";\n",
       "                var nbb_formatted_code = \"def simple_sharpe_ratio(perc_returns):\\n    return (perc_returns.mean() * 256) / (perc_returns.std() * 16)\";\n",
       "                var nbb_cells = Jupyter.notebook.get_cells();\n",
       "                for (var i = 0; i < nbb_cells.length; ++i) {\n",
       "                    if (nbb_cells[i].input_prompt_number == nbb_cell_id) {\n",
       "                        if (nbb_cells[i].get_text() == nbb_unformatted_code) {\n",
       "                             nbb_cells[i].set_text(nbb_formatted_code);\n",
       "                        }\n",
       "                        break;\n",
       "                    }\n",
       "                }\n",
       "            }, 500);\n",
       "            "
      ],
      "text/plain": [
       "<IPython.core.display.Javascript object>"
      ]
     },
     "metadata": {},
     "output_type": "display_data"
    }
   ],
   "source": [
    "def simple_sharpe_ratio(perc_returns):\n",
    "    return (perc_returns.mean() * 256) / (perc_returns.std() * 16)"
   ]
  },
  {
   "cell_type": "code",
   "execution_count": 12,
   "metadata": {},
   "outputs": [
    {
     "data": {
      "text/plain": [
       "1    0.648444\n",
       "dtype: float64"
      ]
     },
     "execution_count": 12,
     "metadata": {},
     "output_type": "execute_result"
    },
    {
     "data": {
      "application/javascript": [
       "\n",
       "            setTimeout(function() {\n",
       "                var nbb_cell_id = 12;\n",
       "                var nbb_unformatted_code = \"simple_sharpe_ratio(strategy_perc_returns)\";\n",
       "                var nbb_formatted_code = \"simple_sharpe_ratio(strategy_perc_returns)\";\n",
       "                var nbb_cells = Jupyter.notebook.get_cells();\n",
       "                for (var i = 0; i < nbb_cells.length; ++i) {\n",
       "                    if (nbb_cells[i].input_prompt_number == nbb_cell_id) {\n",
       "                        if (nbb_cells[i].get_text() == nbb_unformatted_code) {\n",
       "                             nbb_cells[i].set_text(nbb_formatted_code);\n",
       "                        }\n",
       "                        break;\n",
       "                    }\n",
       "                }\n",
       "            }, 500);\n",
       "            "
      ],
      "text/plain": [
       "<IPython.core.display.Javascript object>"
      ]
     },
     "metadata": {},
     "output_type": "display_data"
    }
   ],
   "source": [
    "simple_sharpe_ratio(strategy_perc_returns)"
   ]
  },
  {
   "cell_type": "code",
   "execution_count": 13,
   "metadata": {},
   "outputs": [
    {
     "data": {
      "text/plain": [
       "1    0.489609\n",
       "dtype: float64"
      ]
     },
     "execution_count": 13,
     "metadata": {},
     "output_type": "execute_result"
    },
    {
     "data": {
      "application/javascript": [
       "\n",
       "            setTimeout(function() {\n",
       "                var nbb_cell_id = 13;\n",
       "                var nbb_unformatted_code = \"simple_sharpe_ratio(benchmark_perc_returns)\";\n",
       "                var nbb_formatted_code = \"simple_sharpe_ratio(benchmark_perc_returns)\";\n",
       "                var nbb_cells = Jupyter.notebook.get_cells();\n",
       "                for (var i = 0; i < nbb_cells.length; ++i) {\n",
       "                    if (nbb_cells[i].input_prompt_number == nbb_cell_id) {\n",
       "                        if (nbb_cells[i].get_text() == nbb_unformatted_code) {\n",
       "                             nbb_cells[i].set_text(nbb_formatted_code);\n",
       "                        }\n",
       "                        break;\n",
       "                    }\n",
       "                }\n",
       "            }, 500);\n",
       "            "
      ],
      "text/plain": [
       "<IPython.core.display.Javascript object>"
      ]
     },
     "metadata": {},
     "output_type": "display_data"
    }
   ],
   "source": [
    "simple_sharpe_ratio(benchmark_perc_returns)"
   ]
  },
  {
   "cell_type": "markdown",
   "metadata": {},
   "source": [
    "Another way to compute the risk adjusted returns:"
   ]
  },
  {
   "cell_type": "code",
   "execution_count": 14,
   "metadata": {},
   "outputs": [
    {
     "data": {
      "text/plain": [
       "1    0.032879\n",
       "dtype: float64"
      ]
     },
     "execution_count": 14,
     "metadata": {},
     "output_type": "execute_result"
    },
    {
     "data": {
      "application/javascript": [
       "\n",
       "            setTimeout(function() {\n",
       "                var nbb_cell_id = 14;\n",
       "                var nbb_unformatted_code = \"adjusted_benchmark_perc_returns = (\\n    benchmark_perc_returns * strategy_perc_returns.std() / benchmark_perc_returns.std()\\n)\\n\\nadjusted_benchmark_cum_returns = adjusted_benchmark_perc_returns.cumsum()\\n\\ndiff_cum_returns = strategy_cum_returns - adjusted_benchmark_cum_returns\\ndiff_returns = diff_cum_returns.diff()\\ndiff_returns.mean() * 256\";\n",
       "                var nbb_formatted_code = \"adjusted_benchmark_perc_returns = (\\n    benchmark_perc_returns * strategy_perc_returns.std() / benchmark_perc_returns.std()\\n)\\n\\nadjusted_benchmark_cum_returns = adjusted_benchmark_perc_returns.cumsum()\\n\\ndiff_cum_returns = strategy_cum_returns - adjusted_benchmark_cum_returns\\ndiff_returns = diff_cum_returns.diff()\\ndiff_returns.mean() * 256\";\n",
       "                var nbb_cells = Jupyter.notebook.get_cells();\n",
       "                for (var i = 0; i < nbb_cells.length; ++i) {\n",
       "                    if (nbb_cells[i].input_prompt_number == nbb_cell_id) {\n",
       "                        if (nbb_cells[i].get_text() == nbb_unformatted_code) {\n",
       "                             nbb_cells[i].set_text(nbb_formatted_code);\n",
       "                        }\n",
       "                        break;\n",
       "                    }\n",
       "                }\n",
       "            }, 500);\n",
       "            "
      ],
      "text/plain": [
       "<IPython.core.display.Javascript object>"
      ]
     },
     "metadata": {},
     "output_type": "display_data"
    }
   ],
   "source": [
    "adjusted_benchmark_perc_returns = (\n",
    "    benchmark_perc_returns * strategy_perc_returns.std() / benchmark_perc_returns.std()\n",
    ")\n",
    "\n",
    "adjusted_benchmark_cum_returns = adjusted_benchmark_perc_returns.cumsum()\n",
    "\n",
    "diff_cum_returns = strategy_cum_returns - adjusted_benchmark_cum_returns\n",
    "diff_returns = diff_cum_returns.diff()\n",
    "diff_returns.mean() * 256"
   ]
  },
  {
   "cell_type": "markdown",
   "metadata": {},
   "source": [
    "T-test to test for significance:"
   ]
  },
  {
   "cell_type": "code",
   "execution_count": 15,
   "metadata": {},
   "outputs": [
    {
     "data": {
      "text/plain": [
       "Ttest_relResult(statistic=masked_array(data=[0.9370850692506711],\n",
       "             mask=[False],\n",
       "       fill_value=1e+20), pvalue=masked_array(data=0.34875569,\n",
       "             mask=False,\n",
       "       fill_value=1e+20))"
      ]
     },
     "execution_count": 15,
     "metadata": {},
     "output_type": "execute_result"
    },
    {
     "data": {
      "application/javascript": [
       "\n",
       "            setTimeout(function() {\n",
       "                var nbb_cell_id = 15;\n",
       "                var nbb_unformatted_code = \"from scipy.stats import ttest_rel\\n\\nttest_rel(strategy_perc_returns, adjusted_benchmark_perc_returns, nan_policy=\\\"omit\\\")\";\n",
       "                var nbb_formatted_code = \"from scipy.stats import ttest_rel\\n\\nttest_rel(strategy_perc_returns, adjusted_benchmark_perc_returns, nan_policy=\\\"omit\\\")\";\n",
       "                var nbb_cells = Jupyter.notebook.get_cells();\n",
       "                for (var i = 0; i < nbb_cells.length; ++i) {\n",
       "                    if (nbb_cells[i].input_prompt_number == nbb_cell_id) {\n",
       "                        if (nbb_cells[i].get_text() == nbb_unformatted_code) {\n",
       "                             nbb_cells[i].set_text(nbb_formatted_code);\n",
       "                        }\n",
       "                        break;\n",
       "                    }\n",
       "                }\n",
       "            }, 500);\n",
       "            "
      ],
      "text/plain": [
       "<IPython.core.display.Javascript object>"
      ]
     },
     "metadata": {},
     "output_type": "display_data"
    }
   ],
   "source": [
    "from scipy.stats import ttest_rel\n",
    "\n",
    "ttest_rel(strategy_perc_returns, adjusted_benchmark_perc_returns, nan_policy=\"omit\")"
   ]
  },
  {
   "cell_type": "markdown",
   "metadata": {},
   "source": [
    "A non-parametric way to do the t-test:"
   ]
  },
  {
   "cell_type": "code",
   "execution_count": 16,
   "metadata": {},
   "outputs": [
    {
     "data": {
      "text/plain": [
       "<AxesSubplot:ylabel='Frequency'>"
      ]
     },
     "execution_count": 16,
     "metadata": {},
     "output_type": "execute_result"
    },
    {
     "data": {
      "image/png": "[encoded data removed]",
      "text/plain": [
       "<Figure size 432x288 with 1 Axes>"
      ]
     },
     "metadata": {
      "needs_background": "light"
     },
     "output_type": "display_data"
    },
    {
     "data": {
      "application/javascript": [
       "\n",
       "            setTimeout(function() {\n",
       "                var nbb_cell_id = 16;\n",
       "                var nbb_unformatted_code = \"monte_carlo_runs = 5000  # make this larger if your computer can cope\\nlength_returns = len(diff_returns.index)\\nbootstraps = [\\n    [\\n        int(np.random.uniform(high=length_returns))\\n        for _not_used1 in range(length_returns)\\n    ]\\n    for _not_used2 in range(monte_carlo_runs)\\n]\\n\\n\\ndef average_given_bootstrap(one_bootstrap, diff_returns):\\n    subset_returns = diff_returns.iloc[one_bootstrap]\\n    average_for_bootstrap = np.float(subset_returns.mean() * 256)\\n    return average_for_bootstrap\\n\\n\\nbootstrapped_return_differences = [\\n    average_given_bootstrap(one_bootstrap, diff_returns) for one_bootstrap in bootstraps\\n]\\n\\nbootstrapped_return_differences = pd.Series(bootstrapped_return_differences)\\n\\nbootstrapped_return_differences.plot.hist(bins=50)\";\n",
       "                var nbb_formatted_code = \"monte_carlo_runs = 5000  # make this larger if your computer can cope\\nlength_returns = len(diff_returns.index)\\nbootstraps = [\\n    [\\n        int(np.random.uniform(high=length_returns))\\n        for _not_used1 in range(length_returns)\\n    ]\\n    for _not_used2 in range(monte_carlo_runs)\\n]\\n\\n\\ndef average_given_bootstrap(one_bootstrap, diff_returns):\\n    subset_returns = diff_returns.iloc[one_bootstrap]\\n    average_for_bootstrap = np.float(subset_returns.mean() * 256)\\n    return average_for_bootstrap\\n\\n\\nbootstrapped_return_differences = [\\n    average_given_bootstrap(one_bootstrap, diff_returns) for one_bootstrap in bootstraps\\n]\\n\\nbootstrapped_return_differences = pd.Series(bootstrapped_return_differences)\\n\\nbootstrapped_return_differences.plot.hist(bins=50)\";\n",
       "                var nbb_cells = Jupyter.notebook.get_cells();\n",
       "                for (var i = 0; i < nbb_cells.length; ++i) {\n",
       "                    if (nbb_cells[i].input_prompt_number == nbb_cell_id) {\n",
       "                        if (nbb_cells[i].get_text() == nbb_unformatted_code) {\n",
       "                             nbb_cells[i].set_text(nbb_formatted_code);\n",
       "                        }\n",
       "                        break;\n",
       "                    }\n",
       "                }\n",
       "            }, 500);\n",
       "            "
      ],
      "text/plain": [
       "<IPython.core.display.Javascript object>"
      ]
     },
     "metadata": {},
     "output_type": "display_data"
    }
   ],
   "source": [
    "monte_carlo_runs = 5000  # make this larger if your computer can cope\n",
    "length_returns = len(diff_returns.index)\n",
    "bootstraps = [\n",
    "    [\n",
    "        int(np.random.uniform(high=length_returns))\n",
    "        for _not_used1 in range(length_returns)\n",
    "    ]\n",
    "    for _not_used2 in range(monte_carlo_runs)\n",
    "]\n",
    "\n",
    "\n",
    "def average_given_bootstrap(one_bootstrap, diff_returns):\n",
    "    subset_returns = diff_returns.iloc[one_bootstrap]\n",
    "    average_for_bootstrap = np.float(subset_returns.mean() * 256)\n",
    "    return average_for_bootstrap\n",
    "\n",
    "\n",
    "bootstrapped_return_differences = [\n",
    "    average_given_bootstrap(one_bootstrap, diff_returns) for one_bootstrap in bootstraps\n",
    "]\n",
    "\n",
    "bootstrapped_return_differences = pd.Series(bootstrapped_return_differences)\n",
    "\n",
    "bootstrapped_return_differences.plot.hist(bins=50)"
   ]
  },
  {
   "cell_type": "code",
   "execution_count": 17,
   "metadata": {},
   "outputs": [
    {
     "data": {
      "text/plain": [
       "0.1642"
      ]
     },
     "execution_count": 17,
     "metadata": {},
     "output_type": "execute_result"
    },
    {
     "data": {
      "application/javascript": [
       "\n",
       "            setTimeout(function() {\n",
       "                var nbb_cell_id = 17;\n",
       "                var nbb_unformatted_code = \"sum(bootstrapped_return_differences < 0) / float(len(bootstrapped_return_differences))\";\n",
       "                var nbb_formatted_code = \"sum(bootstrapped_return_differences < 0) / float(len(bootstrapped_return_differences))\";\n",
       "                var nbb_cells = Jupyter.notebook.get_cells();\n",
       "                for (var i = 0; i < nbb_cells.length; ++i) {\n",
       "                    if (nbb_cells[i].input_prompt_number == nbb_cell_id) {\n",
       "                        if (nbb_cells[i].get_text() == nbb_unformatted_code) {\n",
       "                             nbb_cells[i].set_text(nbb_formatted_code);\n",
       "                        }\n",
       "                        break;\n",
       "                    }\n",
       "                }\n",
       "            }, 500);\n",
       "            "
      ],
      "text/plain": [
       "<IPython.core.display.Javascript object>"
      ]
     },
     "metadata": {},
     "output_type": "display_data"
    }
   ],
   "source": [
    "sum(bootstrapped_return_differences < 0) / float(len(bootstrapped_return_differences))"
   ]
  },
  {
   "cell_type": "code",
   "execution_count": 18,
   "metadata": {},
   "outputs": [
    {
     "data": {
      "text/plain": [
       "<AxesSubplot:xlabel='benchmark', ylabel='strategy'>"
      ]
     },
     "execution_count": 18,
     "metadata": {},
     "output_type": "execute_result"
    },
    {
     "data": {
      "image/png": "[encoded data removed]",
      "text/plain": [
       "<Figure size 432x288 with 1 Axes>"
      ]
     },
     "metadata": {
      "needs_background": "light"
     },
     "output_type": "display_data"
    },
    {
     "data": {
      "application/javascript": [
       "\n",
       "            setTimeout(function() {\n",
       "                var nbb_cell_id = 18;\n",
       "                var nbb_unformatted_code = \"both_returns = pd.concat([strategy_perc_returns, benchmark_perc_returns], axis=1)\\nboth_returns.columns = ['strategy', 'benchmark']\\n\\n\\nboth_returns.plot.scatter(x=\\\"benchmark\\\", y=\\\"strategy\\\")\";\n",
       "                var nbb_formatted_code = \"both_returns = pd.concat([strategy_perc_returns, benchmark_perc_returns], axis=1)\\nboth_returns.columns = [\\\"strategy\\\", \\\"benchmark\\\"]\\n\\n\\nboth_returns.plot.scatter(x=\\\"benchmark\\\", y=\\\"strategy\\\")\";\n",
       "                var nbb_cells = Jupyter.notebook.get_cells();\n",
       "                for (var i = 0; i < nbb_cells.length; ++i) {\n",
       "                    if (nbb_cells[i].input_prompt_number == nbb_cell_id) {\n",
       "                        if (nbb_cells[i].get_text() == nbb_unformatted_code) {\n",
       "                             nbb_cells[i].set_text(nbb_formatted_code);\n",
       "                        }\n",
       "                        break;\n",
       "                    }\n",
       "                }\n",
       "            }, 500);\n",
       "            "
      ],
      "text/plain": [
       "<IPython.core.display.Javascript object>"
      ]
     },
     "metadata": {},
     "output_type": "display_data"
    }
   ],
   "source": [
    "both_returns = pd.concat([strategy_perc_returns, benchmark_perc_returns], axis=1)\n",
    "both_returns.columns = ['strategy', 'benchmark']\n",
    "\n",
    "\n",
    "both_returns.plot.scatter(x=\"benchmark\", y=\"strategy\")\n"
   ]
  },
  {
   "cell_type": "code",
   "execution_count": 19,
   "metadata": {},
   "outputs": [
    {
     "data": {
      "text/plain": [
       "Intercept    0.000245\n",
       "benchmark    0.723262\n",
       "dtype: float64"
      ]
     },
     "execution_count": 19,
     "metadata": {},
     "output_type": "execute_result"
    },
    {
     "data": {
      "application/javascript": [
       "\n",
       "            setTimeout(function() {\n",
       "                var nbb_cell_id = 19;\n",
       "                var nbb_unformatted_code = \"lm = smf.ols(formula=\\\"strategy ~ benchmark\\\", data=both_returns).fit()\\nlm.params\";\n",
       "                var nbb_formatted_code = \"lm = smf.ols(formula=\\\"strategy ~ benchmark\\\", data=both_returns).fit()\\nlm.params\";\n",
       "                var nbb_cells = Jupyter.notebook.get_cells();\n",
       "                for (var i = 0; i < nbb_cells.length; ++i) {\n",
       "                    if (nbb_cells[i].input_prompt_number == nbb_cell_id) {\n",
       "                        if (nbb_cells[i].get_text() == nbb_unformatted_code) {\n",
       "                             nbb_cells[i].set_text(nbb_formatted_code);\n",
       "                        }\n",
       "                        break;\n",
       "                    }\n",
       "                }\n",
       "            }, 500);\n",
       "            "
      ],
      "text/plain": [
       "<IPython.core.display.Javascript object>"
      ]
     },
     "metadata": {},
     "output_type": "display_data"
    }
   ],
   "source": [
    "lm = smf.ols(formula=\"strategy ~ benchmark\", data=both_returns).fit()\n",
    "lm.params"
   ]
  },
  {
   "cell_type": "markdown",
   "metadata": {},
   "source": [
    "Intercept is $\\alpha$ and benchmark is $\\beta$ (in daily terms, to annualize, multiply by 256)."
   ]
  },
  {
   "cell_type": "code",
   "execution_count": 20,
   "metadata": {},
   "outputs": [
    {
     "data": {
      "text/html": [
       "<table class=\"simpletable\">\n",
       "<caption>OLS Regression Results</caption>\n",
       "<tr>\n",
       "  <th>Dep. Variable:</th>        <td>strategy</td>     <th>  R-squared:         </th>  <td>   0.475</td> \n",
       "</tr>\n",
       "<tr>\n",
       "  <th>Model:</th>                   <td>OLS</td>       <th>  Adj. R-squared:    </th>  <td>   0.475</td> \n",
       "</tr>\n",
       "<tr>\n",
       "  <th>Method:</th>             <td>Least Squares</td>  <th>  F-statistic:       </th>  <td>   5011.</td> \n",
       "</tr>\n",
       "<tr>\n",
       "  <th>Date:</th>             <td>Sun, 15 Nov 2020</td> <th>  Prob (F-statistic):</th>   <td>  0.00</td>  \n",
       "</tr>\n",
       "<tr>\n",
       "  <th>Time:</th>                 <td>09:15:51</td>     <th>  Log-Likelihood:    </th>  <td>  18131.</td> \n",
       "</tr>\n",
       "<tr>\n",
       "  <th>No. Observations:</th>      <td>  5536</td>      <th>  AIC:               </th> <td>-3.626e+04</td>\n",
       "</tr>\n",
       "<tr>\n",
       "  <th>Df Residuals:</th>          <td>  5534</td>      <th>  BIC:               </th> <td>-3.625e+04</td>\n",
       "</tr>\n",
       "<tr>\n",
       "  <th>Df Model:</th>              <td>     1</td>      <th>                     </th>      <td> </td>    \n",
       "</tr>\n",
       "<tr>\n",
       "  <th>Covariance Type:</th>      <td>nonrobust</td>    <th>                     </th>      <td> </td>    \n",
       "</tr>\n",
       "</table>\n",
       "<table class=\"simpletable\">\n",
       "<tr>\n",
       "      <td></td>         <th>coef</th>     <th>std err</th>      <th>t</th>      <th>P>|t|</th>  <th>[0.025</th>    <th>0.975]</th>  \n",
       "</tr>\n",
       "<tr>\n",
       "  <th>Intercept</th> <td>    0.0002</td> <td>    0.000</td> <td>    1.995</td> <td> 0.046</td> <td> 4.24e-06</td> <td>    0.000</td>\n",
       "</tr>\n",
       "<tr>\n",
       "  <th>benchmark</th> <td>    0.7233</td> <td>    0.010</td> <td>   70.790</td> <td> 0.000</td> <td>    0.703</td> <td>    0.743</td>\n",
       "</tr>\n",
       "</table>\n",
       "<table class=\"simpletable\">\n",
       "<tr>\n",
       "  <th>Omnibus:</th>       <td>868.248</td> <th>  Durbin-Watson:     </th> <td>   1.930</td> \n",
       "</tr>\n",
       "<tr>\n",
       "  <th>Prob(Omnibus):</th> <td> 0.000</td>  <th>  Jarque-Bera (JB):  </th> <td>14221.552</td>\n",
       "</tr>\n",
       "<tr>\n",
       "  <th>Skew:</th>          <td>-0.172</td>  <th>  Prob(JB):          </th> <td>    0.00</td> \n",
       "</tr>\n",
       "<tr>\n",
       "  <th>Kurtosis:</th>      <td>10.845</td>  <th>  Cond. No.          </th> <td>    83.1</td> \n",
       "</tr>\n",
       "</table><br/><br/>Notes:<br/>[1] Standard Errors assume that the covariance matrix of the errors is correctly specified."
      ],
      "text/plain": [
       "<class 'statsmodels.iolib.summary.Summary'>\n",
       "\"\"\"\n",
       "                            OLS Regression Results                            \n",
       "==============================================================================\n",
       "Dep. Variable:               strategy   R-squared:                       0.475\n",
       "Model:                            OLS   Adj. R-squared:                  0.475\n",
       "Method:                 Least Squares   F-statistic:                     5011.\n",
       "Date:                Sun, 15 Nov 2020   Prob (F-statistic):               0.00\n",
       "Time:                        09:15:51   Log-Likelihood:                 18131.\n",
       "No. Observations:                5536   AIC:                        -3.626e+04\n",
       "Df Residuals:                    5534   BIC:                        -3.625e+04\n",
       "Df Model:                           1                                         \n",
       "Covariance Type:            nonrobust                                         \n",
       "==============================================================================\n",
       "                 coef    std err          t      P>|t|      [0.025      0.975]\n",
       "------------------------------------------------------------------------------\n",
       "Intercept      0.0002      0.000      1.995      0.046    4.24e-06       0.000\n",
       "benchmark      0.7233      0.010     70.790      0.000       0.703       0.743\n",
       "==============================================================================\n",
       "Omnibus:                      868.248   Durbin-Watson:                   1.930\n",
       "Prob(Omnibus):                  0.000   Jarque-Bera (JB):            14221.552\n",
       "Skew:                          -0.172   Prob(JB):                         0.00\n",
       "Kurtosis:                      10.845   Cond. No.                         83.1\n",
       "==============================================================================\n",
       "\n",
       "Notes:\n",
       "[1] Standard Errors assume that the covariance matrix of the errors is correctly specified.\n",
       "\"\"\""
      ]
     },
     "execution_count": 20,
     "metadata": {},
     "output_type": "execute_result"
    },
    {
     "data": {
      "application/javascript": [
       "\n",
       "            setTimeout(function() {\n",
       "                var nbb_cell_id = 20;\n",
       "                var nbb_unformatted_code = \"lm.summary()\";\n",
       "                var nbb_formatted_code = \"lm.summary()\";\n",
       "                var nbb_cells = Jupyter.notebook.get_cells();\n",
       "                for (var i = 0; i < nbb_cells.length; ++i) {\n",
       "                    if (nbb_cells[i].input_prompt_number == nbb_cell_id) {\n",
       "                        if (nbb_cells[i].get_text() == nbb_unformatted_code) {\n",
       "                             nbb_cells[i].set_text(nbb_formatted_code);\n",
       "                        }\n",
       "                        break;\n",
       "                    }\n",
       "                }\n",
       "            }, 500);\n",
       "            "
      ],
      "text/plain": [
       "<IPython.core.display.Javascript object>"
      ]
     },
     "metadata": {},
     "output_type": "display_data"
    }
   ],
   "source": [
    "lm.summary()"
   ]
  },
  {
   "cell_type": "markdown",
   "metadata": {},
   "source": [
    "Is the flat relative performance of the strategy after 2005 significant?"
   ]
  },
  {
   "cell_type": "code",
   "execution_count": 21,
   "metadata": {},
   "outputs": [
    {
     "data": {
      "text/plain": [
       "Ttest_indResult(statistic=masked_array(data=[1.7622089240138004],\n",
       "             mask=[False],\n",
       "       fill_value=1e+20), pvalue=masked_array(data=0.07808921,\n",
       "             mask=False,\n",
       "       fill_value=1e+20))"
      ]
     },
     "execution_count": 21,
     "metadata": {},
     "output_type": "execute_result"
    },
    {
     "data": {
      "application/javascript": [
       "\n",
       "            setTimeout(function() {\n",
       "                var nbb_cell_id = 21;\n",
       "                var nbb_unformatted_code = \"split_date = pd.datetime(2006, 1, 1)\\nttest_ind(\\n    diff_returns[diff_returns.index < split_date],\\n    diff_returns[diff_returns.index >= split_date],\\n    nan_policy=\\\"omit\\\",\\n)\";\n",
       "                var nbb_formatted_code = \"split_date = pd.datetime(2006, 1, 1)\\nttest_ind(\\n    diff_returns[diff_returns.index < split_date],\\n    diff_returns[diff_returns.index >= split_date],\\n    nan_policy=\\\"omit\\\",\\n)\";\n",
       "                var nbb_cells = Jupyter.notebook.get_cells();\n",
       "                for (var i = 0; i < nbb_cells.length; ++i) {\n",
       "                    if (nbb_cells[i].input_prompt_number == nbb_cell_id) {\n",
       "                        if (nbb_cells[i].get_text() == nbb_unformatted_code) {\n",
       "                             nbb_cells[i].set_text(nbb_formatted_code);\n",
       "                        }\n",
       "                        break;\n",
       "                    }\n",
       "                }\n",
       "            }, 500);\n",
       "            "
      ],
      "text/plain": [
       "<IPython.core.display.Javascript object>"
      ]
     },
     "metadata": {},
     "output_type": "display_data"
    }
   ],
   "source": [
    "split_date = pd.datetime(2006, 1, 1)\n",
    "ttest_ind(\n",
    "    diff_returns[diff_returns.index < split_date],\n",
    "    diff_returns[diff_returns.index >= split_date],\n",
    "    nan_policy=\"omit\",\n",
    ")"
   ]
  },
  {
   "cell_type": "markdown",
   "metadata": {},
   "source": [
    "If we allocate 100% of our capital to the strategy until January 2006 (since the strategy is much better), and thereafter put 50% in each of the strategy and the benchmark (since they seem to do equally well after that):"
   ]
  },
  {
   "cell_type": "code",
   "execution_count": 22,
   "metadata": {},
   "outputs": [
    {
     "data": {
      "application/javascript": [
       "\n",
       "            setTimeout(function() {\n",
       "                var nbb_cell_id = 22;\n",
       "                var nbb_unformatted_code = \"strategy_weight = pd.Series([0.0]*len(strategy_perc_returns), index=strategy_perc_returns.index)\\nbenchmark_weight = pd.Series([0.0]*len(benchmark_perc_returns), index=benchmark_perc_returns.index)\\n\\nstrategy_weight[strategy_weight.index<split_date] = 1.0\\nbenchmark_weight[benchmark_weight.index<split_date]=0.0\\n\\nstrategy_weight[strategy_weight.index>=split_date] = 0.5\\nbenchmark_weight[benchmark_weight.index>=split_date]=0.5\\n\\nboth_weights = pd.concat([strategy_weight,benchmark_weight], axis=1)\\nboth_returns = pd.concat([strategy_perc_returns, benchmark_perc_returns], axis=1)\\nboth_weights.columns = both_returns.columns = ['strategy', 'benchmark']\\n\\nimplicit_fit_returns = both_weights*both_returns\\nimplicit_fit_returns = implicit_fit_returns.sum(axis=1)\";\n",
       "                var nbb_formatted_code = \"strategy_weight = pd.Series(\\n    [0.0] * len(strategy_perc_returns), index=strategy_perc_returns.index\\n)\\nbenchmark_weight = pd.Series(\\n    [0.0] * len(benchmark_perc_returns), index=benchmark_perc_returns.index\\n)\\n\\nstrategy_weight[strategy_weight.index < split_date] = 1.0\\nbenchmark_weight[benchmark_weight.index < split_date] = 0.0\\n\\nstrategy_weight[strategy_weight.index >= split_date] = 0.5\\nbenchmark_weight[benchmark_weight.index >= split_date] = 0.5\\n\\nboth_weights = pd.concat([strategy_weight, benchmark_weight], axis=1)\\nboth_returns = pd.concat([strategy_perc_returns, benchmark_perc_returns], axis=1)\\nboth_weights.columns = both_returns.columns = [\\\"strategy\\\", \\\"benchmark\\\"]\\n\\nimplicit_fit_returns = both_weights * both_returns\\nimplicit_fit_returns = implicit_fit_returns.sum(axis=1)\";\n",
       "                var nbb_cells = Jupyter.notebook.get_cells();\n",
       "                for (var i = 0; i < nbb_cells.length; ++i) {\n",
       "                    if (nbb_cells[i].input_prompt_number == nbb_cell_id) {\n",
       "                        if (nbb_cells[i].get_text() == nbb_unformatted_code) {\n",
       "                             nbb_cells[i].set_text(nbb_formatted_code);\n",
       "                        }\n",
       "                        break;\n",
       "                    }\n",
       "                }\n",
       "            }, 500);\n",
       "            "
      ],
      "text/plain": [
       "<IPython.core.display.Javascript object>"
      ]
     },
     "metadata": {},
     "output_type": "display_data"
    }
   ],
   "source": [
    "strategy_weight = pd.Series(\n",
    "    [0.0] * len(strategy_perc_returns), index=strategy_perc_returns.index\n",
    ")\n",
    "benchmark_weight = pd.Series(\n",
    "    [0.0] * len(benchmark_perc_returns), index=benchmark_perc_returns.index\n",
    ")\n",
    "\n",
    "strategy_weight[strategy_weight.index < split_date] = 1.0\n",
    "benchmark_weight[benchmark_weight.index < split_date] = 0.0\n",
    "\n",
    "strategy_weight[strategy_weight.index >= split_date] = 0.5\n",
    "benchmark_weight[benchmark_weight.index >= split_date] = 0.5\n",
    "\n",
    "both_weights = pd.concat([strategy_weight, benchmark_weight], axis=1)\n",
    "both_returns = pd.concat([strategy_perc_returns, benchmark_perc_returns], axis=1)\n",
    "both_weights.columns = both_returns.columns = [\"strategy\", \"benchmark\"]\n",
    "\n",
    "implicit_fit_returns = both_weights * both_returns\n",
    "implicit_fit_returns = implicit_fit_returns.sum(axis=1)"
   ]
  },
  {
   "cell_type": "markdown",
   "metadata": {},
   "source": [
    "If we allocate based on 5 year returns:"
   ]
  },
  {
   "cell_type": "code",
   "execution_count": 23,
   "metadata": {},
   "outputs": [
    {
     "name": "stderr",
     "output_type": "stream",
     "text": [
      "/usr/local/lib/python3.6/site-packages/ipykernel_launcher.py:1: FutureWarning: pd.ewm_mean is deprecated for DataFrame and will be removed in a future version, replace with \n",
      "\tDataFrame.ewm(halflife=640.0,min_periods=0,adjust=True,ignore_na=False).mean()\n",
      "  \"\"\"Entry point for launching an IPython kernel.\n",
      "/usr/local/lib/python3.6/site-packages/pandas/plotting/_compat.py:57: MatplotlibDeprecationWarning: \n",
      "The compare_versions function was deprecated in Matplotlib 3.2 and will be removed two minor releases later.\n",
      "  return matplotlib.compare_versions('2.0.0', matplotlib.__version__)\n"
     ]
    },
    {
     "data": {
      "text/plain": [
       "<AxesSubplot:xlabel='0'>"
      ]
     },
     "execution_count": 23,
     "metadata": {},
     "output_type": "execute_result"
    },
    {
     "data": {
      "image/png": "[encoded data removed]",
      "text/plain": [
       "<Figure size 432x288 with 1 Axes>"
      ]
     },
     "metadata": {
      "needs_background": "light"
     },
     "output_type": "display_data"
    },
    {
     "data": {
      "application/javascript": [
       "\n",
       "            setTimeout(function() {\n",
       "                var nbb_cell_id = 23;\n",
       "                var nbb_unformatted_code = \"rolling_means = pd.ewma(both_returns, halflife=2.5 * 256)\\nrolling_means = rolling_means + (0.16 / 256)\\nrolling_means[rolling_means < 0] = 0.000001\\ntotal_mean_to_normalise = rolling_means.sum(axis=1)\\ntotal_mean_to_normalise = pd.concat([total_mean_to_normalise] * 2, axis=1)\\ntotal_mean_to_normalise.columns = rolling_means.columns\\nrolling_weights = rolling_means / total_mean_to_normalise\\nrolling_weights.plot()\";\n",
       "                var nbb_formatted_code = \"rolling_means = pd.ewma(both_returns, halflife=2.5 * 256)\\nrolling_means = rolling_means + (0.16 / 256)\\nrolling_means[rolling_means < 0] = 0.000001\\ntotal_mean_to_normalise = rolling_means.sum(axis=1)\\ntotal_mean_to_normalise = pd.concat([total_mean_to_normalise] * 2, axis=1)\\ntotal_mean_to_normalise.columns = rolling_means.columns\\nrolling_weights = rolling_means / total_mean_to_normalise\\nrolling_weights.plot()\";\n",
       "                var nbb_cells = Jupyter.notebook.get_cells();\n",
       "                for (var i = 0; i < nbb_cells.length; ++i) {\n",
       "                    if (nbb_cells[i].input_prompt_number == nbb_cell_id) {\n",
       "                        if (nbb_cells[i].get_text() == nbb_unformatted_code) {\n",
       "                             nbb_cells[i].set_text(nbb_formatted_code);\n",
       "                        }\n",
       "                        break;\n",
       "                    }\n",
       "                }\n",
       "            }, 500);\n",
       "            "
      ],
      "text/plain": [
       "<IPython.core.display.Javascript object>"
      ]
     },
     "metadata": {},
     "output_type": "display_data"
    }
   ],
   "source": [
    "rolling_means = pd.ewma(both_returns, halflife=2.5 * 256)\n",
    "rolling_means = rolling_means + (0.16 / 256)\n",
    "rolling_means[rolling_means < 0] = 0.000001\n",
    "total_mean_to_normalise = rolling_means.sum(axis=1)\n",
    "total_mean_to_normalise = pd.concat([total_mean_to_normalise] * 2, axis=1)\n",
    "total_mean_to_normalise.columns = rolling_means.columns\n",
    "rolling_weights = rolling_means / total_mean_to_normalise\n",
    "rolling_weights.plot()"
   ]
  },
  {
   "cell_type": "markdown",
   "metadata": {},
   "source": [
    "Compare the two allocation approaches:"
   ]
  },
  {
   "cell_type": "code",
   "execution_count": 24,
   "metadata": {},
   "outputs": [
    {
     "name": "stderr",
     "output_type": "stream",
     "text": [
      "/usr/local/lib/python3.6/site-packages/pandas/plotting/_compat.py:57: MatplotlibDeprecationWarning: \n",
      "The compare_versions function was deprecated in Matplotlib 3.2 and will be removed two minor releases later.\n",
      "  return matplotlib.compare_versions('2.0.0', matplotlib.__version__)\n"
     ]
    },
    {
     "data": {
      "text/plain": [
       "<AxesSubplot:xlabel='0'>"
      ]
     },
     "execution_count": 24,
     "metadata": {},
     "output_type": "execute_result"
    },
    {
     "data": {
      "image/png": "[encoded data removed]",
      "text/plain": [
       "<Figure size 432x288 with 1 Axes>"
      ]
     },
     "metadata": {
      "needs_background": "light"
     },
     "output_type": "display_data"
    },
    {
     "data": {
      "application/javascript": [
       "\n",
       "            setTimeout(function() {\n",
       "                var nbb_cell_id = 24;\n",
       "                var nbb_unformatted_code = \"rolling_fit_returns = rolling_weights*both_returns\\nrolling_fit_returns = rolling_fit_returns.sum(axis=1)\\n\\ncompare_returns = pd.concat([rolling_fit_returns, implicit_fit_returns], axis=1)\\ncompare_returns.columns = ['rolling', 'implicit']\\ncompare_returns.cumsum().plot()\";\n",
       "                var nbb_formatted_code = \"rolling_fit_returns = rolling_weights * both_returns\\nrolling_fit_returns = rolling_fit_returns.sum(axis=1)\\n\\ncompare_returns = pd.concat([rolling_fit_returns, implicit_fit_returns], axis=1)\\ncompare_returns.columns = [\\\"rolling\\\", \\\"implicit\\\"]\\ncompare_returns.cumsum().plot()\";\n",
       "                var nbb_cells = Jupyter.notebook.get_cells();\n",
       "                for (var i = 0; i < nbb_cells.length; ++i) {\n",
       "                    if (nbb_cells[i].input_prompt_number == nbb_cell_id) {\n",
       "                        if (nbb_cells[i].get_text() == nbb_unformatted_code) {\n",
       "                             nbb_cells[i].set_text(nbb_formatted_code);\n",
       "                        }\n",
       "                        break;\n",
       "                    }\n",
       "                }\n",
       "            }, 500);\n",
       "            "
      ],
      "text/plain": [
       "<IPython.core.display.Javascript object>"
      ]
     },
     "metadata": {},
     "output_type": "display_data"
    }
   ],
   "source": [
    "rolling_fit_returns = rolling_weights*both_returns\n",
    "rolling_fit_returns = rolling_fit_returns.sum(axis=1)\n",
    "\n",
    "compare_returns = pd.concat([rolling_fit_returns, implicit_fit_returns], axis=1)\n",
    "compare_returns.columns = ['rolling', 'implicit']\n",
    "compare_returns.cumsum().plot()\n"
   ]
  },
  {
   "cell_type": "code",
   "execution_count": 25,
   "metadata": {},
   "outputs": [
    {
     "name": "stderr",
     "output_type": "stream",
     "text": [
      "/usr/local/lib/python3.6/site-packages/pandas/plotting/_compat.py:57: MatplotlibDeprecationWarning: \n",
      "The compare_versions function was deprecated in Matplotlib 3.2 and will be removed two minor releases later.\n",
      "  return matplotlib.compare_versions('2.0.0', matplotlib.__version__)\n"
     ]
    },
    {
     "data": {
      "text/plain": [
       "<AxesSubplot:xlabel='0'>"
      ]
     },
     "execution_count": 25,
     "metadata": {},
     "output_type": "execute_result"
    },
    {
     "data": {
      "image/png": "[encoded data removed]",
      "text/plain": [
       "<Figure size 432x288 with 1 Axes>"
      ]
     },
     "metadata": {
      "needs_background": "light"
     },
     "output_type": "display_data"
    },
    {
     "data": {
      "application/javascript": [
       "\n",
       "            setTimeout(function() {\n",
       "                var nbb_cell_id = 25;\n",
       "                var nbb_unformatted_code = \"diff_compare = implicit_fit_returns - rolling_fit_returns\\ndiff_compare.cumsum().plot()\";\n",
       "                var nbb_formatted_code = \"diff_compare = implicit_fit_returns - rolling_fit_returns\\ndiff_compare.cumsum().plot()\";\n",
       "                var nbb_cells = Jupyter.notebook.get_cells();\n",
       "                for (var i = 0; i < nbb_cells.length; ++i) {\n",
       "                    if (nbb_cells[i].input_prompt_number == nbb_cell_id) {\n",
       "                        if (nbb_cells[i].get_text() == nbb_unformatted_code) {\n",
       "                             nbb_cells[i].set_text(nbb_formatted_code);\n",
       "                        }\n",
       "                        break;\n",
       "                    }\n",
       "                }\n",
       "            }, 500);\n",
       "            "
      ],
      "text/plain": [
       "<IPython.core.display.Javascript object>"
      ]
     },
     "metadata": {},
     "output_type": "display_data"
    }
   ],
   "source": [
    "diff_compare = implicit_fit_returns - rolling_fit_returns\n",
    "diff_compare.cumsum().plot()"
   ]
  },
  {
   "cell_type": "code",
   "execution_count": 26,
   "metadata": {},
   "outputs": [
    {
     "data": {
      "text/plain": [
       "0.6726150030121897"
      ]
     },
     "execution_count": 26,
     "metadata": {},
     "output_type": "execute_result"
    },
    {
     "data": {
      "application/javascript": [
       "\n",
       "            setTimeout(function() {\n",
       "                var nbb_cell_id = 26;\n",
       "                var nbb_unformatted_code = \"simple_sharpe_ratio(rolling_fit_returns)\";\n",
       "                var nbb_formatted_code = \"simple_sharpe_ratio(rolling_fit_returns)\";\n",
       "                var nbb_cells = Jupyter.notebook.get_cells();\n",
       "                for (var i = 0; i < nbb_cells.length; ++i) {\n",
       "                    if (nbb_cells[i].input_prompt_number == nbb_cell_id) {\n",
       "                        if (nbb_cells[i].get_text() == nbb_unformatted_code) {\n",
       "                             nbb_cells[i].set_text(nbb_formatted_code);\n",
       "                        }\n",
       "                        break;\n",
       "                    }\n",
       "                }\n",
       "            }, 500);\n",
       "            "
      ],
      "text/plain": [
       "<IPython.core.display.Javascript object>"
      ]
     },
     "metadata": {},
     "output_type": "display_data"
    }
   ],
   "source": [
    "simple_sharpe_ratio(rolling_fit_returns)"
   ]
  },
  {
   "cell_type": "code",
   "execution_count": 27,
   "metadata": {},
   "outputs": [
    {
     "data": {
      "text/plain": [
       "0.6755530191935004"
      ]
     },
     "execution_count": 27,
     "metadata": {},
     "output_type": "execute_result"
    },
    {
     "data": {
      "application/javascript": [
       "\n",
       "            setTimeout(function() {\n",
       "                var nbb_cell_id = 27;\n",
       "                var nbb_unformatted_code = \"simple_sharpe_ratio(implicit_fit_returns)\";\n",
       "                var nbb_formatted_code = \"simple_sharpe_ratio(implicit_fit_returns)\";\n",
       "                var nbb_cells = Jupyter.notebook.get_cells();\n",
       "                for (var i = 0; i < nbb_cells.length; ++i) {\n",
       "                    if (nbb_cells[i].input_prompt_number == nbb_cell_id) {\n",
       "                        if (nbb_cells[i].get_text() == nbb_unformatted_code) {\n",
       "                             nbb_cells[i].set_text(nbb_formatted_code);\n",
       "                        }\n",
       "                        break;\n",
       "                    }\n",
       "                }\n",
       "            }, 500);\n",
       "            "
      ],
      "text/plain": [
       "<IPython.core.display.Javascript object>"
      ]
     },
     "metadata": {},
     "output_type": "display_data"
    }
   ],
   "source": [
    "simple_sharpe_ratio(implicit_fit_returns)"
   ]
  },
  {
   "cell_type": "markdown",
   "metadata": {},
   "source": [
    "Unsurprisingly the implicit fit does better than the rolling fit, with all the outperformance happening before 2008 when it cheats by allocating everything to the strategy. After 2009 both methods are doing pretty much the same thing (in 2008 the implicit fit does slightly better, as it still has a higher weight in the strategy which outperforms the benchmark)."
   ]
  },
  {
   "cell_type": "markdown",
   "metadata": {},
   "source": [
    "Just by doing a little cheating we’ve managed to nudge up the Sharpe Ratio. Imagine how much extra we’d get if did some serious fiddling? Before long, you could have a Sharpe Ratio of 2.0, and believe you are a genius trader who can safely use excessive leverage, and afford to pay handsome trading costs to your broker. These are dangerous assumptions which will have a depressing end result: an empty trading account.\n",
    "\n",
    " \n",
    "Be very careful that you don’t head down the path of implicit fitting. Only use data that would really have been available in the past to modify, fit, or allocate to trading strategies."
   ]
  }
 ],
 "metadata": {
  "kernelspec": {
   "display_name": "Python 3",
   "language": "python",
   "name": "python3"
  },
  "language_info": {
   "codemirror_mode": {
    "name": "ipython",
    "version": 3
   },
   "file_extension": ".py",
   "mimetype": "text/x-python",
   "name": "python",
   "nbconvert_exporter": "python",
   "pygments_lexer": "ipython3",
   "version": "3.6.12"
  }
 },
 "nbformat": 4,
 "nbformat_minor": 4
}
