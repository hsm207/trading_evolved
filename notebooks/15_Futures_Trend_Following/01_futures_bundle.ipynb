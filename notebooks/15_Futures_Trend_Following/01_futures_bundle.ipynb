{
 "cells": [
  {
   "cell_type": "code",
   "execution_count": 1,
   "metadata": {},
   "outputs": [
    {
     "data": {
      "application/javascript": [
       "\n",
       "            setTimeout(function() {\n",
       "                var nbb_cell_id = 1;\n",
       "                var nbb_unformatted_code = \"%load_ext nb_black\";\n",
       "                var nbb_formatted_code = \"%load_ext nb_black\";\n",
       "                var nbb_cells = Jupyter.notebook.get_cells();\n",
       "                for (var i = 0; i < nbb_cells.length; ++i) {\n",
       "                    if (nbb_cells[i].input_prompt_number == nbb_cell_id) {\n",
       "                        if (nbb_cells[i].get_text() == nbb_unformatted_code) {\n",
       "                             nbb_cells[i].set_text(nbb_formatted_code);\n",
       "                        }\n",
       "                        break;\n",
       "                    }\n",
       "                }\n",
       "            }, 500);\n",
       "            "
      ],
      "text/plain": [
       "<IPython.core.display.Javascript object>"
      ]
     },
     "metadata": {},
     "output_type": "display_data"
    }
   ],
   "source": [
    "%load_ext nb_black"
   ]
  },
  {
   "cell_type": "code",
   "execution_count": 2,
   "metadata": {},
   "outputs": [
    {
     "data": {
      "application/javascript": [
       "\n",
       "            setTimeout(function() {\n",
       "                var nbb_cell_id = 2;\n",
       "                var nbb_unformatted_code = \"import os\\nimport quandl\\nimport pandas as pd\\nfrom zipline.data.bundles import register\\nfrom zipline.data.bundles.csvdir import csvdir_equities\\nfrom zipline.data.bundles import ingest\\nimport trading_calendars as tc\";\n",
       "                var nbb_formatted_code = \"import os\\nimport quandl\\nimport pandas as pd\\nfrom zipline.data.bundles import register\\nfrom zipline.data.bundles.csvdir import csvdir_equities\\nfrom zipline.data.bundles import ingest\\nimport trading_calendars as tc\";\n",
       "                var nbb_cells = Jupyter.notebook.get_cells();\n",
       "                for (var i = 0; i < nbb_cells.length; ++i) {\n",
       "                    if (nbb_cells[i].input_prompt_number == nbb_cell_id) {\n",
       "                        if (nbb_cells[i].get_text() == nbb_unformatted_code) {\n",
       "                             nbb_cells[i].set_text(nbb_formatted_code);\n",
       "                        }\n",
       "                        break;\n",
       "                    }\n",
       "                }\n",
       "            }, 500);\n",
       "            "
      ],
      "text/plain": [
       "<IPython.core.display.Javascript object>"
      ]
     },
     "metadata": {},
     "output_type": "display_data"
    }
   ],
   "source": [
    "import os\n",
    "import quandl\n",
    "import pandas as pd\n",
    "from zipline.data.bundles import register\n",
    "from zipline.data.bundles.csvdir import csvdir_equities\n",
    "from zipline.data.bundles import ingest\n",
    "import trading_calendars as tc"
   ]
  },
  {
   "cell_type": "markdown",
   "metadata": {},
   "source": [
    "This notebook creates a bundle out of the [Wiki Continuous Futures data](https://www.quandl.com/data/CHRIS-Wiki-Continuous-Futures/) from Quandl."
   ]
  },
  {
   "cell_type": "markdown",
   "metadata": {},
   "source": [
    "Define the start and end date of the data we want to download:"
   ]
  },
  {
   "cell_type": "code",
   "execution_count": 3,
   "metadata": {},
   "outputs": [
    {
     "data": {
      "application/javascript": [
       "\n",
       "            setTimeout(function() {\n",
       "                var nbb_cell_id = 3;\n",
       "                var nbb_unformatted_code = \"start_date = \\\"2001-01-01\\\"\\nend_date = \\\"2020-11-06\\\"\";\n",
       "                var nbb_formatted_code = \"start_date = \\\"2001-01-01\\\"\\nend_date = \\\"2020-11-06\\\"\";\n",
       "                var nbb_cells = Jupyter.notebook.get_cells();\n",
       "                for (var i = 0; i < nbb_cells.length; ++i) {\n",
       "                    if (nbb_cells[i].input_prompt_number == nbb_cell_id) {\n",
       "                        if (nbb_cells[i].get_text() == nbb_unformatted_code) {\n",
       "                             nbb_cells[i].set_text(nbb_formatted_code);\n",
       "                        }\n",
       "                        break;\n",
       "                    }\n",
       "                }\n",
       "            }, 500);\n",
       "            "
      ],
      "text/plain": [
       "<IPython.core.display.Javascript object>"
      ]
     },
     "metadata": {},
     "output_type": "display_data"
    }
   ],
   "source": [
    "start_date = \"2001-01-01\"\n",
    "end_date = \"2020-11-06\""
   ]
  },
  {
   "cell_type": "markdown",
   "metadata": {},
   "source": [
    "Setup quandl:"
   ]
  },
  {
   "cell_type": "code",
   "execution_count": 4,
   "metadata": {},
   "outputs": [
    {
     "data": {
      "application/javascript": [
       "\n",
       "            setTimeout(function() {\n",
       "                var nbb_cell_id = 4;\n",
       "                var nbb_unformatted_code = \"quandl.ApiConfig.api_key = os.environ[\\\"QUANDL_API_KEY\\\"]\";\n",
       "                var nbb_formatted_code = \"quandl.ApiConfig.api_key = os.environ[\\\"QUANDL_API_KEY\\\"]\";\n",
       "                var nbb_cells = Jupyter.notebook.get_cells();\n",
       "                for (var i = 0; i < nbb_cells.length; ++i) {\n",
       "                    if (nbb_cells[i].input_prompt_number == nbb_cell_id) {\n",
       "                        if (nbb_cells[i].get_text() == nbb_unformatted_code) {\n",
       "                             nbb_cells[i].set_text(nbb_formatted_code);\n",
       "                        }\n",
       "                        break;\n",
       "                    }\n",
       "                }\n",
       "            }, 500);\n",
       "            "
      ],
      "text/plain": [
       "<IPython.core.display.Javascript object>"
      ]
     },
     "metadata": {},
     "output_type": "display_data"
    }
   ],
   "source": [
    "quandl.ApiConfig.api_key = os.environ[\"QUANDL_API_KEY\"]"
   ]
  },
  {
   "cell_type": "markdown",
   "metadata": {},
   "source": [
    "Get the metadata:"
   ]
  },
  {
   "cell_type": "code",
   "execution_count": 5,
   "metadata": {},
   "outputs": [
    {
     "name": "stdout",
     "output_type": "stream",
     "text": [
      "Archive:  CHRIS_metadata.zip\n",
      "  inflating: CHRIS_metadata.csv      \n"
     ]
    },
    {
     "data": {
      "application/javascript": [
       "\n",
       "            setTimeout(function() {\n",
       "                var nbb_cell_id = 5;\n",
       "                var nbb_unformatted_code = \"%%bash\\nwget -q \\\\\\n     -O CHRIS_metadata.zip \\\\\\n     https://www.quandl.com/api/v3/databases/CHRIS/metadata?api_key=$QUANDL_API_KEY\\n\\nunzip CHRIS_metadata.zip\";\n",
       "                var nbb_formatted_code = \"%%bash\\nwget -q \\\\\\n     -O CHRIS_metadata.zip \\\\\\n     https://www.quandl.com/api/v3/databases/CHRIS/metadata?api_key=$QUANDL_API_KEY\\n\\nunzip CHRIS_metadata.zip\";\n",
       "                var nbb_cells = Jupyter.notebook.get_cells();\n",
       "                for (var i = 0; i < nbb_cells.length; ++i) {\n",
       "                    if (nbb_cells[i].input_prompt_number == nbb_cell_id) {\n",
       "                        if (nbb_cells[i].get_text() == nbb_unformatted_code) {\n",
       "                             nbb_cells[i].set_text(nbb_formatted_code);\n",
       "                        }\n",
       "                        break;\n",
       "                    }\n",
       "                }\n",
       "            }, 500);\n",
       "            "
      ],
      "text/plain": [
       "<IPython.core.display.Javascript object>"
      ]
     },
     "metadata": {},
     "output_type": "display_data"
    }
   ],
   "source": [
    "%%bash\n",
    "wget -q \\\n",
    "     -O CHRIS_metadata.zip \\\n",
    "     https://www.quandl.com/api/v3/databases/CHRIS/metadata?api_key=$QUANDL_API_KEY\n",
    "\n",
    "unzip CHRIS_metadata.zip"
   ]
  },
  {
   "cell_type": "code",
   "execution_count": 6,
   "metadata": {},
   "outputs": [
    {
     "data": {
      "text/html": [
       "<div>\n",
       "<style scoped>\n",
       "    .dataframe tbody tr th:only-of-type {\n",
       "        vertical-align: middle;\n",
       "    }\n",
       "\n",
       "    .dataframe tbody tr th {\n",
       "        vertical-align: top;\n",
       "    }\n",
       "\n",
       "    .dataframe thead th {\n",
       "        text-align: right;\n",
       "    }\n",
       "</style>\n",
       "<table border=\"1\" class=\"dataframe\">\n",
       "  <thead>\n",
       "    <tr style=\"text-align: right;\">\n",
       "      <th></th>\n",
       "      <th>code</th>\n",
       "      <th>name</th>\n",
       "      <th>description</th>\n",
       "      <th>refreshed_at</th>\n",
       "      <th>from_date</th>\n",
       "      <th>to_date</th>\n",
       "    </tr>\n",
       "  </thead>\n",
       "  <tbody>\n",
       "    <tr>\n",
       "      <th>0</th>\n",
       "      <td>ASX_AP1</td>\n",
       "      <td>ASX SPI 200 Index Futures, Continuous Contract...</td>\n",
       "      <td>Historical Futures Prices: ASX SPI 200 Index F...</td>\n",
       "      <td>2020-11-08 19:30:38</td>\n",
       "      <td>2013-10-09</td>\n",
       "      <td>2020-11-06</td>\n",
       "    </tr>\n",
       "    <tr>\n",
       "      <th>1</th>\n",
       "      <td>ASX_AP2</td>\n",
       "      <td>ASX SPI 200 Index Futures, Continuous Contract...</td>\n",
       "      <td>Historical Futures Prices: ASX SPI 200 Index F...</td>\n",
       "      <td>2020-11-08 19:30:38</td>\n",
       "      <td>2013-10-09</td>\n",
       "      <td>2020-11-06</td>\n",
       "    </tr>\n",
       "    <tr>\n",
       "      <th>2</th>\n",
       "      <td>ASX_BB1</td>\n",
       "      <td>NZ - 90 Day Bank Bill Futures, Continuous Cont...</td>\n",
       "      <td>Historical Futures Prices: NZ - 90 Day Bank Bi...</td>\n",
       "      <td>2019-12-28 19:26:41</td>\n",
       "      <td>2013-10-09</td>\n",
       "      <td>2019-12-21</td>\n",
       "    </tr>\n",
       "    <tr>\n",
       "      <th>3</th>\n",
       "      <td>ASX_BB2</td>\n",
       "      <td>NZ - 90 Day Bank Bill Futures, Continuous Cont...</td>\n",
       "      <td>Historical Futures Prices: NZ - 90 Day Bank Bi...</td>\n",
       "      <td>2019-12-28 19:26:41</td>\n",
       "      <td>2013-10-09</td>\n",
       "      <td>2019-12-21</td>\n",
       "    </tr>\n",
       "    <tr>\n",
       "      <th>4</th>\n",
       "      <td>ASX_IB1</td>\n",
       "      <td>30 Day Interbank Cash Rate Futures, Continuous...</td>\n",
       "      <td>Historical Futures Prices: 30 Day Interbank Ca...</td>\n",
       "      <td>2020-11-08 19:30:39</td>\n",
       "      <td>2013-10-09</td>\n",
       "      <td>2020-11-06</td>\n",
       "    </tr>\n",
       "  </tbody>\n",
       "</table>\n",
       "</div>"
      ],
      "text/plain": [
       "      code                                               name  \\\n",
       "0  ASX_AP1  ASX SPI 200 Index Futures, Continuous Contract...   \n",
       "1  ASX_AP2  ASX SPI 200 Index Futures, Continuous Contract...   \n",
       "2  ASX_BB1  NZ - 90 Day Bank Bill Futures, Continuous Cont...   \n",
       "3  ASX_BB2  NZ - 90 Day Bank Bill Futures, Continuous Cont...   \n",
       "4  ASX_IB1  30 Day Interbank Cash Rate Futures, Continuous...   \n",
       "\n",
       "                                         description         refreshed_at  \\\n",
       "0  Historical Futures Prices: ASX SPI 200 Index F...  2020-11-08 19:30:38   \n",
       "1  Historical Futures Prices: ASX SPI 200 Index F...  2020-11-08 19:30:38   \n",
       "2  Historical Futures Prices: NZ - 90 Day Bank Bi...  2019-12-28 19:26:41   \n",
       "3  Historical Futures Prices: NZ - 90 Day Bank Bi...  2019-12-28 19:26:41   \n",
       "4  Historical Futures Prices: 30 Day Interbank Ca...  2020-11-08 19:30:39   \n",
       "\n",
       "    from_date     to_date  \n",
       "0  2013-10-09  2020-11-06  \n",
       "1  2013-10-09  2020-11-06  \n",
       "2  2013-10-09  2019-12-21  \n",
       "3  2013-10-09  2019-12-21  \n",
       "4  2013-10-09  2020-11-06  "
      ]
     },
     "execution_count": 6,
     "metadata": {},
     "output_type": "execute_result"
    },
    {
     "data": {
      "application/javascript": [
       "\n",
       "            setTimeout(function() {\n",
       "                var nbb_cell_id = 6;\n",
       "                var nbb_unformatted_code = \"metadata = pd.read_csv(\\\"CHRIS_metadata.csv\\\")\\nmetadata.head(5)\";\n",
       "                var nbb_formatted_code = \"metadata = pd.read_csv(\\\"CHRIS_metadata.csv\\\")\\nmetadata.head(5)\";\n",
       "                var nbb_cells = Jupyter.notebook.get_cells();\n",
       "                for (var i = 0; i < nbb_cells.length; ++i) {\n",
       "                    if (nbb_cells[i].input_prompt_number == nbb_cell_id) {\n",
       "                        if (nbb_cells[i].get_text() == nbb_unformatted_code) {\n",
       "                             nbb_cells[i].set_text(nbb_formatted_code);\n",
       "                        }\n",
       "                        break;\n",
       "                    }\n",
       "                }\n",
       "            }, 500);\n",
       "            "
      ],
      "text/plain": [
       "<IPython.core.display.Javascript object>"
      ]
     },
     "metadata": {},
     "output_type": "display_data"
    }
   ],
   "source": [
    "metadata = pd.read_csv(\"CHRIS_metadata.csv\")\n",
    "metadata.head(5)"
   ]
  },
  {
   "cell_type": "code",
   "execution_count": 7,
   "metadata": {},
   "outputs": [
    {
     "data": {
      "text/plain": [
       "(4047, 6)"
      ]
     },
     "execution_count": 7,
     "metadata": {},
     "output_type": "execute_result"
    },
    {
     "data": {
      "application/javascript": [
       "\n",
       "            setTimeout(function() {\n",
       "                var nbb_cell_id = 7;\n",
       "                var nbb_unformatted_code = \"metadata.shape\";\n",
       "                var nbb_formatted_code = \"metadata.shape\";\n",
       "                var nbb_cells = Jupyter.notebook.get_cells();\n",
       "                for (var i = 0; i < nbb_cells.length; ++i) {\n",
       "                    if (nbb_cells[i].input_prompt_number == nbb_cell_id) {\n",
       "                        if (nbb_cells[i].get_text() == nbb_unformatted_code) {\n",
       "                             nbb_cells[i].set_text(nbb_formatted_code);\n",
       "                        }\n",
       "                        break;\n",
       "                    }\n",
       "                }\n",
       "            }, 500);\n",
       "            "
      ],
      "text/plain": [
       "<IPython.core.display.Javascript object>"
      ]
     },
     "metadata": {},
     "output_type": "display_data"
    }
   ],
   "source": [
    "metadata.shape"
   ]
  },
  {
   "cell_type": "markdown",
   "metadata": {},
   "source": [
    "Define the code we are interested to get:"
   ]
  },
  {
   "cell_type": "code",
   "execution_count": 8,
   "metadata": {},
   "outputs": [
    {
     "data": {
      "application/javascript": [
       "\n",
       "            setTimeout(function() {\n",
       "                var nbb_cell_id = 8;\n",
       "                var nbb_unformatted_code = \"currencies = [\\n    \\\"CME_EC1\\\",  # Euro FX Futures Quotes\\n    \\\"CME_E71\\\",  # E-mini Euro FX Futures Contract Specs\\n    \\\"CME_JY1\\\",  # Japanese Yen Futures\\n    \\\"CME_J71\\\",  # E-mini Japanese Yen Futures\\n    \\\"CME_AD1\\\",  # Australian Dollar Futures\\n    \\\"CME_BP1\\\",  # British Pound Futures Contract\\n    \\\"CME_CD1\\\",  # Canadian Dollar Futures\\n    \\\"CME_SF1\\\",  # Swiss Franc Futures Contract\\n    \\\"CME_NE1\\\",  # New Zealand Dollar Futures\\n    \\\"CME_CNH1\\\",  # Standard-Size USD/Offshore RMB (CNH) Futures\\n    \\\"CME_MP1\\\",  # Mexican Peso Futures\\n    \\\"CME_BR1\\\",  # Brazilian Real Futures\\n    \\\"CME_RA1\\\",  # South African Rand Futures\\n    \\\"CME_RU1\\\",  # Russian Ruble Futures\\n]\";\n",
       "                var nbb_formatted_code = \"currencies = [\\n    \\\"CME_EC1\\\",  # Euro FX Futures Quotes\\n    \\\"CME_E71\\\",  # E-mini Euro FX Futures Contract Specs\\n    \\\"CME_JY1\\\",  # Japanese Yen Futures\\n    \\\"CME_J71\\\",  # E-mini Japanese Yen Futures\\n    \\\"CME_AD1\\\",  # Australian Dollar Futures\\n    \\\"CME_BP1\\\",  # British Pound Futures Contract\\n    \\\"CME_CD1\\\",  # Canadian Dollar Futures\\n    \\\"CME_SF1\\\",  # Swiss Franc Futures Contract\\n    \\\"CME_NE1\\\",  # New Zealand Dollar Futures\\n    \\\"CME_CNH1\\\",  # Standard-Size USD/Offshore RMB (CNH) Futures\\n    \\\"CME_MP1\\\",  # Mexican Peso Futures\\n    \\\"CME_BR1\\\",  # Brazilian Real Futures\\n    \\\"CME_RA1\\\",  # South African Rand Futures\\n    \\\"CME_RU1\\\",  # Russian Ruble Futures\\n]\";\n",
       "                var nbb_cells = Jupyter.notebook.get_cells();\n",
       "                for (var i = 0; i < nbb_cells.length; ++i) {\n",
       "                    if (nbb_cells[i].input_prompt_number == nbb_cell_id) {\n",
       "                        if (nbb_cells[i].get_text() == nbb_unformatted_code) {\n",
       "                             nbb_cells[i].set_text(nbb_formatted_code);\n",
       "                        }\n",
       "                        break;\n",
       "                    }\n",
       "                }\n",
       "            }, 500);\n",
       "            "
      ],
      "text/plain": [
       "<IPython.core.display.Javascript object>"
      ]
     },
     "metadata": {},
     "output_type": "display_data"
    }
   ],
   "source": [
    "currencies = [\n",
    "    \"CME_EC1\",  # Euro FX Futures Quotes\n",
    "    \"CME_E71\",  # E-mini Euro FX Futures Contract Specs\n",
    "    \"CME_JY1\",  # Japanese Yen Futures\n",
    "    \"CME_J71\",  # E-mini Japanese Yen Futures\n",
    "    \"CME_AD1\",  # Australian Dollar Futures\n",
    "    \"CME_BP1\",  # British Pound Futures Contract\n",
    "    \"CME_CD1\",  # Canadian Dollar Futures\n",
    "    \"CME_SF1\",  # Swiss Franc Futures Contract\n",
    "    \"CME_NE1\",  # New Zealand Dollar Futures\n",
    "    \"CME_CNH1\",  # Standard-Size USD/Offshore RMB (CNH) Futures\n",
    "    \"CME_MP1\",  # Mexican Peso Futures\n",
    "    \"CME_BR1\",  # Brazilian Real Futures\n",
    "    \"CME_RA1\",  # South African Rand Futures\n",
    "    \"CME_RU1\",  # Russian Ruble Futures\n",
    "]"
   ]
  },
  {
   "cell_type": "code",
   "execution_count": 9,
   "metadata": {},
   "outputs": [
    {
     "data": {
      "application/javascript": [
       "\n",
       "            setTimeout(function() {\n",
       "                var nbb_cell_id = 9;\n",
       "                var nbb_unformatted_code = \"agricultural = [\\n    \\\"CME_BO1\\\",  # Soybean Oil Futures\\n    \\\"CME_C1\\\",  # Corn Futures\\n    \\\"CME_KW1\\\",  # KC HRW Wheat Futures\\n    \\\"CME_O1\\\",  # Oats Futures\\n    \\\"CME_RR1\\\",  # Rough Rice Futures\\n    \\\"CME_S1\\\",  # Soybean Futures\\n    \\\"CME_SM1\\\",  # Soybean Meal Futures\\n    \\\"CME_W1\\\",  # Wheat Futures\\n    \\\"CME_YC1\\\",  # Mini-Corn Futures\\n    \\\"CME_YK1\\\",  # Mini Soybean Futures\\n]\";\n",
       "                var nbb_formatted_code = \"agricultural = [\\n    \\\"CME_BO1\\\",  # Soybean Oil Futures\\n    \\\"CME_C1\\\",  # Corn Futures\\n    \\\"CME_KW1\\\",  # KC HRW Wheat Futures\\n    \\\"CME_O1\\\",  # Oats Futures\\n    \\\"CME_RR1\\\",  # Rough Rice Futures\\n    \\\"CME_S1\\\",  # Soybean Futures\\n    \\\"CME_SM1\\\",  # Soybean Meal Futures\\n    \\\"CME_W1\\\",  # Wheat Futures\\n    \\\"CME_YC1\\\",  # Mini-Corn Futures\\n    \\\"CME_YK1\\\",  # Mini Soybean Futures\\n]\";\n",
       "                var nbb_cells = Jupyter.notebook.get_cells();\n",
       "                for (var i = 0; i < nbb_cells.length; ++i) {\n",
       "                    if (nbb_cells[i].input_prompt_number == nbb_cell_id) {\n",
       "                        if (nbb_cells[i].get_text() == nbb_unformatted_code) {\n",
       "                             nbb_cells[i].set_text(nbb_formatted_code);\n",
       "                        }\n",
       "                        break;\n",
       "                    }\n",
       "                }\n",
       "            }, 500);\n",
       "            "
      ],
      "text/plain": [
       "<IPython.core.display.Javascript object>"
      ]
     },
     "metadata": {},
     "output_type": "display_data"
    }
   ],
   "source": [
    "agricultural = [\n",
    "    \"CME_BO1\",  # Soybean Oil Futures\n",
    "    \"CME_C1\",  # Corn Futures\n",
    "    \"CME_KW1\",  # KC HRW Wheat Futures\n",
    "    \"CME_O1\",  # Oats Futures\n",
    "    \"CME_RR1\",  # Rough Rice Futures\n",
    "    \"CME_S1\",  # Soybean Futures\n",
    "    \"CME_SM1\",  # Soybean Meal Futures\n",
    "    \"CME_W1\",  # Wheat Futures\n",
    "    \"CME_YC1\",  # Mini-Corn Futures\n",
    "    \"CME_YK1\",  # Mini Soybean Futures\n",
    "]"
   ]
  },
  {
   "cell_type": "code",
   "execution_count": 10,
   "metadata": {},
   "outputs": [
    {
     "data": {
      "application/javascript": [
       "\n",
       "            setTimeout(function() {\n",
       "                var nbb_cell_id = 10;\n",
       "                var nbb_unformatted_code = \"livestock = [\\n    \\\"CME_FC1\\\",  # Feeder Cattle Futures\\n    \\\"CME_LC1\\\",  # Live Cattle Futures\\n    \\\"CME_LN1\\\",  # Lean Hog Futures\\n]\";\n",
       "                var nbb_formatted_code = \"livestock = [\\n    \\\"CME_FC1\\\",  # Feeder Cattle Futures\\n    \\\"CME_LC1\\\",  # Live Cattle Futures\\n    \\\"CME_LN1\\\",  # Lean Hog Futures\\n]\";\n",
       "                var nbb_cells = Jupyter.notebook.get_cells();\n",
       "                for (var i = 0; i < nbb_cells.length; ++i) {\n",
       "                    if (nbb_cells[i].input_prompt_number == nbb_cell_id) {\n",
       "                        if (nbb_cells[i].get_text() == nbb_unformatted_code) {\n",
       "                             nbb_cells[i].set_text(nbb_formatted_code);\n",
       "                        }\n",
       "                        break;\n",
       "                    }\n",
       "                }\n",
       "            }, 500);\n",
       "            "
      ],
      "text/plain": [
       "<IPython.core.display.Javascript object>"
      ]
     },
     "metadata": {},
     "output_type": "display_data"
    }
   ],
   "source": [
    "livestock = [\n",
    "    \"CME_FC1\",  # Feeder Cattle Futures\n",
    "    \"CME_LC1\",  # Live Cattle Futures\n",
    "    \"CME_LN1\",  # Lean Hog Futures\n",
    "]"
   ]
  },
  {
   "cell_type": "code",
   "execution_count": 11,
   "metadata": {},
   "outputs": [
    {
     "data": {
      "application/javascript": [
       "\n",
       "            setTimeout(function() {\n",
       "                var nbb_cell_id = 11;\n",
       "                var nbb_unformatted_code = \"milk = [\\n    \\\"CME_CB1\\\",  # Cash-settled Butter Futures\\n    \\\"CME_CSC1\\\",  # Cash-Settled Cheese Futures\\n    \\\"CME_DA1\\\",  # Class III Milk Futures\\n    \\\"CME_DK1\\\",  # Class IV Milk Futures\\n    \\\"CME_DY1\\\",  # Dry Whey Futures\\n    \\\"CME_NF1\\\",  # Non-fat Dry Milk Futures\\n]\";\n",
       "                var nbb_formatted_code = \"milk = [\\n    \\\"CME_CB1\\\",  # Cash-settled Butter Futures\\n    \\\"CME_CSC1\\\",  # Cash-Settled Cheese Futures\\n    \\\"CME_DA1\\\",  # Class III Milk Futures\\n    \\\"CME_DK1\\\",  # Class IV Milk Futures\\n    \\\"CME_DY1\\\",  # Dry Whey Futures\\n    \\\"CME_NF1\\\",  # Non-fat Dry Milk Futures\\n]\";\n",
       "                var nbb_cells = Jupyter.notebook.get_cells();\n",
       "                for (var i = 0; i < nbb_cells.length; ++i) {\n",
       "                    if (nbb_cells[i].input_prompt_number == nbb_cell_id) {\n",
       "                        if (nbb_cells[i].get_text() == nbb_unformatted_code) {\n",
       "                             nbb_cells[i].set_text(nbb_formatted_code);\n",
       "                        }\n",
       "                        break;\n",
       "                    }\n",
       "                }\n",
       "            }, 500);\n",
       "            "
      ],
      "text/plain": [
       "<IPython.core.display.Javascript object>"
      ]
     },
     "metadata": {},
     "output_type": "display_data"
    }
   ],
   "source": [
    "milk = [\n",
    "    \"CME_CB1\",  # Cash-settled Butter Futures\n",
    "    \"CME_CSC1\",  # Cash-Settled Cheese Futures\n",
    "    \"CME_DA1\",  # Class III Milk Futures\n",
    "    \"CME_DK1\",  # Class IV Milk Futures\n",
    "    \"CME_DY1\",  # Dry Whey Futures\n",
    "    \"CME_NF1\",  # Non-fat Dry Milk Futures\n",
    "]"
   ]
  },
  {
   "cell_type": "code",
   "execution_count": 12,
   "metadata": {},
   "outputs": [
    {
     "data": {
      "application/javascript": [
       "\n",
       "            setTimeout(function() {\n",
       "                var nbb_cell_id = 12;\n",
       "                var nbb_unformatted_code = \"energy = [\\n    \\\"CME_BB1\\\",  # Brent Crude Oil Futures\\n    \\\"CME_CL1\\\",  # Crude Oil Futures\\n    \\\"CME_CPO1\\\",  # Crude Palm Oil Futures\\n    \\\"CME_NG1\\\",  # Natural Gas (Henry Hub) Physical Futures\\n    \\\"CME_QG1\\\",  # E-mini Natural Gas Futures\\n    \\\"CME_QL1\\\",  # Coal Futures\\n    \\\"CME_QM1\\\",  # E-mini Crude Oil Futures\\n]\";\n",
       "                var nbb_formatted_code = \"energy = [\\n    \\\"CME_BB1\\\",  # Brent Crude Oil Futures\\n    \\\"CME_CL1\\\",  # Crude Oil Futures\\n    \\\"CME_CPO1\\\",  # Crude Palm Oil Futures\\n    \\\"CME_NG1\\\",  # Natural Gas (Henry Hub) Physical Futures\\n    \\\"CME_QG1\\\",  # E-mini Natural Gas Futures\\n    \\\"CME_QL1\\\",  # Coal Futures\\n    \\\"CME_QM1\\\",  # E-mini Crude Oil Futures\\n]\";\n",
       "                var nbb_cells = Jupyter.notebook.get_cells();\n",
       "                for (var i = 0; i < nbb_cells.length; ++i) {\n",
       "                    if (nbb_cells[i].input_prompt_number == nbb_cell_id) {\n",
       "                        if (nbb_cells[i].get_text() == nbb_unformatted_code) {\n",
       "                             nbb_cells[i].set_text(nbb_formatted_code);\n",
       "                        }\n",
       "                        break;\n",
       "                    }\n",
       "                }\n",
       "            }, 500);\n",
       "            "
      ],
      "text/plain": [
       "<IPython.core.display.Javascript object>"
      ]
     },
     "metadata": {},
     "output_type": "display_data"
    }
   ],
   "source": [
    "energy = [\n",
    "    \"CME_BB1\",  # Brent Crude Oil Futures\n",
    "    \"CME_CL1\",  # Crude Oil Futures\n",
    "    \"CME_CPO1\",  # Crude Palm Oil Futures\n",
    "    \"CME_NG1\",  # Natural Gas (Henry Hub) Physical Futures\n",
    "    \"CME_QG1\",  # E-mini Natural Gas Futures\n",
    "    \"CME_QL1\",  # Coal Futures\n",
    "    \"CME_QM1\",  # E-mini Crude Oil Futures\n",
    "]"
   ]
  },
  {
   "cell_type": "code",
   "execution_count": 13,
   "metadata": {},
   "outputs": [
    {
     "data": {
      "application/javascript": [
       "\n",
       "            setTimeout(function() {\n",
       "                var nbb_cell_id = 13;\n",
       "                var nbb_unformatted_code = \"equity_index = [\\n    \\\"CME_ES1\\\",  # E-mini S&P 500 Futures\\n    \\\"CME_GA1\\\",  # S&P-GSCI ER Index Future\\n    \\\"CME_GI1\\\",  # S&P-GSCI Commodity Index Future\\n    \\\"CME_IBV1\\\",  # Ibovespa Futures\\n    \\\"CME_JR1\\\",  # Dow Jones Real Estate Futures\\n    \\\"CME_MD1\\\",  # E-mini S&P MidCap 400 Futures\\n    \\\"CME_ME1\\\",  # Gulf Coast Jet (Platts) Up-Down Futures\\n    \\\"CME_N1Y1\\\",  # Nikkei/Yen Futures\\n    \\\"CME_ND1\\\",  # NASDAQ 100 Futures\\n    \\\"CME_NK1\\\",  # Nikkei/USD Futures\\n    \\\"CME_NQ1\\\",  # E-mini NASDAQ 100 Futures\\n    \\\"CME_SP1\\\",  # S&P 500 Futures\\n    \\\"CME_YM1\\\",  # E-mini Dow ($5) Futures\\n]\";\n",
       "                var nbb_formatted_code = \"equity_index = [\\n    \\\"CME_ES1\\\",  # E-mini S&P 500 Futures\\n    \\\"CME_GA1\\\",  # S&P-GSCI ER Index Future\\n    \\\"CME_GI1\\\",  # S&P-GSCI Commodity Index Future\\n    \\\"CME_IBV1\\\",  # Ibovespa Futures\\n    \\\"CME_JR1\\\",  # Dow Jones Real Estate Futures\\n    \\\"CME_MD1\\\",  # E-mini S&P MidCap 400 Futures\\n    \\\"CME_ME1\\\",  # Gulf Coast Jet (Platts) Up-Down Futures\\n    \\\"CME_N1Y1\\\",  # Nikkei/Yen Futures\\n    \\\"CME_ND1\\\",  # NASDAQ 100 Futures\\n    \\\"CME_NK1\\\",  # Nikkei/USD Futures\\n    \\\"CME_NQ1\\\",  # E-mini NASDAQ 100 Futures\\n    \\\"CME_SP1\\\",  # S&P 500 Futures\\n    \\\"CME_YM1\\\",  # E-mini Dow ($5) Futures\\n]\";\n",
       "                var nbb_cells = Jupyter.notebook.get_cells();\n",
       "                for (var i = 0; i < nbb_cells.length; ++i) {\n",
       "                    if (nbb_cells[i].input_prompt_number == nbb_cell_id) {\n",
       "                        if (nbb_cells[i].get_text() == nbb_unformatted_code) {\n",
       "                             nbb_cells[i].set_text(nbb_formatted_code);\n",
       "                        }\n",
       "                        break;\n",
       "                    }\n",
       "                }\n",
       "            }, 500);\n",
       "            "
      ],
      "text/plain": [
       "<IPython.core.display.Javascript object>"
      ]
     },
     "metadata": {},
     "output_type": "display_data"
    }
   ],
   "source": [
    "equity_index = [\n",
    "    \"CME_ES1\",  # E-mini S&P 500 Futures\n",
    "    \"CME_GA1\",  # S&P-GSCI ER Index Future\n",
    "    \"CME_GI1\",  # S&P-GSCI Commodity Index Future\n",
    "    \"CME_IBV1\",  # Ibovespa Futures\n",
    "    \"CME_JR1\",  # Dow Jones Real Estate Futures\n",
    "    \"CME_MD1\",  # E-mini S&P MidCap 400 Futures\n",
    "    \"CME_ME1\",  # Gulf Coast Jet (Platts) Up-Down Futures\n",
    "    \"CME_N1Y1\",  # Nikkei/Yen Futures\n",
    "    \"CME_ND1\",  # NASDAQ 100 Futures\n",
    "    \"CME_NK1\",  # Nikkei/USD Futures\n",
    "    \"CME_NQ1\",  # E-mini NASDAQ 100 Futures\n",
    "    \"CME_SP1\",  # S&P 500 Futures\n",
    "    \"CME_YM1\",  # E-mini Dow ($5) Futures\n",
    "]"
   ]
  },
  {
   "cell_type": "code",
   "execution_count": 14,
   "metadata": {},
   "outputs": [
    {
     "data": {
      "application/javascript": [
       "\n",
       "            setTimeout(function() {\n",
       "                var nbb_cell_id = 14;\n",
       "                var nbb_unformatted_code = \"metals = [\\n    \\\"CME_ALI1\\\",  # Aluminium Futures\\n    \\\"CME_GC1\\\",  # Gold Futures\\n    \\\"CME_HG1\\\",  # Copper Futures\\n    \\\"CME_HR1\\\",  # U.S. Midwest Domestic Hot-Rolled Coil Steel (CRU) Index Futures\\n    \\\"CME_MGC1\\\",  # E-micro Gold Futures\\n    \\\"CME_SI1\\\",  # Silver Futures\\n    \\\"CME_TIO1\\\",  # Iron Ore 62% Fe CFR China (TSI) Futures\\n]\";\n",
       "                var nbb_formatted_code = \"metals = [\\n    \\\"CME_ALI1\\\",  # Aluminium Futures\\n    \\\"CME_GC1\\\",  # Gold Futures\\n    \\\"CME_HG1\\\",  # Copper Futures\\n    \\\"CME_HR1\\\",  # U.S. Midwest Domestic Hot-Rolled Coil Steel (CRU) Index Futures\\n    \\\"CME_MGC1\\\",  # E-micro Gold Futures\\n    \\\"CME_SI1\\\",  # Silver Futures\\n    \\\"CME_TIO1\\\",  # Iron Ore 62% Fe CFR China (TSI) Futures\\n]\";\n",
       "                var nbb_cells = Jupyter.notebook.get_cells();\n",
       "                for (var i = 0; i < nbb_cells.length; ++i) {\n",
       "                    if (nbb_cells[i].input_prompt_number == nbb_cell_id) {\n",
       "                        if (nbb_cells[i].get_text() == nbb_unformatted_code) {\n",
       "                             nbb_cells[i].set_text(nbb_formatted_code);\n",
       "                        }\n",
       "                        break;\n",
       "                    }\n",
       "                }\n",
       "            }, 500);\n",
       "            "
      ],
      "text/plain": [
       "<IPython.core.display.Javascript object>"
      ]
     },
     "metadata": {},
     "output_type": "display_data"
    }
   ],
   "source": [
    "metals = [\n",
    "    \"CME_ALI1\",  # Aluminium Futures\n",
    "    \"CME_GC1\",  # Gold Futures\n",
    "    \"CME_HG1\",  # Copper Futures\n",
    "    \"CME_HR1\",  # U.S. Midwest Domestic Hot-Rolled Coil Steel (CRU) Index Futures\n",
    "    \"CME_MGC1\",  # E-micro Gold Futures\n",
    "    \"CME_SI1\",  # Silver Futures\n",
    "    \"CME_TIO1\",  # Iron Ore 62% Fe CFR China (TSI) Futures\n",
    "]"
   ]
  },
  {
   "cell_type": "code",
   "execution_count": 15,
   "metadata": {},
   "outputs": [
    {
     "data": {
      "application/javascript": [
       "\n",
       "            setTimeout(function() {\n",
       "                var nbb_cell_id = 15;\n",
       "                var nbb_unformatted_code = \"interest_rates = [\\n    \\\"CME_ED1\\\",  # Eurodollar Futures\\n    \\\"CME_EM1\\\",  # 1-month Eurodollar Futures\\n    \\\"CME_FF1\\\",  # 30 Day Federal Funds Futures\\n    \\\"CME_I31\\\",  # 30 Year USD Deliverable Interest Rate Swap Futures\\n    \\\"CME_KI1\\\",  # ISO New England Monthly Off Peak LMP Swap Future\\n    \\\"CME_N1U1\\\",  # 10 Year USD Deliverable Interest Rate Swap Futures\\n    \\\"CME_NN1\\\",  # Henry Hub Swap Futures\\n    \\\"CME_SA1\\\",  # 5 Year USD Deliverable Interest Rate Swap Futures\\n    \\\"CME_TN1\\\",  # Ultra 10-Year U.S. Treasury Note Futures\\n    \\\"CME_UL1\\\",  # Ultra U.S. Treasury Bond Futures\\n    \\\"CME_US1\\\",  # U.S. Treasury Bond Futures\\n]\";\n",
       "                var nbb_formatted_code = \"interest_rates = [\\n    \\\"CME_ED1\\\",  # Eurodollar Futures\\n    \\\"CME_EM1\\\",  # 1-month Eurodollar Futures\\n    \\\"CME_FF1\\\",  # 30 Day Federal Funds Futures\\n    \\\"CME_I31\\\",  # 30 Year USD Deliverable Interest Rate Swap Futures\\n    \\\"CME_KI1\\\",  # ISO New England Monthly Off Peak LMP Swap Future\\n    \\\"CME_N1U1\\\",  # 10 Year USD Deliverable Interest Rate Swap Futures\\n    \\\"CME_NN1\\\",  # Henry Hub Swap Futures\\n    \\\"CME_SA1\\\",  # 5 Year USD Deliverable Interest Rate Swap Futures\\n    \\\"CME_TN1\\\",  # Ultra 10-Year U.S. Treasury Note Futures\\n    \\\"CME_UL1\\\",  # Ultra U.S. Treasury Bond Futures\\n    \\\"CME_US1\\\",  # U.S. Treasury Bond Futures\\n]\";\n",
       "                var nbb_cells = Jupyter.notebook.get_cells();\n",
       "                for (var i = 0; i < nbb_cells.length; ++i) {\n",
       "                    if (nbb_cells[i].input_prompt_number == nbb_cell_id) {\n",
       "                        if (nbb_cells[i].get_text() == nbb_unformatted_code) {\n",
       "                             nbb_cells[i].set_text(nbb_formatted_code);\n",
       "                        }\n",
       "                        break;\n",
       "                    }\n",
       "                }\n",
       "            }, 500);\n",
       "            "
      ],
      "text/plain": [
       "<IPython.core.display.Javascript object>"
      ]
     },
     "metadata": {},
     "output_type": "display_data"
    }
   ],
   "source": [
    "interest_rates = [\n",
    "    \"CME_ED1\",  # Eurodollar Futures\n",
    "    \"CME_EM1\",  # 1-month Eurodollar Futures\n",
    "    \"CME_FF1\",  # 30 Day Federal Funds Futures\n",
    "    \"CME_I31\",  # 30 Year USD Deliverable Interest Rate Swap Futures\n",
    "    \"CME_KI1\",  # ISO New England Monthly Off Peak LMP Swap Future\n",
    "    \"CME_N1U1\",  # 10 Year USD Deliverable Interest Rate Swap Futures\n",
    "    \"CME_NN1\",  # Henry Hub Swap Futures\n",
    "    \"CME_SA1\",  # 5 Year USD Deliverable Interest Rate Swap Futures\n",
    "    \"CME_TN1\",  # Ultra 10-Year U.S. Treasury Note Futures\n",
    "    \"CME_UL1\",  # Ultra U.S. Treasury Bond Futures\n",
    "    \"CME_US1\",  # U.S. Treasury Bond Futures\n",
    "]"
   ]
  },
  {
   "cell_type": "markdown",
   "metadata": {},
   "source": [
    "Get the data for the markets we are interested in:"
   ]
  },
  {
   "cell_type": "code",
   "execution_count": 16,
   "metadata": {},
   "outputs": [
    {
     "data": {
      "text/plain": [
       "71"
      ]
     },
     "execution_count": 16,
     "metadata": {},
     "output_type": "execute_result"
    },
    {
     "data": {
      "application/javascript": [
       "\n",
       "            setTimeout(function() {\n",
       "                var nbb_cell_id = 16;\n",
       "                var nbb_unformatted_code = \"all_markets = (\\n    currencies\\n    + agricultural\\n    + livestock\\n    + milk\\n    + energy\\n    + equity_index\\n    + metals\\n    + interest_rates\\n)\\n\\nlen(all_markets)\";\n",
       "                var nbb_formatted_code = \"all_markets = (\\n    currencies\\n    + agricultural\\n    + livestock\\n    + milk\\n    + energy\\n    + equity_index\\n    + metals\\n    + interest_rates\\n)\\n\\nlen(all_markets)\";\n",
       "                var nbb_cells = Jupyter.notebook.get_cells();\n",
       "                for (var i = 0; i < nbb_cells.length; ++i) {\n",
       "                    if (nbb_cells[i].input_prompt_number == nbb_cell_id) {\n",
       "                        if (nbb_cells[i].get_text() == nbb_unformatted_code) {\n",
       "                             nbb_cells[i].set_text(nbb_formatted_code);\n",
       "                        }\n",
       "                        break;\n",
       "                    }\n",
       "                }\n",
       "            }, 500);\n",
       "            "
      ],
      "text/plain": [
       "<IPython.core.display.Javascript object>"
      ]
     },
     "metadata": {},
     "output_type": "display_data"
    }
   ],
   "source": [
    "all_markets = (\n",
    "    currencies\n",
    "    + agricultural\n",
    "    + livestock\n",
    "    + milk\n",
    "    + energy\n",
    "    + equity_index\n",
    "    + metals\n",
    "    + interest_rates\n",
    ")\n",
    "\n",
    "len(all_markets)"
   ]
  },
  {
   "cell_type": "code",
   "execution_count": 17,
   "metadata": {
    "scrolled": true
   },
   "outputs": [
    {
     "name": "stdout",
     "output_type": "stream",
     "text": [
      "1. Downloading CME_EC1 ...\n",
      "11. Downloading CME_MP1 ...\n",
      "21. Downloading CME_SM1 ...\n",
      "31. Downloading CME_DK1 ...\n",
      "41. Downloading CME_ES1 ...\n",
      "51. Downloading CME_NQ1 ...\n",
      "61. Downloading CME_ED1 ...\n",
      "71. Downloading CME_US1 ...\n",
      "CPU times: user 1min 26s, sys: 1.18 s, total: 1min 27s\n",
      "Wall time: 3min 48s\n"
     ]
    },
    {
     "data": {
      "application/javascript": [
       "\n",
       "            setTimeout(function() {\n",
       "                var nbb_cell_id = 17;\n",
       "                var nbb_unformatted_code = \"%%time\\n\\ndata = []\\n\\n\\ndef has_required_columns(df):\\n    required_columns = {\\\"Open\\\", \\\"High\\\", \\\"Low\\\", \\\"Last\\\", \\\"Volume\\\"}\\n    available_columns = set(df.columns)\\n\\n    return available_columns.issuperset(required_columns)\\n\\n\\nfor i, market in enumerate(all_markets):\\n    if i % 10 == 0:\\n        print(f\\\"{i + 1}. Downloading {market} ...\\\")\\n        \\n    df = quandl.get(f\\\"CHRIS/{market}\\\", start_date = start_date, end_date = end_date)\\n    if df.empty:\\n        print(f\\\"{i+1}. {market} is empty\\\")\\n        continue\\n    \\n    \\n    # probably a bad way to deal with days where there are no/missing values\\n    df = df.fillna(0).fillna(method=\\\"ffill\\\")\\n        \\n    df[\\\"code\\\"] = market\\n    \\n    if has_required_columns(df):\\n        data.append(df)\\n    else:\\n        print(f\\\"{i + 1}. {market} rejected ...\\\")\";\n",
       "                var nbb_formatted_code = \"%%time\\n\\ndata = []\\n\\n\\ndef has_required_columns(df):\\n    required_columns = {\\\"Open\\\", \\\"High\\\", \\\"Low\\\", \\\"Last\\\", \\\"Volume\\\"}\\n    available_columns = set(df.columns)\\n\\n    return available_columns.issuperset(required_columns)\\n\\n\\nfor i, market in enumerate(all_markets):\\n    if i % 10 == 0:\\n        print(f\\\"{i + 1}. Downloading {market} ...\\\")\\n        \\n    df = quandl.get(f\\\"CHRIS/{market}\\\", start_date = start_date, end_date = end_date)\\n    if df.empty:\\n        print(f\\\"{i+1}. {market} is empty\\\")\\n        continue\\n    \\n    \\n    # probably a bad way to deal with days where there are no/missing values\\n    df = df.fillna(0).fillna(method=\\\"ffill\\\")\\n        \\n    df[\\\"code\\\"] = market\\n    \\n    if has_required_columns(df):\\n        data.append(df)\\n    else:\\n        print(f\\\"{i + 1}. {market} rejected ...\\\")\";\n",
       "                var nbb_cells = Jupyter.notebook.get_cells();\n",
       "                for (var i = 0; i < nbb_cells.length; ++i) {\n",
       "                    if (nbb_cells[i].input_prompt_number == nbb_cell_id) {\n",
       "                        if (nbb_cells[i].get_text() == nbb_unformatted_code) {\n",
       "                             nbb_cells[i].set_text(nbb_formatted_code);\n",
       "                        }\n",
       "                        break;\n",
       "                    }\n",
       "                }\n",
       "            }, 500);\n",
       "            "
      ],
      "text/plain": [
       "<IPython.core.display.Javascript object>"
      ]
     },
     "metadata": {},
     "output_type": "display_data"
    }
   ],
   "source": [
    "%%time\n",
    "\n",
    "data = []\n",
    "\n",
    "\n",
    "def has_required_columns(df):\n",
    "    required_columns = {\"Open\", \"High\", \"Low\", \"Last\", \"Volume\"}\n",
    "    available_columns = set(df.columns)\n",
    "\n",
    "    return available_columns.issuperset(required_columns)\n",
    "\n",
    "\n",
    "for i, market in enumerate(all_markets):\n",
    "    if i % 10 == 0:\n",
    "        print(f\"{i + 1}. Downloading {market} ...\")\n",
    "        \n",
    "    df = quandl.get(f\"CHRIS/{market}\", start_date = start_date, end_date = end_date)\n",
    "    if df.empty:\n",
    "        print(f\"{i+1}. {market} is empty\")\n",
    "        continue\n",
    "    \n",
    "    \n",
    "    # probably a bad way to deal with days where there are no/missing values\n",
    "    df = df.fillna(0).fillna(method=\"ffill\")\n",
    "        \n",
    "    df[\"code\"] = market\n",
    "    \n",
    "    if has_required_columns(df):\n",
    "        data.append(df)\n",
    "    else:\n",
    "        print(f\"{i + 1}. {market} rejected ...\")"
   ]
  },
  {
   "cell_type": "markdown",
   "metadata": {},
   "source": [
    "The markets we finally end up with:"
   ]
  },
  {
   "cell_type": "code",
   "execution_count": 18,
   "metadata": {},
   "outputs": [
    {
     "data": {
      "text/plain": [
       "71"
      ]
     },
     "execution_count": 18,
     "metadata": {},
     "output_type": "execute_result"
    },
    {
     "data": {
      "application/javascript": [
       "\n",
       "            setTimeout(function() {\n",
       "                var nbb_cell_id = 18;\n",
       "                var nbb_unformatted_code = \"all_markets = pd.concat(data)[\\\"code\\\"].unique().tolist()\\nlen(all_markets)\";\n",
       "                var nbb_formatted_code = \"all_markets = pd.concat(data)[\\\"code\\\"].unique().tolist()\\nlen(all_markets)\";\n",
       "                var nbb_cells = Jupyter.notebook.get_cells();\n",
       "                for (var i = 0; i < nbb_cells.length; ++i) {\n",
       "                    if (nbb_cells[i].input_prompt_number == nbb_cell_id) {\n",
       "                        if (nbb_cells[i].get_text() == nbb_unformatted_code) {\n",
       "                             nbb_cells[i].set_text(nbb_formatted_code);\n",
       "                        }\n",
       "                        break;\n",
       "                    }\n",
       "                }\n",
       "            }, 500);\n",
       "            "
      ],
      "text/plain": [
       "<IPython.core.display.Javascript object>"
      ]
     },
     "metadata": {},
     "output_type": "display_data"
    }
   ],
   "source": [
    "all_markets = pd.concat(data)[\"code\"].unique().tolist()\n",
    "len(all_markets)"
   ]
  },
  {
   "cell_type": "code",
   "execution_count": 19,
   "metadata": {
    "scrolled": true
   },
   "outputs": [
    {
     "data": {
      "text/plain": [
       "['CME_EC1',\n",
       " 'CME_E71',\n",
       " 'CME_JY1',\n",
       " 'CME_J71',\n",
       " 'CME_AD1',\n",
       " 'CME_BP1',\n",
       " 'CME_CD1',\n",
       " 'CME_SF1',\n",
       " 'CME_NE1',\n",
       " 'CME_CNH1',\n",
       " 'CME_MP1',\n",
       " 'CME_BR1',\n",
       " 'CME_RA1',\n",
       " 'CME_RU1',\n",
       " 'CME_BO1',\n",
       " 'CME_C1',\n",
       " 'CME_KW1',\n",
       " 'CME_O1',\n",
       " 'CME_RR1',\n",
       " 'CME_S1',\n",
       " 'CME_SM1',\n",
       " 'CME_W1',\n",
       " 'CME_YC1',\n",
       " 'CME_YK1',\n",
       " 'CME_FC1',\n",
       " 'CME_LC1',\n",
       " 'CME_LN1',\n",
       " 'CME_CB1',\n",
       " 'CME_CSC1',\n",
       " 'CME_DA1',\n",
       " 'CME_DK1',\n",
       " 'CME_DY1',\n",
       " 'CME_NF1',\n",
       " 'CME_BB1',\n",
       " 'CME_CL1',\n",
       " 'CME_CPO1',\n",
       " 'CME_NG1',\n",
       " 'CME_QG1',\n",
       " 'CME_QL1',\n",
       " 'CME_QM1',\n",
       " 'CME_ES1',\n",
       " 'CME_GA1',\n",
       " 'CME_GI1',\n",
       " 'CME_IBV1',\n",
       " 'CME_JR1',\n",
       " 'CME_MD1',\n",
       " 'CME_ME1',\n",
       " 'CME_N1Y1',\n",
       " 'CME_ND1',\n",
       " 'CME_NK1',\n",
       " 'CME_NQ1',\n",
       " 'CME_SP1',\n",
       " 'CME_YM1',\n",
       " 'CME_ALI1',\n",
       " 'CME_GC1',\n",
       " 'CME_HG1',\n",
       " 'CME_HR1',\n",
       " 'CME_MGC1',\n",
       " 'CME_SI1',\n",
       " 'CME_TIO1',\n",
       " 'CME_ED1',\n",
       " 'CME_EM1',\n",
       " 'CME_FF1',\n",
       " 'CME_I31',\n",
       " 'CME_KI1',\n",
       " 'CME_N1U1',\n",
       " 'CME_NN1',\n",
       " 'CME_SA1',\n",
       " 'CME_TN1',\n",
       " 'CME_UL1',\n",
       " 'CME_US1']"
      ]
     },
     "execution_count": 19,
     "metadata": {},
     "output_type": "execute_result"
    },
    {
     "data": {
      "application/javascript": [
       "\n",
       "            setTimeout(function() {\n",
       "                var nbb_cell_id = 19;\n",
       "                var nbb_unformatted_code = \"all_markets\";\n",
       "                var nbb_formatted_code = \"all_markets\";\n",
       "                var nbb_cells = Jupyter.notebook.get_cells();\n",
       "                for (var i = 0; i < nbb_cells.length; ++i) {\n",
       "                    if (nbb_cells[i].input_prompt_number == nbb_cell_id) {\n",
       "                        if (nbb_cells[i].get_text() == nbb_unformatted_code) {\n",
       "                             nbb_cells[i].set_text(nbb_formatted_code);\n",
       "                        }\n",
       "                        break;\n",
       "                    }\n",
       "                }\n",
       "            }, 500);\n",
       "            "
      ],
      "text/plain": [
       "<IPython.core.display.Javascript object>"
      ]
     },
     "metadata": {},
     "output_type": "display_data"
    }
   ],
   "source": [
    "all_markets"
   ]
  },
  {
   "cell_type": "markdown",
   "metadata": {},
   "source": [
    "Align the downloaded data with the trading calendar:"
   ]
  },
  {
   "cell_type": "code",
   "execution_count": 20,
   "metadata": {},
   "outputs": [
    {
     "data": {
      "application/javascript": [
       "\n",
       "            setTimeout(function() {\n",
       "                var nbb_cell_id = 20;\n",
       "                var nbb_unformatted_code = \"def get_calendar(calendar_name=\\\"CMES\\\", start_date=\\\"2001-01-01\\\", end_date=\\\"2020-11-06\\\"):\\n    cal = tc.get_calendar(calendar_name)\\n\\n    return cal.all_sessions[\\n        (cal.all_sessions >= start_date) & (cal.all_sessions <= end_date)\\n    ]\";\n",
       "                var nbb_formatted_code = \"def get_calendar(calendar_name=\\\"CMES\\\", start_date=\\\"2001-01-01\\\", end_date=\\\"2020-11-06\\\"):\\n    cal = tc.get_calendar(calendar_name)\\n\\n    return cal.all_sessions[\\n        (cal.all_sessions >= start_date) & (cal.all_sessions <= end_date)\\n    ]\";\n",
       "                var nbb_cells = Jupyter.notebook.get_cells();\n",
       "                for (var i = 0; i < nbb_cells.length; ++i) {\n",
       "                    if (nbb_cells[i].input_prompt_number == nbb_cell_id) {\n",
       "                        if (nbb_cells[i].get_text() == nbb_unformatted_code) {\n",
       "                             nbb_cells[i].set_text(nbb_formatted_code);\n",
       "                        }\n",
       "                        break;\n",
       "                    }\n",
       "                }\n",
       "            }, 500);\n",
       "            "
      ],
      "text/plain": [
       "<IPython.core.display.Javascript object>"
      ]
     },
     "metadata": {},
     "output_type": "display_data"
    }
   ],
   "source": [
    "def get_calendar(calendar_name=\"CMES\", start_date=\"2001-01-01\", end_date=\"2020-11-06\"):\n",
    "    cal = tc.get_calendar(calendar_name)\n",
    "\n",
    "    return cal.all_sessions[\n",
    "        (cal.all_sessions >= start_date) & (cal.all_sessions <= end_date)\n",
    "    ]"
   ]
  },
  {
   "cell_type": "code",
   "execution_count": 21,
   "metadata": {},
   "outputs": [
    {
     "data": {
      "application/javascript": [
       "\n",
       "            setTimeout(function() {\n",
       "                var nbb_cell_id = 21;\n",
       "                var nbb_unformatted_code = \"def align_data(df, dates):\\n    market = df[\\\"code\\\"][0]\\n    aligned_df = (\\n        df.tz_localize(\\\"utc\\\")\\n        .reindex(dates, axis=0)\\n        .fillna(0)\\n        .fillna(method=\\\"ffill\\\")\\n        .rename_axis(\\\"Date\\\", axis=\\\"index\\\")\\n    )\\n\\n    aligned_df[\\\"code\\\"] = market\\n\\n    return aligned_df\";\n",
       "                var nbb_formatted_code = \"def align_data(df, dates):\\n    market = df[\\\"code\\\"][0]\\n    aligned_df = (\\n        df.tz_localize(\\\"utc\\\")\\n        .reindex(dates, axis=0)\\n        .fillna(0)\\n        .fillna(method=\\\"ffill\\\")\\n        .rename_axis(\\\"Date\\\", axis=\\\"index\\\")\\n    )\\n\\n    aligned_df[\\\"code\\\"] = market\\n\\n    return aligned_df\";\n",
       "                var nbb_cells = Jupyter.notebook.get_cells();\n",
       "                for (var i = 0; i < nbb_cells.length; ++i) {\n",
       "                    if (nbb_cells[i].input_prompt_number == nbb_cell_id) {\n",
       "                        if (nbb_cells[i].get_text() == nbb_unformatted_code) {\n",
       "                             nbb_cells[i].set_text(nbb_formatted_code);\n",
       "                        }\n",
       "                        break;\n",
       "                    }\n",
       "                }\n",
       "            }, 500);\n",
       "            "
      ],
      "text/plain": [
       "<IPython.core.display.Javascript object>"
      ]
     },
     "metadata": {},
     "output_type": "display_data"
    }
   ],
   "source": [
    "def align_data(df, dates):\n",
    "    market = df[\"code\"][0]\n",
    "    aligned_df = (\n",
    "        df.tz_localize(\"utc\")\n",
    "        .reindex(dates, axis=0)\n",
    "        .fillna(0)\n",
    "        .fillna(method=\"ffill\")\n",
    "        .rename_axis(\"Date\", axis=\"index\")\n",
    "    )\n",
    "\n",
    "    aligned_df[\"code\"] = market\n",
    "\n",
    "    return aligned_df"
   ]
  },
  {
   "cell_type": "code",
   "execution_count": 22,
   "metadata": {},
   "outputs": [
    {
     "data": {
      "application/javascript": [
       "\n",
       "            setTimeout(function() {\n",
       "                var nbb_cell_id = 22;\n",
       "                var nbb_unformatted_code = \"cal = get_calendar(\\\"CMES\\\", start_date, end_date)\\n\\naligned_data = [align_data(d, cal) for d in data]\";\n",
       "                var nbb_formatted_code = \"cal = get_calendar(\\\"CMES\\\", start_date, end_date)\\n\\naligned_data = [align_data(d, cal) for d in data]\";\n",
       "                var nbb_cells = Jupyter.notebook.get_cells();\n",
       "                for (var i = 0; i < nbb_cells.length; ++i) {\n",
       "                    if (nbb_cells[i].input_prompt_number == nbb_cell_id) {\n",
       "                        if (nbb_cells[i].get_text() == nbb_unformatted_code) {\n",
       "                             nbb_cells[i].set_text(nbb_formatted_code);\n",
       "                        }\n",
       "                        break;\n",
       "                    }\n",
       "                }\n",
       "            }, 500);\n",
       "            "
      ],
      "text/plain": [
       "<IPython.core.display.Javascript object>"
      ]
     },
     "metadata": {},
     "output_type": "display_data"
    }
   ],
   "source": [
    "cal = get_calendar(\"CMES\", start_date, end_date)\n",
    "\n",
    "aligned_data = [align_data(d, cal) for d in data]"
   ]
  },
  {
   "cell_type": "markdown",
   "metadata": {},
   "source": [
    "Save the downloaded data into a temporary directory in a format expected by `csvdir_equities`:"
   ]
  },
  {
   "cell_type": "code",
   "execution_count": 23,
   "metadata": {},
   "outputs": [
    {
     "data": {
      "application/javascript": [
       "\n",
       "            setTimeout(function() {\n",
       "                var nbb_cell_id = 23;\n",
       "                var nbb_unformatted_code = \"%%bash\\nmkdir -p /tmp/futures_data/daily\";\n",
       "                var nbb_formatted_code = \"%%bash\\nmkdir -p /tmp/futures_data/daily\";\n",
       "                var nbb_cells = Jupyter.notebook.get_cells();\n",
       "                for (var i = 0; i < nbb_cells.length; ++i) {\n",
       "                    if (nbb_cells[i].input_prompt_number == nbb_cell_id) {\n",
       "                        if (nbb_cells[i].get_text() == nbb_unformatted_code) {\n",
       "                             nbb_cells[i].set_text(nbb_formatted_code);\n",
       "                        }\n",
       "                        break;\n",
       "                    }\n",
       "                }\n",
       "            }, 500);\n",
       "            "
      ],
      "text/plain": [
       "<IPython.core.display.Javascript object>"
      ]
     },
     "metadata": {},
     "output_type": "display_data"
    }
   ],
   "source": [
    "%%bash\n",
    "mkdir -p /tmp/futures_data/daily"
   ]
  },
  {
   "cell_type": "code",
   "execution_count": 24,
   "metadata": {},
   "outputs": [
    {
     "data": {
      "application/javascript": [
       "\n",
       "            setTimeout(function() {\n",
       "                var nbb_cell_id = 24;\n",
       "                var nbb_unformatted_code = \"def reformat_data(df):\\n    x = df.reset_index()\\n    x.columns = [c.lower() for c in x.columns]\\n    x = x.rename({\\\"last\\\": \\\"close\\\"}, axis=1)\\n    x = x[[\\\"date\\\", \\\"open\\\", \\\"high\\\", \\\"low\\\", \\\"close\\\", \\\"volume\\\"]]\\n    x[\\\"dividend\\\"] = 0\\n    x[\\\"split\\\"] = 1.0\\n\\n    return x\";\n",
       "                var nbb_formatted_code = \"def reformat_data(df):\\n    x = df.reset_index()\\n    x.columns = [c.lower() for c in x.columns]\\n    x = x.rename({\\\"last\\\": \\\"close\\\"}, axis=1)\\n    x = x[[\\\"date\\\", \\\"open\\\", \\\"high\\\", \\\"low\\\", \\\"close\\\", \\\"volume\\\"]]\\n    x[\\\"dividend\\\"] = 0\\n    x[\\\"split\\\"] = 1.0\\n\\n    return x\";\n",
       "                var nbb_cells = Jupyter.notebook.get_cells();\n",
       "                for (var i = 0; i < nbb_cells.length; ++i) {\n",
       "                    if (nbb_cells[i].input_prompt_number == nbb_cell_id) {\n",
       "                        if (nbb_cells[i].get_text() == nbb_unformatted_code) {\n",
       "                             nbb_cells[i].set_text(nbb_formatted_code);\n",
       "                        }\n",
       "                        break;\n",
       "                    }\n",
       "                }\n",
       "            }, 500);\n",
       "            "
      ],
      "text/plain": [
       "<IPython.core.display.Javascript object>"
      ]
     },
     "metadata": {},
     "output_type": "display_data"
    }
   ],
   "source": [
    "def reformat_data(df):\n",
    "    x = df.reset_index()\n",
    "    x.columns = [c.lower() for c in x.columns]\n",
    "    x = x.rename({\"last\": \"close\"}, axis=1)\n",
    "    x = x[[\"date\", \"open\", \"high\", \"low\", \"close\", \"volume\"]]\n",
    "    x[\"dividend\"] = 0\n",
    "    x[\"split\"] = 1.0\n",
    "\n",
    "    return x"
   ]
  },
  {
   "cell_type": "code",
   "execution_count": 25,
   "metadata": {},
   "outputs": [
    {
     "name": "stdout",
     "output_type": "stream",
     "text": [
      "1. Saving CME_EC1 ...\n",
      "11. Saving CME_MP1 ...\n",
      "21. Saving CME_SM1 ...\n",
      "31. Saving CME_DK1 ...\n",
      "41. Saving CME_ES1 ...\n",
      "51. Saving CME_NQ1 ...\n",
      "61. Saving CME_ED1 ...\n",
      "71. Saving CME_US1 ...\n",
      "CPU times: user 14.3 s, sys: 270 ms, total: 14.5 s\n",
      "Wall time: 14.9 s\n"
     ]
    },
    {
     "data": {
      "application/javascript": [
       "\n",
       "            setTimeout(function() {\n",
       "                var nbb_cell_id = 25;\n",
       "                var nbb_unformatted_code = \"%%time\\n\\ntf = \\\"daily\\\"\\n\\nfor i, df in enumerate(aligned_data, 0):\\n    if df.empty:\\n        print(f\\\"{i + 1}. {m} is empty ...\\\")\\n        continue\\n        \\n    market = df[\\\"code\\\"][0]\\n\\n    if i % 10 == 0:\\n        print(f\\\"{i + 1}. Saving {market} ...\\\")\\n    reformat_data(df).to_csv(f\\\"/tmp/futures_data/{tf}/{market}.csv\\\", index=False)\";\n",
       "                var nbb_formatted_code = \"%%time\\n\\ntf = \\\"daily\\\"\\n\\nfor i, df in enumerate(aligned_data, 0):\\n    if df.empty:\\n        print(f\\\"{i + 1}. {m} is empty ...\\\")\\n        continue\\n        \\n    market = df[\\\"code\\\"][0]\\n\\n    if i % 10 == 0:\\n        print(f\\\"{i + 1}. Saving {market} ...\\\")\\n    reformat_data(df).to_csv(f\\\"/tmp/futures_data/{tf}/{market}.csv\\\", index=False)\";\n",
       "                var nbb_cells = Jupyter.notebook.get_cells();\n",
       "                for (var i = 0; i < nbb_cells.length; ++i) {\n",
       "                    if (nbb_cells[i].input_prompt_number == nbb_cell_id) {\n",
       "                        if (nbb_cells[i].get_text() == nbb_unformatted_code) {\n",
       "                             nbb_cells[i].set_text(nbb_formatted_code);\n",
       "                        }\n",
       "                        break;\n",
       "                    }\n",
       "                }\n",
       "            }, 500);\n",
       "            "
      ],
      "text/plain": [
       "<IPython.core.display.Javascript object>"
      ]
     },
     "metadata": {},
     "output_type": "display_data"
    }
   ],
   "source": [
    "%%time\n",
    "\n",
    "tf = \"daily\"\n",
    "\n",
    "for i, df in enumerate(aligned_data, 0):\n",
    "    if df.empty:\n",
    "        print(f\"{i + 1}. {m} is empty ...\")\n",
    "        continue\n",
    "        \n",
    "    market = df[\"code\"][0]\n",
    "\n",
    "    if i % 10 == 0:\n",
    "        print(f\"{i + 1}. Saving {market} ...\")\n",
    "    reformat_data(df).to_csv(f\"/tmp/futures_data/{tf}/{market}.csv\", index=False)\n"
   ]
  },
  {
   "cell_type": "markdown",
   "metadata": {},
   "source": [
    "Check the start and end date:"
   ]
  },
  {
   "cell_type": "code",
   "execution_count": 26,
   "metadata": {},
   "outputs": [
    {
     "name": "stdout",
     "output_type": "stream",
     "text": [
      "start_session: 2001-01-02 00:00:00+00:00\n",
      "end_session: 2020-11-06 00:00:00+00:00\n"
     ]
    },
    {
     "data": {
      "application/javascript": [
       "\n",
       "            setTimeout(function() {\n",
       "                var nbb_cell_id = 26;\n",
       "                var nbb_unformatted_code = \"start_session = pd.Timestamp(pd.concat(aligned_data).index.min(), tz=\\\"utc\\\")\\nend_session = pd.Timestamp(pd.concat(aligned_data).index.max(), tz=\\\"utc\\\")\\n\\nprint(f\\\"start_session: {start_session}\\\")\\nprint(f\\\"end_session: {end_session}\\\")\";\n",
       "                var nbb_formatted_code = \"start_session = pd.Timestamp(pd.concat(aligned_data).index.min(), tz=\\\"utc\\\")\\nend_session = pd.Timestamp(pd.concat(aligned_data).index.max(), tz=\\\"utc\\\")\\n\\nprint(f\\\"start_session: {start_session}\\\")\\nprint(f\\\"end_session: {end_session}\\\")\";\n",
       "                var nbb_cells = Jupyter.notebook.get_cells();\n",
       "                for (var i = 0; i < nbb_cells.length; ++i) {\n",
       "                    if (nbb_cells[i].input_prompt_number == nbb_cell_id) {\n",
       "                        if (nbb_cells[i].get_text() == nbb_unformatted_code) {\n",
       "                             nbb_cells[i].set_text(nbb_formatted_code);\n",
       "                        }\n",
       "                        break;\n",
       "                    }\n",
       "                }\n",
       "            }, 500);\n",
       "            "
      ],
      "text/plain": [
       "<IPython.core.display.Javascript object>"
      ]
     },
     "metadata": {},
     "output_type": "display_data"
    }
   ],
   "source": [
    "start_session = pd.Timestamp(pd.concat(aligned_data).index.min(), tz=\"utc\")\n",
    "end_session = pd.Timestamp(pd.concat(aligned_data).index.max(), tz=\"utc\")\n",
    "\n",
    "print(f\"start_session: {start_session}\")\n",
    "print(f\"end_session: {end_session}\")"
   ]
  },
  {
   "cell_type": "markdown",
   "metadata": {},
   "source": [
    "Now to ingest the bundle:"
   ]
  },
  {
   "cell_type": "code",
   "execution_count": 27,
   "metadata": {},
   "outputs": [
    {
     "name": "stdout",
     "output_type": "stream",
     "text": [
      "Appending to /root/.zipline/extension.py\n"
     ]
    },
    {
     "data": {
      "application/javascript": [
       "\n",
       "            setTimeout(function() {\n",
       "                var nbb_cell_id = 27;\n",
       "                var nbb_unformatted_code = \"%%writefile -a ~/.zipline/extension.py\\n\\nfrom zipline.data.bundles import register\\nfrom zipline.data.bundles.csvdir import csvdir_equities\\n\\nbundle_name = \\\"quandl_chris\\\"\\n\\n\\nregister(\\n    bundle_name, csvdir_equities([\\\"daily\\\"], \\\"/tmp/futures_data\\\"), calendar_name=\\\"CMES\\\"\\n)\";\n",
       "                var nbb_formatted_code = \"%%writefile -a ~/.zipline/extension.py\\n\\nfrom zipline.data.bundles import register\\nfrom zipline.data.bundles.csvdir import csvdir_equities\\n\\nbundle_name = \\\"quandl_chris\\\"\\n\\n\\nregister(\\n    bundle_name, csvdir_equities([\\\"daily\\\"], \\\"/tmp/futures_data\\\"), calendar_name=\\\"CMES\\\"\\n)\";\n",
       "                var nbb_cells = Jupyter.notebook.get_cells();\n",
       "                for (var i = 0; i < nbb_cells.length; ++i) {\n",
       "                    if (nbb_cells[i].input_prompt_number == nbb_cell_id) {\n",
       "                        if (nbb_cells[i].get_text() == nbb_unformatted_code) {\n",
       "                             nbb_cells[i].set_text(nbb_formatted_code);\n",
       "                        }\n",
       "                        break;\n",
       "                    }\n",
       "                }\n",
       "            }, 500);\n",
       "            "
      ],
      "text/plain": [
       "<IPython.core.display.Javascript object>"
      ]
     },
     "metadata": {},
     "output_type": "display_data"
    }
   ],
   "source": [
    "%%writefile -a ~/.zipline/extension.py\n",
    "\n",
    "from zipline.data.bundles import register\n",
    "from zipline.data.bundles.csvdir import csvdir_equities\n",
    "\n",
    "bundle_name = \"quandl_chris\"\n",
    "\n",
    "\n",
    "register(\n",
    "    bundle_name, csvdir_equities([\"daily\"], \"/tmp/futures_data\"), calendar_name=\"CMES\"\n",
    ")"
   ]
  },
  {
   "cell_type": "code",
   "execution_count": 28,
   "metadata": {
    "scrolled": true
   },
   "outputs": [
    {
     "name": "stdout",
     "output_type": "stream",
     "text": [
      " | CME_AD1: sid 0\n",
      " | CME_ALI1: sid 1\n",
      " | CME_BB1: sid 2\n",
      " | CME_BO1: sid 3\n",
      " | CME_BP1: sid 4\n",
      " | CME_BR1: sid 5\n",
      " | CME_C1: sid 6\n",
      " | CME_CB1: sid 7\n",
      " | CME_CD1: sid 8\n",
      " | CME_CL1: sid 9\n",
      " | CME_CNH1: sid 10\n",
      " | CME_CPO1: sid 11\n",
      " | CME_CSC1: sid 12\n",
      " | CME_DA1: sid 13\n",
      " | CME_DK1: sid 14\n",
      " | CME_DY1: sid 15\n",
      " | CME_E71: sid 16\n",
      " | CME_EC1: sid 17\n",
      " | CME_ED1: sid 18\n",
      " | CME_EM1: sid 19\n",
      " | CME_ES1: sid 20\n",
      " | CME_FC1: sid 21\n",
      " | CME_FF1: sid 22\n",
      " | CME_GA1: sid 23\n",
      " | CME_GC1: sid 24\n",
      " | CME_GI1: sid 25\n",
      " | CME_HG1: sid 26\n",
      " | CME_HR1: sid 27\n",
      " | CME_I31: sid 28\n",
      " | CME_IBV1: sid 29\n",
      " | CME_J71: sid 30\n",
      " | CME_JR1: sid 31\n",
      " | CME_JY1: sid 32\n",
      " | CME_KI1: sid 33\n",
      " | CME_KW1: sid 34\n",
      " | CME_LC1: sid 35\n",
      " | CME_LN1: sid 36\n",
      " | CME_MD1: sid 37\n",
      " | CME_ME1: sid 38\n",
      " | CME_MGC1: sid 39\n",
      " | CME_MP1: sid 40\n",
      " | CME_N1U1: sid 41\n",
      " | CME_N1Y1: sid 42\n",
      " | CME_ND1: sid 43\n",
      " | CME_NE1: sid 44\n",
      " | CME_NF1: sid 45\n",
      " | CME_NG1: sid 46\n",
      " | CME_NK1: sid 47\n",
      " | CME_NN1: sid 48\n",
      " | CME_NQ1: sid 49\n",
      " | CME_O1: sid 50\n",
      " | CME_QG1: sid 51\n",
      " | CME_QL1: sid 52\n",
      " | CME_QM1: sid 53\n",
      " | CME_RA1: sid 54\n",
      " | CME_RR1: sid 55\n",
      " | CME_RU1: sid 56\n",
      " | CME_S1: sid 57\n",
      " | CME_SA1: sid 58\n",
      " | CME_SF1: sid 59\n",
      " | CME_SI1: sid 60\n",
      " | CME_SM1: sid 61\n",
      " | CME_SP1: sid 62\n",
      " | CME_TIO1: sid 63\n",
      " | CME_TN1: sid 64\n",
      " | CME_UL1: sid 65\n",
      " | CME_US1: sid 66\n",
      " | CME_W1: sid 67\n",
      " | CME_YC1: sid 68\n",
      " | CME_YK1: sid 69\n",
      " | CME_YM1: sid 70\n"
     ]
    },
    {
     "name": "stderr",
     "output_type": "stream",
     "text": [
      "fatal: not a git repository (or any of the parent directories): .git\n",
      "[2020-11-08 23:22:40.281430] INFO: zipline.data.bundles.core: Ingesting quandl_chris.\n"
     ]
    },
    {
     "data": {
      "application/javascript": [
       "\n",
       "            setTimeout(function() {\n",
       "                var nbb_cell_id = 28;\n",
       "                var nbb_unformatted_code = \"%%bash\\n\\nzipline ingest -b quandl_chris\";\n",
       "                var nbb_formatted_code = \"%%bash\\n\\nzipline ingest -b quandl_chris\";\n",
       "                var nbb_cells = Jupyter.notebook.get_cells();\n",
       "                for (var i = 0; i < nbb_cells.length; ++i) {\n",
       "                    if (nbb_cells[i].input_prompt_number == nbb_cell_id) {\n",
       "                        if (nbb_cells[i].get_text() == nbb_unformatted_code) {\n",
       "                             nbb_cells[i].set_text(nbb_formatted_code);\n",
       "                        }\n",
       "                        break;\n",
       "                    }\n",
       "                }\n",
       "            }, 500);\n",
       "            "
      ],
      "text/plain": [
       "<IPython.core.display.Javascript object>"
      ]
     },
     "metadata": {},
     "output_type": "display_data"
    }
   ],
   "source": [
    "%%bash\n",
    "\n",
    "zipline ingest -b quandl_chris"
   ]
  },
  {
   "cell_type": "markdown",
   "metadata": {},
   "source": [
    "Check that ingestion is indeed successful:"
   ]
  },
  {
   "cell_type": "code",
   "execution_count": 29,
   "metadata": {},
   "outputs": [
    {
     "name": "stdout",
     "output_type": "stream",
     "text": [
      "csvdir <no ingestions>\n",
      "quandl 2020-07-01 17:26:24.698424\n",
      "quandl_chris 2020-11-08 23:22:38.756757\n",
      "quantopian-quandl <no ingestions>\n"
     ]
    },
    {
     "name": "stderr",
     "output_type": "stream",
     "text": [
      "fatal: not a git repository (or any of the parent directories): .git\n"
     ]
    },
    {
     "data": {
      "application/javascript": [
       "\n",
       "            setTimeout(function() {\n",
       "                var nbb_cell_id = 29;\n",
       "                var nbb_unformatted_code = \"%%bash\\nzipline bundles\";\n",
       "                var nbb_formatted_code = \"%%bash\\nzipline bundles\";\n",
       "                var nbb_cells = Jupyter.notebook.get_cells();\n",
       "                for (var i = 0; i < nbb_cells.length; ++i) {\n",
       "                    if (nbb_cells[i].input_prompt_number == nbb_cell_id) {\n",
       "                        if (nbb_cells[i].get_text() == nbb_unformatted_code) {\n",
       "                             nbb_cells[i].set_text(nbb_formatted_code);\n",
       "                        }\n",
       "                        break;\n",
       "                    }\n",
       "                }\n",
       "            }, 500);\n",
       "            "
      ],
      "text/plain": [
       "<IPython.core.display.Javascript object>"
      ]
     },
     "metadata": {},
     "output_type": "display_data"
    }
   ],
   "source": [
    "%%bash\n",
    "zipline bundles"
   ]
  }
 ],
 "metadata": {
  "kernelspec": {
   "display_name": "Python 3",
   "language": "python",
   "name": "python3"
  },
  "language_info": {
   "codemirror_mode": {
    "name": "ipython",
    "version": 3
   },
   "file_extension": ".py",
   "mimetype": "text/x-python",
   "name": "python",
   "nbconvert_exporter": "python",
   "pygments_lexer": "ipython3",
   "version": "3.6.12"
  }
 },
 "nbformat": 4,
 "nbformat_minor": 4
}
