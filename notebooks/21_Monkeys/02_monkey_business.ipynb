{
 "cells": [
  {
   "cell_type": "code",
   "execution_count": 1,
   "metadata": {},
   "outputs": [
    {
     "data": {
      "application/javascript": [
       "\n",
       "            setTimeout(function() {\n",
       "                var nbb_cell_id = 1;\n",
       "                var nbb_unformatted_code = \"%load_ext nb_black\";\n",
       "                var nbb_formatted_code = \"%load_ext nb_black\";\n",
       "                var nbb_cells = Jupyter.notebook.get_cells();\n",
       "                for (var i = 0; i < nbb_cells.length; ++i) {\n",
       "                    if (nbb_cells[i].input_prompt_number == nbb_cell_id) {\n",
       "                        if (nbb_cells[i].get_text() == nbb_unformatted_code) {\n",
       "                             nbb_cells[i].set_text(nbb_formatted_code);\n",
       "                        }\n",
       "                        break;\n",
       "                    }\n",
       "                }\n",
       "            }, 500);\n",
       "            "
      ],
      "text/plain": [
       "<IPython.core.display.Javascript object>"
      ]
     },
     "metadata": {},
     "output_type": "display_data"
    }
   ],
   "source": [
    "%load_ext nb_black"
   ]
  },
  {
   "cell_type": "code",
   "execution_count": 2,
   "metadata": {},
   "outputs": [
    {
     "data": {
      "application/javascript": [
       "\n",
       "            setTimeout(function() {\n",
       "                var nbb_cell_id = 2;\n",
       "                var nbb_unformatted_code = \"import zipline\\nfrom zipline.api import (\\n    order_target_percent,\\n    symbol,\\n    set_commission,\\n    set_slippage,\\n    schedule_function,\\n    date_rules,\\n    time_rules,\\n)\\n\\nfrom zipline.errors import SymbolNotFound\\nfrom zipline.assets import Equity\\n\\nfrom typing import List\\n\\nfrom zipline.finance.commission import PerTrade, PerDollar\\nfrom zipline.finance.slippage import VolumeShareSlippage, FixedSlippage\\n\\nfrom datetime import datetime\\nimport pytz\\nimport pandas as pd\\nimport numpy as np\\n\\n# To generate random numbers\\nfrom random import random, seed, randrange\";\n",
       "                var nbb_formatted_code = \"import zipline\\nfrom zipline.api import (\\n    order_target_percent,\\n    symbol,\\n    set_commission,\\n    set_slippage,\\n    schedule_function,\\n    date_rules,\\n    time_rules,\\n)\\n\\nfrom zipline.errors import SymbolNotFound\\nfrom zipline.assets import Equity\\n\\nfrom typing import List\\n\\nfrom zipline.finance.commission import PerTrade, PerDollar\\nfrom zipline.finance.slippage import VolumeShareSlippage, FixedSlippage\\n\\nfrom datetime import datetime\\nimport pytz\\nimport pandas as pd\\nimport numpy as np\\n\\n# To generate random numbers\\nfrom random import random, seed, randrange\";\n",
       "                var nbb_cells = Jupyter.notebook.get_cells();\n",
       "                for (var i = 0; i < nbb_cells.length; ++i) {\n",
       "                    if (nbb_cells[i].input_prompt_number == nbb_cell_id) {\n",
       "                        if (nbb_cells[i].get_text() == nbb_unformatted_code) {\n",
       "                             nbb_cells[i].set_text(nbb_formatted_code);\n",
       "                        }\n",
       "                        break;\n",
       "                    }\n",
       "                }\n",
       "            }, 500);\n",
       "            "
      ],
      "text/plain": [
       "<IPython.core.display.Javascript object>"
      ]
     },
     "metadata": {},
     "output_type": "display_data"
    }
   ],
   "source": [
    "import zipline\n",
    "from zipline.api import (\n",
    "    order_target_percent,\n",
    "    symbol,\n",
    "    set_commission,\n",
    "    set_slippage,\n",
    "    schedule_function,\n",
    "    date_rules,\n",
    "    time_rules,\n",
    ")\n",
    "\n",
    "from zipline.errors import SymbolNotFound\n",
    "from zipline.assets import Equity\n",
    "\n",
    "from typing import List\n",
    "\n",
    "from zipline.finance.commission import PerTrade, PerDollar\n",
    "from zipline.finance.slippage import VolumeShareSlippage, FixedSlippage\n",
    "\n",
    "from datetime import datetime\n",
    "import pytz\n",
    "import pandas as pd\n",
    "import numpy as np\n",
    "\n",
    "# To generate random numbers\n",
    "from random import random, seed, randrange"
   ]
  },
  {
   "cell_type": "markdown",
   "metadata": {},
   "source": [
    "Import the S&P 500 membership data from Andreas Clenow's [website](https://www.followingthetrend.com/trading-evolved/)::"
   ]
  },
  {
   "cell_type": "code",
   "execution_count": 3,
   "metadata": {},
   "outputs": [
    {
     "name": "stdout",
     "output_type": "stream",
     "text": [
      "total 7.5M\n",
      "drwxr-xr-x 2 root root 4.0K Jul 15  2019 .\n",
      "drwxr-xr-x 3 root root 4.0K Aug  7  2019 ..\n",
      "-rw-r--r-- 1 root root 7.5M May 22  2019 sp500.csv\n"
     ]
    },
    {
     "data": {
      "application/javascript": [
       "\n",
       "            setTimeout(function() {\n",
       "                var nbb_cell_id = 3;\n",
       "                var nbb_unformatted_code = \"%%bash\\ncd /tmp\\nrm -rf trading_evolved\\nrm -f trading_evolved.zip\\n\\nwget -q -O trading_evolved.zip https://dl.dropbox.com/s/tj85sufbsi820ya/Trading%20Evolved.zip?dl=1\\nunzip -q -d trading_evolved trading_evolved.zip\\nls -lah trading_evolved/data/index_members\";\n",
       "                var nbb_formatted_code = \"%%bash\\ncd /tmp\\nrm -rf trading_evolved\\nrm -f trading_evolved.zip\\n\\nwget -q -O trading_evolved.zip https://dl.dropbox.com/s/tj85sufbsi820ya/Trading%20Evolved.zip?dl=1\\nunzip -q -d trading_evolved trading_evolved.zip\\nls -lah trading_evolved/data/index_members\";\n",
       "                var nbb_cells = Jupyter.notebook.get_cells();\n",
       "                for (var i = 0; i < nbb_cells.length; ++i) {\n",
       "                    if (nbb_cells[i].input_prompt_number == nbb_cell_id) {\n",
       "                        if (nbb_cells[i].get_text() == nbb_unformatted_code) {\n",
       "                             nbb_cells[i].set_text(nbb_formatted_code);\n",
       "                        }\n",
       "                        break;\n",
       "                    }\n",
       "                }\n",
       "            }, 500);\n",
       "            "
      ],
      "text/plain": [
       "<IPython.core.display.Javascript object>"
      ]
     },
     "metadata": {},
     "output_type": "display_data"
    }
   ],
   "source": [
    "%%bash\n",
    "cd /tmp\n",
    "rm -rf trading_evolved\n",
    "rm -f trading_evolved.zip\n",
    "\n",
    "wget -q -O trading_evolved.zip https://dl.dropbox.com/s/tj85sufbsi820ya/Trading%20Evolved.zip?dl=1\n",
    "unzip -q -d trading_evolved trading_evolved.zip\n",
    "ls -lah trading_evolved/data/index_members"
   ]
  },
  {
   "cell_type": "code",
   "execution_count": 4,
   "metadata": {},
   "outputs": [
    {
     "data": {
      "application/javascript": [
       "\n",
       "            setTimeout(function() {\n",
       "                var nbb_cell_id = 4;\n",
       "                var nbb_unformatted_code = \"DATA_FOLDER = \\\"/tmp/trading_evolved/data/index_members\\\"\";\n",
       "                var nbb_formatted_code = \"DATA_FOLDER = \\\"/tmp/trading_evolved/data/index_members\\\"\";\n",
       "                var nbb_cells = Jupyter.notebook.get_cells();\n",
       "                for (var i = 0; i < nbb_cells.length; ++i) {\n",
       "                    if (nbb_cells[i].input_prompt_number == nbb_cell_id) {\n",
       "                        if (nbb_cells[i].get_text() == nbb_unformatted_code) {\n",
       "                             nbb_cells[i].set_text(nbb_formatted_code);\n",
       "                        }\n",
       "                        break;\n",
       "                    }\n",
       "                }\n",
       "            }, 500);\n",
       "            "
      ],
      "text/plain": [
       "<IPython.core.display.Javascript object>"
      ]
     },
     "metadata": {},
     "output_type": "display_data"
    }
   ],
   "source": [
    "DATA_FOLDER = \"/tmp/trading_evolved/data/index_members\""
   ]
  },
  {
   "cell_type": "code",
   "execution_count": 5,
   "metadata": {},
   "outputs": [
    {
     "data": {
      "application/javascript": [
       "\n",
       "            setTimeout(function() {\n",
       "                var nbb_cell_id = 5;\n",
       "                var nbb_unformatted_code = \"\\\"\\\"\\\"\\nSettings\\n\\\"\\\"\\\"\\nnumber_of_runs = 10\\nrandom_portfolio_size = False\\nnumber_of_stocks = 50  # portfolio size, if not random\\nsizing_method = \\\"equal\\\"  # equal or random\\n\\nenable_commission = False\\ncommission_pct = 0.001\\nenable_slippage = False\\nslippage_volume_limit = 0.25\\nslippage_impact = 0.05\";\n",
       "                var nbb_formatted_code = \"\\\"\\\"\\\"\\nSettings\\n\\\"\\\"\\\"\\nnumber_of_runs = 10\\nrandom_portfolio_size = False\\nnumber_of_stocks = 50  # portfolio size, if not random\\nsizing_method = \\\"equal\\\"  # equal or random\\n\\nenable_commission = False\\ncommission_pct = 0.001\\nenable_slippage = False\\nslippage_volume_limit = 0.25\\nslippage_impact = 0.05\";\n",
       "                var nbb_cells = Jupyter.notebook.get_cells();\n",
       "                for (var i = 0; i < nbb_cells.length; ++i) {\n",
       "                    if (nbb_cells[i].input_prompt_number == nbb_cell_id) {\n",
       "                        if (nbb_cells[i].get_text() == nbb_unformatted_code) {\n",
       "                             nbb_cells[i].set_text(nbb_formatted_code);\n",
       "                        }\n",
       "                        break;\n",
       "                    }\n",
       "                }\n",
       "            }, 500);\n",
       "            "
      ],
      "text/plain": [
       "<IPython.core.display.Javascript object>"
      ]
     },
     "metadata": {},
     "output_type": "display_data"
    }
   ],
   "source": [
    "\"\"\"\n",
    "Settings\n",
    "\"\"\"\n",
    "number_of_runs = 10\n",
    "random_portfolio_size = False\n",
    "number_of_stocks = 50  # portfolio size, if not random\n",
    "sizing_method = \"equal\"  # equal or random\n",
    "\n",
    "enable_commission = False\n",
    "commission_pct = 0.001\n",
    "enable_slippage = False\n",
    "slippage_volume_limit = 0.25\n",
    "slippage_impact = 0.05"
   ]
  },
  {
   "cell_type": "code",
   "execution_count": 6,
   "metadata": {},
   "outputs": [
    {
     "data": {
      "application/javascript": [
       "\n",
       "            setTimeout(function() {\n",
       "                var nbb_cell_id = 6;\n",
       "                var nbb_unformatted_code = \"def initialize(context):\\n    # Fetch and store index membership\\n    context.index_members = pd.read_csv(\\n        f\\\"{DATA_FOLDER}/sp500.csv\\\", index_col=0, parse_dates=[0]\\n    )\\n\\n    # Set commission and slippage.\\n    if enable_commission:\\n        comm_model = PerDollar(cost=commission_pct)\\n    else:\\n        comm_model = PerDollar(cost=0.0)\\n    set_commission(comm_model)\\n\\n    if enable_slippage:\\n        slippage_model = VolumeShareSlippage(\\n            volume_limit=slippage_volume_limit, price_impact=slippage_impact\\n        )\\n\\n    else:\\n        slippage_model = FixedSlippage(spread=0.0)\\n    set_slippage(slippage_model)\\n\\n    schedule_function(\\n        func=rebalance,\\n        date_rule=date_rules.month_start(),\\n        time_rule=time_rules.market_open(),\\n    )\";\n",
       "                var nbb_formatted_code = \"def initialize(context):\\n    # Fetch and store index membership\\n    context.index_members = pd.read_csv(\\n        f\\\"{DATA_FOLDER}/sp500.csv\\\", index_col=0, parse_dates=[0]\\n    )\\n\\n    # Set commission and slippage.\\n    if enable_commission:\\n        comm_model = PerDollar(cost=commission_pct)\\n    else:\\n        comm_model = PerDollar(cost=0.0)\\n    set_commission(comm_model)\\n\\n    if enable_slippage:\\n        slippage_model = VolumeShareSlippage(\\n            volume_limit=slippage_volume_limit, price_impact=slippage_impact\\n        )\\n\\n    else:\\n        slippage_model = FixedSlippage(spread=0.0)\\n    set_slippage(slippage_model)\\n\\n    schedule_function(\\n        func=rebalance,\\n        date_rule=date_rules.month_start(),\\n        time_rule=time_rules.market_open(),\\n    )\";\n",
       "                var nbb_cells = Jupyter.notebook.get_cells();\n",
       "                for (var i = 0; i < nbb_cells.length; ++i) {\n",
       "                    if (nbb_cells[i].input_prompt_number == nbb_cell_id) {\n",
       "                        if (nbb_cells[i].get_text() == nbb_unformatted_code) {\n",
       "                             nbb_cells[i].set_text(nbb_formatted_code);\n",
       "                        }\n",
       "                        break;\n",
       "                    }\n",
       "                }\n",
       "            }, 500);\n",
       "            "
      ],
      "text/plain": [
       "<IPython.core.display.Javascript object>"
      ]
     },
     "metadata": {},
     "output_type": "display_data"
    }
   ],
   "source": [
    "def initialize(context):\n",
    "    # Fetch and store index membership\n",
    "    context.index_members = pd.read_csv(\n",
    "        f\"{DATA_FOLDER}/sp500.csv\", index_col=0, parse_dates=[0]\n",
    "    )\n",
    "\n",
    "    # Set commission and slippage.\n",
    "    if enable_commission:\n",
    "        comm_model = PerDollar(cost=commission_pct)\n",
    "    else:\n",
    "        comm_model = PerDollar(cost=0.0)\n",
    "    set_commission(comm_model)\n",
    "\n",
    "    if enable_slippage:\n",
    "        slippage_model = VolumeShareSlippage(\n",
    "            volume_limit=slippage_volume_limit, price_impact=slippage_impact\n",
    "        )\n",
    "\n",
    "    else:\n",
    "        slippage_model = FixedSlippage(spread=0.0)\n",
    "    set_slippage(slippage_model)\n",
    "\n",
    "    schedule_function(\n",
    "        func=rebalance,\n",
    "        date_rule=date_rules.month_start(),\n",
    "        time_rule=time_rules.market_open(),\n",
    "    )"
   ]
  },
  {
   "cell_type": "code",
   "execution_count": 7,
   "metadata": {},
   "outputs": [
    {
     "data": {
      "application/javascript": [
       "\n",
       "            setTimeout(function() {\n",
       "                var nbb_cell_id = 7;\n",
       "                var nbb_unformatted_code = \"# In case the bundle we are using have some members in the S&P 500\\n# index that are missing\\ndef adjust_trading_universe(universe: List[str]) -> List[Equity]:\\n    new_universe = []\\n    for market in universe:\\n        try:\\n            new_universe.append(symbol(market))\\n        except SymbolNotFound:\\n            pass\\n\\n    return new_universe\";\n",
       "                var nbb_formatted_code = \"# In case the bundle we are using have some members in the S&P 500\\n# index that are missing\\ndef adjust_trading_universe(universe: List[str]) -> List[Equity]:\\n    new_universe = []\\n    for market in universe:\\n        try:\\n            new_universe.append(symbol(market))\\n        except SymbolNotFound:\\n            pass\\n\\n    return new_universe\";\n",
       "                var nbb_cells = Jupyter.notebook.get_cells();\n",
       "                for (var i = 0; i < nbb_cells.length; ++i) {\n",
       "                    if (nbb_cells[i].input_prompt_number == nbb_cell_id) {\n",
       "                        if (nbb_cells[i].get_text() == nbb_unformatted_code) {\n",
       "                             nbb_cells[i].set_text(nbb_formatted_code);\n",
       "                        }\n",
       "                        break;\n",
       "                    }\n",
       "                }\n",
       "            }, 500);\n",
       "            "
      ],
      "text/plain": [
       "<IPython.core.display.Javascript object>"
      ]
     },
     "metadata": {},
     "output_type": "display_data"
    }
   ],
   "source": [
    "# In case the bundle we are using have some members in the S&P 500\n",
    "# index that are missing\n",
    "def adjust_trading_universe(universe: List[str]) -> List[Equity]:\n",
    "    new_universe = []\n",
    "    for market in universe:\n",
    "        try:\n",
    "            new_universe.append(symbol(market))\n",
    "        except SymbolNotFound:\n",
    "            pass\n",
    "\n",
    "    return new_universe"
   ]
  },
  {
   "cell_type": "code",
   "execution_count": 8,
   "metadata": {},
   "outputs": [
    {
     "data": {
      "application/javascript": [
       "\n",
       "            setTimeout(function() {\n",
       "                var nbb_cell_id = 8;\n",
       "                var nbb_unformatted_code = \"def rebalance(context, data):\\n    today = zipline.api.get_datetime()\\n\\n    # Check eligible stocks\\n    #     todays_universe = [\\n    #         symbol(ticker)\\n    #         for ticker in context.index_members.loc[context.index_members.index < today]\\n    #         .iloc[-1, 0]\\n    #         .split(\\\",\\\")\\n    #     ]\\n\\n    todays_universe = adjust_trading_universe(\\n        context.index_members.loc[context.index_members.index < today]\\n        .iloc[-1, 0]\\n        .split(\\\",\\\")\\n    )\\n    # print(f\\\"There are {len((todays_universe))} stocks in today's universe ({today})\\\")\\n\\n    # Make a list of stocks to buy\\n    buys = []\\n\\n    # To modify global variable, and not make new one\\n    global number_of_stocks\\n\\n    # If random stockss selected\\n    if random_portfolio_size:\\n        # Buy between 5 and 200 stocks.\\n        number_of_stocks = randrange(5, 200)\\n\\n    # Select stocks\\n    for i in np.arange(1, number_of_stocks + 1):\\n        num = randrange(0, len(todays_universe) - 1)\\n        buys.append(todays_universe.pop(num))\\n\\n    # Sell positions no longer wanted.\\n    for security in context.portfolio.positions:\\n        if security not in buys:\\n            order_target_percent(security, 0.0)\\n\\n    # Make an empty DataFrame to hold target position sizes\\n    buy_size = pd.DataFrame(index=buys)\\n\\n    # Get random sizes, if enabled.\\n    if sizing_method == \\\"random\\\":\\n        buy_size[\\\"rand\\\"] = [randrange(1, 100) for x in buy_size.iterrows()]\\n        buy_size[\\\"target_weight\\\"] = buy_size[\\\"rand\\\"] / buy_size[\\\"rand\\\"].sum()\\n    elif sizing_method == \\\"equal\\\":\\n        buy_size[\\\"target_weight\\\"] = 1.0 / number_of_stocks\\n\\n    # Send buy orders\\n    for security in buys:\\n        order_target_percent(security, buy_size.loc[security, \\\"target_weight\\\"])\";\n",
       "                var nbb_formatted_code = \"def rebalance(context, data):\\n    today = zipline.api.get_datetime()\\n\\n    # Check eligible stocks\\n    #     todays_universe = [\\n    #         symbol(ticker)\\n    #         for ticker in context.index_members.loc[context.index_members.index < today]\\n    #         .iloc[-1, 0]\\n    #         .split(\\\",\\\")\\n    #     ]\\n\\n    todays_universe = adjust_trading_universe(\\n        context.index_members.loc[context.index_members.index < today]\\n        .iloc[-1, 0]\\n        .split(\\\",\\\")\\n    )\\n    # print(f\\\"There are {len((todays_universe))} stocks in today's universe ({today})\\\")\\n\\n    # Make a list of stocks to buy\\n    buys = []\\n\\n    # To modify global variable, and not make new one\\n    global number_of_stocks\\n\\n    # If random stockss selected\\n    if random_portfolio_size:\\n        # Buy between 5 and 200 stocks.\\n        number_of_stocks = randrange(5, 200)\\n\\n    # Select stocks\\n    for i in np.arange(1, number_of_stocks + 1):\\n        num = randrange(0, len(todays_universe) - 1)\\n        buys.append(todays_universe.pop(num))\\n\\n    # Sell positions no longer wanted.\\n    for security in context.portfolio.positions:\\n        if security not in buys:\\n            order_target_percent(security, 0.0)\\n\\n    # Make an empty DataFrame to hold target position sizes\\n    buy_size = pd.DataFrame(index=buys)\\n\\n    # Get random sizes, if enabled.\\n    if sizing_method == \\\"random\\\":\\n        buy_size[\\\"rand\\\"] = [randrange(1, 100) for x in buy_size.iterrows()]\\n        buy_size[\\\"target_weight\\\"] = buy_size[\\\"rand\\\"] / buy_size[\\\"rand\\\"].sum()\\n    elif sizing_method == \\\"equal\\\":\\n        buy_size[\\\"target_weight\\\"] = 1.0 / number_of_stocks\\n\\n    # Send buy orders\\n    for security in buys:\\n        order_target_percent(security, buy_size.loc[security, \\\"target_weight\\\"])\";\n",
       "                var nbb_cells = Jupyter.notebook.get_cells();\n",
       "                for (var i = 0; i < nbb_cells.length; ++i) {\n",
       "                    if (nbb_cells[i].input_prompt_number == nbb_cell_id) {\n",
       "                        if (nbb_cells[i].get_text() == nbb_unformatted_code) {\n",
       "                             nbb_cells[i].set_text(nbb_formatted_code);\n",
       "                        }\n",
       "                        break;\n",
       "                    }\n",
       "                }\n",
       "            }, 500);\n",
       "            "
      ],
      "text/plain": [
       "<IPython.core.display.Javascript object>"
      ]
     },
     "metadata": {},
     "output_type": "display_data"
    }
   ],
   "source": [
    "def rebalance(context, data):\n",
    "    today = zipline.api.get_datetime()\n",
    "\n",
    "    # Check eligible stocks\n",
    "    #     todays_universe = [\n",
    "    #         symbol(ticker)\n",
    "    #         for ticker in context.index_members.loc[context.index_members.index < today]\n",
    "    #         .iloc[-1, 0]\n",
    "    #         .split(\",\")\n",
    "    #     ]\n",
    "\n",
    "    todays_universe = adjust_trading_universe(\n",
    "        context.index_members.loc[context.index_members.index < today]\n",
    "        .iloc[-1, 0]\n",
    "        .split(\",\")\n",
    "    )\n",
    "    # print(f\"There are {len((todays_universe))} stocks in today's universe ({today})\")\n",
    "\n",
    "    # Make a list of stocks to buy\n",
    "    buys = []\n",
    "\n",
    "    # To modify global variable, and not make new one\n",
    "    global number_of_stocks\n",
    "\n",
    "    # If random stockss selected\n",
    "    if random_portfolio_size:\n",
    "        # Buy between 5 and 200 stocks.\n",
    "        number_of_stocks = randrange(5, 200)\n",
    "\n",
    "    # Select stocks\n",
    "    for i in np.arange(1, number_of_stocks + 1):\n",
    "        num = randrange(0, len(todays_universe) - 1)\n",
    "        buys.append(todays_universe.pop(num))\n",
    "\n",
    "    # Sell positions no longer wanted.\n",
    "    for security in context.portfolio.positions:\n",
    "        if security not in buys:\n",
    "            order_target_percent(security, 0.0)\n",
    "\n",
    "    # Make an empty DataFrame to hold target position sizes\n",
    "    buy_size = pd.DataFrame(index=buys)\n",
    "\n",
    "    # Get random sizes, if enabled.\n",
    "    if sizing_method == \"random\":\n",
    "        buy_size[\"rand\"] = [randrange(1, 100) for x in buy_size.iterrows()]\n",
    "        buy_size[\"target_weight\"] = buy_size[\"rand\"] / buy_size[\"rand\"].sum()\n",
    "    elif sizing_method == \"equal\":\n",
    "        buy_size[\"target_weight\"] = 1.0 / number_of_stocks\n",
    "\n",
    "    # Send buy orders\n",
    "    for security in buys:\n",
    "        order_target_percent(security, buy_size.loc[security, \"target_weight\"])"
   ]
  },
  {
   "cell_type": "code",
   "execution_count": 9,
   "metadata": {},
   "outputs": [
    {
     "data": {
      "application/javascript": [
       "\n",
       "            setTimeout(function() {\n",
       "                var nbb_cell_id = 9;\n",
       "                var nbb_unformatted_code = \"# start = pd.Timestamp(\\\"1996-01-01\\\", tz=\\\"utc\\\")\\nstart = pd.Timestamp(\\\"2018-01-01\\\", tz=\\\"utc\\\")\\nend = pd.Timestamp(\\\"2018-12-31\\\", tz=\\\"utc\\\")\";\n",
       "                var nbb_formatted_code = \"# start = pd.Timestamp(\\\"1996-01-01\\\", tz=\\\"utc\\\")\\nstart = pd.Timestamp(\\\"2018-01-01\\\", tz=\\\"utc\\\")\\nend = pd.Timestamp(\\\"2018-12-31\\\", tz=\\\"utc\\\")\";\n",
       "                var nbb_cells = Jupyter.notebook.get_cells();\n",
       "                for (var i = 0; i < nbb_cells.length; ++i) {\n",
       "                    if (nbb_cells[i].input_prompt_number == nbb_cell_id) {\n",
       "                        if (nbb_cells[i].get_text() == nbb_unformatted_code) {\n",
       "                             nbb_cells[i].set_text(nbb_formatted_code);\n",
       "                        }\n",
       "                        break;\n",
       "                    }\n",
       "                }\n",
       "            }, 500);\n",
       "            "
      ],
      "text/plain": [
       "<IPython.core.display.Javascript object>"
      ]
     },
     "metadata": {},
     "output_type": "display_data"
    }
   ],
   "source": [
    "# start = pd.Timestamp(\"1996-01-01\", tz=\"utc\")\n",
    "start = pd.Timestamp(\"2018-01-01\", tz=\"utc\")\n",
    "end = pd.Timestamp(\"2018-12-31\", tz=\"utc\")"
   ]
  },
  {
   "cell_type": "code",
   "execution_count": 10,
   "metadata": {},
   "outputs": [
    {
     "data": {
      "application/javascript": [
       "\n",
       "            setTimeout(function() {\n",
       "                var nbb_cell_id = 10;\n",
       "                var nbb_unformatted_code = \"# Empty DataFrame to hold the results\\ndf = pd.DataFrame()\";\n",
       "                var nbb_formatted_code = \"# Empty DataFrame to hold the results\\ndf = pd.DataFrame()\";\n",
       "                var nbb_cells = Jupyter.notebook.get_cells();\n",
       "                for (var i = 0; i < nbb_cells.length; ++i) {\n",
       "                    if (nbb_cells[i].input_prompt_number == nbb_cell_id) {\n",
       "                        if (nbb_cells[i].get_text() == nbb_unformatted_code) {\n",
       "                             nbb_cells[i].set_text(nbb_formatted_code);\n",
       "                        }\n",
       "                        break;\n",
       "                    }\n",
       "                }\n",
       "            }, 500);\n",
       "            "
      ],
      "text/plain": [
       "<IPython.core.display.Javascript object>"
      ]
     },
     "metadata": {},
     "output_type": "display_data"
    }
   ],
   "source": [
    "# Empty DataFrame to hold the results\n",
    "df = pd.DataFrame()"
   ]
  },
  {
   "cell_type": "code",
   "execution_count": 11,
   "metadata": {},
   "outputs": [
    {
     "name": "stdout",
     "output_type": "stream",
     "text": [
      "Processing run 1\n"
     ]
    },
    {
     "name": "stderr",
     "output_type": "stream",
     "text": [
      "/usr/local/lib/python3.6/site-packages/empyrical/stats.py:799: RuntimeWarning: divide by zero encountered in true_divide\n",
      "  np.divide(average_annual_return, annualized_downside_risk, out=out)\n"
     ]
    },
    {
     "name": "stdout",
     "output_type": "stream",
     "text": [
      "Processing run 2\n",
      "Processing run 3\n",
      "Processing run 4\n"
     ]
    },
    {
     "ename": "KeyboardInterrupt",
     "evalue": "",
     "output_type": "error",
     "traceback": [
      "\u001b[0;31m---------------------------------------------------------------------------\u001b[0m",
      "\u001b[0;31mKeyboardInterrupt\u001b[0m                         Traceback (most recent call last)",
      "\u001b[0;32m<timed exec>\u001b[0m in \u001b[0;36m<module>\u001b[0;34m\u001b[0m\n",
      "\u001b[0;32m/zipline/zipline/utils/run_algo.py\u001b[0m in \u001b[0;36mrun_algorithm\u001b[0;34m(start, end, initialize, capital_base, handle_data, before_trading_start, analyze, data_frequency, bundle, bundle_timestamp, trading_calendar, metrics_set, benchmark_returns, default_extension, extensions, strict_extensions, environ, blotter)\u001b[0m\n\u001b[1;32m    411\u001b[0m         \u001b[0menviron\u001b[0m\u001b[0;34m=\u001b[0m\u001b[0menviron\u001b[0m\u001b[0;34m,\u001b[0m\u001b[0;34m\u001b[0m\u001b[0;34m\u001b[0m\u001b[0m\n\u001b[1;32m    412\u001b[0m         \u001b[0mblotter\u001b[0m\u001b[0;34m=\u001b[0m\u001b[0mblotter\u001b[0m\u001b[0;34m,\u001b[0m\u001b[0;34m\u001b[0m\u001b[0;34m\u001b[0m\u001b[0m\n\u001b[0;32m--> 413\u001b[0;31m         \u001b[0mbenchmark_spec\u001b[0m\u001b[0;34m=\u001b[0m\u001b[0mbenchmark_spec\u001b[0m\u001b[0;34m,\u001b[0m\u001b[0;34m\u001b[0m\u001b[0;34m\u001b[0m\u001b[0m\n\u001b[0m\u001b[1;32m    414\u001b[0m     )\n\u001b[1;32m    415\u001b[0m \u001b[0;34m\u001b[0m\u001b[0m\n",
      "\u001b[0;32m/zipline/zipline/utils/run_algo.py\u001b[0m in \u001b[0;36m_run\u001b[0;34m(handle_data, initialize, before_trading_start, analyze, algofile, algotext, defines, data_frequency, capital_base, bundle, bundle_timestamp, start, end, output, trading_calendar, print_algo, metrics_set, local_namespace, environ, blotter, benchmark_spec)\u001b[0m\n\u001b[1;32m    218\u001b[0m             \u001b[0;34m}\u001b[0m \u001b[0;32mif\u001b[0m \u001b[0malgotext\u001b[0m \u001b[0;32mis\u001b[0m \u001b[0;32mNone\u001b[0m \u001b[0;32melse\u001b[0m \u001b[0;34m{\u001b[0m\u001b[0;34m\u001b[0m\u001b[0;34m\u001b[0m\u001b[0m\n\u001b[1;32m    219\u001b[0m                 \u001b[0;34m'algo_filename'\u001b[0m\u001b[0;34m:\u001b[0m \u001b[0mgetattr\u001b[0m\u001b[0;34m(\u001b[0m\u001b[0malgofile\u001b[0m\u001b[0;34m,\u001b[0m \u001b[0;34m'name'\u001b[0m\u001b[0;34m,\u001b[0m \u001b[0;34m'<algorithm>'\u001b[0m\u001b[0;34m)\u001b[0m\u001b[0;34m,\u001b[0m\u001b[0;34m\u001b[0m\u001b[0;34m\u001b[0m\u001b[0m\n\u001b[0;32m--> 220\u001b[0;31m                 \u001b[0;34m'script'\u001b[0m\u001b[0;34m:\u001b[0m \u001b[0malgotext\u001b[0m\u001b[0;34m,\u001b[0m\u001b[0;34m\u001b[0m\u001b[0;34m\u001b[0m\u001b[0m\n\u001b[0m\u001b[1;32m    221\u001b[0m             }\n\u001b[1;32m    222\u001b[0m         ).run()\n",
      "\u001b[0;32m/zipline/zipline/algorithm.py\u001b[0m in \u001b[0;36mrun\u001b[0;34m(self, data_portal)\u001b[0m\n\u001b[1;32m    641\u001b[0m         \u001b[0;32mtry\u001b[0m\u001b[0;34m:\u001b[0m\u001b[0;34m\u001b[0m\u001b[0;34m\u001b[0m\u001b[0m\n\u001b[1;32m    642\u001b[0m             \u001b[0mperfs\u001b[0m \u001b[0;34m=\u001b[0m \u001b[0;34m[\u001b[0m\u001b[0;34m]\u001b[0m\u001b[0;34m\u001b[0m\u001b[0;34m\u001b[0m\u001b[0m\n\u001b[0;32m--> 643\u001b[0;31m             \u001b[0;32mfor\u001b[0m \u001b[0mperf\u001b[0m \u001b[0;32min\u001b[0m \u001b[0mself\u001b[0m\u001b[0;34m.\u001b[0m\u001b[0mget_generator\u001b[0m\u001b[0;34m(\u001b[0m\u001b[0;34m)\u001b[0m\u001b[0;34m:\u001b[0m\u001b[0;34m\u001b[0m\u001b[0;34m\u001b[0m\u001b[0m\n\u001b[0m\u001b[1;32m    644\u001b[0m                 \u001b[0mperfs\u001b[0m\u001b[0;34m.\u001b[0m\u001b[0mappend\u001b[0m\u001b[0;34m(\u001b[0m\u001b[0mperf\u001b[0m\u001b[0;34m)\u001b[0m\u001b[0;34m\u001b[0m\u001b[0;34m\u001b[0m\u001b[0m\n\u001b[1;32m    645\u001b[0m \u001b[0;34m\u001b[0m\u001b[0m\n",
      "\u001b[0;32m/zipline/zipline/gens/tradesimulation.py\u001b[0m in \u001b[0;36mtransform\u001b[0;34m(self)\u001b[0m\n\u001b[1;32m    217\u001b[0m                     \u001b[0malgo\u001b[0m\u001b[0;34m.\u001b[0m\u001b[0mvalidate_account_controls\u001b[0m\u001b[0;34m(\u001b[0m\u001b[0;34m)\u001b[0m\u001b[0;34m\u001b[0m\u001b[0;34m\u001b[0m\u001b[0m\n\u001b[1;32m    218\u001b[0m \u001b[0;34m\u001b[0m\u001b[0m\n\u001b[0;32m--> 219\u001b[0;31m                     \u001b[0;32myield\u001b[0m \u001b[0mself\u001b[0m\u001b[0;34m.\u001b[0m\u001b[0m_get_daily_message\u001b[0m\u001b[0;34m(\u001b[0m\u001b[0mdt\u001b[0m\u001b[0;34m,\u001b[0m \u001b[0malgo\u001b[0m\u001b[0;34m,\u001b[0m \u001b[0mmetrics_tracker\u001b[0m\u001b[0;34m)\u001b[0m\u001b[0;34m\u001b[0m\u001b[0;34m\u001b[0m\u001b[0m\n\u001b[0m\u001b[1;32m    220\u001b[0m                 \u001b[0;32melif\u001b[0m \u001b[0maction\u001b[0m \u001b[0;34m==\u001b[0m \u001b[0mBEFORE_TRADING_START_BAR\u001b[0m\u001b[0;34m:\u001b[0m\u001b[0;34m\u001b[0m\u001b[0;34m\u001b[0m\u001b[0m\n\u001b[1;32m    221\u001b[0m                     \u001b[0mself\u001b[0m\u001b[0;34m.\u001b[0m\u001b[0msimulation_dt\u001b[0m \u001b[0;34m=\u001b[0m \u001b[0mdt\u001b[0m\u001b[0;34m\u001b[0m\u001b[0;34m\u001b[0m\u001b[0m\n",
      "\u001b[0;32m/zipline/zipline/gens/tradesimulation.py\u001b[0m in \u001b[0;36m_get_daily_message\u001b[0;34m(self, dt, algo, metrics_tracker)\u001b[0m\n\u001b[1;32m    287\u001b[0m         perf_message = metrics_tracker.handle_market_close(\n\u001b[1;32m    288\u001b[0m             \u001b[0mdt\u001b[0m\u001b[0;34m,\u001b[0m\u001b[0;34m\u001b[0m\u001b[0;34m\u001b[0m\u001b[0m\n\u001b[0;32m--> 289\u001b[0;31m             \u001b[0mself\u001b[0m\u001b[0;34m.\u001b[0m\u001b[0mdata_portal\u001b[0m\u001b[0;34m,\u001b[0m\u001b[0;34m\u001b[0m\u001b[0;34m\u001b[0m\u001b[0m\n\u001b[0m\u001b[1;32m    290\u001b[0m         )\n\u001b[1;32m    291\u001b[0m         \u001b[0mperf_message\u001b[0m\u001b[0;34m[\u001b[0m\u001b[0;34m'daily_perf'\u001b[0m\u001b[0;34m]\u001b[0m\u001b[0;34m[\u001b[0m\u001b[0;34m'recorded_vars'\u001b[0m\u001b[0;34m]\u001b[0m \u001b[0;34m=\u001b[0m \u001b[0malgo\u001b[0m\u001b[0;34m.\u001b[0m\u001b[0mrecorded_vars\u001b[0m\u001b[0;34m\u001b[0m\u001b[0;34m\u001b[0m\u001b[0m\n",
      "\u001b[0;32m/zipline/zipline/finance/metrics/tracker.py\u001b[0m in \u001b[0;36mhandle_market_close\u001b[0;34m(self, dt, data_portal)\u001b[0m\n\u001b[1;32m    295\u001b[0m             \u001b[0;31m# this chunk of code here only applies for daily emissions. (since\u001b[0m\u001b[0;34m\u001b[0m\u001b[0;34m\u001b[0m\u001b[0;34m\u001b[0m\u001b[0m\n\u001b[1;32m    296\u001b[0m             \u001b[0;31m# it's done every minute, elsewhere, for minutely emission).\u001b[0m\u001b[0;34m\u001b[0m\u001b[0;34m\u001b[0m\u001b[0;34m\u001b[0m\u001b[0m\n\u001b[0;32m--> 297\u001b[0;31m             \u001b[0mself\u001b[0m\u001b[0;34m.\u001b[0m\u001b[0msync_last_sale_prices\u001b[0m\u001b[0;34m(\u001b[0m\u001b[0mdt\u001b[0m\u001b[0;34m,\u001b[0m \u001b[0mdata_portal\u001b[0m\u001b[0;34m)\u001b[0m\u001b[0;34m\u001b[0m\u001b[0;34m\u001b[0m\u001b[0m\n\u001b[0m\u001b[1;32m    298\u001b[0m \u001b[0;34m\u001b[0m\u001b[0m\n\u001b[1;32m    299\u001b[0m         \u001b[0msession_ix\u001b[0m \u001b[0;34m=\u001b[0m \u001b[0mself\u001b[0m\u001b[0;34m.\u001b[0m\u001b[0m_session_count\u001b[0m\u001b[0;34m\u001b[0m\u001b[0;34m\u001b[0m\u001b[0m\n",
      "\u001b[0;32m/zipline/zipline/finance/metrics/tracker.py\u001b[0m in \u001b[0;36msync_last_sale_prices\u001b[0;34m(self, dt, data_portal, handle_non_market_minutes)\u001b[0m\n\u001b[1;32m    199\u001b[0m             \u001b[0mdt\u001b[0m\u001b[0;34m,\u001b[0m\u001b[0;34m\u001b[0m\u001b[0;34m\u001b[0m\u001b[0m\n\u001b[1;32m    200\u001b[0m             \u001b[0mdata_portal\u001b[0m\u001b[0;34m,\u001b[0m\u001b[0;34m\u001b[0m\u001b[0;34m\u001b[0m\u001b[0m\n\u001b[0;32m--> 201\u001b[0;31m             \u001b[0mhandle_non_market_minutes\u001b[0m\u001b[0;34m=\u001b[0m\u001b[0mhandle_non_market_minutes\u001b[0m\u001b[0;34m,\u001b[0m\u001b[0;34m\u001b[0m\u001b[0;34m\u001b[0m\u001b[0m\n\u001b[0m\u001b[1;32m    202\u001b[0m         )\n\u001b[1;32m    203\u001b[0m \u001b[0;34m\u001b[0m\u001b[0m\n",
      "\u001b[0;32m/zipline/zipline/finance/ledger.py\u001b[0m in \u001b[0;36msync_last_sale_prices\u001b[0;34m(self, dt, data_portal, handle_non_market_minutes)\u001b[0m\n\u001b[1;32m    462\u001b[0m             \u001b[0mdt\u001b[0m\u001b[0;34m,\u001b[0m\u001b[0;34m\u001b[0m\u001b[0;34m\u001b[0m\u001b[0m\n\u001b[1;32m    463\u001b[0m             \u001b[0mdata_portal\u001b[0m\u001b[0;34m,\u001b[0m\u001b[0;34m\u001b[0m\u001b[0;34m\u001b[0m\u001b[0m\n\u001b[0;32m--> 464\u001b[0;31m             \u001b[0mhandle_non_market_minutes\u001b[0m\u001b[0;34m=\u001b[0m\u001b[0mhandle_non_market_minutes\u001b[0m\u001b[0;34m,\u001b[0m\u001b[0;34m\u001b[0m\u001b[0;34m\u001b[0m\u001b[0m\n\u001b[0m\u001b[1;32m    465\u001b[0m         )\n\u001b[1;32m    466\u001b[0m         \u001b[0mself\u001b[0m\u001b[0;34m.\u001b[0m\u001b[0m_dirty_portfolio\u001b[0m \u001b[0;34m=\u001b[0m \u001b[0;32mTrue\u001b[0m\u001b[0;34m\u001b[0m\u001b[0;34m\u001b[0m\u001b[0m\n",
      "\u001b[0;32m/zipline/zipline/finance/ledger.py\u001b[0m in \u001b[0;36msync_last_sale_prices\u001b[0;34m(self, dt, data_portal, handle_non_market_minutes)\u001b[0m\n\u001b[1;32m    283\u001b[0m             )\n\u001b[1;32m    284\u001b[0m \u001b[0;34m\u001b[0m\u001b[0m\n\u001b[0;32m--> 285\u001b[0;31m         \u001b[0mupdate_position_last_sale_prices\u001b[0m\u001b[0;34m(\u001b[0m\u001b[0mself\u001b[0m\u001b[0;34m.\u001b[0m\u001b[0mpositions\u001b[0m\u001b[0;34m,\u001b[0m \u001b[0mget_price\u001b[0m\u001b[0;34m,\u001b[0m \u001b[0mdt\u001b[0m\u001b[0;34m)\u001b[0m\u001b[0;34m\u001b[0m\u001b[0;34m\u001b[0m\u001b[0m\n\u001b[0m\u001b[1;32m    286\u001b[0m \u001b[0;34m\u001b[0m\u001b[0m\n\u001b[1;32m    287\u001b[0m     \u001b[0;34m@\u001b[0m\u001b[0mproperty\u001b[0m\u001b[0;34m\u001b[0m\u001b[0;34m\u001b[0m\u001b[0m\n",
      "\u001b[0;32m/zipline/zipline/finance/_finance_ext.pyx\u001b[0m in \u001b[0;36mzipline.finance._finance_ext.update_position_last_sale_prices\u001b[0;34m()\u001b[0m\n",
      "\u001b[0;32m/zipline/zipline/finance/_finance_ext.pyx\u001b[0m in \u001b[0;36mzipline.finance._finance_ext.update_position_last_sale_prices\u001b[0;34m()\u001b[0m\n",
      "\u001b[0;32m/zipline/zipline/data/data_portal.py\u001b[0m in \u001b[0;36mget_scalar_asset_spot_value\u001b[0;34m(self, asset, field, dt, data_frequency)\u001b[0m\n\u001b[1;32m    570\u001b[0m             \u001b[0mfield\u001b[0m\u001b[0;34m,\u001b[0m\u001b[0;34m\u001b[0m\u001b[0;34m\u001b[0m\u001b[0m\n\u001b[1;32m    571\u001b[0m             \u001b[0mdt\u001b[0m\u001b[0;34m,\u001b[0m\u001b[0;34m\u001b[0m\u001b[0;34m\u001b[0m\u001b[0m\n\u001b[0;32m--> 572\u001b[0;31m             \u001b[0mdata_frequency\u001b[0m\u001b[0;34m,\u001b[0m\u001b[0;34m\u001b[0m\u001b[0;34m\u001b[0m\u001b[0m\n\u001b[0m\u001b[1;32m    573\u001b[0m         )\n\u001b[1;32m    574\u001b[0m \u001b[0;34m\u001b[0m\u001b[0m\n",
      "\u001b[0;32m/zipline/zipline/data/data_portal.py\u001b[0m in \u001b[0;36m_get_single_asset_value\u001b[0;34m(self, session_label, asset, field, dt, data_frequency)\u001b[0m\n\u001b[1;32m    459\u001b[0m             \u001b[0;32melse\u001b[0m\u001b[0;34m:\u001b[0m\u001b[0;34m\u001b[0m\u001b[0;34m\u001b[0m\u001b[0m\n\u001b[1;32m    460\u001b[0m                 return self._get_daily_spot_value(\n\u001b[0;32m--> 461\u001b[0;31m                     \u001b[0masset\u001b[0m\u001b[0;34m,\u001b[0m \u001b[0mfield\u001b[0m\u001b[0;34m,\u001b[0m \u001b[0msession_label\u001b[0m\u001b[0;34m,\u001b[0m\u001b[0;34m\u001b[0m\u001b[0;34m\u001b[0m\u001b[0m\n\u001b[0m\u001b[1;32m    462\u001b[0m                 )\n\u001b[1;32m    463\u001b[0m         \u001b[0;32melse\u001b[0m\u001b[0;34m:\u001b[0m\u001b[0;34m\u001b[0m\u001b[0;34m\u001b[0m\u001b[0m\n",
      "\u001b[0;32m/zipline/zipline/data/data_portal.py\u001b[0m in \u001b[0;36m_get_daily_spot_value\u001b[0;34m(self, asset, column, dt)\u001b[0m\n\u001b[1;32m    754\u001b[0m                 \u001b[0;32mtry\u001b[0m\u001b[0;34m:\u001b[0m\u001b[0;34m\u001b[0m\u001b[0;34m\u001b[0m\u001b[0m\n\u001b[1;32m    755\u001b[0m                     value = reader.get_value(\n\u001b[0;32m--> 756\u001b[0;31m                         \u001b[0masset\u001b[0m\u001b[0;34m,\u001b[0m \u001b[0mfound_dt\u001b[0m\u001b[0;34m,\u001b[0m \u001b[0;34m\"close\"\u001b[0m\u001b[0;34m\u001b[0m\u001b[0;34m\u001b[0m\u001b[0m\n\u001b[0m\u001b[1;32m    757\u001b[0m                     )\n\u001b[1;32m    758\u001b[0m                     \u001b[0;32mif\u001b[0m \u001b[0;32mnot\u001b[0m \u001b[0misnull\u001b[0m\u001b[0;34m(\u001b[0m\u001b[0mvalue\u001b[0m\u001b[0;34m)\u001b[0m\u001b[0;34m:\u001b[0m\u001b[0;34m\u001b[0m\u001b[0;34m\u001b[0m\u001b[0m\n",
      "\u001b[0;32m/zipline/zipline/data/dispatch_bar_reader.py\u001b[0m in \u001b[0;36mget_value\u001b[0;34m(self, sid, dt, field)\u001b[0m\n\u001b[1;32m     95\u001b[0m         \u001b[0masset\u001b[0m \u001b[0;34m=\u001b[0m \u001b[0mself\u001b[0m\u001b[0;34m.\u001b[0m\u001b[0m_asset_finder\u001b[0m\u001b[0;34m.\u001b[0m\u001b[0mretrieve_asset\u001b[0m\u001b[0;34m(\u001b[0m\u001b[0msid\u001b[0m\u001b[0;34m)\u001b[0m\u001b[0;34m\u001b[0m\u001b[0;34m\u001b[0m\u001b[0m\n\u001b[1;32m     96\u001b[0m         \u001b[0mr\u001b[0m \u001b[0;34m=\u001b[0m \u001b[0mself\u001b[0m\u001b[0;34m.\u001b[0m\u001b[0m_readers\u001b[0m\u001b[0;34m[\u001b[0m\u001b[0mtype\u001b[0m\u001b[0;34m(\u001b[0m\u001b[0masset\u001b[0m\u001b[0;34m)\u001b[0m\u001b[0;34m]\u001b[0m\u001b[0;34m\u001b[0m\u001b[0;34m\u001b[0m\u001b[0m\n\u001b[0;32m---> 97\u001b[0;31m         \u001b[0;32mreturn\u001b[0m \u001b[0mr\u001b[0m\u001b[0;34m.\u001b[0m\u001b[0mget_value\u001b[0m\u001b[0;34m(\u001b[0m\u001b[0masset\u001b[0m\u001b[0;34m,\u001b[0m \u001b[0mdt\u001b[0m\u001b[0;34m,\u001b[0m \u001b[0mfield\u001b[0m\u001b[0;34m)\u001b[0m\u001b[0;34m\u001b[0m\u001b[0;34m\u001b[0m\u001b[0m\n\u001b[0m\u001b[1;32m     98\u001b[0m \u001b[0;34m\u001b[0m\u001b[0m\n\u001b[1;32m     99\u001b[0m     \u001b[0;32mdef\u001b[0m \u001b[0mget_last_traded_dt\u001b[0m\u001b[0;34m(\u001b[0m\u001b[0mself\u001b[0m\u001b[0;34m,\u001b[0m \u001b[0masset\u001b[0m\u001b[0;34m,\u001b[0m \u001b[0mdt\u001b[0m\u001b[0;34m)\u001b[0m\u001b[0;34m:\u001b[0m\u001b[0;34m\u001b[0m\u001b[0;34m\u001b[0m\u001b[0m\n",
      "\u001b[0;32m/zipline/zipline/data/bcolz_daily_bars.py\u001b[0m in \u001b[0;36mget_value\u001b[0;34m(self, sid, dt, field)\u001b[0m\n\u001b[1;32m    697\u001b[0m         \"\"\"\n\u001b[1;32m    698\u001b[0m         \u001b[0mix\u001b[0m \u001b[0;34m=\u001b[0m \u001b[0mself\u001b[0m\u001b[0;34m.\u001b[0m\u001b[0msid_day_index\u001b[0m\u001b[0;34m(\u001b[0m\u001b[0msid\u001b[0m\u001b[0;34m,\u001b[0m \u001b[0mdt\u001b[0m\u001b[0;34m)\u001b[0m\u001b[0;34m\u001b[0m\u001b[0;34m\u001b[0m\u001b[0m\n\u001b[0;32m--> 699\u001b[0;31m         \u001b[0mprice\u001b[0m \u001b[0;34m=\u001b[0m \u001b[0mself\u001b[0m\u001b[0;34m.\u001b[0m\u001b[0m_spot_col\u001b[0m\u001b[0;34m(\u001b[0m\u001b[0mfield\u001b[0m\u001b[0;34m)\u001b[0m\u001b[0;34m[\u001b[0m\u001b[0mix\u001b[0m\u001b[0;34m]\u001b[0m\u001b[0;34m\u001b[0m\u001b[0;34m\u001b[0m\u001b[0m\n\u001b[0m\u001b[1;32m    700\u001b[0m         \u001b[0;32mif\u001b[0m \u001b[0mfield\u001b[0m \u001b[0;34m!=\u001b[0m \u001b[0;34m'volume'\u001b[0m\u001b[0;34m:\u001b[0m\u001b[0;34m\u001b[0m\u001b[0;34m\u001b[0m\u001b[0m\n\u001b[1;32m    701\u001b[0m             \u001b[0;32mif\u001b[0m \u001b[0mprice\u001b[0m \u001b[0;34m==\u001b[0m \u001b[0;36m0\u001b[0m\u001b[0;34m:\u001b[0m\u001b[0;34m\u001b[0m\u001b[0;34m\u001b[0m\u001b[0m\n",
      "\u001b[0;31mKeyboardInterrupt\u001b[0m: "
     ]
    },
    {
     "data": {
      "application/javascript": [
       "\n",
       "            setTimeout(function() {\n",
       "                var nbb_cell_id = 11;\n",
       "                var nbb_unformatted_code = \"%%time\\n# Run the backtests\\nfor i in np.arange(1, number_of_runs + 1):\\n    print(\\\"Processing run \\\" + str(i))\\n\\n    result = zipline.run_algorithm(\\n        start=start,\\n        end=end,\\n        initialize=initialize,\\n        capital_base=100000,\\n        data_frequency=\\\"daily\\\",\\n        bundle=\\\"random_stocks\\\",\\n    )  # book uses ac_equities_db, quandl is broken apparently because it does not store all the tickers that make up the S&P 500\\n\\n    df[i] = result[\\\"portfolio_value\\\"]\\n\\nprint(\\\"All Done. Ready to analyze.\\\")\";\n",
       "                var nbb_formatted_code = \"%%time\\n# Run the backtests\\nfor i in np.arange(1, number_of_runs + 1):\\n    print(\\\"Processing run \\\" + str(i))\\n\\n    result = zipline.run_algorithm(\\n        start=start,\\n        end=end,\\n        initialize=initialize,\\n        capital_base=100000,\\n        data_frequency=\\\"daily\\\",\\n        bundle=\\\"random_stocks\\\",\\n    )  # book uses ac_equities_db, quandl is broken apparently because it does not store all the tickers that make up the S&P 500\\n\\n    df[i] = result[\\\"portfolio_value\\\"]\\n\\nprint(\\\"All Done. Ready to analyze.\\\")\";\n",
       "                var nbb_cells = Jupyter.notebook.get_cells();\n",
       "                for (var i = 0; i < nbb_cells.length; ++i) {\n",
       "                    if (nbb_cells[i].input_prompt_number == nbb_cell_id) {\n",
       "                        if (nbb_cells[i].get_text() == nbb_unformatted_code) {\n",
       "                             nbb_cells[i].set_text(nbb_formatted_code);\n",
       "                        }\n",
       "                        break;\n",
       "                    }\n",
       "                }\n",
       "            }, 500);\n",
       "            "
      ],
      "text/plain": [
       "<IPython.core.display.Javascript object>"
      ]
     },
     "metadata": {},
     "output_type": "display_data"
    }
   ],
   "source": [
    "%%time\n",
    "# Run the backtests\n",
    "for i in np.arange(1, number_of_runs + 1):\n",
    "    print(\"Processing run \" + str(i))\n",
    "\n",
    "    result = zipline.run_algorithm(\n",
    "        start=start,\n",
    "        end=end,\n",
    "        initialize=initialize,\n",
    "        capital_base=100000,\n",
    "        data_frequency=\"daily\",\n",
    "        bundle=\"random_stocks\",\n",
    "    )  # book uses ac_equities_db, quandl is broken apparently because it does not store all the tickers that make up the S&P 500\n",
    "\n",
    "    df[i] = result[\"portfolio_value\"]\n",
    "\n",
    "print(\"All Done. Ready to analyze.\")"
   ]
  },
  {
   "cell_type": "code",
   "execution_count": 12,
   "metadata": {},
   "outputs": [
    {
     "name": "stderr",
     "output_type": "stream",
     "text": [
      "/usr/local/lib/python3.6/site-packages/pandas/plotting/_compat.py:57: MatplotlibDeprecationWarning: \n",
      "The compare_versions function was deprecated in Matplotlib 3.2 and will be removed two minor releases later.\n",
      "  return matplotlib.compare_versions('2.0.0', matplotlib.__version__)\n"
     ]
    },
    {
     "data": {
      "text/plain": [
       "<AxesSubplot:>"
      ]
     },
     "execution_count": 12,
     "metadata": {},
     "output_type": "execute_result"
    },
    {
     "data": {
      "image/png": "[encoded data removed]",
      "text/plain": [
       "<Figure size 432x288 with 1 Axes>"
      ]
     },
     "metadata": {
      "needs_background": "light"
     },
     "output_type": "display_data"
    },
    {
     "data": {
      "application/javascript": [
       "\n",
       "            setTimeout(function() {\n",
       "                var nbb_cell_id = 12;\n",
       "                var nbb_unformatted_code = \"df.plot()\";\n",
       "                var nbb_formatted_code = \"df.plot()\";\n",
       "                var nbb_cells = Jupyter.notebook.get_cells();\n",
       "                for (var i = 0; i < nbb_cells.length; ++i) {\n",
       "                    if (nbb_cells[i].input_prompt_number == nbb_cell_id) {\n",
       "                        if (nbb_cells[i].get_text() == nbb_unformatted_code) {\n",
       "                             nbb_cells[i].set_text(nbb_formatted_code);\n",
       "                        }\n",
       "                        break;\n",
       "                    }\n",
       "                }\n",
       "            }, 500);\n",
       "            "
      ],
      "text/plain": [
       "<IPython.core.display.Javascript object>"
      ]
     },
     "metadata": {},
     "output_type": "display_data"
    }
   ],
   "source": [
    "df.plot()"
   ]
  }
 ],
 "metadata": {
  "kernelspec": {
   "display_name": "Python 3",
   "language": "python",
   "name": "python3"
  },
  "language_info": {
   "codemirror_mode": {
    "name": "ipython",
    "version": 3
   },
   "file_extension": ".py",
   "mimetype": "text/x-python",
   "name": "python",
   "nbconvert_exporter": "python",
   "pygments_lexer": "ipython3",
   "version": "3.6.12"
  }
 },
 "nbformat": 4,
 "nbformat_minor": 4
}
