{
 "cells": [
  {
   "cell_type": "code",
   "execution_count": 1,
   "metadata": {},
   "outputs": [
    {
     "data": {
      "application/javascript": [
       "\n",
       "            setTimeout(function() {\n",
       "                var nbb_cell_id = 1;\n",
       "                var nbb_unformatted_code = \"%load_ext nb_black\";\n",
       "                var nbb_formatted_code = \"%load_ext nb_black\";\n",
       "                var nbb_cells = Jupyter.notebook.get_cells();\n",
       "                for (var i = 0; i < nbb_cells.length; ++i) {\n",
       "                    if (nbb_cells[i].input_prompt_number == nbb_cell_id) {\n",
       "                        if (nbb_cells[i].get_text() == nbb_unformatted_code) {\n",
       "                             nbb_cells[i].set_text(nbb_formatted_code);\n",
       "                        }\n",
       "                        break;\n",
       "                    }\n",
       "                }\n",
       "            }, 500);\n",
       "            "
      ],
      "text/plain": [
       "<IPython.core.display.Javascript object>"
      ]
     },
     "metadata": {},
     "output_type": "display_data"
    }
   ],
   "source": [
    "%load_ext nb_black"
   ]
  },
  {
   "cell_type": "code",
   "execution_count": 2,
   "metadata": {},
   "outputs": [
    {
     "data": {
      "application/javascript": [
       "\n",
       "            setTimeout(function() {\n",
       "                var nbb_cell_id = 2;\n",
       "                var nbb_unformatted_code = \"import zipline\\nfrom zipline.api import (\\n    order_target_percent,\\n    symbol,\\n    set_commission,\\n    set_slippage,\\n    schedule_function,\\n    date_rules,\\n    time_rules,\\n)\\n\\nfrom zipline.finance.commission import PerTrade, PerDollar\\nfrom zipline.finance.slippage import VolumeShareSlippage, FixedSlippage\\n\\nfrom datetime import datetime\\nimport pytz\\nimport pandas as pd\\nimport numpy as np\\n\\n# To generate random numbers\\nfrom random import random, seed, randrange\";\n",
       "                var nbb_formatted_code = \"import zipline\\nfrom zipline.api import (\\n    order_target_percent,\\n    symbol,\\n    set_commission,\\n    set_slippage,\\n    schedule_function,\\n    date_rules,\\n    time_rules,\\n)\\n\\nfrom zipline.finance.commission import PerTrade, PerDollar\\nfrom zipline.finance.slippage import VolumeShareSlippage, FixedSlippage\\n\\nfrom datetime import datetime\\nimport pytz\\nimport pandas as pd\\nimport numpy as np\\n\\n# To generate random numbers\\nfrom random import random, seed, randrange\";\n",
       "                var nbb_cells = Jupyter.notebook.get_cells();\n",
       "                for (var i = 0; i < nbb_cells.length; ++i) {\n",
       "                    if (nbb_cells[i].input_prompt_number == nbb_cell_id) {\n",
       "                        if (nbb_cells[i].get_text() == nbb_unformatted_code) {\n",
       "                             nbb_cells[i].set_text(nbb_formatted_code);\n",
       "                        }\n",
       "                        break;\n",
       "                    }\n",
       "                }\n",
       "            }, 500);\n",
       "            "
      ],
      "text/plain": [
       "<IPython.core.display.Javascript object>"
      ]
     },
     "metadata": {},
     "output_type": "display_data"
    }
   ],
   "source": [
    "import zipline\n",
    "from zipline.api import (\n",
    "    order_target_percent,\n",
    "    symbol,\n",
    "    set_commission,\n",
    "    set_slippage,\n",
    "    schedule_function,\n",
    "    date_rules,\n",
    "    time_rules,\n",
    ")\n",
    "\n",
    "from zipline.finance.commission import PerTrade, PerDollar\n",
    "from zipline.finance.slippage import VolumeShareSlippage, FixedSlippage\n",
    "\n",
    "from datetime import datetime\n",
    "import pytz\n",
    "import pandas as pd\n",
    "import numpy as np\n",
    "\n",
    "# To generate random numbers\n",
    "from random import random, seed, randrange"
   ]
  },
  {
   "cell_type": "markdown",
   "metadata": {},
   "source": [
    "Import the S&P 500 membership data from Andreas Clenow's [website](https://www.followingthetrend.com/trading-evolved/)::"
   ]
  },
  {
   "cell_type": "code",
   "execution_count": 3,
   "metadata": {},
   "outputs": [
    {
     "name": "stdout",
     "output_type": "stream",
     "text": [
      "total 7.5M\n",
      "drwxr-xr-x 2 root root 4.0K Jul 15  2019 .\n",
      "drwxr-xr-x 3 root root 4.0K Aug  7  2019 ..\n",
      "-rw-r--r-- 1 root root 7.5M May 22  2019 sp500.csv\n"
     ]
    },
    {
     "data": {
      "application/javascript": [
       "\n",
       "            setTimeout(function() {\n",
       "                var nbb_cell_id = 3;\n",
       "                var nbb_unformatted_code = \"%%bash\\ncd /tmp\\nrm -rf trading_evolved\\nrm -f trading_evolved.zip\\n\\nwget -q -O trading_evolved.zip https://dl.dropbox.com/s/tj85sufbsi820ya/Trading%20Evolved.zip?dl=1\\nunzip -q -d trading_evolved trading_evolved.zip\\nls -lah trading_evolved/data/index_members\";\n",
       "                var nbb_formatted_code = \"%%bash\\ncd /tmp\\nrm -rf trading_evolved\\nrm -f trading_evolved.zip\\n\\nwget -q -O trading_evolved.zip https://dl.dropbox.com/s/tj85sufbsi820ya/Trading%20Evolved.zip?dl=1\\nunzip -q -d trading_evolved trading_evolved.zip\\nls -lah trading_evolved/data/index_members\";\n",
       "                var nbb_cells = Jupyter.notebook.get_cells();\n",
       "                for (var i = 0; i < nbb_cells.length; ++i) {\n",
       "                    if (nbb_cells[i].input_prompt_number == nbb_cell_id) {\n",
       "                        if (nbb_cells[i].get_text() == nbb_unformatted_code) {\n",
       "                             nbb_cells[i].set_text(nbb_formatted_code);\n",
       "                        }\n",
       "                        break;\n",
       "                    }\n",
       "                }\n",
       "            }, 500);\n",
       "            "
      ],
      "text/plain": [
       "<IPython.core.display.Javascript object>"
      ]
     },
     "metadata": {},
     "output_type": "display_data"
    }
   ],
   "source": [
    "%%bash\n",
    "cd /tmp\n",
    "rm -rf trading_evolved\n",
    "rm -f trading_evolved.zip\n",
    "\n",
    "wget -q -O trading_evolved.zip https://dl.dropbox.com/s/tj85sufbsi820ya/Trading%20Evolved.zip?dl=1\n",
    "unzip -q -d trading_evolved trading_evolved.zip\n",
    "ls -lah trading_evolved/data/index_members"
   ]
  },
  {
   "cell_type": "code",
   "execution_count": 4,
   "metadata": {},
   "outputs": [
    {
     "data": {
      "application/javascript": [
       "\n",
       "            setTimeout(function() {\n",
       "                var nbb_cell_id = 4;\n",
       "                var nbb_unformatted_code = \"DATA_FOLDER = \\\"/tmp/trading_evolved/data/index_members\\\"\";\n",
       "                var nbb_formatted_code = \"DATA_FOLDER = \\\"/tmp/trading_evolved/data/index_members\\\"\";\n",
       "                var nbb_cells = Jupyter.notebook.get_cells();\n",
       "                for (var i = 0; i < nbb_cells.length; ++i) {\n",
       "                    if (nbb_cells[i].input_prompt_number == nbb_cell_id) {\n",
       "                        if (nbb_cells[i].get_text() == nbb_unformatted_code) {\n",
       "                             nbb_cells[i].set_text(nbb_formatted_code);\n",
       "                        }\n",
       "                        break;\n",
       "                    }\n",
       "                }\n",
       "            }, 500);\n",
       "            "
      ],
      "text/plain": [
       "<IPython.core.display.Javascript object>"
      ]
     },
     "metadata": {},
     "output_type": "display_data"
    }
   ],
   "source": [
    "DATA_FOLDER = \"/tmp/trading_evolved/data/index_members\""
   ]
  },
  {
   "cell_type": "code",
   "execution_count": 5,
   "metadata": {},
   "outputs": [
    {
     "data": {
      "application/javascript": [
       "\n",
       "            setTimeout(function() {\n",
       "                var nbb_cell_id = 5;\n",
       "                var nbb_unformatted_code = \"\\\"\\\"\\\"\\nSettings\\n\\\"\\\"\\\"\\nnumber_of_runs = 2\\nrandom_portfolio_size = False\\nnumber_of_stocks = 50  # portfolio size, if not random\\nsizing_method = \\\"equal\\\"  # equal or random\\n\\nenable_commission = False\\ncommission_pct = 0.001\\nenable_slippage = False\\nslippage_volume_limit = 0.25\\nslippage_impact = 0.05\";\n",
       "                var nbb_formatted_code = \"\\\"\\\"\\\"\\nSettings\\n\\\"\\\"\\\"\\nnumber_of_runs = 2\\nrandom_portfolio_size = False\\nnumber_of_stocks = 50  # portfolio size, if not random\\nsizing_method = \\\"equal\\\"  # equal or random\\n\\nenable_commission = False\\ncommission_pct = 0.001\\nenable_slippage = False\\nslippage_volume_limit = 0.25\\nslippage_impact = 0.05\";\n",
       "                var nbb_cells = Jupyter.notebook.get_cells();\n",
       "                for (var i = 0; i < nbb_cells.length; ++i) {\n",
       "                    if (nbb_cells[i].input_prompt_number == nbb_cell_id) {\n",
       "                        if (nbb_cells[i].get_text() == nbb_unformatted_code) {\n",
       "                             nbb_cells[i].set_text(nbb_formatted_code);\n",
       "                        }\n",
       "                        break;\n",
       "                    }\n",
       "                }\n",
       "            }, 500);\n",
       "            "
      ],
      "text/plain": [
       "<IPython.core.display.Javascript object>"
      ]
     },
     "metadata": {},
     "output_type": "display_data"
    }
   ],
   "source": [
    "\"\"\"\n",
    "Settings\n",
    "\"\"\"\n",
    "number_of_runs = 2\n",
    "random_portfolio_size = False\n",
    "number_of_stocks = 50  # portfolio size, if not random\n",
    "sizing_method = \"equal\"  # equal or random\n",
    "\n",
    "enable_commission = False\n",
    "commission_pct = 0.001\n",
    "enable_slippage = False\n",
    "slippage_volume_limit = 0.25\n",
    "slippage_impact = 0.05"
   ]
  },
  {
   "cell_type": "code",
   "execution_count": 6,
   "metadata": {},
   "outputs": [
    {
     "data": {
      "application/javascript": [
       "\n",
       "            setTimeout(function() {\n",
       "                var nbb_cell_id = 6;\n",
       "                var nbb_unformatted_code = \"def initialize(context):\\n    # Fetch and store index membership\\n    context.index_members = pd.read_csv(\\n        f\\\"{DATA_FOLDER}/sp500.csv\\\", index_col=0, parse_dates=[0]\\n    )\\n\\n    # Set commission and slippage.\\n    if enable_commission:\\n        comm_model = PerDollar(cost=commission_pct)\\n    else:\\n        comm_model = PerDollar(cost=0.0)\\n    set_commission(comm_model)\\n\\n    if enable_slippage:\\n        slippage_model = VolumeShareSlippage(\\n            volume_limit=slippage_volume_limit, price_impact=slippage_impact\\n        )\\n\\n    else:\\n        slippage_model = FixedSlippage(spread=0.0)\\n    set_slippage(slippage_model)\\n\\n    schedule_function(\\n        func=rebalance,\\n        date_rule=date_rules.month_start(),\\n        time_rule=time_rules.market_open(),\\n    )\";\n",
       "                var nbb_formatted_code = \"def initialize(context):\\n    # Fetch and store index membership\\n    context.index_members = pd.read_csv(\\n        f\\\"{DATA_FOLDER}/sp500.csv\\\", index_col=0, parse_dates=[0]\\n    )\\n\\n    # Set commission and slippage.\\n    if enable_commission:\\n        comm_model = PerDollar(cost=commission_pct)\\n    else:\\n        comm_model = PerDollar(cost=0.0)\\n    set_commission(comm_model)\\n\\n    if enable_slippage:\\n        slippage_model = VolumeShareSlippage(\\n            volume_limit=slippage_volume_limit, price_impact=slippage_impact\\n        )\\n\\n    else:\\n        slippage_model = FixedSlippage(spread=0.0)\\n    set_slippage(slippage_model)\\n\\n    schedule_function(\\n        func=rebalance,\\n        date_rule=date_rules.month_start(),\\n        time_rule=time_rules.market_open(),\\n    )\";\n",
       "                var nbb_cells = Jupyter.notebook.get_cells();\n",
       "                for (var i = 0; i < nbb_cells.length; ++i) {\n",
       "                    if (nbb_cells[i].input_prompt_number == nbb_cell_id) {\n",
       "                        if (nbb_cells[i].get_text() == nbb_unformatted_code) {\n",
       "                             nbb_cells[i].set_text(nbb_formatted_code);\n",
       "                        }\n",
       "                        break;\n",
       "                    }\n",
       "                }\n",
       "            }, 500);\n",
       "            "
      ],
      "text/plain": [
       "<IPython.core.display.Javascript object>"
      ]
     },
     "metadata": {},
     "output_type": "display_data"
    }
   ],
   "source": [
    "def initialize(context):\n",
    "    # Fetch and store index membership\n",
    "    context.index_members = pd.read_csv(\n",
    "        f\"{DATA_FOLDER}/sp500.csv\", index_col=0, parse_dates=[0]\n",
    "    )\n",
    "\n",
    "    # Set commission and slippage.\n",
    "    if enable_commission:\n",
    "        comm_model = PerDollar(cost=commission_pct)\n",
    "    else:\n",
    "        comm_model = PerDollar(cost=0.0)\n",
    "    set_commission(comm_model)\n",
    "\n",
    "    if enable_slippage:\n",
    "        slippage_model = VolumeShareSlippage(\n",
    "            volume_limit=slippage_volume_limit, price_impact=slippage_impact\n",
    "        )\n",
    "\n",
    "    else:\n",
    "        slippage_model = FixedSlippage(spread=0.0)\n",
    "    set_slippage(slippage_model)\n",
    "\n",
    "    schedule_function(\n",
    "        func=rebalance,\n",
    "        date_rule=date_rules.month_start(),\n",
    "        time_rule=time_rules.market_open(),\n",
    "    )"
   ]
  },
  {
   "cell_type": "code",
   "execution_count": 7,
   "metadata": {},
   "outputs": [
    {
     "data": {
      "application/javascript": [
       "\n",
       "            setTimeout(function() {\n",
       "                var nbb_cell_id = 7;\n",
       "                var nbb_unformatted_code = \"def rebalance(context, data):\\n    today = zipline.api.get_datetime()\\n\\n    # Check eligible stocks\\n    todays_universe = [\\n        symbol(ticker)\\n        for ticker in context.index_members.loc[context.index_members.index < today]\\n        .iloc[-1, 0]\\n        .split(\\\",\\\")\\n    ]\\n\\n    # Make a list of stocks to buy\\n    buys = []\\n\\n    # To modify global variable, and not make new one\\n    global number_of_stocks\\n\\n    # If random stockss selected\\n    if random_portfolio_size:\\n        # Buy between 5 and 200 stocks.\\n        number_of_stocks = randrange(5, 200)\\n\\n    # Select stocks\\n    for i in np.arange(1, number_of_stocks + 1):\\n        num = randrange(0, len(todays_universe) - 1)\\n        buys.append(todays_universe.pop(num))\\n\\n    # Sell positions no longer wanted.\\n    for security in context.portfolio.positions:\\n        if security not in buys:\\n            order_target_percent(security, 0.0)\\n\\n    # Make an empty DataFrame to hold target position sizes\\n    buy_size = pd.DataFrame(index=buys)\\n\\n    # Get random sizes, if enabled.\\n    if sizing_method == \\\"random\\\":\\n        buy_size[\\\"rand\\\"] = [randrange(1, 100) for x in buy_size.iterrows()]\\n        buy_size[\\\"target_weight\\\"] = buy_size[\\\"rand\\\"] / buy_size[\\\"rand\\\"].sum()\\n    elif sizing_method == \\\"equal\\\":\\n        buy_size[\\\"target_weight\\\"] = 1.0 / number_of_stocks\\n\\n    # Send buy orders\\n    for security in buys:\\n        order_target_percent(security, buy_size.loc[security, \\\"target_weight\\\"])\";\n",
       "                var nbb_formatted_code = \"def rebalance(context, data):\\n    today = zipline.api.get_datetime()\\n\\n    # Check eligible stocks\\n    todays_universe = [\\n        symbol(ticker)\\n        for ticker in context.index_members.loc[context.index_members.index < today]\\n        .iloc[-1, 0]\\n        .split(\\\",\\\")\\n    ]\\n\\n    # Make a list of stocks to buy\\n    buys = []\\n\\n    # To modify global variable, and not make new one\\n    global number_of_stocks\\n\\n    # If random stockss selected\\n    if random_portfolio_size:\\n        # Buy between 5 and 200 stocks.\\n        number_of_stocks = randrange(5, 200)\\n\\n    # Select stocks\\n    for i in np.arange(1, number_of_stocks + 1):\\n        num = randrange(0, len(todays_universe) - 1)\\n        buys.append(todays_universe.pop(num))\\n\\n    # Sell positions no longer wanted.\\n    for security in context.portfolio.positions:\\n        if security not in buys:\\n            order_target_percent(security, 0.0)\\n\\n    # Make an empty DataFrame to hold target position sizes\\n    buy_size = pd.DataFrame(index=buys)\\n\\n    # Get random sizes, if enabled.\\n    if sizing_method == \\\"random\\\":\\n        buy_size[\\\"rand\\\"] = [randrange(1, 100) for x in buy_size.iterrows()]\\n        buy_size[\\\"target_weight\\\"] = buy_size[\\\"rand\\\"] / buy_size[\\\"rand\\\"].sum()\\n    elif sizing_method == \\\"equal\\\":\\n        buy_size[\\\"target_weight\\\"] = 1.0 / number_of_stocks\\n\\n    # Send buy orders\\n    for security in buys:\\n        order_target_percent(security, buy_size.loc[security, \\\"target_weight\\\"])\";\n",
       "                var nbb_cells = Jupyter.notebook.get_cells();\n",
       "                for (var i = 0; i < nbb_cells.length; ++i) {\n",
       "                    if (nbb_cells[i].input_prompt_number == nbb_cell_id) {\n",
       "                        if (nbb_cells[i].get_text() == nbb_unformatted_code) {\n",
       "                             nbb_cells[i].set_text(nbb_formatted_code);\n",
       "                        }\n",
       "                        break;\n",
       "                    }\n",
       "                }\n",
       "            }, 500);\n",
       "            "
      ],
      "text/plain": [
       "<IPython.core.display.Javascript object>"
      ]
     },
     "metadata": {},
     "output_type": "display_data"
    }
   ],
   "source": [
    "def rebalance(context, data):\n",
    "    today = zipline.api.get_datetime()\n",
    "\n",
    "    # Check eligible stocks\n",
    "    todays_universe = [\n",
    "        symbol(ticker)\n",
    "        for ticker in context.index_members.loc[context.index_members.index < today]\n",
    "        .iloc[-1, 0]\n",
    "        .split(\",\")\n",
    "    ]\n",
    "\n",
    "    # Make a list of stocks to buy\n",
    "    buys = []\n",
    "\n",
    "    # To modify global variable, and not make new one\n",
    "    global number_of_stocks\n",
    "\n",
    "    # If random stockss selected\n",
    "    if random_portfolio_size:\n",
    "        # Buy between 5 and 200 stocks.\n",
    "        number_of_stocks = randrange(5, 200)\n",
    "\n",
    "    # Select stocks\n",
    "    for i in np.arange(1, number_of_stocks + 1):\n",
    "        num = randrange(0, len(todays_universe) - 1)\n",
    "        buys.append(todays_universe.pop(num))\n",
    "\n",
    "    # Sell positions no longer wanted.\n",
    "    for security in context.portfolio.positions:\n",
    "        if security not in buys:\n",
    "            order_target_percent(security, 0.0)\n",
    "\n",
    "    # Make an empty DataFrame to hold target position sizes\n",
    "    buy_size = pd.DataFrame(index=buys)\n",
    "\n",
    "    # Get random sizes, if enabled.\n",
    "    if sizing_method == \"random\":\n",
    "        buy_size[\"rand\"] = [randrange(1, 100) for x in buy_size.iterrows()]\n",
    "        buy_size[\"target_weight\"] = buy_size[\"rand\"] / buy_size[\"rand\"].sum()\n",
    "    elif sizing_method == \"equal\":\n",
    "        buy_size[\"target_weight\"] = 1.0 / number_of_stocks\n",
    "\n",
    "    # Send buy orders\n",
    "    for security in buys:\n",
    "        order_target_percent(security, buy_size.loc[security, \"target_weight\"])"
   ]
  },
  {
   "cell_type": "code",
   "execution_count": 8,
   "metadata": {},
   "outputs": [
    {
     "data": {
      "application/javascript": [
       "\n",
       "            setTimeout(function() {\n",
       "                var nbb_cell_id = 8;\n",
       "                var nbb_unformatted_code = \"start = pd.Timestamp(\\\"1996-01-01\\\", tz=\\\"utc\\\")\\nend = pd.Timestamp(\\\"2018-12-31\\\", tz=\\\"utc\\\")\";\n",
       "                var nbb_formatted_code = \"start = pd.Timestamp(\\\"1996-01-01\\\", tz=\\\"utc\\\")\\nend = pd.Timestamp(\\\"2018-12-31\\\", tz=\\\"utc\\\")\";\n",
       "                var nbb_cells = Jupyter.notebook.get_cells();\n",
       "                for (var i = 0; i < nbb_cells.length; ++i) {\n",
       "                    if (nbb_cells[i].input_prompt_number == nbb_cell_id) {\n",
       "                        if (nbb_cells[i].get_text() == nbb_unformatted_code) {\n",
       "                             nbb_cells[i].set_text(nbb_formatted_code);\n",
       "                        }\n",
       "                        break;\n",
       "                    }\n",
       "                }\n",
       "            }, 500);\n",
       "            "
      ],
      "text/plain": [
       "<IPython.core.display.Javascript object>"
      ]
     },
     "metadata": {},
     "output_type": "display_data"
    }
   ],
   "source": [
    "start = pd.Timestamp(\"1996-01-01\", tz=\"utc\")\n",
    "end = pd.Timestamp(\"2018-12-31\", tz=\"utc\")"
   ]
  },
  {
   "cell_type": "code",
   "execution_count": 9,
   "metadata": {},
   "outputs": [
    {
     "data": {
      "application/javascript": [
       "\n",
       "            setTimeout(function() {\n",
       "                var nbb_cell_id = 9;\n",
       "                var nbb_unformatted_code = \"# Empty DataFrame to hold the results\\ndf = pd.DataFrame()\";\n",
       "                var nbb_formatted_code = \"# Empty DataFrame to hold the results\\ndf = pd.DataFrame()\";\n",
       "                var nbb_cells = Jupyter.notebook.get_cells();\n",
       "                for (var i = 0; i < nbb_cells.length; ++i) {\n",
       "                    if (nbb_cells[i].input_prompt_number == nbb_cell_id) {\n",
       "                        if (nbb_cells[i].get_text() == nbb_unformatted_code) {\n",
       "                             nbb_cells[i].set_text(nbb_formatted_code);\n",
       "                        }\n",
       "                        break;\n",
       "                    }\n",
       "                }\n",
       "            }, 500);\n",
       "            "
      ],
      "text/plain": [
       "<IPython.core.display.Javascript object>"
      ]
     },
     "metadata": {},
     "output_type": "display_data"
    }
   ],
   "source": [
    "# Empty DataFrame to hold the results\n",
    "df = pd.DataFrame()"
   ]
  },
  {
   "cell_type": "code",
   "execution_count": 10,
   "metadata": {},
   "outputs": [
    {
     "name": "stdout",
     "output_type": "stream",
     "text": [
      "Processing run 1\n"
     ]
    },
    {
     "ename": "SymbolNotFound",
     "evalue": "Symbol 'TMC-200006' was not found.",
     "output_type": "error",
     "traceback": [
      "\u001b[0;31m---------------------------------------------------------------------------\u001b[0m",
      "\u001b[0;31mKeyError\u001b[0m                                  Traceback (most recent call last)",
      "\u001b[0;32m/zipline/zipline/assets/assets.py\u001b[0m in \u001b[0;36m_lookup_symbol_strict\u001b[0;34m(self, ownership_map, multi_country, symbol, as_of_date)\u001b[0m\n\u001b[1;32m    812\u001b[0m         \u001b[0;32mtry\u001b[0m\u001b[0;34m:\u001b[0m\u001b[0;34m\u001b[0m\u001b[0;34m\u001b[0m\u001b[0m\n\u001b[0;32m--> 813\u001b[0;31m             \u001b[0mowners\u001b[0m \u001b[0;34m=\u001b[0m \u001b[0mownership_map\u001b[0m\u001b[0;34m[\u001b[0m\u001b[0mcompany_symbol\u001b[0m\u001b[0;34m,\u001b[0m \u001b[0mshare_class_symbol\u001b[0m\u001b[0;34m]\u001b[0m\u001b[0;34m\u001b[0m\u001b[0;34m\u001b[0m\u001b[0m\n\u001b[0m\u001b[1;32m    814\u001b[0m             \u001b[0;32massert\u001b[0m \u001b[0mowners\u001b[0m\u001b[0;34m,\u001b[0m \u001b[0;34m'empty owners list for %r'\u001b[0m \u001b[0;34m%\u001b[0m \u001b[0msymbol\u001b[0m\u001b[0;34m\u001b[0m\u001b[0;34m\u001b[0m\u001b[0m\n",
      "\u001b[0;31mKeyError\u001b[0m: ('TMC', '200006')",
      "\nDuring handling of the above exception, another exception occurred:\n",
      "\u001b[0;31mSymbolNotFound\u001b[0m                            Traceback (most recent call last)",
      "\u001b[0;32m<ipython-input-10-79d98fba1b00>\u001b[0m in \u001b[0;36m<module>\u001b[0;34m\u001b[0m\n\u001b[1;32m      9\u001b[0m         \u001b[0mcapital_base\u001b[0m\u001b[0;34m=\u001b[0m\u001b[0;36m100000\u001b[0m\u001b[0;34m,\u001b[0m\u001b[0;34m\u001b[0m\u001b[0;34m\u001b[0m\u001b[0m\n\u001b[1;32m     10\u001b[0m         \u001b[0mdata_frequency\u001b[0m\u001b[0;34m=\u001b[0m\u001b[0;34m\"daily\"\u001b[0m\u001b[0;34m,\u001b[0m\u001b[0;34m\u001b[0m\u001b[0;34m\u001b[0m\u001b[0m\n\u001b[0;32m---> 11\u001b[0;31m         \u001b[0mbundle\u001b[0m\u001b[0;34m=\u001b[0m\u001b[0;34m\"quandl\"\u001b[0m\u001b[0;34m,\u001b[0m\u001b[0;34m\u001b[0m\u001b[0;34m\u001b[0m\u001b[0m\n\u001b[0m\u001b[1;32m     12\u001b[0m     )  # book uses ac_equities_db, quandl is broken apparently because it does not store all the tickers that make up the S&P 500\n\u001b[1;32m     13\u001b[0m \u001b[0;34m\u001b[0m\u001b[0m\n",
      "\u001b[0;32m/zipline/zipline/utils/run_algo.py\u001b[0m in \u001b[0;36mrun_algorithm\u001b[0;34m(start, end, initialize, capital_base, handle_data, before_trading_start, analyze, data_frequency, bundle, bundle_timestamp, trading_calendar, metrics_set, benchmark_returns, default_extension, extensions, strict_extensions, environ, blotter)\u001b[0m\n\u001b[1;32m    407\u001b[0m         \u001b[0menviron\u001b[0m\u001b[0;34m=\u001b[0m\u001b[0menviron\u001b[0m\u001b[0;34m,\u001b[0m\u001b[0;34m\u001b[0m\u001b[0;34m\u001b[0m\u001b[0m\n\u001b[1;32m    408\u001b[0m         \u001b[0mblotter\u001b[0m\u001b[0;34m=\u001b[0m\u001b[0mblotter\u001b[0m\u001b[0;34m,\u001b[0m\u001b[0;34m\u001b[0m\u001b[0;34m\u001b[0m\u001b[0m\n\u001b[0;32m--> 409\u001b[0;31m         \u001b[0mbenchmark_spec\u001b[0m\u001b[0;34m=\u001b[0m\u001b[0mbenchmark_spec\u001b[0m\u001b[0;34m,\u001b[0m\u001b[0;34m\u001b[0m\u001b[0;34m\u001b[0m\u001b[0m\n\u001b[0m\u001b[1;32m    410\u001b[0m     )\n\u001b[1;32m    411\u001b[0m \u001b[0;34m\u001b[0m\u001b[0m\n",
      "\u001b[0;32m/zipline/zipline/utils/run_algo.py\u001b[0m in \u001b[0;36m_run\u001b[0;34m(handle_data, initialize, before_trading_start, analyze, algofile, algotext, defines, data_frequency, capital_base, bundle, bundle_timestamp, start, end, output, trading_calendar, print_algo, metrics_set, local_namespace, environ, blotter, benchmark_spec)\u001b[0m\n\u001b[1;32m    214\u001b[0m             \u001b[0;34m}\u001b[0m \u001b[0;32mif\u001b[0m \u001b[0malgotext\u001b[0m \u001b[0;32mis\u001b[0m \u001b[0;32mNone\u001b[0m \u001b[0;32melse\u001b[0m \u001b[0;34m{\u001b[0m\u001b[0;34m\u001b[0m\u001b[0;34m\u001b[0m\u001b[0m\n\u001b[1;32m    215\u001b[0m                 \u001b[0;34m'algo_filename'\u001b[0m\u001b[0;34m:\u001b[0m \u001b[0mgetattr\u001b[0m\u001b[0;34m(\u001b[0m\u001b[0malgofile\u001b[0m\u001b[0;34m,\u001b[0m \u001b[0;34m'name'\u001b[0m\u001b[0;34m,\u001b[0m \u001b[0;34m'<algorithm>'\u001b[0m\u001b[0;34m)\u001b[0m\u001b[0;34m,\u001b[0m\u001b[0;34m\u001b[0m\u001b[0;34m\u001b[0m\u001b[0m\n\u001b[0;32m--> 216\u001b[0;31m                 \u001b[0;34m'script'\u001b[0m\u001b[0;34m:\u001b[0m \u001b[0malgotext\u001b[0m\u001b[0;34m,\u001b[0m\u001b[0;34m\u001b[0m\u001b[0;34m\u001b[0m\u001b[0m\n\u001b[0m\u001b[1;32m    217\u001b[0m             }\n\u001b[1;32m    218\u001b[0m         ).run()\n",
      "\u001b[0;32m/zipline/zipline/algorithm.py\u001b[0m in \u001b[0;36mrun\u001b[0;34m(self, data_portal)\u001b[0m\n\u001b[1;32m    641\u001b[0m         \u001b[0;32mtry\u001b[0m\u001b[0;34m:\u001b[0m\u001b[0;34m\u001b[0m\u001b[0;34m\u001b[0m\u001b[0m\n\u001b[1;32m    642\u001b[0m             \u001b[0mperfs\u001b[0m \u001b[0;34m=\u001b[0m \u001b[0;34m[\u001b[0m\u001b[0;34m]\u001b[0m\u001b[0;34m\u001b[0m\u001b[0;34m\u001b[0m\u001b[0m\n\u001b[0;32m--> 643\u001b[0;31m             \u001b[0;32mfor\u001b[0m \u001b[0mperf\u001b[0m \u001b[0;32min\u001b[0m \u001b[0mself\u001b[0m\u001b[0;34m.\u001b[0m\u001b[0mget_generator\u001b[0m\u001b[0;34m(\u001b[0m\u001b[0;34m)\u001b[0m\u001b[0;34m:\u001b[0m\u001b[0;34m\u001b[0m\u001b[0;34m\u001b[0m\u001b[0m\n\u001b[0m\u001b[1;32m    644\u001b[0m                 \u001b[0mperfs\u001b[0m\u001b[0;34m.\u001b[0m\u001b[0mappend\u001b[0m\u001b[0;34m(\u001b[0m\u001b[0mperf\u001b[0m\u001b[0;34m)\u001b[0m\u001b[0;34m\u001b[0m\u001b[0;34m\u001b[0m\u001b[0m\n\u001b[1;32m    645\u001b[0m \u001b[0;34m\u001b[0m\u001b[0m\n",
      "\u001b[0;32m/zipline/zipline/gens/tradesimulation.py\u001b[0m in \u001b[0;36mtransform\u001b[0;34m(self)\u001b[0m\n\u001b[1;32m    203\u001b[0m             \u001b[0;32mfor\u001b[0m \u001b[0mdt\u001b[0m\u001b[0;34m,\u001b[0m \u001b[0maction\u001b[0m \u001b[0;32min\u001b[0m \u001b[0mself\u001b[0m\u001b[0;34m.\u001b[0m\u001b[0mclock\u001b[0m\u001b[0;34m:\u001b[0m\u001b[0;34m\u001b[0m\u001b[0;34m\u001b[0m\u001b[0m\n\u001b[1;32m    204\u001b[0m                 \u001b[0;32mif\u001b[0m \u001b[0maction\u001b[0m \u001b[0;34m==\u001b[0m \u001b[0mBAR\u001b[0m\u001b[0;34m:\u001b[0m\u001b[0;34m\u001b[0m\u001b[0;34m\u001b[0m\u001b[0m\n\u001b[0;32m--> 205\u001b[0;31m                     \u001b[0;32mfor\u001b[0m \u001b[0mcapital_change_packet\u001b[0m \u001b[0;32min\u001b[0m \u001b[0mevery_bar\u001b[0m\u001b[0;34m(\u001b[0m\u001b[0mdt\u001b[0m\u001b[0;34m)\u001b[0m\u001b[0;34m:\u001b[0m\u001b[0;34m\u001b[0m\u001b[0;34m\u001b[0m\u001b[0m\n\u001b[0m\u001b[1;32m    206\u001b[0m                         \u001b[0;32myield\u001b[0m \u001b[0mcapital_change_packet\u001b[0m\u001b[0;34m\u001b[0m\u001b[0;34m\u001b[0m\u001b[0m\n\u001b[1;32m    207\u001b[0m                 \u001b[0;32melif\u001b[0m \u001b[0maction\u001b[0m \u001b[0;34m==\u001b[0m \u001b[0mSESSION_START\u001b[0m\u001b[0;34m:\u001b[0m\u001b[0;34m\u001b[0m\u001b[0;34m\u001b[0m\u001b[0m\n",
      "\u001b[0;32m/zipline/zipline/gens/tradesimulation.py\u001b[0m in \u001b[0;36mevery_bar\u001b[0;34m(dt_to_use, current_data, handle_data)\u001b[0m\n\u001b[1;32m    131\u001b[0m                 \u001b[0mmetrics_tracker\u001b[0m\u001b[0;34m.\u001b[0m\u001b[0mprocess_commission\u001b[0m\u001b[0;34m(\u001b[0m\u001b[0mcommission\u001b[0m\u001b[0;34m)\u001b[0m\u001b[0;34m\u001b[0m\u001b[0;34m\u001b[0m\u001b[0m\n\u001b[1;32m    132\u001b[0m \u001b[0;34m\u001b[0m\u001b[0m\n\u001b[0;32m--> 133\u001b[0;31m             \u001b[0mhandle_data\u001b[0m\u001b[0;34m(\u001b[0m\u001b[0malgo\u001b[0m\u001b[0;34m,\u001b[0m \u001b[0mcurrent_data\u001b[0m\u001b[0;34m,\u001b[0m \u001b[0mdt_to_use\u001b[0m\u001b[0;34m)\u001b[0m\u001b[0;34m\u001b[0m\u001b[0;34m\u001b[0m\u001b[0m\n\u001b[0m\u001b[1;32m    134\u001b[0m \u001b[0;34m\u001b[0m\u001b[0m\n\u001b[1;32m    135\u001b[0m             \u001b[0;31m# grab any new orders from the blotter, then clear the list.\u001b[0m\u001b[0;34m\u001b[0m\u001b[0;34m\u001b[0m\u001b[0;34m\u001b[0m\u001b[0m\n",
      "\u001b[0;32m/zipline/zipline/utils/events.py\u001b[0m in \u001b[0;36mhandle_data\u001b[0;34m(self, context, data, dt)\u001b[0m\n\u001b[1;32m    216\u001b[0m                     \u001b[0mcontext\u001b[0m\u001b[0;34m,\u001b[0m\u001b[0;34m\u001b[0m\u001b[0;34m\u001b[0m\u001b[0m\n\u001b[1;32m    217\u001b[0m                     \u001b[0mdata\u001b[0m\u001b[0;34m,\u001b[0m\u001b[0;34m\u001b[0m\u001b[0;34m\u001b[0m\u001b[0m\n\u001b[0;32m--> 218\u001b[0;31m                     \u001b[0mdt\u001b[0m\u001b[0;34m,\u001b[0m\u001b[0;34m\u001b[0m\u001b[0;34m\u001b[0m\u001b[0m\n\u001b[0m\u001b[1;32m    219\u001b[0m                 )\n\u001b[1;32m    220\u001b[0m \u001b[0;34m\u001b[0m\u001b[0m\n",
      "\u001b[0;32m/zipline/zipline/utils/events.py\u001b[0m in \u001b[0;36mhandle_data\u001b[0;34m(self, context, data, dt)\u001b[0m\n\u001b[1;32m    235\u001b[0m         \"\"\"\n\u001b[1;32m    236\u001b[0m         \u001b[0;32mif\u001b[0m \u001b[0mself\u001b[0m\u001b[0;34m.\u001b[0m\u001b[0mrule\u001b[0m\u001b[0;34m.\u001b[0m\u001b[0mshould_trigger\u001b[0m\u001b[0;34m(\u001b[0m\u001b[0mdt\u001b[0m\u001b[0;34m)\u001b[0m\u001b[0;34m:\u001b[0m\u001b[0;34m\u001b[0m\u001b[0;34m\u001b[0m\u001b[0m\n\u001b[0;32m--> 237\u001b[0;31m             \u001b[0mself\u001b[0m\u001b[0;34m.\u001b[0m\u001b[0mcallback\u001b[0m\u001b[0;34m(\u001b[0m\u001b[0mcontext\u001b[0m\u001b[0;34m,\u001b[0m \u001b[0mdata\u001b[0m\u001b[0;34m)\u001b[0m\u001b[0;34m\u001b[0m\u001b[0;34m\u001b[0m\u001b[0m\n\u001b[0m\u001b[1;32m    238\u001b[0m \u001b[0;34m\u001b[0m\u001b[0m\n\u001b[1;32m    239\u001b[0m \u001b[0;34m\u001b[0m\u001b[0m\n",
      "\u001b[0;32m<ipython-input-7-fbb079fe85fb>\u001b[0m in \u001b[0;36mrebalance\u001b[0;34m(context, data)\u001b[0m\n\u001b[1;32m      7\u001b[0m         \u001b[0;32mfor\u001b[0m \u001b[0mticker\u001b[0m \u001b[0;32min\u001b[0m \u001b[0mcontext\u001b[0m\u001b[0;34m.\u001b[0m\u001b[0mindex_members\u001b[0m\u001b[0;34m.\u001b[0m\u001b[0mloc\u001b[0m\u001b[0;34m[\u001b[0m\u001b[0mcontext\u001b[0m\u001b[0;34m.\u001b[0m\u001b[0mindex_members\u001b[0m\u001b[0;34m.\u001b[0m\u001b[0mindex\u001b[0m \u001b[0;34m<\u001b[0m \u001b[0mtoday\u001b[0m\u001b[0;34m]\u001b[0m\u001b[0;34m\u001b[0m\u001b[0;34m\u001b[0m\u001b[0m\n\u001b[1;32m      8\u001b[0m         \u001b[0;34m.\u001b[0m\u001b[0miloc\u001b[0m\u001b[0;34m[\u001b[0m\u001b[0;34m-\u001b[0m\u001b[0;36m1\u001b[0m\u001b[0;34m,\u001b[0m \u001b[0;36m0\u001b[0m\u001b[0;34m]\u001b[0m\u001b[0;34m\u001b[0m\u001b[0;34m\u001b[0m\u001b[0m\n\u001b[0;32m----> 9\u001b[0;31m         \u001b[0;34m.\u001b[0m\u001b[0msplit\u001b[0m\u001b[0;34m(\u001b[0m\u001b[0;34m\",\"\u001b[0m\u001b[0;34m)\u001b[0m\u001b[0;34m\u001b[0m\u001b[0;34m\u001b[0m\u001b[0m\n\u001b[0m\u001b[1;32m     10\u001b[0m     ]\n\u001b[1;32m     11\u001b[0m \u001b[0;34m\u001b[0m\u001b[0m\n",
      "\u001b[0;32m<ipython-input-7-fbb079fe85fb>\u001b[0m in \u001b[0;36m<listcomp>\u001b[0;34m(.0)\u001b[0m\n\u001b[1;32m      5\u001b[0m     todays_universe = [\n\u001b[1;32m      6\u001b[0m         \u001b[0msymbol\u001b[0m\u001b[0;34m(\u001b[0m\u001b[0mticker\u001b[0m\u001b[0;34m)\u001b[0m\u001b[0;34m\u001b[0m\u001b[0;34m\u001b[0m\u001b[0m\n\u001b[0;32m----> 7\u001b[0;31m         \u001b[0;32mfor\u001b[0m \u001b[0mticker\u001b[0m \u001b[0;32min\u001b[0m \u001b[0mcontext\u001b[0m\u001b[0;34m.\u001b[0m\u001b[0mindex_members\u001b[0m\u001b[0;34m.\u001b[0m\u001b[0mloc\u001b[0m\u001b[0;34m[\u001b[0m\u001b[0mcontext\u001b[0m\u001b[0;34m.\u001b[0m\u001b[0mindex_members\u001b[0m\u001b[0;34m.\u001b[0m\u001b[0mindex\u001b[0m \u001b[0;34m<\u001b[0m \u001b[0mtoday\u001b[0m\u001b[0;34m]\u001b[0m\u001b[0;34m\u001b[0m\u001b[0;34m\u001b[0m\u001b[0m\n\u001b[0m\u001b[1;32m      8\u001b[0m         \u001b[0;34m.\u001b[0m\u001b[0miloc\u001b[0m\u001b[0;34m[\u001b[0m\u001b[0;34m-\u001b[0m\u001b[0;36m1\u001b[0m\u001b[0;34m,\u001b[0m \u001b[0;36m0\u001b[0m\u001b[0;34m]\u001b[0m\u001b[0;34m\u001b[0m\u001b[0;34m\u001b[0m\u001b[0m\n\u001b[1;32m      9\u001b[0m         \u001b[0;34m.\u001b[0m\u001b[0msplit\u001b[0m\u001b[0;34m(\u001b[0m\u001b[0;34m\",\"\u001b[0m\u001b[0;34m)\u001b[0m\u001b[0;34m\u001b[0m\u001b[0;34m\u001b[0m\u001b[0m\n",
      "\u001b[0;32m/zipline/zipline/utils/api_support.py\u001b[0m in \u001b[0;36mwrapped\u001b[0;34m(*args, **kwargs)\u001b[0m\n\u001b[1;32m     54\u001b[0m                 \u001b[0;34m%\u001b[0m \u001b[0mf\u001b[0m\u001b[0;34m.\u001b[0m\u001b[0m__name__\u001b[0m\u001b[0;34m\u001b[0m\u001b[0;34m\u001b[0m\u001b[0m\n\u001b[1;32m     55\u001b[0m             )\n\u001b[0;32m---> 56\u001b[0;31m         \u001b[0;32mreturn\u001b[0m \u001b[0mgetattr\u001b[0m\u001b[0;34m(\u001b[0m\u001b[0malgo_instance\u001b[0m\u001b[0;34m,\u001b[0m \u001b[0mf\u001b[0m\u001b[0;34m.\u001b[0m\u001b[0m__name__\u001b[0m\u001b[0;34m)\u001b[0m\u001b[0;34m(\u001b[0m\u001b[0;34m*\u001b[0m\u001b[0margs\u001b[0m\u001b[0;34m,\u001b[0m \u001b[0;34m**\u001b[0m\u001b[0mkwargs\u001b[0m\u001b[0;34m)\u001b[0m\u001b[0;34m\u001b[0m\u001b[0;34m\u001b[0m\u001b[0m\n\u001b[0m\u001b[1;32m     57\u001b[0m     \u001b[0;31m# Add functor to zipline.api\u001b[0m\u001b[0;34m\u001b[0m\u001b[0;34m\u001b[0m\u001b[0;34m\u001b[0m\u001b[0m\n\u001b[1;32m     58\u001b[0m     \u001b[0msetattr\u001b[0m\u001b[0;34m(\u001b[0m\u001b[0mzipline\u001b[0m\u001b[0;34m.\u001b[0m\u001b[0mapi\u001b[0m\u001b[0;34m,\u001b[0m \u001b[0mf\u001b[0m\u001b[0;34m.\u001b[0m\u001b[0m__name__\u001b[0m\u001b[0;34m,\u001b[0m \u001b[0mwrapped\u001b[0m\u001b[0;34m)\u001b[0m\u001b[0;34m\u001b[0m\u001b[0;34m\u001b[0m\u001b[0m\n",
      "\u001b[0;32m/zipline/zipline/algorithm.py\u001b[0m in \u001b[0;36msymbol\u001b[0;34m(self, symbol_str, country_code)\u001b[0m\n\u001b[1;32m   1045\u001b[0m         \u001b[0msymbol_str\u001b[0m\u001b[0;34m=\u001b[0m\u001b[0mensure_upper_case\u001b[0m\u001b[0;34m,\u001b[0m\u001b[0;34m\u001b[0m\u001b[0;34m\u001b[0m\u001b[0m\n\u001b[1;32m   1046\u001b[0m         \u001b[0mcountry_code\u001b[0m\u001b[0;34m=\u001b[0m\u001b[0moptionally\u001b[0m\u001b[0;34m(\u001b[0m\u001b[0mensure_upper_case\u001b[0m\u001b[0;34m)\u001b[0m\u001b[0;34m,\u001b[0m\u001b[0;34m\u001b[0m\u001b[0;34m\u001b[0m\u001b[0m\n\u001b[0;32m-> 1047\u001b[0;31m     )\n\u001b[0m\u001b[1;32m   1048\u001b[0m     \u001b[0;32mdef\u001b[0m \u001b[0msymbol\u001b[0m\u001b[0;34m(\u001b[0m\u001b[0mself\u001b[0m\u001b[0;34m,\u001b[0m \u001b[0msymbol_str\u001b[0m\u001b[0;34m,\u001b[0m \u001b[0mcountry_code\u001b[0m\u001b[0;34m=\u001b[0m\u001b[0;32mNone\u001b[0m\u001b[0;34m)\u001b[0m\u001b[0;34m:\u001b[0m\u001b[0;34m\u001b[0m\u001b[0;34m\u001b[0m\u001b[0m\n\u001b[1;32m   1049\u001b[0m         \"\"\"Lookup an Equity by its ticker symbol.\n",
      "\u001b[0;32m/zipline/zipline/algorithm.py\u001b[0m in \u001b[0;36msymbol\u001b[0;34m(self, symbol_str, country_code)\u001b[0m\n\u001b[1;32m   1080\u001b[0m             \u001b[0msymbol_str\u001b[0m\u001b[0;34m,\u001b[0m\u001b[0;34m\u001b[0m\u001b[0;34m\u001b[0m\u001b[0m\n\u001b[1;32m   1081\u001b[0m             \u001b[0mas_of_date\u001b[0m\u001b[0;34m=\u001b[0m\u001b[0m_lookup_date\u001b[0m\u001b[0;34m,\u001b[0m\u001b[0;34m\u001b[0m\u001b[0;34m\u001b[0m\u001b[0m\n\u001b[0;32m-> 1082\u001b[0;31m             \u001b[0mcountry_code\u001b[0m\u001b[0;34m=\u001b[0m\u001b[0mcountry_code\u001b[0m\u001b[0;34m,\u001b[0m\u001b[0;34m\u001b[0m\u001b[0;34m\u001b[0m\u001b[0m\n\u001b[0m\u001b[1;32m   1083\u001b[0m         )\n\u001b[1;32m   1084\u001b[0m \u001b[0;34m\u001b[0m\u001b[0m\n",
      "\u001b[0;32m/zipline/zipline/assets/assets.py\u001b[0m in \u001b[0;36mlookup_symbol\u001b[0;34m(self, symbol, as_of_date, fuzzy, country_code)\u001b[0m\n\u001b[1;32m   1016\u001b[0m             \u001b[0mcountry_code\u001b[0m \u001b[0;32mis\u001b[0m \u001b[0;32mNone\u001b[0m\u001b[0;34m,\u001b[0m\u001b[0;34m\u001b[0m\u001b[0;34m\u001b[0m\u001b[0m\n\u001b[1;32m   1017\u001b[0m             \u001b[0msymbol\u001b[0m\u001b[0;34m,\u001b[0m\u001b[0;34m\u001b[0m\u001b[0;34m\u001b[0m\u001b[0m\n\u001b[0;32m-> 1018\u001b[0;31m             \u001b[0mas_of_date\u001b[0m\u001b[0;34m,\u001b[0m\u001b[0;34m\u001b[0m\u001b[0;34m\u001b[0m\u001b[0m\n\u001b[0m\u001b[1;32m   1019\u001b[0m         )\n\u001b[1;32m   1020\u001b[0m \u001b[0;34m\u001b[0m\u001b[0m\n",
      "\u001b[0;32m/zipline/zipline/assets/assets.py\u001b[0m in \u001b[0;36m_lookup_symbol_strict\u001b[0;34m(self, ownership_map, multi_country, symbol, as_of_date)\u001b[0m\n\u001b[1;32m    815\u001b[0m         \u001b[0;32mexcept\u001b[0m \u001b[0mKeyError\u001b[0m\u001b[0;34m:\u001b[0m\u001b[0;34m\u001b[0m\u001b[0;34m\u001b[0m\u001b[0m\n\u001b[1;32m    816\u001b[0m             \u001b[0;31m# no equity has ever held this symbol\u001b[0m\u001b[0;34m\u001b[0m\u001b[0;34m\u001b[0m\u001b[0;34m\u001b[0m\u001b[0m\n\u001b[0;32m--> 817\u001b[0;31m             \u001b[0;32mraise\u001b[0m \u001b[0mSymbolNotFound\u001b[0m\u001b[0;34m(\u001b[0m\u001b[0msymbol\u001b[0m\u001b[0;34m=\u001b[0m\u001b[0msymbol\u001b[0m\u001b[0;34m)\u001b[0m\u001b[0;34m\u001b[0m\u001b[0;34m\u001b[0m\u001b[0m\n\u001b[0m\u001b[1;32m    818\u001b[0m \u001b[0;34m\u001b[0m\u001b[0m\n\u001b[1;32m    819\u001b[0m         \u001b[0;32mif\u001b[0m \u001b[0;32mnot\u001b[0m \u001b[0mas_of_date\u001b[0m\u001b[0;34m:\u001b[0m\u001b[0;34m\u001b[0m\u001b[0;34m\u001b[0m\u001b[0m\n",
      "\u001b[0;31mSymbolNotFound\u001b[0m: Symbol 'TMC-200006' was not found."
     ]
    },
    {
     "data": {
      "application/javascript": [
       "\n",
       "            setTimeout(function() {\n",
       "                var nbb_cell_id = 10;\n",
       "                var nbb_unformatted_code = \"# Run the backtests\\nfor i in np.arange(1, number_of_runs + 1):\\n    print(\\\"Processing run \\\" + str(i))\\n\\n    result = zipline.run_algorithm(\\n        start=start,\\n        end=end,\\n        initialize=initialize,\\n        capital_base=100000,\\n        data_frequency=\\\"daily\\\",\\n        bundle=\\\"quandl\\\",\\n    )  # book uses ac_equities_db, quandl is broken apparently because it does not store all the tickers that make up the S&P 500\\n\\n    df[i] = result[\\\"portfolio_value\\\"]\\n\\nprint(\\\"All Done. Ready to analyze.\\\")\";\n",
       "                var nbb_formatted_code = \"# Run the backtests\\nfor i in np.arange(1, number_of_runs + 1):\\n    print(\\\"Processing run \\\" + str(i))\\n\\n    result = zipline.run_algorithm(\\n        start=start,\\n        end=end,\\n        initialize=initialize,\\n        capital_base=100000,\\n        data_frequency=\\\"daily\\\",\\n        bundle=\\\"quandl\\\",\\n    )  # book uses ac_equities_db, quandl is broken apparently because it does not store all the tickers that make up the S&P 500\\n\\n    df[i] = result[\\\"portfolio_value\\\"]\\n\\nprint(\\\"All Done. Ready to analyze.\\\")\";\n",
       "                var nbb_cells = Jupyter.notebook.get_cells();\n",
       "                for (var i = 0; i < nbb_cells.length; ++i) {\n",
       "                    if (nbb_cells[i].input_prompt_number == nbb_cell_id) {\n",
       "                        if (nbb_cells[i].get_text() == nbb_unformatted_code) {\n",
       "                             nbb_cells[i].set_text(nbb_formatted_code);\n",
       "                        }\n",
       "                        break;\n",
       "                    }\n",
       "                }\n",
       "            }, 500);\n",
       "            "
      ],
      "text/plain": [
       "<IPython.core.display.Javascript object>"
      ]
     },
     "metadata": {},
     "output_type": "display_data"
    }
   ],
   "source": [
    "# Run the backtests\n",
    "for i in np.arange(1, number_of_runs + 1):\n",
    "    print(\"Processing run \" + str(i))\n",
    "\n",
    "    result = zipline.run_algorithm(\n",
    "        start=start,\n",
    "        end=end,\n",
    "        initialize=initialize,\n",
    "        capital_base=100000,\n",
    "        data_frequency=\"daily\",\n",
    "        bundle=\"quandl\",\n",
    "    )  # book uses ac_equities_db, quandl is broken apparently because it does not store all the tickers that make up the S&P 500\n",
    "\n",
    "    df[i] = result[\"portfolio_value\"]\n",
    "\n",
    "print(\"All Done. Ready to analyze.\")"
   ]
  }
 ],
 "metadata": {
  "kernelspec": {
   "display_name": "Python 3",
   "language": "python",
   "name": "python3"
  },
  "language_info": {
   "codemirror_mode": {
    "name": "ipython",
    "version": 3
   },
   "file_extension": ".py",
   "mimetype": "text/x-python",
   "name": "python",
   "nbconvert_exporter": "python",
   "pygments_lexer": "ipython3",
   "version": "3.6.12"
  }
 },
 "nbformat": 4,
 "nbformat_minor": 4
}
