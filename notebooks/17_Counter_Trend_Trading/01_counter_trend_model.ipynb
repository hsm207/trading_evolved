{
 "cells": [
  {
   "cell_type": "code",
   "execution_count": 1,
   "metadata": {},
   "outputs": [
    {
     "data": {
      "application/javascript": [
       "\n",
       "            setTimeout(function() {\n",
       "                var nbb_cell_id = 1;\n",
       "                var nbb_unformatted_code = \"%load_ext nb_black\";\n",
       "                var nbb_formatted_code = \"%load_ext nb_black\";\n",
       "                var nbb_cells = Jupyter.notebook.get_cells();\n",
       "                for (var i = 0; i < nbb_cells.length; ++i) {\n",
       "                    if (nbb_cells[i].input_prompt_number == nbb_cell_id) {\n",
       "                        if (nbb_cells[i].get_text() == nbb_unformatted_code) {\n",
       "                             nbb_cells[i].set_text(nbb_formatted_code);\n",
       "                        }\n",
       "                        break;\n",
       "                    }\n",
       "                }\n",
       "            }, 500);\n",
       "            "
      ],
      "text/plain": [
       "<IPython.core.display.Javascript object>"
      ]
     },
     "metadata": {},
     "output_type": "display_data"
    }
   ],
   "source": [
    "%load_ext nb_black"
   ]
  },
  {
   "cell_type": "code",
   "execution_count": 2,
   "metadata": {},
   "outputs": [
    {
     "data": {
      "application/javascript": [
       "\n",
       "            setTimeout(function() {\n",
       "                var nbb_cell_id = 2;\n",
       "                var nbb_unformatted_code = \"import zipline\\nfrom zipline.api import (\\n    future_symbol,\\n    set_commission,\\n    set_slippage,\\n    schedule_function,\\n    date_rules,\\n    time_rules,\\n    continuous_future,\\n    order_target,\\n)\\nfrom datetime import datetime\\nimport pyfolio as pf\\nimport pandas as pd\\nimport numpy as np\\n\\nfrom zipline.finance.commission import PerTrade, PerContract\\nfrom zipline.finance.slippage import FixedSlippage, VolatilityVolumeShare\";\n",
       "                var nbb_formatted_code = \"import zipline\\nfrom zipline.api import (\\n    future_symbol,\\n    set_commission,\\n    set_slippage,\\n    schedule_function,\\n    date_rules,\\n    time_rules,\\n    continuous_future,\\n    order_target,\\n)\\nfrom datetime import datetime\\nimport pyfolio as pf\\nimport pandas as pd\\nimport numpy as np\\n\\nfrom zipline.finance.commission import PerTrade, PerContract\\nfrom zipline.finance.slippage import FixedSlippage, VolatilityVolumeShare\";\n",
       "                var nbb_cells = Jupyter.notebook.get_cells();\n",
       "                for (var i = 0; i < nbb_cells.length; ++i) {\n",
       "                    if (nbb_cells[i].input_prompt_number == nbb_cell_id) {\n",
       "                        if (nbb_cells[i].get_text() == nbb_unformatted_code) {\n",
       "                             nbb_cells[i].set_text(nbb_formatted_code);\n",
       "                        }\n",
       "                        break;\n",
       "                    }\n",
       "                }\n",
       "            }, 500);\n",
       "            "
      ],
      "text/plain": [
       "<IPython.core.display.Javascript object>"
      ]
     },
     "metadata": {},
     "output_type": "display_data"
    }
   ],
   "source": [
    "import zipline\n",
    "from zipline.api import (\n",
    "    future_symbol,\n",
    "    set_commission,\n",
    "    set_slippage,\n",
    "    schedule_function,\n",
    "    date_rules,\n",
    "    time_rules,\n",
    "    continuous_future,\n",
    "    order_target,\n",
    ")\n",
    "from datetime import datetime\n",
    "import pyfolio as pf\n",
    "import pandas as pd\n",
    "import numpy as np\n",
    "\n",
    "from zipline.finance.commission import PerTrade, PerContract\n",
    "from zipline.finance.slippage import FixedSlippage, VolatilityVolumeShare"
   ]
  },
  {
   "cell_type": "code",
   "execution_count": 3,
   "metadata": {},
   "outputs": [
    {
     "data": {
      "application/vnd.jupyter.widget-view+json": {
       "model_id": "6624609b22ff41208c5df8fb01453ce3",
       "version_major": 2,
       "version_minor": 0
      },
      "text/plain": [
       "HTML(value='')"
      ]
     },
     "metadata": {},
     "output_type": "display_data"
    },
    {
     "data": {
      "application/javascript": [
       "\n",
       "            setTimeout(function() {\n",
       "                var nbb_cell_id = 3;\n",
       "                var nbb_unformatted_code = \"# These lines are for the dynamic text reporting\\nfrom IPython.display import display\\nimport ipywidgets as widgets\\n\\nout = widgets.HTML()\\ndisplay(out)\";\n",
       "                var nbb_formatted_code = \"# These lines are for the dynamic text reporting\\nfrom IPython.display import display\\nimport ipywidgets as widgets\\n\\nout = widgets.HTML()\\ndisplay(out)\";\n",
       "                var nbb_cells = Jupyter.notebook.get_cells();\n",
       "                for (var i = 0; i < nbb_cells.length; ++i) {\n",
       "                    if (nbb_cells[i].input_prompt_number == nbb_cell_id) {\n",
       "                        if (nbb_cells[i].get_text() == nbb_unformatted_code) {\n",
       "                             nbb_cells[i].set_text(nbb_formatted_code);\n",
       "                        }\n",
       "                        break;\n",
       "                    }\n",
       "                }\n",
       "            }, 500);\n",
       "            "
      ],
      "text/plain": [
       "<IPython.core.display.Javascript object>"
      ]
     },
     "metadata": {},
     "output_type": "display_data"
    }
   ],
   "source": [
    "# These lines are for the dynamic text reporting\n",
    "from IPython.display import display\n",
    "import ipywidgets as widgets\n",
    "\n",
    "out = widgets.HTML()\n",
    "display(out)"
   ]
  },
  {
   "cell_type": "code",
   "execution_count": 4,
   "metadata": {},
   "outputs": [
    {
     "data": {
      "application/javascript": [
       "\n",
       "            setTimeout(function() {\n",
       "                var nbb_cell_id = 4;\n",
       "                var nbb_unformatted_code = \"\\\"\\\"\\\"\\nModel Settings\\n\\\"\\\"\\\"\\nstarting_portfolio = 20000000\\nvola_window = 40\\nslow_ma = 80\\nfast_ma = 40\\nrisk_factor = 0.0015\\nhigh_window = 20\\ndays_to_hold = 20\\ndip_buy = -3\";\n",
       "                var nbb_formatted_code = \"\\\"\\\"\\\"\\nModel Settings\\n\\\"\\\"\\\"\\nstarting_portfolio = 20000000\\nvola_window = 40\\nslow_ma = 80\\nfast_ma = 40\\nrisk_factor = 0.0015\\nhigh_window = 20\\ndays_to_hold = 20\\ndip_buy = -3\";\n",
       "                var nbb_cells = Jupyter.notebook.get_cells();\n",
       "                for (var i = 0; i < nbb_cells.length; ++i) {\n",
       "                    if (nbb_cells[i].input_prompt_number == nbb_cell_id) {\n",
       "                        if (nbb_cells[i].get_text() == nbb_unformatted_code) {\n",
       "                             nbb_cells[i].set_text(nbb_formatted_code);\n",
       "                        }\n",
       "                        break;\n",
       "                    }\n",
       "                }\n",
       "            }, 500);\n",
       "            "
      ],
      "text/plain": [
       "<IPython.core.display.Javascript object>"
      ]
     },
     "metadata": {},
     "output_type": "display_data"
    }
   ],
   "source": [
    "\"\"\"\n",
    "Model Settings\n",
    "\"\"\"\n",
    "starting_portfolio = 20000000\n",
    "vola_window = 40\n",
    "slow_ma = 80\n",
    "fast_ma = 40\n",
    "risk_factor = 0.0015\n",
    "high_window = 20\n",
    "days_to_hold = 20\n",
    "dip_buy = -3"
   ]
  },
  {
   "cell_type": "code",
   "execution_count": 5,
   "metadata": {},
   "outputs": [
    {
     "data": {
      "application/javascript": [
       "\n",
       "            setTimeout(function() {\n",
       "                var nbb_cell_id = 5;\n",
       "                var nbb_unformatted_code = \"def report_result(context, data):\\n    context.months += 1\\n    today = zipline.api.get_datetime().date()\\n    # Calculate annualized return so far\\n    ann_ret = (\\n        np.power(\\n            context.portfolio.portfolio_value / starting_portfolio, 12 / context.months\\n        )\\n        - 1\\n    )\\n\\n    # Update the text\\n    out.value = \\\"\\\"\\\"{} We have traded <b>{}</b> months \\n    and the annualized return is <b>{:.2%}</b>\\\"\\\"\\\".format(\\n        today, context.months, ann_ret\\n    )\";\n",
       "                var nbb_formatted_code = \"def report_result(context, data):\\n    context.months += 1\\n    today = zipline.api.get_datetime().date()\\n    # Calculate annualized return so far\\n    ann_ret = (\\n        np.power(\\n            context.portfolio.portfolio_value / starting_portfolio, 12 / context.months\\n        )\\n        - 1\\n    )\\n\\n    # Update the text\\n    out.value = \\\"\\\"\\\"{} We have traded <b>{}</b> months \\n    and the annualized return is <b>{:.2%}</b>\\\"\\\"\\\".format(\\n        today, context.months, ann_ret\\n    )\";\n",
       "                var nbb_cells = Jupyter.notebook.get_cells();\n",
       "                for (var i = 0; i < nbb_cells.length; ++i) {\n",
       "                    if (nbb_cells[i].input_prompt_number == nbb_cell_id) {\n",
       "                        if (nbb_cells[i].get_text() == nbb_unformatted_code) {\n",
       "                             nbb_cells[i].set_text(nbb_formatted_code);\n",
       "                        }\n",
       "                        break;\n",
       "                    }\n",
       "                }\n",
       "            }, 500);\n",
       "            "
      ],
      "text/plain": [
       "<IPython.core.display.Javascript object>"
      ]
     },
     "metadata": {},
     "output_type": "display_data"
    }
   ],
   "source": [
    "def report_result(context, data):\n",
    "    context.months += 1\n",
    "    today = zipline.api.get_datetime().date()\n",
    "    # Calculate annualized return so far\n",
    "    ann_ret = (\n",
    "        np.power(\n",
    "            context.portfolio.portfolio_value / starting_portfolio, 12 / context.months\n",
    "        )\n",
    "        - 1\n",
    "    )\n",
    "\n",
    "    # Update the text\n",
    "    out.value = \"\"\"{} We have traded <b>{}</b> months \n",
    "    and the annualized return is <b>{:.2%}</b>\"\"\".format(\n",
    "        today, context.months, ann_ret\n",
    "    )"
   ]
  },
  {
   "cell_type": "code",
   "execution_count": 6,
   "metadata": {},
   "outputs": [
    {
     "data": {
      "application/javascript": [
       "\n",
       "            setTimeout(function() {\n",
       "                var nbb_cell_id = 6;\n",
       "                var nbb_unformatted_code = \"def initialize(context):\\n    \\\"\\\"\\\"\\n    Cost Settings\\n    \\\"\\\"\\\"\\n    context.enable_commission = True\\n    context.enable_slippage = True\\n\\n    if context.enable_commission:\\n        comm_model = PerContract(cost=0.85, exchange_fee=1.5)\\n    else:\\n        comm_model = PerTrade(cost=0.0)\\n    set_commission(us_futures=comm_model)\\n\\n    if context.enable_slippage:\\n        slippage_model = VolatilityVolumeShare(volume_limit=0.3)\\n    else:\\n        slippage_model = FixedSlippage(spread=0.0)\\n\\n    set_slippage(us_futures=slippage_model)\\n\\n    agricultural = [\\n        \\\"BL\\\",\\n        \\\"CC\\\",\\n        \\\"CT\\\",\\n        \\\"FC\\\",\\n        \\\"KC\\\",\\n        \\\"LB\\\",\\n        \\\"LR\\\",\\n        \\\"OJ\\\",\\n        \\\"RR\\\",\\n        \\\"_S\\\",\\n        \\\"SB\\\",\\n        \\\"LC\\\",\\n        \\\"LS\\\",\\n    ]\\n    nonagricultural = [\\n        \\\"CL\\\",\\n        \\\"GC\\\",\\n        \\\"HG\\\",\\n        \\\"HO\\\",\\n        \\\"LG\\\",\\n        \\\"PA\\\",\\n        \\\"PL\\\",\\n        \\\"RB\\\",\\n        \\\"SI\\\",\\n        \\\"NG\\\",\\n        \\\"LO\\\",\\n    ]\\n    currencies = [\\n        \\\"AD\\\",\\n        \\\"BP\\\",\\n        \\\"CD\\\",\\n        \\\"CU\\\",\\n        \\\"DX\\\",\\n        \\\"NE\\\",\\n        \\\"SF\\\",\\n        \\\"JY\\\",\\n    ]\\n    equities = [\\n        \\\"ES\\\",\\n        \\\"NK\\\",\\n        \\\"NQ\\\",\\n        \\\"YM\\\",\\n    ]\\n    rates = [\\n        \\\"ED\\\",\\n        \\\"FV\\\",\\n        \\\"TU\\\",\\n        \\\"TY\\\",\\n        \\\"US\\\",\\n    ]\\n\\n    markets = agricultural + nonagricultural + currencies + equities + rates\\n\\n    context.universe = [\\n        continuous_future(market, offset=0, roll=\\\"volume\\\", adjustment=\\\"mul\\\")\\n        for market in markets\\n    ]\\n\\n    # Dictionary used for keeping track of how many days a position has been open.\\n    context.bars_held = {market.root_symbol: 0 for market in context.universe}\\n\\n    # Schedule daily trading\\n    schedule_function(daily_trade, date_rules.every_day(), time_rules.market_close())\\n\\n    # We'll just use this for the progress output\\n    # during the backtest. Doesn't impact anything.\\n    context.months = 0\\n\\n    # Schedule monthly report output\\n    schedule_function(\\n        func=report_result,\\n        date_rule=date_rules.month_start(),\\n        time_rule=time_rules.market_open(),\\n    )\";\n",
       "                var nbb_formatted_code = \"def initialize(context):\\n    \\\"\\\"\\\"\\n    Cost Settings\\n    \\\"\\\"\\\"\\n    context.enable_commission = True\\n    context.enable_slippage = True\\n\\n    if context.enable_commission:\\n        comm_model = PerContract(cost=0.85, exchange_fee=1.5)\\n    else:\\n        comm_model = PerTrade(cost=0.0)\\n    set_commission(us_futures=comm_model)\\n\\n    if context.enable_slippage:\\n        slippage_model = VolatilityVolumeShare(volume_limit=0.3)\\n    else:\\n        slippage_model = FixedSlippage(spread=0.0)\\n\\n    set_slippage(us_futures=slippage_model)\\n\\n    agricultural = [\\n        \\\"BL\\\",\\n        \\\"CC\\\",\\n        \\\"CT\\\",\\n        \\\"FC\\\",\\n        \\\"KC\\\",\\n        \\\"LB\\\",\\n        \\\"LR\\\",\\n        \\\"OJ\\\",\\n        \\\"RR\\\",\\n        \\\"_S\\\",\\n        \\\"SB\\\",\\n        \\\"LC\\\",\\n        \\\"LS\\\",\\n    ]\\n    nonagricultural = [\\n        \\\"CL\\\",\\n        \\\"GC\\\",\\n        \\\"HG\\\",\\n        \\\"HO\\\",\\n        \\\"LG\\\",\\n        \\\"PA\\\",\\n        \\\"PL\\\",\\n        \\\"RB\\\",\\n        \\\"SI\\\",\\n        \\\"NG\\\",\\n        \\\"LO\\\",\\n    ]\\n    currencies = [\\n        \\\"AD\\\",\\n        \\\"BP\\\",\\n        \\\"CD\\\",\\n        \\\"CU\\\",\\n        \\\"DX\\\",\\n        \\\"NE\\\",\\n        \\\"SF\\\",\\n        \\\"JY\\\",\\n    ]\\n    equities = [\\n        \\\"ES\\\",\\n        \\\"NK\\\",\\n        \\\"NQ\\\",\\n        \\\"YM\\\",\\n    ]\\n    rates = [\\n        \\\"ED\\\",\\n        \\\"FV\\\",\\n        \\\"TU\\\",\\n        \\\"TY\\\",\\n        \\\"US\\\",\\n    ]\\n\\n    markets = agricultural + nonagricultural + currencies + equities + rates\\n\\n    context.universe = [\\n        continuous_future(market, offset=0, roll=\\\"volume\\\", adjustment=\\\"mul\\\")\\n        for market in markets\\n    ]\\n\\n    # Dictionary used for keeping track of how many days a position has been open.\\n    context.bars_held = {market.root_symbol: 0 for market in context.universe}\\n\\n    # Schedule daily trading\\n    schedule_function(daily_trade, date_rules.every_day(), time_rules.market_close())\\n\\n    # We'll just use this for the progress output\\n    # during the backtest. Doesn't impact anything.\\n    context.months = 0\\n\\n    # Schedule monthly report output\\n    schedule_function(\\n        func=report_result,\\n        date_rule=date_rules.month_start(),\\n        time_rule=time_rules.market_open(),\\n    )\";\n",
       "                var nbb_cells = Jupyter.notebook.get_cells();\n",
       "                for (var i = 0; i < nbb_cells.length; ++i) {\n",
       "                    if (nbb_cells[i].input_prompt_number == nbb_cell_id) {\n",
       "                        if (nbb_cells[i].get_text() == nbb_unformatted_code) {\n",
       "                             nbb_cells[i].set_text(nbb_formatted_code);\n",
       "                        }\n",
       "                        break;\n",
       "                    }\n",
       "                }\n",
       "            }, 500);\n",
       "            "
      ],
      "text/plain": [
       "<IPython.core.display.Javascript object>"
      ]
     },
     "metadata": {},
     "output_type": "display_data"
    }
   ],
   "source": [
    "def initialize(context):\n",
    "    \"\"\"\n",
    "    Cost Settings\n",
    "    \"\"\"\n",
    "    context.enable_commission = True\n",
    "    context.enable_slippage = True\n",
    "\n",
    "    if context.enable_commission:\n",
    "        comm_model = PerContract(cost=0.85, exchange_fee=1.5)\n",
    "    else:\n",
    "        comm_model = PerTrade(cost=0.0)\n",
    "    set_commission(us_futures=comm_model)\n",
    "\n",
    "    if context.enable_slippage:\n",
    "        slippage_model = VolatilityVolumeShare(volume_limit=0.3)\n",
    "    else:\n",
    "        slippage_model = FixedSlippage(spread=0.0)\n",
    "\n",
    "    set_slippage(us_futures=slippage_model)\n",
    "\n",
    "    agricultural = [\n",
    "        \"BL\",\n",
    "        \"CC\",\n",
    "        \"CT\",\n",
    "        \"FC\",\n",
    "        \"KC\",\n",
    "        \"LB\",\n",
    "        \"LR\",\n",
    "        \"OJ\",\n",
    "        \"RR\",\n",
    "        \"_S\",\n",
    "        \"SB\",\n",
    "        \"LC\",\n",
    "        \"LS\",\n",
    "    ]\n",
    "    nonagricultural = [\n",
    "        \"CL\",\n",
    "        \"GC\",\n",
    "        \"HG\",\n",
    "        \"HO\",\n",
    "        \"LG\",\n",
    "        \"PA\",\n",
    "        \"PL\",\n",
    "        \"RB\",\n",
    "        \"SI\",\n",
    "        \"NG\",\n",
    "        \"LO\",\n",
    "    ]\n",
    "    currencies = [\n",
    "        \"AD\",\n",
    "        \"BP\",\n",
    "        \"CD\",\n",
    "        \"CU\",\n",
    "        \"DX\",\n",
    "        \"NE\",\n",
    "        \"SF\",\n",
    "        \"JY\",\n",
    "    ]\n",
    "    equities = [\n",
    "        \"ES\",\n",
    "        \"NK\",\n",
    "        \"NQ\",\n",
    "        \"YM\",\n",
    "    ]\n",
    "    rates = [\n",
    "        \"ED\",\n",
    "        \"FV\",\n",
    "        \"TU\",\n",
    "        \"TY\",\n",
    "        \"US\",\n",
    "    ]\n",
    "\n",
    "    markets = agricultural + nonagricultural + currencies + equities + rates\n",
    "\n",
    "    context.universe = [\n",
    "        continuous_future(market, offset=0, roll=\"volume\", adjustment=\"mul\")\n",
    "        for market in markets\n",
    "    ]\n",
    "\n",
    "    # Dictionary used for keeping track of how many days a position has been open.\n",
    "    context.bars_held = {market.root_symbol: 0 for market in context.universe}\n",
    "\n",
    "    # Schedule daily trading\n",
    "    schedule_function(daily_trade, date_rules.every_day(), time_rules.market_close())\n",
    "\n",
    "    # We'll just use this for the progress output\n",
    "    # during the backtest. Doesn't impact anything.\n",
    "    context.months = 0\n",
    "\n",
    "    # Schedule monthly report output\n",
    "    schedule_function(\n",
    "        func=report_result,\n",
    "        date_rule=date_rules.month_start(),\n",
    "        time_rule=time_rules.market_open(),\n",
    "    )"
   ]
  },
  {
   "cell_type": "code",
   "execution_count": 7,
   "metadata": {},
   "outputs": [
    {
     "data": {
      "application/javascript": [
       "\n",
       "            setTimeout(function() {\n",
       "                var nbb_cell_id = 7;\n",
       "                var nbb_unformatted_code = \"def roll_futures(context, data):\\n    open_orders = zipline.api.get_open_orders()\\n\\n    for held_contract in context.portfolio.positions:\\n        # don't roll positions that are set to change by core logic\\n        if held_contract in open_orders:\\n            continue\\n\\n        # Save some time by only checking rolls for\\n        # contracts expiring in the next week\\n        days_to_auto_close = (\\n            held_contract.auto_close_date.date() - data.current_session.date()\\n        ).days\\n        if days_to_auto_close > 5:\\n            continue\\n\\n        # Make a continuation\\n        continuation = continuous_future(\\n            held_contract.root_symbol, offset=0, roll=\\\"volume\\\", adjustment=\\\"mul\\\"\\n        )\\n\\n        # Get the current contract of the continuation\\n        continuation_contract = data.current(continuation, \\\"contract\\\")\\n\\n        if continuation_contract != held_contract:\\n            # Check how many contracts we hold\\n            pos_size = context.portfolio.positions[held_contract].amount\\n            # Close current position\\n            order_target(held_contract, 0)\\n            # Open new position\\n            order_target(continuation_contract, pos_size)\";\n",
       "                var nbb_formatted_code = \"def roll_futures(context, data):\\n    open_orders = zipline.api.get_open_orders()\\n\\n    for held_contract in context.portfolio.positions:\\n        # don't roll positions that are set to change by core logic\\n        if held_contract in open_orders:\\n            continue\\n\\n        # Save some time by only checking rolls for\\n        # contracts expiring in the next week\\n        days_to_auto_close = (\\n            held_contract.auto_close_date.date() - data.current_session.date()\\n        ).days\\n        if days_to_auto_close > 5:\\n            continue\\n\\n        # Make a continuation\\n        continuation = continuous_future(\\n            held_contract.root_symbol, offset=0, roll=\\\"volume\\\", adjustment=\\\"mul\\\"\\n        )\\n\\n        # Get the current contract of the continuation\\n        continuation_contract = data.current(continuation, \\\"contract\\\")\\n\\n        if continuation_contract != held_contract:\\n            # Check how many contracts we hold\\n            pos_size = context.portfolio.positions[held_contract].amount\\n            # Close current position\\n            order_target(held_contract, 0)\\n            # Open new position\\n            order_target(continuation_contract, pos_size)\";\n",
       "                var nbb_cells = Jupyter.notebook.get_cells();\n",
       "                for (var i = 0; i < nbb_cells.length; ++i) {\n",
       "                    if (nbb_cells[i].input_prompt_number == nbb_cell_id) {\n",
       "                        if (nbb_cells[i].get_text() == nbb_unformatted_code) {\n",
       "                             nbb_cells[i].set_text(nbb_formatted_code);\n",
       "                        }\n",
       "                        break;\n",
       "                    }\n",
       "                }\n",
       "            }, 500);\n",
       "            "
      ],
      "text/plain": [
       "<IPython.core.display.Javascript object>"
      ]
     },
     "metadata": {},
     "output_type": "display_data"
    }
   ],
   "source": [
    "def roll_futures(context, data):\n",
    "    open_orders = zipline.api.get_open_orders()\n",
    "\n",
    "    for held_contract in context.portfolio.positions:\n",
    "        # don't roll positions that are set to change by core logic\n",
    "        if held_contract in open_orders:\n",
    "            continue\n",
    "\n",
    "        # Save some time by only checking rolls for\n",
    "        # contracts expiring in the next week\n",
    "        days_to_auto_close = (\n",
    "            held_contract.auto_close_date.date() - data.current_session.date()\n",
    "        ).days\n",
    "        if days_to_auto_close > 5:\n",
    "            continue\n",
    "\n",
    "        # Make a continuation\n",
    "        continuation = continuous_future(\n",
    "            held_contract.root_symbol, offset=0, roll=\"volume\", adjustment=\"mul\"\n",
    "        )\n",
    "\n",
    "        # Get the current contract of the continuation\n",
    "        continuation_contract = data.current(continuation, \"contract\")\n",
    "\n",
    "        if continuation_contract != held_contract:\n",
    "            # Check how many contracts we hold\n",
    "            pos_size = context.portfolio.positions[held_contract].amount\n",
    "            # Close current position\n",
    "            order_target(held_contract, 0)\n",
    "            # Open new position\n",
    "            order_target(continuation_contract, pos_size)"
   ]
  },
  {
   "cell_type": "code",
   "execution_count": 8,
   "metadata": {},
   "outputs": [
    {
     "data": {
      "application/javascript": [
       "\n",
       "            setTimeout(function() {\n",
       "                var nbb_cell_id = 8;\n",
       "                var nbb_unformatted_code = \"def position_size(portfolio_value, std, pv):\\n    target_variation = portfolio_value * risk_factor\\n    contract_variation = std * pv\\n    contracts = target_variation / contract_variation\\n    # Return rounded down number.\\n    return int(np.nan_to_num(contracts))\";\n",
       "                var nbb_formatted_code = \"def position_size(portfolio_value, std, pv):\\n    target_variation = portfolio_value * risk_factor\\n    contract_variation = std * pv\\n    contracts = target_variation / contract_variation\\n    # Return rounded down number.\\n    return int(np.nan_to_num(contracts))\";\n",
       "                var nbb_cells = Jupyter.notebook.get_cells();\n",
       "                for (var i = 0; i < nbb_cells.length; ++i) {\n",
       "                    if (nbb_cells[i].input_prompt_number == nbb_cell_id) {\n",
       "                        if (nbb_cells[i].get_text() == nbb_unformatted_code) {\n",
       "                             nbb_cells[i].set_text(nbb_formatted_code);\n",
       "                        }\n",
       "                        break;\n",
       "                    }\n",
       "                }\n",
       "            }, 500);\n",
       "            "
      ],
      "text/plain": [
       "<IPython.core.display.Javascript object>"
      ]
     },
     "metadata": {},
     "output_type": "display_data"
    }
   ],
   "source": [
    "def position_size(portfolio_value, std, pv):\n",
    "    target_variation = portfolio_value * risk_factor\n",
    "    contract_variation = std * pv\n",
    "    contracts = target_variation / contract_variation\n",
    "    # Return rounded down number.\n",
    "    return int(np.nan_to_num(contracts))"
   ]
  },
  {
   "cell_type": "code",
   "execution_count": 9,
   "metadata": {},
   "outputs": [
    {
     "data": {
      "application/javascript": [
       "\n",
       "            setTimeout(function() {\n",
       "                var nbb_cell_id = 9;\n",
       "                var nbb_unformatted_code = \"def daily_trade(context, data):\\n\\n    open_pos = {pos.root_symbol: pos for pos in context.portfolio.positions}\\n\\n    hist = data.history(\\n        context.universe,\\n        fields=[\\\"close\\\", \\\"volume\\\"],\\n        frequency=\\\"1d\\\",\\n        bar_count=250,\\n    )\\n\\n    # Calculate the trend\\n    hist[\\\"trend\\\"] = (\\n        hist[\\\"close\\\"].ewm(span=fast_ma).mean() > hist[\\\"close\\\"].ewm(span=slow_ma).mean()\\n    )\\n\\n    for continuation in context.universe:\\n        root = continuation.root_symbol\\n\\n        # Slice off history for this market\\n        h = hist.xs(continuation, 2)\\n\\n        # Calculate volatility\\n        std = h.close.diff()[-vola_window:].std()\\n\\n        if root in open_pos:  # Check open positions first.\\n            context.bars_held[root] += 1  # One more day held\\n\\n            if context.bars_held[root] >= 20:\\n                # Held for a month, exit\\n                contract = open_pos[root]\\n                order_target(contract, 0)\\n\\n            elif h[\\\"trend\\\"].iloc[-1] == False:\\n                # Trend changed, exit.\\n                contract = open_pos[root]\\n                order_target(contract, 0)\\n\\n        else:  # Check for new entries\\n            if h[\\\"trend\\\"].iloc[-1]:\\n\\n                # Calculate the pullback\\n                pullback = (\\n                    h[\\\"close\\\"].values[-1] - np.max(h[\\\"close\\\"].values[-high_window:])\\n                ) / std\\n\\n                if pullback < dip_buy:\\n                    # Get the current contract\\n                    contract = data.current(continuation, \\\"contract\\\")\\n\\n                    # Calculate size\\n                    contracts_to_trade = position_size(\\n                        context.portfolio.portfolio_value,\\n                        std,\\n                        contract.price_multiplier,\\n                    )\\n                    # Trade\\n                    order_target(contract, contracts_to_trade)\\n\\n                    # Reset bar count to zero\\n                    context.bars_held[root] = 0\\n\\n    # Check if we need to roll.\\n    if len(open_pos) > 0:\\n        roll_futures(context, data)\";\n",
       "                var nbb_formatted_code = \"def daily_trade(context, data):\\n\\n    open_pos = {pos.root_symbol: pos for pos in context.portfolio.positions}\\n\\n    hist = data.history(\\n        context.universe,\\n        fields=[\\\"close\\\", \\\"volume\\\"],\\n        frequency=\\\"1d\\\",\\n        bar_count=250,\\n    )\\n\\n    # Calculate the trend\\n    hist[\\\"trend\\\"] = (\\n        hist[\\\"close\\\"].ewm(span=fast_ma).mean() > hist[\\\"close\\\"].ewm(span=slow_ma).mean()\\n    )\\n\\n    for continuation in context.universe:\\n        root = continuation.root_symbol\\n\\n        # Slice off history for this market\\n        h = hist.xs(continuation, 2)\\n\\n        # Calculate volatility\\n        std = h.close.diff()[-vola_window:].std()\\n\\n        if root in open_pos:  # Check open positions first.\\n            context.bars_held[root] += 1  # One more day held\\n\\n            if context.bars_held[root] >= 20:\\n                # Held for a month, exit\\n                contract = open_pos[root]\\n                order_target(contract, 0)\\n\\n            elif h[\\\"trend\\\"].iloc[-1] == False:\\n                # Trend changed, exit.\\n                contract = open_pos[root]\\n                order_target(contract, 0)\\n\\n        else:  # Check for new entries\\n            if h[\\\"trend\\\"].iloc[-1]:\\n\\n                # Calculate the pullback\\n                pullback = (\\n                    h[\\\"close\\\"].values[-1] - np.max(h[\\\"close\\\"].values[-high_window:])\\n                ) / std\\n\\n                if pullback < dip_buy:\\n                    # Get the current contract\\n                    contract = data.current(continuation, \\\"contract\\\")\\n\\n                    # Calculate size\\n                    contracts_to_trade = position_size(\\n                        context.portfolio.portfolio_value,\\n                        std,\\n                        contract.price_multiplier,\\n                    )\\n                    # Trade\\n                    order_target(contract, contracts_to_trade)\\n\\n                    # Reset bar count to zero\\n                    context.bars_held[root] = 0\\n\\n    # Check if we need to roll.\\n    if len(open_pos) > 0:\\n        roll_futures(context, data)\";\n",
       "                var nbb_cells = Jupyter.notebook.get_cells();\n",
       "                for (var i = 0; i < nbb_cells.length; ++i) {\n",
       "                    if (nbb_cells[i].input_prompt_number == nbb_cell_id) {\n",
       "                        if (nbb_cells[i].get_text() == nbb_unformatted_code) {\n",
       "                             nbb_cells[i].set_text(nbb_formatted_code);\n",
       "                        }\n",
       "                        break;\n",
       "                    }\n",
       "                }\n",
       "            }, 500);\n",
       "            "
      ],
      "text/plain": [
       "<IPython.core.display.Javascript object>"
      ]
     },
     "metadata": {},
     "output_type": "display_data"
    }
   ],
   "source": [
    "def daily_trade(context, data):\n",
    "\n",
    "    open_pos = {pos.root_symbol: pos for pos in context.portfolio.positions}\n",
    "\n",
    "    hist = data.history(\n",
    "        context.universe,\n",
    "        fields=[\"close\", \"volume\"],\n",
    "        frequency=\"1d\",\n",
    "        bar_count=250,\n",
    "    )\n",
    "\n",
    "    # Calculate the trend\n",
    "    hist[\"trend\"] = (\n",
    "        hist[\"close\"].ewm(span=fast_ma).mean() > hist[\"close\"].ewm(span=slow_ma).mean()\n",
    "    )\n",
    "\n",
    "    for continuation in context.universe:\n",
    "        root = continuation.root_symbol\n",
    "\n",
    "        # Slice off history for this market\n",
    "        h = hist.xs(continuation, 2)\n",
    "\n",
    "        # Calculate volatility\n",
    "        std = h.close.diff()[-vola_window:].std()\n",
    "\n",
    "        if root in open_pos:  # Check open positions first.\n",
    "            context.bars_held[root] += 1  # One more day held\n",
    "\n",
    "            if context.bars_held[root] >= 20:\n",
    "                # Held for a month, exit\n",
    "                contract = open_pos[root]\n",
    "                order_target(contract, 0)\n",
    "\n",
    "            elif h[\"trend\"].iloc[-1] == False:\n",
    "                # Trend changed, exit.\n",
    "                contract = open_pos[root]\n",
    "                order_target(contract, 0)\n",
    "\n",
    "        else:  # Check for new entries\n",
    "            if h[\"trend\"].iloc[-1]:\n",
    "\n",
    "                # Calculate the pullback\n",
    "                pullback = (\n",
    "                    h[\"close\"].values[-1] - np.max(h[\"close\"].values[-high_window:])\n",
    "                ) / std\n",
    "\n",
    "                if pullback < dip_buy:\n",
    "                    # Get the current contract\n",
    "                    contract = data.current(continuation, \"contract\")\n",
    "\n",
    "                    # Calculate size\n",
    "                    contracts_to_trade = position_size(\n",
    "                        context.portfolio.portfolio_value,\n",
    "                        std,\n",
    "                        contract.price_multiplier,\n",
    "                    )\n",
    "                    # Trade\n",
    "                    order_target(contract, contracts_to_trade)\n",
    "\n",
    "                    # Reset bar count to zero\n",
    "                    context.bars_held[root] = 0\n",
    "\n",
    "    # Check if we need to roll.\n",
    "    if len(open_pos) > 0:\n",
    "        roll_futures(context, data)"
   ]
  },
  {
   "cell_type": "code",
   "execution_count": 10,
   "metadata": {},
   "outputs": [
    {
     "data": {
      "application/javascript": [
       "\n",
       "            setTimeout(function() {\n",
       "                var nbb_cell_id = 10;\n",
       "                var nbb_unformatted_code = \"start = pd.Timestamp(\\\"2001-01-01 08:15:12\\\", tz=\\\"utc\\\")\\nend = pd.Timestamp(\\\"2018-12-31 08:15:12\\\", tz=\\\"utc\\\")\";\n",
       "                var nbb_formatted_code = \"start = pd.Timestamp(\\\"2001-01-01 08:15:12\\\", tz=\\\"utc\\\")\\nend = pd.Timestamp(\\\"2018-12-31 08:15:12\\\", tz=\\\"utc\\\")\";\n",
       "                var nbb_cells = Jupyter.notebook.get_cells();\n",
       "                for (var i = 0; i < nbb_cells.length; ++i) {\n",
       "                    if (nbb_cells[i].input_prompt_number == nbb_cell_id) {\n",
       "                        if (nbb_cells[i].get_text() == nbb_unformatted_code) {\n",
       "                             nbb_cells[i].set_text(nbb_formatted_code);\n",
       "                        }\n",
       "                        break;\n",
       "                    }\n",
       "                }\n",
       "            }, 500);\n",
       "            "
      ],
      "text/plain": [
       "<IPython.core.display.Javascript object>"
      ]
     },
     "metadata": {},
     "output_type": "display_data"
    }
   ],
   "source": [
    "start = pd.Timestamp(\"2001-01-01 08:15:12\", tz=\"utc\")\n",
    "end = pd.Timestamp(\"2018-12-31 08:15:12\", tz=\"utc\")"
   ]
  },
  {
   "cell_type": "code",
   "execution_count": 11,
   "metadata": {},
   "outputs": [
    {
     "name": "stderr",
     "output_type": "stream",
     "text": [
      "<string>:13: UserWarning: Overwriting bundle with name 'random_futures'\n"
     ]
    },
    {
     "ename": "SymbolNotFound",
     "evalue": "Symbol 'BL' was not found.",
     "output_type": "error",
     "traceback": [
      "\u001b[0;31m---------------------------------------------------------------------------\u001b[0m",
      "\u001b[0;31mSymbolNotFound\u001b[0m                            Traceback (most recent call last)",
      "\u001b[0;32m<ipython-input-11-726ce5753b0a>\u001b[0m in \u001b[0;36m<module>\u001b[0;34m\u001b[0m\n\u001b[1;32m      5\u001b[0m     \u001b[0mcapital_base\u001b[0m\u001b[0;34m=\u001b[0m\u001b[0mstarting_portfolio\u001b[0m\u001b[0;34m,\u001b[0m\u001b[0;34m\u001b[0m\u001b[0;34m\u001b[0m\u001b[0m\n\u001b[1;32m      6\u001b[0m     \u001b[0mdata_frequency\u001b[0m\u001b[0;34m=\u001b[0m\u001b[0;34m\"daily\"\u001b[0m\u001b[0;34m,\u001b[0m\u001b[0;34m\u001b[0m\u001b[0;34m\u001b[0m\u001b[0m\n\u001b[0;32m----> 7\u001b[0;31m     \u001b[0mbundle\u001b[0m\u001b[0;34m=\u001b[0m\u001b[0;34m\"random_futures\"\u001b[0m\u001b[0;34m,\u001b[0m\u001b[0;34m\u001b[0m\u001b[0;34m\u001b[0m\u001b[0m\n\u001b[0m\u001b[1;32m      8\u001b[0m )\n",
      "\u001b[0;32m/zipline/zipline/utils/run_algo.py\u001b[0m in \u001b[0;36mrun_algorithm\u001b[0;34m(start, end, initialize, capital_base, handle_data, before_trading_start, analyze, data_frequency, bundle, bundle_timestamp, trading_calendar, metrics_set, benchmark_returns, default_extension, extensions, strict_extensions, environ, blotter)\u001b[0m\n\u001b[1;32m    407\u001b[0m         \u001b[0menviron\u001b[0m\u001b[0;34m=\u001b[0m\u001b[0menviron\u001b[0m\u001b[0;34m,\u001b[0m\u001b[0;34m\u001b[0m\u001b[0;34m\u001b[0m\u001b[0m\n\u001b[1;32m    408\u001b[0m         \u001b[0mblotter\u001b[0m\u001b[0;34m=\u001b[0m\u001b[0mblotter\u001b[0m\u001b[0;34m,\u001b[0m\u001b[0;34m\u001b[0m\u001b[0;34m\u001b[0m\u001b[0m\n\u001b[0;32m--> 409\u001b[0;31m         \u001b[0mbenchmark_spec\u001b[0m\u001b[0;34m=\u001b[0m\u001b[0mbenchmark_spec\u001b[0m\u001b[0;34m,\u001b[0m\u001b[0;34m\u001b[0m\u001b[0;34m\u001b[0m\u001b[0m\n\u001b[0m\u001b[1;32m    410\u001b[0m     )\n\u001b[1;32m    411\u001b[0m \u001b[0;34m\u001b[0m\u001b[0m\n",
      "\u001b[0;32m/zipline/zipline/utils/run_algo.py\u001b[0m in \u001b[0;36m_run\u001b[0;34m(handle_data, initialize, before_trading_start, analyze, algofile, algotext, defines, data_frequency, capital_base, bundle, bundle_timestamp, start, end, output, trading_calendar, print_algo, metrics_set, local_namespace, environ, blotter, benchmark_spec)\u001b[0m\n\u001b[1;32m    214\u001b[0m             \u001b[0;34m}\u001b[0m \u001b[0;32mif\u001b[0m \u001b[0malgotext\u001b[0m \u001b[0;32mis\u001b[0m \u001b[0;32mNone\u001b[0m \u001b[0;32melse\u001b[0m \u001b[0;34m{\u001b[0m\u001b[0;34m\u001b[0m\u001b[0;34m\u001b[0m\u001b[0m\n\u001b[1;32m    215\u001b[0m                 \u001b[0;34m'algo_filename'\u001b[0m\u001b[0;34m:\u001b[0m \u001b[0mgetattr\u001b[0m\u001b[0;34m(\u001b[0m\u001b[0malgofile\u001b[0m\u001b[0;34m,\u001b[0m \u001b[0;34m'name'\u001b[0m\u001b[0;34m,\u001b[0m \u001b[0;34m'<algorithm>'\u001b[0m\u001b[0;34m)\u001b[0m\u001b[0;34m,\u001b[0m\u001b[0;34m\u001b[0m\u001b[0;34m\u001b[0m\u001b[0m\n\u001b[0;32m--> 216\u001b[0;31m                 \u001b[0;34m'script'\u001b[0m\u001b[0;34m:\u001b[0m \u001b[0malgotext\u001b[0m\u001b[0;34m,\u001b[0m\u001b[0;34m\u001b[0m\u001b[0;34m\u001b[0m\u001b[0m\n\u001b[0m\u001b[1;32m    217\u001b[0m             }\n\u001b[1;32m    218\u001b[0m         ).run()\n",
      "\u001b[0;32m/zipline/zipline/algorithm.py\u001b[0m in \u001b[0;36mrun\u001b[0;34m(self, data_portal)\u001b[0m\n\u001b[1;32m    641\u001b[0m         \u001b[0;32mtry\u001b[0m\u001b[0;34m:\u001b[0m\u001b[0;34m\u001b[0m\u001b[0;34m\u001b[0m\u001b[0m\n\u001b[1;32m    642\u001b[0m             \u001b[0mperfs\u001b[0m \u001b[0;34m=\u001b[0m \u001b[0;34m[\u001b[0m\u001b[0;34m]\u001b[0m\u001b[0;34m\u001b[0m\u001b[0;34m\u001b[0m\u001b[0m\n\u001b[0;32m--> 643\u001b[0;31m             \u001b[0;32mfor\u001b[0m \u001b[0mperf\u001b[0m \u001b[0;32min\u001b[0m \u001b[0mself\u001b[0m\u001b[0;34m.\u001b[0m\u001b[0mget_generator\u001b[0m\u001b[0;34m(\u001b[0m\u001b[0;34m)\u001b[0m\u001b[0;34m:\u001b[0m\u001b[0;34m\u001b[0m\u001b[0;34m\u001b[0m\u001b[0m\n\u001b[0m\u001b[1;32m    644\u001b[0m                 \u001b[0mperfs\u001b[0m\u001b[0;34m.\u001b[0m\u001b[0mappend\u001b[0m\u001b[0;34m(\u001b[0m\u001b[0mperf\u001b[0m\u001b[0;34m)\u001b[0m\u001b[0;34m\u001b[0m\u001b[0;34m\u001b[0m\u001b[0m\n\u001b[1;32m    645\u001b[0m \u001b[0;34m\u001b[0m\u001b[0m\n",
      "\u001b[0;32m/zipline/zipline/algorithm.py\u001b[0m in \u001b[0;36mget_generator\u001b[0;34m(self)\u001b[0m\n\u001b[1;32m    617\u001b[0m         \u001b[0mmethod\u001b[0m \u001b[0mto\u001b[0m \u001b[0mget\u001b[0m \u001b[0ma\u001b[0m \u001b[0mstandard\u001b[0m \u001b[0mconstruction\u001b[0m \u001b[0mgenerator\u001b[0m\u001b[0;34m.\u001b[0m\u001b[0;34m\u001b[0m\u001b[0;34m\u001b[0m\u001b[0m\n\u001b[1;32m    618\u001b[0m         \"\"\"\n\u001b[0;32m--> 619\u001b[0;31m         \u001b[0;32mreturn\u001b[0m \u001b[0mself\u001b[0m\u001b[0;34m.\u001b[0m\u001b[0m_create_generator\u001b[0m\u001b[0;34m(\u001b[0m\u001b[0mself\u001b[0m\u001b[0;34m.\u001b[0m\u001b[0msim_params\u001b[0m\u001b[0;34m)\u001b[0m\u001b[0;34m\u001b[0m\u001b[0;34m\u001b[0m\u001b[0m\n\u001b[0m\u001b[1;32m    620\u001b[0m \u001b[0;34m\u001b[0m\u001b[0m\n\u001b[1;32m    621\u001b[0m     \u001b[0;32mdef\u001b[0m \u001b[0mrun\u001b[0m\u001b[0;34m(\u001b[0m\u001b[0mself\u001b[0m\u001b[0;34m,\u001b[0m \u001b[0mdata_portal\u001b[0m\u001b[0;34m=\u001b[0m\u001b[0;32mNone\u001b[0m\u001b[0;34m)\u001b[0m\u001b[0;34m:\u001b[0m\u001b[0;34m\u001b[0m\u001b[0;34m\u001b[0m\u001b[0m\n",
      "\u001b[0;32m/zipline/zipline/algorithm.py\u001b[0m in \u001b[0;36m_create_generator\u001b[0;34m(self, sim_params)\u001b[0m\n\u001b[1;32m    575\u001b[0m \u001b[0;34m\u001b[0m\u001b[0m\n\u001b[1;32m    576\u001b[0m         \u001b[0;32mif\u001b[0m \u001b[0;32mnot\u001b[0m \u001b[0mself\u001b[0m\u001b[0;34m.\u001b[0m\u001b[0minitialized\u001b[0m\u001b[0;34m:\u001b[0m\u001b[0;34m\u001b[0m\u001b[0;34m\u001b[0m\u001b[0m\n\u001b[0;32m--> 577\u001b[0;31m             \u001b[0mself\u001b[0m\u001b[0;34m.\u001b[0m\u001b[0minitialize\u001b[0m\u001b[0;34m(\u001b[0m\u001b[0;34m**\u001b[0m\u001b[0mself\u001b[0m\u001b[0;34m.\u001b[0m\u001b[0minitialize_kwargs\u001b[0m\u001b[0;34m)\u001b[0m\u001b[0;34m\u001b[0m\u001b[0;34m\u001b[0m\u001b[0m\n\u001b[0m\u001b[1;32m    578\u001b[0m             \u001b[0mself\u001b[0m\u001b[0;34m.\u001b[0m\u001b[0minitialized\u001b[0m \u001b[0;34m=\u001b[0m \u001b[0;32mTrue\u001b[0m\u001b[0;34m\u001b[0m\u001b[0;34m\u001b[0m\u001b[0m\n\u001b[1;32m    579\u001b[0m \u001b[0;34m\u001b[0m\u001b[0m\n",
      "\u001b[0;32m/zipline/zipline/algorithm.py\u001b[0m in \u001b[0;36minitialize\u001b[0;34m(self, *args, **kwargs)\u001b[0m\n\u001b[1;32m    434\u001b[0m         \"\"\"\n\u001b[1;32m    435\u001b[0m         \u001b[0;32mwith\u001b[0m \u001b[0mZiplineAPI\u001b[0m\u001b[0;34m(\u001b[0m\u001b[0mself\u001b[0m\u001b[0;34m)\u001b[0m\u001b[0;34m:\u001b[0m\u001b[0;34m\u001b[0m\u001b[0;34m\u001b[0m\u001b[0m\n\u001b[0;32m--> 436\u001b[0;31m             \u001b[0mself\u001b[0m\u001b[0;34m.\u001b[0m\u001b[0m_initialize\u001b[0m\u001b[0;34m(\u001b[0m\u001b[0mself\u001b[0m\u001b[0;34m,\u001b[0m \u001b[0;34m*\u001b[0m\u001b[0margs\u001b[0m\u001b[0;34m,\u001b[0m \u001b[0;34m**\u001b[0m\u001b[0mkwargs\u001b[0m\u001b[0;34m)\u001b[0m\u001b[0;34m\u001b[0m\u001b[0;34m\u001b[0m\u001b[0m\n\u001b[0m\u001b[1;32m    437\u001b[0m \u001b[0;34m\u001b[0m\u001b[0m\n\u001b[1;32m    438\u001b[0m     \u001b[0;32mdef\u001b[0m \u001b[0mbefore_trading_start\u001b[0m\u001b[0;34m(\u001b[0m\u001b[0mself\u001b[0m\u001b[0;34m,\u001b[0m \u001b[0mdata\u001b[0m\u001b[0;34m)\u001b[0m\u001b[0;34m:\u001b[0m\u001b[0;34m\u001b[0m\u001b[0;34m\u001b[0m\u001b[0m\n",
      "\u001b[0;32m<ipython-input-6-7a0ea5a40973>\u001b[0m in \u001b[0;36minitialize\u001b[0;34m(context)\u001b[0m\n\u001b[1;32m     75\u001b[0m     context.universe = [\n\u001b[1;32m     76\u001b[0m         \u001b[0mcontinuous_future\u001b[0m\u001b[0;34m(\u001b[0m\u001b[0mmarket\u001b[0m\u001b[0;34m,\u001b[0m \u001b[0moffset\u001b[0m\u001b[0;34m=\u001b[0m\u001b[0;36m0\u001b[0m\u001b[0;34m,\u001b[0m \u001b[0mroll\u001b[0m\u001b[0;34m=\u001b[0m\u001b[0;34m\"volume\"\u001b[0m\u001b[0;34m,\u001b[0m \u001b[0madjustment\u001b[0m\u001b[0;34m=\u001b[0m\u001b[0;34m\"mul\"\u001b[0m\u001b[0;34m)\u001b[0m\u001b[0;34m\u001b[0m\u001b[0;34m\u001b[0m\u001b[0m\n\u001b[0;32m---> 77\u001b[0;31m         \u001b[0;32mfor\u001b[0m \u001b[0mmarket\u001b[0m \u001b[0;32min\u001b[0m \u001b[0mmarkets\u001b[0m\u001b[0;34m\u001b[0m\u001b[0;34m\u001b[0m\u001b[0m\n\u001b[0m\u001b[1;32m     78\u001b[0m     ]\n\u001b[1;32m     79\u001b[0m \u001b[0;34m\u001b[0m\u001b[0m\n",
      "\u001b[0;32m<ipython-input-6-7a0ea5a40973>\u001b[0m in \u001b[0;36m<listcomp>\u001b[0;34m(.0)\u001b[0m\n\u001b[1;32m     75\u001b[0m     context.universe = [\n\u001b[1;32m     76\u001b[0m         \u001b[0mcontinuous_future\u001b[0m\u001b[0;34m(\u001b[0m\u001b[0mmarket\u001b[0m\u001b[0;34m,\u001b[0m \u001b[0moffset\u001b[0m\u001b[0;34m=\u001b[0m\u001b[0;36m0\u001b[0m\u001b[0;34m,\u001b[0m \u001b[0mroll\u001b[0m\u001b[0;34m=\u001b[0m\u001b[0;34m\"volume\"\u001b[0m\u001b[0;34m,\u001b[0m \u001b[0madjustment\u001b[0m\u001b[0;34m=\u001b[0m\u001b[0;34m\"mul\"\u001b[0m\u001b[0;34m)\u001b[0m\u001b[0;34m\u001b[0m\u001b[0;34m\u001b[0m\u001b[0m\n\u001b[0;32m---> 77\u001b[0;31m         \u001b[0;32mfor\u001b[0m \u001b[0mmarket\u001b[0m \u001b[0;32min\u001b[0m \u001b[0mmarkets\u001b[0m\u001b[0;34m\u001b[0m\u001b[0;34m\u001b[0m\u001b[0m\n\u001b[0m\u001b[1;32m     78\u001b[0m     ]\n\u001b[1;32m     79\u001b[0m \u001b[0;34m\u001b[0m\u001b[0m\n",
      "\u001b[0;32m/zipline/zipline/utils/api_support.py\u001b[0m in \u001b[0;36mwrapped\u001b[0;34m(*args, **kwargs)\u001b[0m\n\u001b[1;32m     54\u001b[0m                 \u001b[0;34m%\u001b[0m \u001b[0mf\u001b[0m\u001b[0;34m.\u001b[0m\u001b[0m__name__\u001b[0m\u001b[0;34m\u001b[0m\u001b[0;34m\u001b[0m\u001b[0m\n\u001b[1;32m     55\u001b[0m             )\n\u001b[0;32m---> 56\u001b[0;31m         \u001b[0;32mreturn\u001b[0m \u001b[0mgetattr\u001b[0m\u001b[0;34m(\u001b[0m\u001b[0malgo_instance\u001b[0m\u001b[0;34m,\u001b[0m \u001b[0mf\u001b[0m\u001b[0;34m.\u001b[0m\u001b[0m__name__\u001b[0m\u001b[0;34m)\u001b[0m\u001b[0;34m(\u001b[0m\u001b[0;34m*\u001b[0m\u001b[0margs\u001b[0m\u001b[0;34m,\u001b[0m \u001b[0;34m**\u001b[0m\u001b[0mkwargs\u001b[0m\u001b[0;34m)\u001b[0m\u001b[0;34m\u001b[0m\u001b[0;34m\u001b[0m\u001b[0m\n\u001b[0m\u001b[1;32m     57\u001b[0m     \u001b[0;31m# Add functor to zipline.api\u001b[0m\u001b[0;34m\u001b[0m\u001b[0;34m\u001b[0m\u001b[0;34m\u001b[0m\u001b[0m\n\u001b[1;32m     58\u001b[0m     \u001b[0msetattr\u001b[0m\u001b[0;34m(\u001b[0m\u001b[0mzipline\u001b[0m\u001b[0;34m.\u001b[0m\u001b[0mapi\u001b[0m\u001b[0;34m,\u001b[0m \u001b[0mf\u001b[0m\u001b[0;34m.\u001b[0m\u001b[0m__name__\u001b[0m\u001b[0;34m,\u001b[0m \u001b[0mwrapped\u001b[0m\u001b[0;34m)\u001b[0m\u001b[0;34m\u001b[0m\u001b[0;34m\u001b[0m\u001b[0m\n",
      "\u001b[0;32m/zipline/zipline/algorithm.py\u001b[0m in \u001b[0;36mcontinuous_future\u001b[0;34m(self, root_symbol_str, offset, roll, adjustment)\u001b[0m\n\u001b[1;32m   1008\u001b[0m     \u001b[0;34m@\u001b[0m\u001b[0mpreprocess\u001b[0m\u001b[0;34m(\u001b[0m\u001b[0mroot_symbol_str\u001b[0m\u001b[0;34m=\u001b[0m\u001b[0mensure_upper_case\u001b[0m\u001b[0;34m)\u001b[0m\u001b[0;34m\u001b[0m\u001b[0;34m\u001b[0m\u001b[0m\n\u001b[1;32m   1009\u001b[0m     def continuous_future(self,\n\u001b[0;32m-> 1010\u001b[0;31m                           \u001b[0mroot_symbol_str\u001b[0m\u001b[0;34m,\u001b[0m\u001b[0;34m\u001b[0m\u001b[0;34m\u001b[0m\u001b[0m\n\u001b[0m\u001b[1;32m   1011\u001b[0m                           \u001b[0moffset\u001b[0m\u001b[0;34m=\u001b[0m\u001b[0;36m0\u001b[0m\u001b[0;34m,\u001b[0m\u001b[0;34m\u001b[0m\u001b[0;34m\u001b[0m\u001b[0m\n\u001b[1;32m   1012\u001b[0m                           \u001b[0mroll\u001b[0m\u001b[0;34m=\u001b[0m\u001b[0;34m'volume'\u001b[0m\u001b[0;34m,\u001b[0m\u001b[0;34m\u001b[0m\u001b[0;34m\u001b[0m\u001b[0m\n",
      "\u001b[0;32m/zipline/zipline/algorithm.py\u001b[0m in \u001b[0;36mcontinuous_future\u001b[0;34m(self, root_symbol_str, offset, roll, adjustment)\u001b[0m\n\u001b[1;32m   1038\u001b[0m             \u001b[0moffset\u001b[0m\u001b[0;34m,\u001b[0m\u001b[0;34m\u001b[0m\u001b[0;34m\u001b[0m\u001b[0m\n\u001b[1;32m   1039\u001b[0m             \u001b[0mroll\u001b[0m\u001b[0;34m,\u001b[0m\u001b[0;34m\u001b[0m\u001b[0;34m\u001b[0m\u001b[0m\n\u001b[0;32m-> 1040\u001b[0;31m             \u001b[0madjustment\u001b[0m\u001b[0;34m,\u001b[0m\u001b[0;34m\u001b[0m\u001b[0;34m\u001b[0m\u001b[0m\n\u001b[0m\u001b[1;32m   1041\u001b[0m         )\n\u001b[1;32m   1042\u001b[0m \u001b[0;34m\u001b[0m\u001b[0m\n",
      "\u001b[0;32m/zipline/zipline/assets/assets.py\u001b[0m in \u001b[0;36mcreate_continuous_future\u001b[0;34m(self, root_symbol, offset, roll_style, adjustment)\u001b[0m\n\u001b[1;32m   1242\u001b[0m \u001b[0;34m\u001b[0m\u001b[0m\n\u001b[1;32m   1243\u001b[0m         \u001b[0moc\u001b[0m \u001b[0;34m=\u001b[0m \u001b[0mself\u001b[0m\u001b[0;34m.\u001b[0m\u001b[0mget_ordered_contracts\u001b[0m\u001b[0;34m(\u001b[0m\u001b[0mroot_symbol\u001b[0m\u001b[0;34m)\u001b[0m\u001b[0;34m\u001b[0m\u001b[0;34m\u001b[0m\u001b[0m\n\u001b[0;32m-> 1244\u001b[0;31m         \u001b[0mexchange\u001b[0m \u001b[0;34m=\u001b[0m \u001b[0mself\u001b[0m\u001b[0;34m.\u001b[0m\u001b[0m_get_root_symbol_exchange\u001b[0m\u001b[0;34m(\u001b[0m\u001b[0mroot_symbol\u001b[0m\u001b[0;34m)\u001b[0m\u001b[0;34m\u001b[0m\u001b[0;34m\u001b[0m\u001b[0m\n\u001b[0m\u001b[1;32m   1245\u001b[0m \u001b[0;34m\u001b[0m\u001b[0m\n\u001b[1;32m   1246\u001b[0m         sid = _encode_continuous_future_sid(root_symbol, offset,\n",
      "\u001b[0;32m/zipline/zipline/assets/assets.py\u001b[0m in \u001b[0;36m_get_root_symbol_exchange\u001b[0;34m(self, root_symbol)\u001b[0m\n\u001b[1;32m   1216\u001b[0m             \u001b[0;32mreturn\u001b[0m \u001b[0mexchange\u001b[0m\u001b[0;34m\u001b[0m\u001b[0;34m\u001b[0m\u001b[0m\n\u001b[1;32m   1217\u001b[0m         \u001b[0;32melse\u001b[0m\u001b[0;34m:\u001b[0m\u001b[0;34m\u001b[0m\u001b[0;34m\u001b[0m\u001b[0m\n\u001b[0;32m-> 1218\u001b[0;31m             \u001b[0;32mraise\u001b[0m \u001b[0mSymbolNotFound\u001b[0m\u001b[0;34m(\u001b[0m\u001b[0msymbol\u001b[0m\u001b[0;34m=\u001b[0m\u001b[0mroot_symbol\u001b[0m\u001b[0;34m)\u001b[0m\u001b[0;34m\u001b[0m\u001b[0;34m\u001b[0m\u001b[0m\n\u001b[0m\u001b[1;32m   1219\u001b[0m \u001b[0;34m\u001b[0m\u001b[0m\n\u001b[1;32m   1220\u001b[0m     \u001b[0;32mdef\u001b[0m \u001b[0mget_ordered_contracts\u001b[0m\u001b[0;34m(\u001b[0m\u001b[0mself\u001b[0m\u001b[0;34m,\u001b[0m \u001b[0mroot_symbol\u001b[0m\u001b[0;34m)\u001b[0m\u001b[0;34m:\u001b[0m\u001b[0;34m\u001b[0m\u001b[0;34m\u001b[0m\u001b[0m\n",
      "\u001b[0;31mSymbolNotFound\u001b[0m: Symbol 'BL' was not found."
     ]
    },
    {
     "data": {
      "application/javascript": [
       "\n",
       "            setTimeout(function() {\n",
       "                var nbb_cell_id = 11;\n",
       "                var nbb_unformatted_code = \"perf = zipline.run_algorithm(\\n    start=start,\\n    end=end,\\n    initialize=initialize,\\n    capital_base=starting_portfolio,\\n    data_frequency=\\\"daily\\\",\\n    bundle=\\\"random_futures\\\",\\n)\";\n",
       "                var nbb_formatted_code = \"perf = zipline.run_algorithm(\\n    start=start,\\n    end=end,\\n    initialize=initialize,\\n    capital_base=starting_portfolio,\\n    data_frequency=\\\"daily\\\",\\n    bundle=\\\"random_futures\\\",\\n)\";\n",
       "                var nbb_cells = Jupyter.notebook.get_cells();\n",
       "                for (var i = 0; i < nbb_cells.length; ++i) {\n",
       "                    if (nbb_cells[i].input_prompt_number == nbb_cell_id) {\n",
       "                        if (nbb_cells[i].get_text() == nbb_unformatted_code) {\n",
       "                             nbb_cells[i].set_text(nbb_formatted_code);\n",
       "                        }\n",
       "                        break;\n",
       "                    }\n",
       "                }\n",
       "            }, 500);\n",
       "            "
      ],
      "text/plain": [
       "<IPython.core.display.Javascript object>"
      ]
     },
     "metadata": {},
     "output_type": "display_data"
    }
   ],
   "source": [
    "perf = zipline.run_algorithm(\n",
    "    start=start,\n",
    "    end=end,\n",
    "    initialize=initialize,\n",
    "    capital_base=starting_portfolio,\n",
    "    data_frequency=\"daily\",\n",
    "    bundle=\"random_futures\",\n",
    ")"
   ]
  },
  {
   "cell_type": "code",
   "execution_count": 12,
   "metadata": {},
   "outputs": [
    {
     "ename": "NameError",
     "evalue": "name 'perf' is not defined",
     "output_type": "error",
     "traceback": [
      "\u001b[0;31m---------------------------------------------------------------------------\u001b[0m",
      "\u001b[0;31mNameError\u001b[0m                                 Traceback (most recent call last)",
      "\u001b[0;32m<ipython-input-12-28b732c5125a>\u001b[0m in \u001b[0;36m<module>\u001b[0;34m\u001b[0m\n\u001b[0;32m----> 1\u001b[0;31m \u001b[0mreturns\u001b[0m\u001b[0;34m,\u001b[0m \u001b[0mpositions\u001b[0m\u001b[0;34m,\u001b[0m \u001b[0mtransactions\u001b[0m \u001b[0;34m=\u001b[0m \u001b[0mpf\u001b[0m\u001b[0;34m.\u001b[0m\u001b[0mutils\u001b[0m\u001b[0;34m.\u001b[0m\u001b[0mextract_rets_pos_txn_from_zipline\u001b[0m\u001b[0;34m(\u001b[0m\u001b[0mperf\u001b[0m\u001b[0;34m)\u001b[0m\u001b[0;34m\u001b[0m\u001b[0;34m\u001b[0m\u001b[0m\n\u001b[0m\u001b[1;32m      2\u001b[0m \u001b[0mpf\u001b[0m\u001b[0;34m.\u001b[0m\u001b[0mcreate_returns_tear_sheet\u001b[0m\u001b[0;34m(\u001b[0m\u001b[0mreturns\u001b[0m\u001b[0;34m,\u001b[0m \u001b[0mbenchmark_rets\u001b[0m\u001b[0;34m=\u001b[0m\u001b[0;32mNone\u001b[0m\u001b[0;34m)\u001b[0m\u001b[0;34m\u001b[0m\u001b[0;34m\u001b[0m\u001b[0m\n",
      "\u001b[0;31mNameError\u001b[0m: name 'perf' is not defined"
     ]
    },
    {
     "data": {
      "application/javascript": [
       "\n",
       "            setTimeout(function() {\n",
       "                var nbb_cell_id = 12;\n",
       "                var nbb_unformatted_code = \"returns, positions, transactions = pf.utils.extract_rets_pos_txn_from_zipline(perf)\\npf.create_returns_tear_sheet(returns, benchmark_rets=None)\";\n",
       "                var nbb_formatted_code = \"returns, positions, transactions = pf.utils.extract_rets_pos_txn_from_zipline(perf)\\npf.create_returns_tear_sheet(returns, benchmark_rets=None)\";\n",
       "                var nbb_cells = Jupyter.notebook.get_cells();\n",
       "                for (var i = 0; i < nbb_cells.length; ++i) {\n",
       "                    if (nbb_cells[i].input_prompt_number == nbb_cell_id) {\n",
       "                        if (nbb_cells[i].get_text() == nbb_unformatted_code) {\n",
       "                             nbb_cells[i].set_text(nbb_formatted_code);\n",
       "                        }\n",
       "                        break;\n",
       "                    }\n",
       "                }\n",
       "            }, 500);\n",
       "            "
      ],
      "text/plain": [
       "<IPython.core.display.Javascript object>"
      ]
     },
     "metadata": {},
     "output_type": "display_data"
    }
   ],
   "source": [
    "returns, positions, transactions = pf.utils.extract_rets_pos_txn_from_zipline(perf)\n",
    "pf.create_returns_tear_sheet(returns, benchmark_rets=None)"
   ]
  }
 ],
 "metadata": {
  "kernelspec": {
   "display_name": "Python 3",
   "language": "python",
   "name": "python3"
  },
  "language_info": {
   "codemirror_mode": {
    "name": "ipython",
    "version": 3
   },
   "file_extension": ".py",
   "mimetype": "text/x-python",
   "name": "python",
   "nbconvert_exporter": "python",
   "pygments_lexer": "ipython3",
   "version": "3.6.12"
  }
 },
 "nbformat": 4,
 "nbformat_minor": 4
}
