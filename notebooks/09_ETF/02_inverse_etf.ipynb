{
 "cells": [
  {
   "cell_type": "code",
   "execution_count": 1,
   "metadata": {},
   "outputs": [
    {
     "data": {
      "application/javascript": [
       "\n",
       "            setTimeout(function() {\n",
       "                var nbb_cell_id = 1;\n",
       "                var nbb_unformatted_code = \"%load_ext nb_black\";\n",
       "                var nbb_formatted_code = \"%load_ext nb_black\";\n",
       "                var nbb_cells = Jupyter.notebook.get_cells();\n",
       "                for (var i = 0; i < nbb_cells.length; ++i) {\n",
       "                    if (nbb_cells[i].input_prompt_number == nbb_cell_id) {\n",
       "                        if (nbb_cells[i].get_text() == nbb_unformatted_code) {\n",
       "                             nbb_cells[i].set_text(nbb_formatted_code);\n",
       "                        }\n",
       "                        break;\n",
       "                    }\n",
       "                }\n",
       "            }, 500);\n",
       "            "
      ],
      "text/plain": [
       "<IPython.core.display.Javascript object>"
      ]
     },
     "metadata": {},
     "output_type": "display_data"
    }
   ],
   "source": [
    "%load_ext nb_black"
   ]
  },
  {
   "cell_type": "code",
   "execution_count": 2,
   "metadata": {},
   "outputs": [
    {
     "data": {
      "application/javascript": [
       "\n",
       "            setTimeout(function() {\n",
       "                var nbb_cell_id = 2;\n",
       "                var nbb_unformatted_code = \"import pandas as pd\\nimport matplotlib.pyplot as plt\";\n",
       "                var nbb_formatted_code = \"import pandas as pd\\nimport matplotlib.pyplot as plt\";\n",
       "                var nbb_cells = Jupyter.notebook.get_cells();\n",
       "                for (var i = 0; i < nbb_cells.length; ++i) {\n",
       "                    if (nbb_cells[i].input_prompt_number == nbb_cell_id) {\n",
       "                        if (nbb_cells[i].get_text() == nbb_unformatted_code) {\n",
       "                             nbb_cells[i].set_text(nbb_formatted_code);\n",
       "                        }\n",
       "                        break;\n",
       "                    }\n",
       "                }\n",
       "            }, 500);\n",
       "            "
      ],
      "text/plain": [
       "<IPython.core.display.Javascript object>"
      ]
     },
     "metadata": {},
     "output_type": "display_data"
    }
   ],
   "source": [
    "import pandas as pd\n",
    "import matplotlib.pyplot as plt"
   ]
  },
  {
   "cell_type": "code",
   "execution_count": 3,
   "metadata": {},
   "outputs": [
    {
     "data": {
      "application/javascript": [
       "\n",
       "            setTimeout(function() {\n",
       "                var nbb_cell_id = 3;\n",
       "                var nbb_unformatted_code = \"df = pd.DataFrame(index=range(50))\";\n",
       "                var nbb_formatted_code = \"df = pd.DataFrame(index=range(50))\";\n",
       "                var nbb_cells = Jupyter.notebook.get_cells();\n",
       "                for (var i = 0; i < nbb_cells.length; ++i) {\n",
       "                    if (nbb_cells[i].input_prompt_number == nbb_cell_id) {\n",
       "                        if (nbb_cells[i].get_text() == nbb_unformatted_code) {\n",
       "                             nbb_cells[i].set_text(nbb_formatted_code);\n",
       "                        }\n",
       "                        break;\n",
       "                    }\n",
       "                }\n",
       "            }, 500);\n",
       "            "
      ],
      "text/plain": [
       "<IPython.core.display.Javascript object>"
      ]
     },
     "metadata": {},
     "output_type": "display_data"
    }
   ],
   "source": [
    "df = pd.DataFrame(index=range(50))"
   ]
  },
  {
   "cell_type": "code",
   "execution_count": 4,
   "metadata": {},
   "outputs": [
    {
     "data": {
      "application/javascript": [
       "\n",
       "            setTimeout(function() {\n",
       "                var nbb_cell_id = 4;\n",
       "                var nbb_unformatted_code = \"# Set odd days to +3%\\ndf.loc[df.index % 2 == 1, \\\"underlying_return\\\"] = 0.03\";\n",
       "                var nbb_formatted_code = \"# Set odd days to +3%\\ndf.loc[df.index % 2 == 1, \\\"underlying_return\\\"] = 0.03\";\n",
       "                var nbb_cells = Jupyter.notebook.get_cells();\n",
       "                for (var i = 0; i < nbb_cells.length; ++i) {\n",
       "                    if (nbb_cells[i].input_prompt_number == nbb_cell_id) {\n",
       "                        if (nbb_cells[i].get_text() == nbb_unformatted_code) {\n",
       "                             nbb_cells[i].set_text(nbb_formatted_code);\n",
       "                        }\n",
       "                        break;\n",
       "                    }\n",
       "                }\n",
       "            }, 500);\n",
       "            "
      ],
      "text/plain": [
       "<IPython.core.display.Javascript object>"
      ]
     },
     "metadata": {},
     "output_type": "display_data"
    }
   ],
   "source": [
    "# Set odd days to +3%\n",
    "df.loc[df.index % 2 == 1, \"underlying_return\"] = 0.03"
   ]
  },
  {
   "cell_type": "code",
   "execution_count": 5,
   "metadata": {},
   "outputs": [
    {
     "data": {
      "application/javascript": [
       "\n",
       "            setTimeout(function() {\n",
       "                var nbb_cell_id = 5;\n",
       "                var nbb_unformatted_code = \"# Set even days to -2.913%\\ndf.loc[df.index % 2 == 0, \\\"underlying_return\\\"] = -0.02913\";\n",
       "                var nbb_formatted_code = \"# Set even days to -2.913%\\ndf.loc[df.index % 2 == 0, \\\"underlying_return\\\"] = -0.02913\";\n",
       "                var nbb_cells = Jupyter.notebook.get_cells();\n",
       "                for (var i = 0; i < nbb_cells.length; ++i) {\n",
       "                    if (nbb_cells[i].input_prompt_number == nbb_cell_id) {\n",
       "                        if (nbb_cells[i].get_text() == nbb_unformatted_code) {\n",
       "                             nbb_cells[i].set_text(nbb_formatted_code);\n",
       "                        }\n",
       "                        break;\n",
       "                    }\n",
       "                }\n",
       "            }, 500);\n",
       "            "
      ],
      "text/plain": [
       "<IPython.core.display.Javascript object>"
      ]
     },
     "metadata": {},
     "output_type": "display_data"
    }
   ],
   "source": [
    "# Set even days to -2.913%\n",
    "df.loc[df.index % 2 == 0, \"underlying_return\"] = -0.02913"
   ]
  },
  {
   "cell_type": "code",
   "execution_count": 6,
   "metadata": {},
   "outputs": [
    {
     "data": {
      "text/html": [
       "<div>\n",
       "<style scoped>\n",
       "    .dataframe tbody tr th:only-of-type {\n",
       "        vertical-align: middle;\n",
       "    }\n",
       "\n",
       "    .dataframe tbody tr th {\n",
       "        vertical-align: top;\n",
       "    }\n",
       "\n",
       "    .dataframe thead th {\n",
       "        text-align: right;\n",
       "    }\n",
       "</style>\n",
       "<table border=\"1\" class=\"dataframe\">\n",
       "  <thead>\n",
       "    <tr style=\"text-align: right;\">\n",
       "      <th></th>\n",
       "      <th>underlying_return</th>\n",
       "    </tr>\n",
       "  </thead>\n",
       "  <tbody>\n",
       "    <tr>\n",
       "      <th>0</th>\n",
       "      <td>0.00000</td>\n",
       "    </tr>\n",
       "    <tr>\n",
       "      <th>1</th>\n",
       "      <td>0.03000</td>\n",
       "    </tr>\n",
       "    <tr>\n",
       "      <th>2</th>\n",
       "      <td>-0.02913</td>\n",
       "    </tr>\n",
       "    <tr>\n",
       "      <th>3</th>\n",
       "      <td>0.03000</td>\n",
       "    </tr>\n",
       "    <tr>\n",
       "      <th>4</th>\n",
       "      <td>-0.02913</td>\n",
       "    </tr>\n",
       "  </tbody>\n",
       "</table>\n",
       "</div>"
      ],
      "text/plain": [
       "   underlying_return\n",
       "0            0.00000\n",
       "1            0.03000\n",
       "2           -0.02913\n",
       "3            0.03000\n",
       "4           -0.02913"
      ]
     },
     "execution_count": 6,
     "metadata": {},
     "output_type": "execute_result"
    },
    {
     "data": {
      "application/javascript": [
       "\n",
       "            setTimeout(function() {\n",
       "                var nbb_cell_id = 6;\n",
       "                var nbb_unformatted_code = \"# Start at zero\\ndf.iloc[0].loc[\\\"underlying_return\\\"] = 0\\ndf.head(5)\";\n",
       "                var nbb_formatted_code = \"# Start at zero\\ndf.iloc[0].loc[\\\"underlying_return\\\"] = 0\\ndf.head(5)\";\n",
       "                var nbb_cells = Jupyter.notebook.get_cells();\n",
       "                for (var i = 0; i < nbb_cells.length; ++i) {\n",
       "                    if (nbb_cells[i].input_prompt_number == nbb_cell_id) {\n",
       "                        if (nbb_cells[i].get_text() == nbb_unformatted_code) {\n",
       "                             nbb_cells[i].set_text(nbb_formatted_code);\n",
       "                        }\n",
       "                        break;\n",
       "                    }\n",
       "                }\n",
       "            }, 500);\n",
       "            "
      ],
      "text/plain": [
       "<IPython.core.display.Javascript object>"
      ]
     },
     "metadata": {},
     "output_type": "display_data"
    }
   ],
   "source": [
    "# Start at zero\n",
    "df.iloc[0].loc[\"underlying_return\"] = 0\n",
    "df.head(5)"
   ]
  },
  {
   "cell_type": "code",
   "execution_count": 7,
   "metadata": {},
   "outputs": [
    {
     "data": {
      "text/html": [
       "<div>\n",
       "<style scoped>\n",
       "    .dataframe tbody tr th:only-of-type {\n",
       "        vertical-align: middle;\n",
       "    }\n",
       "\n",
       "    .dataframe tbody tr th {\n",
       "        vertical-align: top;\n",
       "    }\n",
       "\n",
       "    .dataframe thead th {\n",
       "        text-align: right;\n",
       "    }\n",
       "</style>\n",
       "<table border=\"1\" class=\"dataframe\">\n",
       "  <thead>\n",
       "    <tr style=\"text-align: right;\">\n",
       "      <th></th>\n",
       "      <th>underlying_return</th>\n",
       "      <th>underlying_price</th>\n",
       "    </tr>\n",
       "  </thead>\n",
       "  <tbody>\n",
       "    <tr>\n",
       "      <th>0</th>\n",
       "      <td>0.00000</td>\n",
       "      <td>1.000000</td>\n",
       "    </tr>\n",
       "    <tr>\n",
       "      <th>1</th>\n",
       "      <td>0.03000</td>\n",
       "      <td>1.030000</td>\n",
       "    </tr>\n",
       "    <tr>\n",
       "      <th>2</th>\n",
       "      <td>-0.02913</td>\n",
       "      <td>0.999996</td>\n",
       "    </tr>\n",
       "    <tr>\n",
       "      <th>3</th>\n",
       "      <td>0.03000</td>\n",
       "      <td>1.029996</td>\n",
       "    </tr>\n",
       "    <tr>\n",
       "      <th>4</th>\n",
       "      <td>-0.02913</td>\n",
       "      <td>0.999992</td>\n",
       "    </tr>\n",
       "  </tbody>\n",
       "</table>\n",
       "</div>"
      ],
      "text/plain": [
       "   underlying_return  underlying_price\n",
       "0            0.00000          1.000000\n",
       "1            0.03000          1.030000\n",
       "2           -0.02913          0.999996\n",
       "3            0.03000          1.029996\n",
       "4           -0.02913          0.999992"
      ]
     },
     "execution_count": 7,
     "metadata": {},
     "output_type": "execute_result"
    },
    {
     "data": {
      "application/javascript": [
       "\n",
       "            setTimeout(function() {\n",
       "                var nbb_cell_id = 7;\n",
       "                var nbb_unformatted_code = \"# Calculate cumulative series\\ndf[\\\"underlying_price\\\"] = (df[\\\"underlying_return\\\"] + 1).cumprod()\\ndf.head(5)\";\n",
       "                var nbb_formatted_code = \"# Calculate cumulative series\\ndf[\\\"underlying_price\\\"] = (df[\\\"underlying_return\\\"] + 1).cumprod()\\ndf.head(5)\";\n",
       "                var nbb_cells = Jupyter.notebook.get_cells();\n",
       "                for (var i = 0; i < nbb_cells.length; ++i) {\n",
       "                    if (nbb_cells[i].input_prompt_number == nbb_cell_id) {\n",
       "                        if (nbb_cells[i].get_text() == nbb_unformatted_code) {\n",
       "                             nbb_cells[i].set_text(nbb_formatted_code);\n",
       "                        }\n",
       "                        break;\n",
       "                    }\n",
       "                }\n",
       "            }, 500);\n",
       "            "
      ],
      "text/plain": [
       "<IPython.core.display.Javascript object>"
      ]
     },
     "metadata": {},
     "output_type": "display_data"
    }
   ],
   "source": [
    "# Calculate cumulative series\n",
    "df[\"underlying_price\"] = (df[\"underlying_return\"] + 1).cumprod()\n",
    "df.head(5)"
   ]
  },
  {
   "cell_type": "code",
   "execution_count": 8,
   "metadata": {},
   "outputs": [
    {
     "data": {
      "text/html": [
       "<div>\n",
       "<style scoped>\n",
       "    .dataframe tbody tr th:only-of-type {\n",
       "        vertical-align: middle;\n",
       "    }\n",
       "\n",
       "    .dataframe tbody tr th {\n",
       "        vertical-align: top;\n",
       "    }\n",
       "\n",
       "    .dataframe thead th {\n",
       "        text-align: right;\n",
       "    }\n",
       "</style>\n",
       "<table border=\"1\" class=\"dataframe\">\n",
       "  <thead>\n",
       "    <tr style=\"text-align: right;\">\n",
       "      <th></th>\n",
       "      <th>underlying_return</th>\n",
       "      <th>underlying_price</th>\n",
       "      <th>short_return</th>\n",
       "      <th>double_short_return</th>\n",
       "    </tr>\n",
       "  </thead>\n",
       "  <tbody>\n",
       "    <tr>\n",
       "      <th>0</th>\n",
       "      <td>0.00000</td>\n",
       "      <td>1.000000</td>\n",
       "      <td>-0.00000</td>\n",
       "      <td>-0.00000</td>\n",
       "    </tr>\n",
       "    <tr>\n",
       "      <th>1</th>\n",
       "      <td>0.03000</td>\n",
       "      <td>1.030000</td>\n",
       "      <td>-0.03000</td>\n",
       "      <td>-0.06000</td>\n",
       "    </tr>\n",
       "    <tr>\n",
       "      <th>2</th>\n",
       "      <td>-0.02913</td>\n",
       "      <td>0.999996</td>\n",
       "      <td>0.02913</td>\n",
       "      <td>0.05826</td>\n",
       "    </tr>\n",
       "    <tr>\n",
       "      <th>3</th>\n",
       "      <td>0.03000</td>\n",
       "      <td>1.029996</td>\n",
       "      <td>-0.03000</td>\n",
       "      <td>-0.06000</td>\n",
       "    </tr>\n",
       "    <tr>\n",
       "      <th>4</th>\n",
       "      <td>-0.02913</td>\n",
       "      <td>0.999992</td>\n",
       "      <td>0.02913</td>\n",
       "      <td>0.05826</td>\n",
       "    </tr>\n",
       "  </tbody>\n",
       "</table>\n",
       "</div>"
      ],
      "text/plain": [
       "   underlying_return  underlying_price  short_return  double_short_return\n",
       "0            0.00000          1.000000      -0.00000             -0.00000\n",
       "1            0.03000          1.030000      -0.03000             -0.06000\n",
       "2           -0.02913          0.999996       0.02913              0.05826\n",
       "3            0.03000          1.029996      -0.03000             -0.06000\n",
       "4           -0.02913          0.999992       0.02913              0.05826"
      ]
     },
     "execution_count": 8,
     "metadata": {},
     "output_type": "execute_result"
    },
    {
     "data": {
      "application/javascript": [
       "\n",
       "            setTimeout(function() {\n",
       "                var nbb_cell_id = 8;\n",
       "                var nbb_unformatted_code = \"# Inverse ETF\\ndf[\\\"short_return\\\"] = df[\\\"underlying_return\\\"] * -1\\ndf[\\\"double_short_return\\\"] = df[\\\"underlying_return\\\"] * -2\\ndf.head(5)\";\n",
       "                var nbb_formatted_code = \"# Inverse ETF\\ndf[\\\"short_return\\\"] = df[\\\"underlying_return\\\"] * -1\\ndf[\\\"double_short_return\\\"] = df[\\\"underlying_return\\\"] * -2\\ndf.head(5)\";\n",
       "                var nbb_cells = Jupyter.notebook.get_cells();\n",
       "                for (var i = 0; i < nbb_cells.length; ++i) {\n",
       "                    if (nbb_cells[i].input_prompt_number == nbb_cell_id) {\n",
       "                        if (nbb_cells[i].get_text() == nbb_unformatted_code) {\n",
       "                             nbb_cells[i].set_text(nbb_formatted_code);\n",
       "                        }\n",
       "                        break;\n",
       "                    }\n",
       "                }\n",
       "            }, 500);\n",
       "            "
      ],
      "text/plain": [
       "<IPython.core.display.Javascript object>"
      ]
     },
     "metadata": {},
     "output_type": "display_data"
    }
   ],
   "source": [
    "# Inverse ETF\n",
    "df[\"short_return\"] = df[\"underlying_return\"] * -1\n",
    "df[\"double_short_return\"] = df[\"underlying_return\"] * -2\n",
    "df.head(5)"
   ]
  },
  {
   "cell_type": "code",
   "execution_count": 9,
   "metadata": {},
   "outputs": [
    {
     "data": {
      "text/html": [
       "<div>\n",
       "<style scoped>\n",
       "    .dataframe tbody tr th:only-of-type {\n",
       "        vertical-align: middle;\n",
       "    }\n",
       "\n",
       "    .dataframe tbody tr th {\n",
       "        vertical-align: top;\n",
       "    }\n",
       "\n",
       "    .dataframe thead th {\n",
       "        text-align: right;\n",
       "    }\n",
       "</style>\n",
       "<table border=\"1\" class=\"dataframe\">\n",
       "  <thead>\n",
       "    <tr style=\"text-align: right;\">\n",
       "      <th></th>\n",
       "      <th>underlying_return</th>\n",
       "      <th>underlying_price</th>\n",
       "      <th>short_return</th>\n",
       "      <th>double_short_return</th>\n",
       "      <th>short_price</th>\n",
       "      <th>double_short_price</th>\n",
       "    </tr>\n",
       "  </thead>\n",
       "  <tbody>\n",
       "    <tr>\n",
       "      <th>0</th>\n",
       "      <td>0.00000</td>\n",
       "      <td>1.000000</td>\n",
       "      <td>-0.00000</td>\n",
       "      <td>-0.00000</td>\n",
       "      <td>1.000000</td>\n",
       "      <td>1.000000</td>\n",
       "    </tr>\n",
       "    <tr>\n",
       "      <th>1</th>\n",
       "      <td>0.03000</td>\n",
       "      <td>1.030000</td>\n",
       "      <td>-0.03000</td>\n",
       "      <td>-0.06000</td>\n",
       "      <td>0.970000</td>\n",
       "      <td>0.940000</td>\n",
       "    </tr>\n",
       "    <tr>\n",
       "      <th>2</th>\n",
       "      <td>-0.02913</td>\n",
       "      <td>0.999996</td>\n",
       "      <td>0.02913</td>\n",
       "      <td>0.05826</td>\n",
       "      <td>0.998256</td>\n",
       "      <td>0.994764</td>\n",
       "    </tr>\n",
       "    <tr>\n",
       "      <th>3</th>\n",
       "      <td>0.03000</td>\n",
       "      <td>1.029996</td>\n",
       "      <td>-0.03000</td>\n",
       "      <td>-0.06000</td>\n",
       "      <td>0.968308</td>\n",
       "      <td>0.935079</td>\n",
       "    </tr>\n",
       "    <tr>\n",
       "      <th>4</th>\n",
       "      <td>-0.02913</td>\n",
       "      <td>0.999992</td>\n",
       "      <td>0.02913</td>\n",
       "      <td>0.05826</td>\n",
       "      <td>0.996515</td>\n",
       "      <td>0.989556</td>\n",
       "    </tr>\n",
       "  </tbody>\n",
       "</table>\n",
       "</div>"
      ],
      "text/plain": [
       "   underlying_return  underlying_price  short_return  double_short_return  \\\n",
       "0            0.00000          1.000000      -0.00000             -0.00000   \n",
       "1            0.03000          1.030000      -0.03000             -0.06000   \n",
       "2           -0.02913          0.999996       0.02913              0.05826   \n",
       "3            0.03000          1.029996      -0.03000             -0.06000   \n",
       "4           -0.02913          0.999992       0.02913              0.05826   \n",
       "\n",
       "   short_price  double_short_price  \n",
       "0     1.000000            1.000000  \n",
       "1     0.970000            0.940000  \n",
       "2     0.998256            0.994764  \n",
       "3     0.968308            0.935079  \n",
       "4     0.996515            0.989556  "
      ]
     },
     "execution_count": 9,
     "metadata": {},
     "output_type": "execute_result"
    },
    {
     "data": {
      "application/javascript": [
       "\n",
       "            setTimeout(function() {\n",
       "                var nbb_cell_id = 9;\n",
       "                var nbb_unformatted_code = \"# Double Inverse\\ndf[\\\"short_price\\\"] = (df[\\\"short_return\\\"] + 1).cumprod()\\ndf[\\\"double_short_price\\\"] = (df[\\\"double_short_return\\\"] + 1).cumprod()\\ndf.head(5)\";\n",
       "                var nbb_formatted_code = \"# Double Inverse\\ndf[\\\"short_price\\\"] = (df[\\\"short_return\\\"] + 1).cumprod()\\ndf[\\\"double_short_price\\\"] = (df[\\\"double_short_return\\\"] + 1).cumprod()\\ndf.head(5)\";\n",
       "                var nbb_cells = Jupyter.notebook.get_cells();\n",
       "                for (var i = 0; i < nbb_cells.length; ++i) {\n",
       "                    if (nbb_cells[i].input_prompt_number == nbb_cell_id) {\n",
       "                        if (nbb_cells[i].get_text() == nbb_unformatted_code) {\n",
       "                             nbb_cells[i].set_text(nbb_formatted_code);\n",
       "                        }\n",
       "                        break;\n",
       "                    }\n",
       "                }\n",
       "            }, 500);\n",
       "            "
      ],
      "text/plain": [
       "<IPython.core.display.Javascript object>"
      ]
     },
     "metadata": {},
     "output_type": "display_data"
    }
   ],
   "source": [
    "# Double Inverse\n",
    "df[\"short_price\"] = (df[\"short_return\"] + 1).cumprod()\n",
    "df[\"double_short_price\"] = (df[\"double_short_return\"] + 1).cumprod()\n",
    "df.head(5)"
   ]
  },
  {
   "cell_type": "code",
   "execution_count": 10,
   "metadata": {},
   "outputs": [
    {
     "data": {
      "text/plain": [
       "<matplotlib.legend.Legend at 0x7f124cc45048>"
      ]
     },
     "execution_count": 10,
     "metadata": {},
     "output_type": "execute_result"
    },
    {
     "data": {
      "image/png": "[encoded data removed]",
      "text/plain": [
       "<Figure size 864x576 with 1 Axes>"
      ]
     },
     "metadata": {
      "needs_background": "light"
     },
     "output_type": "display_data"
    },
    {
     "data": {
      "application/javascript": [
       "\n",
       "            setTimeout(function() {\n",
       "                var nbb_cell_id = 10;\n",
       "                var nbb_unformatted_code = \"# Make  new figure and set the size.\\nfig = plt.figure(figsize=(12, 8))\\n\\n# The first subplot, planning for 3 plots high, 1 plot wide, this being the first.\\nax = fig.add_subplot(111)\\nax.set_title(\\\"Short ETF Effect\\\")\\nax.plot(\\n    df[\\\"underlying_price\\\"], linestyle=\\\"-\\\", label=\\\"Spot\\\", linewidth=3.0, color=\\\"black\\\"\\n)\\nax.plot(\\n    df[\\\"short_price\\\"], linestyle=\\\"-\\\", label=\\\"Inverse ETF\\\", linewidth=3.0, color=\\\"grey\\\"\\n)\\nax.plot(\\n    df[\\\"double_short_price\\\"],\\n    linestyle=\\\"--\\\",\\n    label=\\\"Double Inverse ETF\\\",\\n    linewidth=3.0,\\n    color=\\\"grey\\\",\\n)\\nax.legend()\";\n",
       "                var nbb_formatted_code = \"# Make  new figure and set the size.\\nfig = plt.figure(figsize=(12, 8))\\n\\n# The first subplot, planning for 3 plots high, 1 plot wide, this being the first.\\nax = fig.add_subplot(111)\\nax.set_title(\\\"Short ETF Effect\\\")\\nax.plot(\\n    df[\\\"underlying_price\\\"], linestyle=\\\"-\\\", label=\\\"Spot\\\", linewidth=3.0, color=\\\"black\\\"\\n)\\nax.plot(\\n    df[\\\"short_price\\\"], linestyle=\\\"-\\\", label=\\\"Inverse ETF\\\", linewidth=3.0, color=\\\"grey\\\"\\n)\\nax.plot(\\n    df[\\\"double_short_price\\\"],\\n    linestyle=\\\"--\\\",\\n    label=\\\"Double Inverse ETF\\\",\\n    linewidth=3.0,\\n    color=\\\"grey\\\",\\n)\\nax.legend()\";\n",
       "                var nbb_cells = Jupyter.notebook.get_cells();\n",
       "                for (var i = 0; i < nbb_cells.length; ++i) {\n",
       "                    if (nbb_cells[i].input_prompt_number == nbb_cell_id) {\n",
       "                        if (nbb_cells[i].get_text() == nbb_unformatted_code) {\n",
       "                             nbb_cells[i].set_text(nbb_formatted_code);\n",
       "                        }\n",
       "                        break;\n",
       "                    }\n",
       "                }\n",
       "            }, 500);\n",
       "            "
      ],
      "text/plain": [
       "<IPython.core.display.Javascript object>"
      ]
     },
     "metadata": {},
     "output_type": "display_data"
    }
   ],
   "source": [
    "# Make  new figure and set the size.\n",
    "fig = plt.figure(figsize=(12, 8))\n",
    "\n",
    "# The first subplot, planning for 3 plots high, 1 plot wide, this being the first.\n",
    "ax = fig.add_subplot(111)\n",
    "ax.set_title(\"Short ETF Effect\")\n",
    "ax.plot(\n",
    "    df[\"underlying_price\"], linestyle=\"-\", label=\"Spot\", linewidth=3.0, color=\"black\"\n",
    ")\n",
    "ax.plot(\n",
    "    df[\"short_price\"], linestyle=\"-\", label=\"Inverse ETF\", linewidth=3.0, color=\"grey\"\n",
    ")\n",
    "ax.plot(\n",
    "    df[\"double_short_price\"],\n",
    "    linestyle=\"--\",\n",
    "    label=\"Double Inverse ETF\",\n",
    "    linewidth=3.0,\n",
    "    color=\"grey\",\n",
    ")\n",
    "ax.legend()"
   ]
  }
 ],
 "metadata": {
  "kernelspec": {
   "display_name": "Python 3",
   "language": "python",
   "name": "python3"
  },
  "language_info": {
   "codemirror_mode": {
    "name": "ipython",
    "version": 3
   },
   "file_extension": ".py",
   "mimetype": "text/x-python",
   "name": "python",
   "nbconvert_exporter": "python",
   "pygments_lexer": "ipython3",
   "version": "3.6.12"
  }
 },
 "nbformat": 4,
 "nbformat_minor": 4
}
