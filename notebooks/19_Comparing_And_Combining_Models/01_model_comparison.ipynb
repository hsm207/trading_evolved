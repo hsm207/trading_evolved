{
 "cells": [
  {
   "cell_type": "code",
   "execution_count": 1,
   "metadata": {},
   "outputs": [
    {
     "data": {
      "application/javascript": [
       "\n",
       "            setTimeout(function() {\n",
       "                var nbb_cell_id = 1;\n",
       "                var nbb_unformatted_code = \"%load_ext nb_black\";\n",
       "                var nbb_formatted_code = \"%load_ext nb_black\";\n",
       "                var nbb_cells = Jupyter.notebook.get_cells();\n",
       "                for (var i = 0; i < nbb_cells.length; ++i) {\n",
       "                    if (nbb_cells[i].input_prompt_number == nbb_cell_id) {\n",
       "                        if (nbb_cells[i].get_text() == nbb_unformatted_code) {\n",
       "                             nbb_cells[i].set_text(nbb_formatted_code);\n",
       "                        }\n",
       "                        break;\n",
       "                    }\n",
       "                }\n",
       "            }, 500);\n",
       "            "
      ],
      "text/plain": [
       "<IPython.core.display.Javascript object>"
      ]
     },
     "metadata": {},
     "output_type": "display_data"
    }
   ],
   "source": [
    "%load_ext nb_black"
   ]
  },
  {
   "cell_type": "code",
   "execution_count": 2,
   "metadata": {},
   "outputs": [
    {
     "data": {
      "application/javascript": [
       "\n",
       "            setTimeout(function() {\n",
       "                var nbb_cell_id = 2;\n",
       "                var nbb_unformatted_code = \"import pandas as pd\\nimport matplotlib\\nimport matplotlib.pyplot as plt\\nimport empyrical as em\\nfrom IPython.core.display import display, HTML\\nimport requests\\nimport zipfile\";\n",
       "                var nbb_formatted_code = \"import pandas as pd\\nimport matplotlib\\nimport matplotlib.pyplot as plt\\nimport empyrical as em\\nfrom IPython.core.display import display, HTML\\nimport requests\\nimport zipfile\";\n",
       "                var nbb_cells = Jupyter.notebook.get_cells();\n",
       "                for (var i = 0; i < nbb_cells.length; ++i) {\n",
       "                    if (nbb_cells[i].input_prompt_number == nbb_cell_id) {\n",
       "                        if (nbb_cells[i].get_text() == nbb_unformatted_code) {\n",
       "                             nbb_cells[i].set_text(nbb_formatted_code);\n",
       "                        }\n",
       "                        break;\n",
       "                    }\n",
       "                }\n",
       "            }, 500);\n",
       "            "
      ],
      "text/plain": [
       "<IPython.core.display.Javascript object>"
      ]
     },
     "metadata": {},
     "output_type": "display_data"
    }
   ],
   "source": [
    "import pandas as pd\n",
    "import matplotlib\n",
    "import matplotlib.pyplot as plt\n",
    "import empyrical as em\n",
    "from IPython.core.display import display, HTML\n",
    "import requests\n",
    "import zipfile"
   ]
  },
  {
   "cell_type": "markdown",
   "metadata": {},
   "source": [
    "Import the backtest results from Andreas Clenow's [website](https://www.followingthetrend.com/trading-evolved/)::"
   ]
  },
  {
   "cell_type": "code",
   "execution_count": 3,
   "metadata": {},
   "outputs": [
    {
     "name": "stdout",
     "output_type": "stream",
     "text": [
      "total 1.2M\n",
      "drwxr-xr-x  2 root root 4.0K Jul 15  2019 .\n",
      "drwxr-xr-x 20 root root 4.0K Nov 14 19:33 ..\n",
      "-rw-r--r--  1 root root 165K Mar 27  2019 SPXTR.csv\n",
      "-rw-r--r--  1 root root 202K Mar 27  2019 core_trend.csv\n",
      "-rw-r--r--  1 root root 201K Mar 27  2019 counter_trend.csv\n",
      "-rw-r--r--  1 root root 201K Mar 28  2019 curve_trading.csv\n",
      "-rw-r--r--  1 root root 165K Mar 27  2019 equity_momentum.csv\n",
      "-rw-r--r--  1 root root 201K Mar 27  2019 time_return.csv\n"
     ]
    },
    {
     "data": {
      "application/javascript": [
       "\n",
       "            setTimeout(function() {\n",
       "                var nbb_cell_id = 3;\n",
       "                var nbb_unformatted_code = \"%%bash\\ncd /tmp\\nrm -rf trading_evolved\\nrm -f trading_evolved.zip\\n\\nwget -q -O trading_evolved.zip https://uca2474174eba1e22341445f080c.dl.dropboxusercontent.com/cd/0/get/BDOUJlewMA7qNr7WwzfiuF43VsIqF0U-FiU578Hw_xM8pESPpuL1uqKHF9IZDiEnVKhlS1SYRNZLSCo1k5RHvuBEwSzmBuvkBD8Jv8CzxNGbWINPw3yNKmi_UF4HHXAcsvY/file\\nunzip -q -d trading_evolved trading_evolved.zip\\nls -lah trading_evolved/Backtests\";\n",
       "                var nbb_formatted_code = \"%%bash\\ncd /tmp\\nrm -rf trading_evolved\\nrm -f trading_evolved.zip\\n\\nwget -q -O trading_evolved.zip https://uca2474174eba1e22341445f080c.dl.dropboxusercontent.com/cd/0/get/BDOUJlewMA7qNr7WwzfiuF43VsIqF0U-FiU578Hw_xM8pESPpuL1uqKHF9IZDiEnVKhlS1SYRNZLSCo1k5RHvuBEwSzmBuvkBD8Jv8CzxNGbWINPw3yNKmi_UF4HHXAcsvY/file\\nunzip -q -d trading_evolved trading_evolved.zip\\nls -lah trading_evolved/Backtests\";\n",
       "                var nbb_cells = Jupyter.notebook.get_cells();\n",
       "                for (var i = 0; i < nbb_cells.length; ++i) {\n",
       "                    if (nbb_cells[i].input_prompt_number == nbb_cell_id) {\n",
       "                        if (nbb_cells[i].get_text() == nbb_unformatted_code) {\n",
       "                             nbb_cells[i].set_text(nbb_formatted_code);\n",
       "                        }\n",
       "                        break;\n",
       "                    }\n",
       "                }\n",
       "            }, 500);\n",
       "            "
      ],
      "text/plain": [
       "<IPython.core.display.Javascript object>"
      ]
     },
     "metadata": {},
     "output_type": "display_data"
    }
   ],
   "source": [
    "%%bash\n",
    "cd /tmp\n",
    "rm -rf trading_evolved\n",
    "rm -f trading_evolved.zip\n",
    "\n",
    "wget -q -O trading_evolved.zip https://uca2474174eba1e22341445f080c.dl.dropboxusercontent.com/cd/0/get/BDOUJlewMA7qNr7WwzfiuF43VsIqF0U-FiU578Hw_xM8pESPpuL1uqKHF9IZDiEnVKhlS1SYRNZLSCo1k5RHvuBEwSzmBuvkBD8Jv8CzxNGbWINPw3yNKmi_UF4HHXAcsvY/file\n",
    "unzip -q -d trading_evolved trading_evolved.zip\n",
    "ls -lah trading_evolved/Backtests"
   ]
  },
  {
   "cell_type": "code",
   "execution_count": 4,
   "metadata": {},
   "outputs": [
    {
     "data": {
      "application/javascript": [
       "\n",
       "            setTimeout(function() {\n",
       "                var nbb_cell_id = 4;\n",
       "                var nbb_unformatted_code = \"DATA_FOLDER = \\\"/tmp/trading_evolved\\\"\\nbase_path = f\\\"{DATA_FOLDER}/Backtests/\\\"\";\n",
       "                var nbb_formatted_code = \"DATA_FOLDER = \\\"/tmp/trading_evolved\\\"\\nbase_path = f\\\"{DATA_FOLDER}/Backtests/\\\"\";\n",
       "                var nbb_cells = Jupyter.notebook.get_cells();\n",
       "                for (var i = 0; i < nbb_cells.length; ++i) {\n",
       "                    if (nbb_cells[i].input_prompt_number == nbb_cell_id) {\n",
       "                        if (nbb_cells[i].get_text() == nbb_unformatted_code) {\n",
       "                             nbb_cells[i].set_text(nbb_formatted_code);\n",
       "                        }\n",
       "                        break;\n",
       "                    }\n",
       "                }\n",
       "            }, 500);\n",
       "            "
      ],
      "text/plain": [
       "<IPython.core.display.Javascript object>"
      ]
     },
     "metadata": {},
     "output_type": "display_data"
    }
   ],
   "source": [
    "DATA_FOLDER = \"/tmp/trading_evolved\"\n",
    "base_path = f\"{DATA_FOLDER}/Backtests/\""
   ]
  },
  {
   "cell_type": "markdown",
   "metadata": {},
   "source": [
    "Pick a benchmark and a strategy:"
   ]
  },
  {
   "cell_type": "code",
   "execution_count": 5,
   "metadata": {},
   "outputs": [
    {
     "data": {
      "application/javascript": [
       "\n",
       "            setTimeout(function() {\n",
       "                var nbb_cell_id = 5;\n",
       "                var nbb_unformatted_code = \"bm = \\\"SPXTR\\\"\\nbm_name = \\\"S&P 500 Total Return Index\\\"\\n\\nstrat_names = {\\n    \\\"core_trend\\\": \\\"Core Trend Strategy\\\",\\n    \\\"time_return\\\": \\\"Time Return Strategy\\\",\\n    \\\"counter_trend\\\": \\\"Counter Trend Strategy\\\",\\n    \\\"curve_trading\\\": \\\"Curve Trading Strategy\\\",\\n    \\\"equity_momentum\\\": \\\"Equity Momentum Strategy\\\",\\n}\\n\\nstrat = \\\"curve_trading\\\"\\nstrat_name = strat_names[strat]\";\n",
       "                var nbb_formatted_code = \"bm = \\\"SPXTR\\\"\\nbm_name = \\\"S&P 500 Total Return Index\\\"\\n\\nstrat_names = {\\n    \\\"core_trend\\\": \\\"Core Trend Strategy\\\",\\n    \\\"time_return\\\": \\\"Time Return Strategy\\\",\\n    \\\"counter_trend\\\": \\\"Counter Trend Strategy\\\",\\n    \\\"curve_trading\\\": \\\"Curve Trading Strategy\\\",\\n    \\\"equity_momentum\\\": \\\"Equity Momentum Strategy\\\",\\n}\\n\\nstrat = \\\"curve_trading\\\"\\nstrat_name = strat_names[strat]\";\n",
       "                var nbb_cells = Jupyter.notebook.get_cells();\n",
       "                for (var i = 0; i < nbb_cells.length; ++i) {\n",
       "                    if (nbb_cells[i].input_prompt_number == nbb_cell_id) {\n",
       "                        if (nbb_cells[i].get_text() == nbb_unformatted_code) {\n",
       "                             nbb_cells[i].set_text(nbb_formatted_code);\n",
       "                        }\n",
       "                        break;\n",
       "                    }\n",
       "                }\n",
       "            }, 500);\n",
       "            "
      ],
      "text/plain": [
       "<IPython.core.display.Javascript object>"
      ]
     },
     "metadata": {},
     "output_type": "display_data"
    }
   ],
   "source": [
    "bm = \"SPXTR\"\n",
    "bm_name = \"S&P 500 Total Return Index\"\n",
    "\n",
    "strat_names = {\n",
    "    \"core_trend\": \"Core Trend Strategy\",\n",
    "    \"time_return\": \"Time Return Strategy\",\n",
    "    \"counter_trend\": \"Counter Trend Strategy\",\n",
    "    \"curve_trading\": \"Curve Trading Strategy\",\n",
    "    \"equity_momentum\": \"Equity Momentum Strategy\",\n",
    "}\n",
    "\n",
    "strat = \"curve_trading\"\n",
    "strat_name = strat_names[strat]"
   ]
  },
  {
   "cell_type": "code",
   "execution_count": 6,
   "metadata": {},
   "outputs": [
    {
     "data": {
      "text/html": [
       "<div>\n",
       "<style scoped>\n",
       "    .dataframe tbody tr th:only-of-type {\n",
       "        vertical-align: middle;\n",
       "    }\n",
       "\n",
       "    .dataframe tbody tr th {\n",
       "        vertical-align: top;\n",
       "    }\n",
       "\n",
       "    .dataframe thead th {\n",
       "        text-align: right;\n",
       "    }\n",
       "</style>\n",
       "<table border=\"1\" class=\"dataframe\">\n",
       "  <thead>\n",
       "    <tr style=\"text-align: right;\">\n",
       "      <th></th>\n",
       "      <th>curve_trading</th>\n",
       "      <th>S&amp;P 500 Total Return Index</th>\n",
       "    </tr>\n",
       "  </thead>\n",
       "  <tbody>\n",
       "    <tr>\n",
       "      <th>2001-01-02</th>\n",
       "      <td>1.000000e+06</td>\n",
       "      <td>1785.8598</td>\n",
       "    </tr>\n",
       "    <tr>\n",
       "      <th>2001-01-03</th>\n",
       "      <td>1.003475e+06</td>\n",
       "      <td>1875.5640</td>\n",
       "    </tr>\n",
       "    <tr>\n",
       "      <th>2001-01-04</th>\n",
       "      <td>1.014192e+06</td>\n",
       "      <td>1855.8183</td>\n",
       "    </tr>\n",
       "    <tr>\n",
       "      <th>2001-01-05</th>\n",
       "      <td>1.017504e+06</td>\n",
       "      <td>1807.1283</td>\n",
       "    </tr>\n",
       "    <tr>\n",
       "      <th>2001-01-08</th>\n",
       "      <td>1.015294e+06</td>\n",
       "      <td>1804.0384</td>\n",
       "    </tr>\n",
       "  </tbody>\n",
       "</table>\n",
       "</div>"
      ],
      "text/plain": [
       "            curve_trading  S&P 500 Total Return Index\n",
       "2001-01-02   1.000000e+06                   1785.8598\n",
       "2001-01-03   1.003475e+06                   1875.5640\n",
       "2001-01-04   1.014192e+06                   1855.8183\n",
       "2001-01-05   1.017504e+06                   1807.1283\n",
       "2001-01-08   1.015294e+06                   1804.0384"
      ]
     },
     "execution_count": 6,
     "metadata": {},
     "output_type": "execute_result"
    },
    {
     "data": {
      "application/javascript": [
       "\n",
       "            setTimeout(function() {\n",
       "                var nbb_cell_id = 6;\n",
       "                var nbb_unformatted_code = \"df = pd.read_csv(\\n    base_path + strat + \\\".csv\\\", index_col=0, parse_dates=True, names=[strat]\\n)\\ndf[bm_name] = pd.read_csv(base_path + bm + \\\".csv\\\", index_col=0, parse_dates=[0])\\ndf = df.loc[:\\\"2018-12-31\\\"].dropna()\\n\\ndf.head(5)\";\n",
       "                var nbb_formatted_code = \"df = pd.read_csv(\\n    base_path + strat + \\\".csv\\\", index_col=0, parse_dates=True, names=[strat]\\n)\\ndf[bm_name] = pd.read_csv(base_path + bm + \\\".csv\\\", index_col=0, parse_dates=[0])\\ndf = df.loc[:\\\"2018-12-31\\\"].dropna()\\n\\ndf.head(5)\";\n",
       "                var nbb_cells = Jupyter.notebook.get_cells();\n",
       "                for (var i = 0; i < nbb_cells.length; ++i) {\n",
       "                    if (nbb_cells[i].input_prompt_number == nbb_cell_id) {\n",
       "                        if (nbb_cells[i].get_text() == nbb_unformatted_code) {\n",
       "                             nbb_cells[i].set_text(nbb_formatted_code);\n",
       "                        }\n",
       "                        break;\n",
       "                    }\n",
       "                }\n",
       "            }, 500);\n",
       "            "
      ],
      "text/plain": [
       "<IPython.core.display.Javascript object>"
      ]
     },
     "metadata": {},
     "output_type": "display_data"
    }
   ],
   "source": [
    "df = pd.read_csv(\n",
    "    base_path + strat + \".csv\", index_col=0, parse_dates=True, names=[strat]\n",
    ")\n",
    "df[bm_name] = pd.read_csv(base_path + bm + \".csv\", index_col=0, parse_dates=[0])\n",
    "df = df.loc[:\"2018-12-31\"].dropna()\n",
    "\n",
    "df.head(5)"
   ]
  },
  {
   "cell_type": "markdown",
   "metadata": {},
   "source": [
    "Compare strategy to benchmark:"
   ]
  },
  {
   "cell_type": "code",
   "execution_count": 7,
   "metadata": {},
   "outputs": [
    {
     "name": "stderr",
     "output_type": "stream",
     "text": [
      "/usr/local/lib/python3.6/site-packages/pandas/plotting/_compat.py:57: MatplotlibDeprecationWarning: \n",
      "The compare_versions function was deprecated in Matplotlib 3.2 and will be removed two minor releases later.\n",
      "  return matplotlib.compare_versions('2.0.0', matplotlib.__version__)\n",
      "findfont: Font family ['eurostile'] not found. Falling back to DejaVu Sans.\n",
      "findfont: Font family ['eurostile'] not found. Falling back to DejaVu Sans.\n"
     ]
    },
    {
     "data": {
      "image/png": "[encoded data removed]",
      "text/plain": [
       "<Figure size 1080x864 with 3 Axes>"
      ]
     },
     "metadata": {
      "needs_background": "light"
     },
     "output_type": "display_data"
    },
    {
     "data": {
      "application/javascript": [
       "\n",
       "            setTimeout(function() {\n",
       "                var nbb_cell_id = 7;\n",
       "                var nbb_unformatted_code = \"yr_periods = 252\\n\\n# Format for book display\\nfont = {\\\"family\\\": \\\"eurostile\\\", \\\"weight\\\": \\\"normal\\\", \\\"size\\\": 16}\\nmatplotlib.rc(\\\"font\\\", **font)\\n\\n\\ndef equity_graph(df):\\n    df = df / df.iloc[0]\\n    df[\\\"Correlation\\\"] = (\\n        df[strat]\\n        .pct_change()\\n        .rolling(window=int(yr_periods / 1))\\n        .corr(df[bm_name].pct_change())\\n    )\\n\\n    df[\\\"Drawdown\\\"] = (df[strat] / df[strat].cummax()) - 1\\n\\n    df.fillna(0, inplace=True)  # make sure no NA values are in there\\n    fig = plt.figure(figsize=(15, 12))\\n\\n    # First chart\\n    ax = fig.add_subplot(311)\\n    ax.set_title(\\\"Strategy Comparisons\\\")\\n    ax.semilogy(df[strat], \\\"-\\\", label=strat_name, color=\\\"black\\\")\\n    ax.semilogy(df[bm_name], \\\"--\\\", color=\\\"grey\\\")\\n    ax.legend()\\n\\n    # Second chart\\n    ax = fig.add_subplot(312)\\n    ax.fill_between(df.index, df[\\\"Drawdown\\\"], label=\\\"Drawdown\\\", color=\\\"black\\\")\\n    ax.legend()\\n\\n    # Third chart\\n    ax = fig.add_subplot(313)\\n    ax.fill_between(\\n        df.index, df[\\\"Correlation\\\"], label=\\\"12M Rolling Correlation\\\", color=\\\"grey\\\"\\n    )\\n    ax.legend()\\n\\n\\nequity_graph(df)\";\n",
       "                var nbb_formatted_code = \"yr_periods = 252\\n\\n# Format for book display\\nfont = {\\\"family\\\": \\\"eurostile\\\", \\\"weight\\\": \\\"normal\\\", \\\"size\\\": 16}\\nmatplotlib.rc(\\\"font\\\", **font)\\n\\n\\ndef equity_graph(df):\\n    df = df / df.iloc[0]\\n    df[\\\"Correlation\\\"] = (\\n        df[strat]\\n        .pct_change()\\n        .rolling(window=int(yr_periods / 1))\\n        .corr(df[bm_name].pct_change())\\n    )\\n\\n    df[\\\"Drawdown\\\"] = (df[strat] / df[strat].cummax()) - 1\\n\\n    df.fillna(0, inplace=True)  # make sure no NA values are in there\\n    fig = plt.figure(figsize=(15, 12))\\n\\n    # First chart\\n    ax = fig.add_subplot(311)\\n    ax.set_title(\\\"Strategy Comparisons\\\")\\n    ax.semilogy(df[strat], \\\"-\\\", label=strat_name, color=\\\"black\\\")\\n    ax.semilogy(df[bm_name], \\\"--\\\", color=\\\"grey\\\")\\n    ax.legend()\\n\\n    # Second chart\\n    ax = fig.add_subplot(312)\\n    ax.fill_between(df.index, df[\\\"Drawdown\\\"], label=\\\"Drawdown\\\", color=\\\"black\\\")\\n    ax.legend()\\n\\n    # Third chart\\n    ax = fig.add_subplot(313)\\n    ax.fill_between(\\n        df.index, df[\\\"Correlation\\\"], label=\\\"12M Rolling Correlation\\\", color=\\\"grey\\\"\\n    )\\n    ax.legend()\\n\\n\\nequity_graph(df)\";\n",
       "                var nbb_cells = Jupyter.notebook.get_cells();\n",
       "                for (var i = 0; i < nbb_cells.length; ++i) {\n",
       "                    if (nbb_cells[i].input_prompt_number == nbb_cell_id) {\n",
       "                        if (nbb_cells[i].get_text() == nbb_unformatted_code) {\n",
       "                             nbb_cells[i].set_text(nbb_formatted_code);\n",
       "                        }\n",
       "                        break;\n",
       "                    }\n",
       "                }\n",
       "            }, 500);\n",
       "            "
      ],
      "text/plain": [
       "<IPython.core.display.Javascript object>"
      ]
     },
     "metadata": {},
     "output_type": "display_data"
    }
   ],
   "source": [
    "yr_periods = 252\n",
    "\n",
    "# Format for book display\n",
    "font = {\"family\": \"eurostile\", \"weight\": \"normal\", \"size\": 16}\n",
    "matplotlib.rc(\"font\", **font)\n",
    "\n",
    "\n",
    "def equity_graph(df):\n",
    "    df = df / df.iloc[0]\n",
    "    df[\"Correlation\"] = (\n",
    "        df[strat]\n",
    "        .pct_change()\n",
    "        .rolling(window=int(yr_periods / 1))\n",
    "        .corr(df[bm_name].pct_change())\n",
    "    )\n",
    "\n",
    "    df[\"Drawdown\"] = (df[strat] / df[strat].cummax()) - 1\n",
    "\n",
    "    df.fillna(0, inplace=True)  # make sure no NA values are in there\n",
    "    fig = plt.figure(figsize=(15, 12))\n",
    "\n",
    "    # First chart\n",
    "    ax = fig.add_subplot(311)\n",
    "    ax.set_title(\"Strategy Comparisons\")\n",
    "    ax.semilogy(df[strat], \"-\", label=strat_name, color=\"black\")\n",
    "    ax.semilogy(df[bm_name], \"--\", color=\"grey\")\n",
    "    ax.legend()\n",
    "\n",
    "    # Second chart\n",
    "    ax = fig.add_subplot(312)\n",
    "    ax.fill_between(df.index, df[\"Drawdown\"], label=\"Drawdown\", color=\"black\")\n",
    "    ax.legend()\n",
    "\n",
    "    # Third chart\n",
    "    ax = fig.add_subplot(313)\n",
    "    ax.fill_between(\n",
    "        df.index, df[\"Correlation\"], label=\"12M Rolling Correlation\", color=\"grey\"\n",
    "    )\n",
    "    ax.legend()\n",
    "\n",
    "\n",
    "equity_graph(df)"
   ]
  },
  {
   "cell_type": "markdown",
   "metadata": {},
   "source": [
    "Monthly return table:"
   ]
  },
  {
   "cell_type": "code",
   "execution_count": 8,
   "metadata": {},
   "outputs": [
    {
     "data": {
      "text/html": [
       "\n",
       "<table class='table table-hover table-condensed table-striped'>\n",
       "<thead>\n",
       "<tr>\n",
       "<th style=\"text-align:right\">Year</th>\n",
       "<th style=\"text-align:right\">Jan</th>\n",
       "<th style=\"text-align:right\">Feb</th>\n",
       "<th style=\"text-align:right\">Mar</th>\n",
       "<th style=\"text-align:right\">Apr</th>\n",
       "<th style=\"text-align:right\">May</th>\n",
       "<th style=\"text-align:right\">Jun</th>\n",
       "<th style=\"text-align:right\">Jul</th>\n",
       "<th style=\"text-align:right\">Aug</th>\n",
       "<th style=\"text-align:right\">Sep</th>\n",
       "<th style=\"text-align:right\">Oct</th>\n",
       "<th style=\"text-align:right\">Nov</th>\n",
       "<th style=\"text-align:right\">Dec</th>\n",
       "<th style=\"text-align:right\">Year</th>\n",
       "</tr>\n",
       "</thead>\n",
       "<tbody>\n",
       "<tr><td align='right'><b>2001</b></td>\n",
       "<td align='right'>+4.2</td>\n",
       "<td align='right'>+1.4</td>\n",
       "<td align='right'>+5.8</td>\n",
       "<td align='right'>+2.5</td>\n",
       "<td align='right'>+2.7</td>\n",
       "<td align='right'>+2.5</td>\n",
       "<td align='right'>-3.0</td>\n",
       "<td align='right'>+7.7</td>\n",
       "<td align='right'>-3.1</td>\n",
       "<td align='right'>-7.0</td>\n",
       "<td align='right'>-2.3</td>\n",
       "<td align='right'>-0.1</td>\n",
       "<td align='right'><b>+10.7</b></td>\n",
       "</tr>\n",
       " <tr> \n",
       "<td align='right'><b>2002</b></td>\n",
       "<td align='right'>+0.6</td>\n",
       "<td align='right'>+3.0</td>\n",
       "<td align='right'>-6.0</td>\n",
       "<td align='right'>+6.1</td>\n",
       "<td align='right'>-2.1</td>\n",
       "<td align='right'>-1.0</td>\n",
       "<td align='right'>+4.1</td>\n",
       "<td align='right'>+0.8</td>\n",
       "<td align='right'>+0.9</td>\n",
       "<td align='right'>-3.7</td>\n",
       "<td align='right'>-2.6</td>\n",
       "<td align='right'>+2.2</td>\n",
       "<td align='right'><b>+1.7</b></td>\n",
       "</tr>\n",
       " <tr> \n",
       "<td align='right'><b>2003</b></td>\n",
       "<td align='right'>+5.1</td>\n",
       "<td align='right'>+11.4</td>\n",
       "<td align='right'>-5.5</td>\n",
       "<td align='right'>-1.5</td>\n",
       "<td align='right'>+5.6</td>\n",
       "<td align='right'>+0.3</td>\n",
       "<td align='right'>-0.8</td>\n",
       "<td align='right'>-3.8</td>\n",
       "<td align='right'>+0.3</td>\n",
       "<td align='right'>-0.3</td>\n",
       "<td align='right'>-2.0</td>\n",
       "<td align='right'>+0.1</td>\n",
       "<td align='right'><b>+8.1</b></td>\n",
       "</tr>\n",
       " <tr> \n",
       "<td align='right'><b>2004</b></td>\n",
       "<td align='right'>-4.2</td>\n",
       "<td align='right'>+4.2</td>\n",
       "<td align='right'>-0.3</td>\n",
       "<td align='right'>+5.3</td>\n",
       "<td align='right'>-0.5</td>\n",
       "<td align='right'>+3.1</td>\n",
       "<td align='right'>+15.3</td>\n",
       "<td align='right'>-2.1</td>\n",
       "<td align='right'>+12.9</td>\n",
       "<td align='right'>+11.7</td>\n",
       "<td align='right'>-2.0</td>\n",
       "<td align='right'>-5.7</td>\n",
       "<td align='right'><b>+41.2</b></td>\n",
       "</tr>\n",
       " <tr> \n",
       "<td align='right'><b>2005</b></td>\n",
       "<td align='right'>+5.7</td>\n",
       "<td align='right'>-0.6</td>\n",
       "<td align='right'>+10.6</td>\n",
       "<td align='right'>-0.2</td>\n",
       "<td align='right'>+3.5</td>\n",
       "<td align='right'>+4.5</td>\n",
       "<td align='right'>+0.5</td>\n",
       "<td align='right'>+6.0</td>\n",
       "<td align='right'>+4.3</td>\n",
       "<td align='right'>-0.2</td>\n",
       "<td align='right'>+7.3</td>\n",
       "<td align='right'>+1.2</td>\n",
       "<td align='right'><b>+51.1</b></td>\n",
       "</tr>\n",
       " <tr> \n",
       "<td align='right'><b>2006</b></td>\n",
       "<td align='right'>-1.6</td>\n",
       "<td align='right'>+0.4</td>\n",
       "<td align='right'>+3.1</td>\n",
       "<td align='right'>+3.1</td>\n",
       "<td align='right'>-1.2</td>\n",
       "<td align='right'>+7.5</td>\n",
       "<td align='right'>-1.5</td>\n",
       "<td align='right'>-4.7</td>\n",
       "<td align='right'>-0.7</td>\n",
       "<td align='right'>-1.9</td>\n",
       "<td align='right'>+1.2</td>\n",
       "<td align='right'>+1.0</td>\n",
       "<td align='right'><b>+4.2</b></td>\n",
       "</tr>\n",
       " <tr> \n",
       "<td align='right'><b>2007</b></td>\n",
       "<td align='right'>+1.2</td>\n",
       "<td align='right'>+2.5</td>\n",
       "<td align='right'>+1.1</td>\n",
       "<td align='right'>+4.8</td>\n",
       "<td align='right'>-2.6</td>\n",
       "<td align='right'>+0.4</td>\n",
       "<td align='right'>-1.6</td>\n",
       "<td align='right'>+5.3</td>\n",
       "<td align='right'>+1.9</td>\n",
       "<td align='right'>+5.1</td>\n",
       "<td align='right'>+2.2</td>\n",
       "<td align='right'>+2.0</td>\n",
       "<td align='right'><b>+24.2</b></td>\n",
       "</tr>\n",
       " <tr> \n",
       "<td align='right'><b>2008</b></td>\n",
       "<td align='right'>-1.0</td>\n",
       "<td align='right'>+3.8</td>\n",
       "<td align='right'>+5.2</td>\n",
       "<td align='right'>+2.7</td>\n",
       "<td align='right'>+15.2</td>\n",
       "<td align='right'>-1.1</td>\n",
       "<td align='right'>-11.4</td>\n",
       "<td align='right'>-4.5</td>\n",
       "<td align='right'>+5.9</td>\n",
       "<td align='right'>-6.8</td>\n",
       "<td align='right'>+8.9</td>\n",
       "<td align='right'>+9.7</td>\n",
       "<td align='right'><b>+26.3</b></td>\n",
       "</tr>\n",
       " <tr> \n",
       "<td align='right'><b>2009</b></td>\n",
       "<td align='right'>+5.9</td>\n",
       "<td align='right'>+6.0</td>\n",
       "<td align='right'>-5.4</td>\n",
       "<td align='right'>+0.1</td>\n",
       "<td align='right'>-6.7</td>\n",
       "<td align='right'>+1.2</td>\n",
       "<td align='right'>+1.6</td>\n",
       "<td align='right'>+10.5</td>\n",
       "<td align='right'>-1.3</td>\n",
       "<td align='right'>-4.8</td>\n",
       "<td align='right'>+0.8</td>\n",
       "<td align='right'>+0.8</td>\n",
       "<td align='right'><b>+7.3</b></td>\n",
       "</tr>\n",
       " <tr> \n",
       "<td align='right'><b>2010</b></td>\n",
       "<td align='right'>+6.4</td>\n",
       "<td align='right'>-3.0</td>\n",
       "<td align='right'>+0.4</td>\n",
       "<td align='right'>-1.6</td>\n",
       "<td align='right'>+6.0</td>\n",
       "<td align='right'>+3.0</td>\n",
       "<td align='right'>-8.3</td>\n",
       "<td align='right'>+6.8</td>\n",
       "<td align='right'>+7.9</td>\n",
       "<td align='right'>+14.3</td>\n",
       "<td align='right'>-5.2</td>\n",
       "<td align='right'>+6.6</td>\n",
       "<td align='right'><b>+36.1</b></td>\n",
       "</tr>\n",
       " <tr> \n",
       "<td align='right'><b>2011</b></td>\n",
       "<td align='right'>+4.2</td>\n",
       "<td align='right'>+2.5</td>\n",
       "<td align='right'>+0.3</td>\n",
       "<td align='right'>-2.9</td>\n",
       "<td align='right'>+0.5</td>\n",
       "<td align='right'>+6.6</td>\n",
       "<td align='right'>+3.6</td>\n",
       "<td align='right'>+1.2</td>\n",
       "<td align='right'>+0.0</td>\n",
       "<td align='right'>+2.8</td>\n",
       "<td align='right'>+0.0</td>\n",
       "<td align='right'>+3.0</td>\n",
       "<td align='right'><b>+23.9</b></td>\n",
       "</tr>\n",
       " <tr> \n",
       "<td align='right'><b>2012</b></td>\n",
       "<td align='right'>+0.3</td>\n",
       "<td align='right'>+6.4</td>\n",
       "<td align='right'>+3.4</td>\n",
       "<td align='right'>+1.5</td>\n",
       "<td align='right'>-6.5</td>\n",
       "<td align='right'>+5.7</td>\n",
       "<td align='right'>+1.6</td>\n",
       "<td align='right'>+1.6</td>\n",
       "<td align='right'>-3.3</td>\n",
       "<td align='right'>+1.2</td>\n",
       "<td align='right'>+3.1</td>\n",
       "<td align='right'>-0.1</td>\n",
       "<td align='right'><b>+15.2</b></td>\n",
       "</tr>\n",
       " <tr> \n",
       "<td align='right'><b>2013</b></td>\n",
       "<td align='right'>+2.2</td>\n",
       "<td align='right'>-2.0</td>\n",
       "<td align='right'>+1.7</td>\n",
       "<td align='right'>-0.8</td>\n",
       "<td align='right'>+3.7</td>\n",
       "<td align='right'>+2.3</td>\n",
       "<td align='right'>+3.5</td>\n",
       "<td align='right'>+2.0</td>\n",
       "<td align='right'>-2.1</td>\n",
       "<td align='right'>+1.4</td>\n",
       "<td align='right'>+0.0</td>\n",
       "<td align='right'>+1.2</td>\n",
       "<td align='right'><b>+13.6</b></td>\n",
       "</tr>\n",
       " <tr> \n",
       "<td align='right'><b>2014</b></td>\n",
       "<td align='right'>+0.2</td>\n",
       "<td align='right'>-8.4</td>\n",
       "<td align='right'>-3.1</td>\n",
       "<td align='right'>-2.5</td>\n",
       "<td align='right'>+6.8</td>\n",
       "<td align='right'>+2.6</td>\n",
       "<td align='right'>-0.5</td>\n",
       "<td align='right'>-1.5</td>\n",
       "<td align='right'>+5.8</td>\n",
       "<td align='right'>-13.5</td>\n",
       "<td align='right'>-2.9</td>\n",
       "<td align='right'>+1.4</td>\n",
       "<td align='right'><b>-16.1</b></td>\n",
       "</tr>\n",
       " <tr> \n",
       "<td align='right'><b>2015</b></td>\n",
       "<td align='right'>-1.2</td>\n",
       "<td align='right'>+0.0</td>\n",
       "<td align='right'>+6.7</td>\n",
       "<td align='right'>-1.8</td>\n",
       "<td align='right'>+2.9</td>\n",
       "<td align='right'>-5.6</td>\n",
       "<td align='right'>+4.8</td>\n",
       "<td align='right'>+3.0</td>\n",
       "<td align='right'>-0.8</td>\n",
       "<td align='right'>+3.1</td>\n",
       "<td align='right'>+0.0</td>\n",
       "<td align='right'>+7.3</td>\n",
       "<td align='right'><b>+19.4</b></td>\n",
       "</tr>\n",
       " <tr> \n",
       "<td align='right'><b>2016</b></td>\n",
       "<td align='right'>-3.9</td>\n",
       "<td align='right'>+2.9</td>\n",
       "<td align='right'>-3.3</td>\n",
       "<td align='right'>-8.5</td>\n",
       "<td align='right'>-3.6</td>\n",
       "<td align='right'>+1.2</td>\n",
       "<td align='right'>+8.3</td>\n",
       "<td align='right'>-4.3</td>\n",
       "<td align='right'>-0.3</td>\n",
       "<td align='right'>-1.5</td>\n",
       "<td align='right'>+2.0</td>\n",
       "<td align='right'>-3.5</td>\n",
       "<td align='right'><b>-14.5</b></td>\n",
       "</tr>\n",
       " <tr> \n",
       "<td align='right'><b>2017</b></td>\n",
       "<td align='right'>-0.5</td>\n",
       "<td align='right'>+0.9</td>\n",
       "<td align='right'>+0.4</td>\n",
       "<td align='right'>+4.7</td>\n",
       "<td align='right'>-2.3</td>\n",
       "<td align='right'>-1.5</td>\n",
       "<td align='right'>-4.6</td>\n",
       "<td align='right'>+5.2</td>\n",
       "<td align='right'>+0.1</td>\n",
       "<td align='right'>+7.7</td>\n",
       "<td align='right'>+4.2</td>\n",
       "<td align='right'>+4.5</td>\n",
       "<td align='right'><b>+19.6</b></td>\n",
       "</tr>\n",
       " <tr> \n",
       "<td align='right'><b>2018</b></td>\n",
       "<td align='right'>+1.6</td>\n",
       "<td align='right'>+1.1</td>\n",
       "<td align='right'>+4.4</td>\n",
       "<td align='right'>+3.1</td>\n",
       "<td align='right'>+3.7</td>\n",
       "<td align='right'>+9.0</td>\n",
       "<td align='right'>-1.3</td>\n",
       "<td align='right'>+8.1</td>\n",
       "<td align='right'>+3.4</td>\n",
       "<td align='right'>-8.6</td>\n",
       "<td align='right'>-6.0</td>\n",
       "<td align='right'>+0.8</td>\n",
       "<td align='right'><b>+19.1</b></td>\n",
       "</tr>\n",
       " <tr> \n",
       "</tr>\n",
       " </tbody> \n",
       " </table>"
      ],
      "text/plain": [
       "<IPython.core.display.HTML object>"
      ]
     },
     "metadata": {},
     "output_type": "display_data"
    },
    {
     "data": {
      "application/javascript": [
       "\n",
       "            setTimeout(function() {\n",
       "                var nbb_cell_id = 8;\n",
       "                var nbb_unformatted_code = \"monthly_data = em.aggregate_returns(df[strat].pct_change(), \\\"monthly\\\")\\nyearly_data = em.aggregate_returns(df[strat].pct_change(), \\\"yearly\\\")\\n\\ntable = \\\"\\\"\\\"\\n<table class='table table-hover table-condensed table-striped'>\\n<thead>\\n<tr>\\n<th style=\\\"text-align:right\\\">Year</th>\\n<th style=\\\"text-align:right\\\">Jan</th>\\n<th style=\\\"text-align:right\\\">Feb</th>\\n<th style=\\\"text-align:right\\\">Mar</th>\\n<th style=\\\"text-align:right\\\">Apr</th>\\n<th style=\\\"text-align:right\\\">May</th>\\n<th style=\\\"text-align:right\\\">Jun</th>\\n<th style=\\\"text-align:right\\\">Jul</th>\\n<th style=\\\"text-align:right\\\">Aug</th>\\n<th style=\\\"text-align:right\\\">Sep</th>\\n<th style=\\\"text-align:right\\\">Oct</th>\\n<th style=\\\"text-align:right\\\">Nov</th>\\n<th style=\\\"text-align:right\\\">Dec</th>\\n<th style=\\\"text-align:right\\\">Year</th>\\n</tr>\\n</thead>\\n<tbody>\\n<tr>\\\"\\\"\\\"\\n\\nfirst_year = True\\nfirst_month = True\\nyr = 0\\nmnth = 0\\nfor m, val in monthly_data.iteritems():\\n    yr = m[0]\\n    mnth = m[1]\\n\\n    if first_month:\\n        table += \\\"<td align='right'><b>{}</b></td>\\\\n\\\".format(yr)\\n        first_month = False\\n\\n    if first_year:  # pad empty months for first year if sim doesn't start in January\\n        first_year = False\\n        if mnth > 1:\\n            for i in range(1, mnth):\\n                table += \\\"<td align='right'>-</td>\\\\n\\\"\\n\\n    table += \\\"<td align='right'>{:+.1f}</td>\\\\n\\\".format(val * 100)\\n\\n    if mnth == 12:  # check for dec, add yearly\\n        table += \\\"<td align='right'><b>{:+.1f}</b></td>\\\\n\\\".format(yearly_data[yr] * 100)\\n        table += \\\"</tr>\\\\n <tr> \\\\n\\\"\\n        first_month = True\\n\\n# add padding for empty months and last year's value\\nif mnth != 12:\\n    for i in range(mnth + 1, 13):\\n        table += \\\"<td align='right'>-</td>\\\\n\\\"\\n        if i == 12:\\n            table += \\\"<td align='right'><b>{:+.1f}</b></td>\\\\n\\\".format(\\n                yearly_data[yr] * 100\\n            )\\n            table += \\\"</tr>\\\\n <tr> \\\\n\\\"\\ntable += \\\"</tr>\\\\n </tbody> \\\\n </table>\\\"\\n\\ndisplay(HTML(table))\";\n",
       "                var nbb_formatted_code = \"monthly_data = em.aggregate_returns(df[strat].pct_change(), \\\"monthly\\\")\\nyearly_data = em.aggregate_returns(df[strat].pct_change(), \\\"yearly\\\")\\n\\ntable = \\\"\\\"\\\"\\n<table class='table table-hover table-condensed table-striped'>\\n<thead>\\n<tr>\\n<th style=\\\"text-align:right\\\">Year</th>\\n<th style=\\\"text-align:right\\\">Jan</th>\\n<th style=\\\"text-align:right\\\">Feb</th>\\n<th style=\\\"text-align:right\\\">Mar</th>\\n<th style=\\\"text-align:right\\\">Apr</th>\\n<th style=\\\"text-align:right\\\">May</th>\\n<th style=\\\"text-align:right\\\">Jun</th>\\n<th style=\\\"text-align:right\\\">Jul</th>\\n<th style=\\\"text-align:right\\\">Aug</th>\\n<th style=\\\"text-align:right\\\">Sep</th>\\n<th style=\\\"text-align:right\\\">Oct</th>\\n<th style=\\\"text-align:right\\\">Nov</th>\\n<th style=\\\"text-align:right\\\">Dec</th>\\n<th style=\\\"text-align:right\\\">Year</th>\\n</tr>\\n</thead>\\n<tbody>\\n<tr>\\\"\\\"\\\"\\n\\nfirst_year = True\\nfirst_month = True\\nyr = 0\\nmnth = 0\\nfor m, val in monthly_data.iteritems():\\n    yr = m[0]\\n    mnth = m[1]\\n\\n    if first_month:\\n        table += \\\"<td align='right'><b>{}</b></td>\\\\n\\\".format(yr)\\n        first_month = False\\n\\n    if first_year:  # pad empty months for first year if sim doesn't start in January\\n        first_year = False\\n        if mnth > 1:\\n            for i in range(1, mnth):\\n                table += \\\"<td align='right'>-</td>\\\\n\\\"\\n\\n    table += \\\"<td align='right'>{:+.1f}</td>\\\\n\\\".format(val * 100)\\n\\n    if mnth == 12:  # check for dec, add yearly\\n        table += \\\"<td align='right'><b>{:+.1f}</b></td>\\\\n\\\".format(yearly_data[yr] * 100)\\n        table += \\\"</tr>\\\\n <tr> \\\\n\\\"\\n        first_month = True\\n\\n# add padding for empty months and last year's value\\nif mnth != 12:\\n    for i in range(mnth + 1, 13):\\n        table += \\\"<td align='right'>-</td>\\\\n\\\"\\n        if i == 12:\\n            table += \\\"<td align='right'><b>{:+.1f}</b></td>\\\\n\\\".format(\\n                yearly_data[yr] * 100\\n            )\\n            table += \\\"</tr>\\\\n <tr> \\\\n\\\"\\ntable += \\\"</tr>\\\\n </tbody> \\\\n </table>\\\"\\n\\ndisplay(HTML(table))\";\n",
       "                var nbb_cells = Jupyter.notebook.get_cells();\n",
       "                for (var i = 0; i < nbb_cells.length; ++i) {\n",
       "                    if (nbb_cells[i].input_prompt_number == nbb_cell_id) {\n",
       "                        if (nbb_cells[i].get_text() == nbb_unformatted_code) {\n",
       "                             nbb_cells[i].set_text(nbb_formatted_code);\n",
       "                        }\n",
       "                        break;\n",
       "                    }\n",
       "                }\n",
       "            }, 500);\n",
       "            "
      ],
      "text/plain": [
       "<IPython.core.display.Javascript object>"
      ]
     },
     "metadata": {},
     "output_type": "display_data"
    }
   ],
   "source": [
    "monthly_data = em.aggregate_returns(df[strat].pct_change(), \"monthly\")\n",
    "yearly_data = em.aggregate_returns(df[strat].pct_change(), \"yearly\")\n",
    "\n",
    "table = \"\"\"\n",
    "<table class='table table-hover table-condensed table-striped'>\n",
    "<thead>\n",
    "<tr>\n",
    "<th style=\"text-align:right\">Year</th>\n",
    "<th style=\"text-align:right\">Jan</th>\n",
    "<th style=\"text-align:right\">Feb</th>\n",
    "<th style=\"text-align:right\">Mar</th>\n",
    "<th style=\"text-align:right\">Apr</th>\n",
    "<th style=\"text-align:right\">May</th>\n",
    "<th style=\"text-align:right\">Jun</th>\n",
    "<th style=\"text-align:right\">Jul</th>\n",
    "<th style=\"text-align:right\">Aug</th>\n",
    "<th style=\"text-align:right\">Sep</th>\n",
    "<th style=\"text-align:right\">Oct</th>\n",
    "<th style=\"text-align:right\">Nov</th>\n",
    "<th style=\"text-align:right\">Dec</th>\n",
    "<th style=\"text-align:right\">Year</th>\n",
    "</tr>\n",
    "</thead>\n",
    "<tbody>\n",
    "<tr>\"\"\"\n",
    "\n",
    "first_year = True\n",
    "first_month = True\n",
    "yr = 0\n",
    "mnth = 0\n",
    "for m, val in monthly_data.iteritems():\n",
    "    yr = m[0]\n",
    "    mnth = m[1]\n",
    "\n",
    "    if first_month:\n",
    "        table += \"<td align='right'><b>{}</b></td>\\n\".format(yr)\n",
    "        first_month = False\n",
    "\n",
    "    if first_year:  # pad empty months for first year if sim doesn't start in January\n",
    "        first_year = False\n",
    "        if mnth > 1:\n",
    "            for i in range(1, mnth):\n",
    "                table += \"<td align='right'>-</td>\\n\"\n",
    "\n",
    "    table += \"<td align='right'>{:+.1f}</td>\\n\".format(val * 100)\n",
    "\n",
    "    if mnth == 12:  # check for dec, add yearly\n",
    "        table += \"<td align='right'><b>{:+.1f}</b></td>\\n\".format(yearly_data[yr] * 100)\n",
    "        table += \"</tr>\\n <tr> \\n\"\n",
    "        first_month = True\n",
    "\n",
    "# add padding for empty months and last year's value\n",
    "if mnth != 12:\n",
    "    for i in range(mnth + 1, 13):\n",
    "        table += \"<td align='right'>-</td>\\n\"\n",
    "        if i == 12:\n",
    "            table += \"<td align='right'><b>{:+.1f}</b></td>\\n\".format(\n",
    "                yearly_data[yr] * 100\n",
    "            )\n",
    "            table += \"</tr>\\n <tr> \\n\"\n",
    "table += \"</tr>\\n </tbody> \\n </table>\"\n",
    "\n",
    "display(HTML(table))"
   ]
  },
  {
   "cell_type": "markdown",
   "metadata": {},
   "source": [
    "Holding period returns:"
   ]
  },
  {
   "cell_type": "code",
   "execution_count": 9,
   "metadata": {},
   "outputs": [
    {
     "data": {
      "text/html": [
       "<table class='table table-hover table-condensed table-striped'><tr><th>Years</th><th>1</th><th>2</th><th>3</th><th>4</th><th>5</th><th>6</th><th>7</th><th>8</th><th>9</th><th>10</th><th>11</th><th>12</th><th>13</th><th>14</th><th>15</th><th>16</th><th>17</th><th>18</th></tr><tr><th>2001</th><td>+11</td><td>+6</td><td>+7</td><td>+14</td><td>+21</td><td>+18</td><td>+19</td><td>+20</td><td>+18</td><td>+20</td><td>+20</td><td>+20</td><td>+19</td><td>+16</td><td>+17</td><td>+14</td><td>+15</td><td>+15</td></tr><tr><th>2002</th><td>+2</td><td>+5</td><td>+16</td><td>+24</td><td>+20</td><td>+20</td><td>+21</td><td>+19</td><td>+21</td><td>+21</td><td>+21</td><td>+20</td><td>+17</td><td>+17</td><td>+15</td><td>+15</td><td>+15</td></tr><tr><th>2003</th><td>+8</td><td>+24</td><td>+32</td><td>+25</td><td>+24</td><td>+25</td><td>+22</td><td>+24</td><td>+24</td><td>+23</td><td>+22</td><td>+18</td><td>+18</td><td>+16</td><td>+16</td><td>+16</td></tr><tr><th>2004</th><td>+41</td><td>+46</td><td>+31</td><td>+29</td><td>+28</td><td>+25</td><td>+26</td><td>+26</td><td>+25</td><td>+24</td><td>+19</td><td>+19</td><td>+16</td><td>+16</td><td>+17</td></tr><tr><th>2005</th><td>+51</td><td>+25</td><td>+25</td><td>+25</td><td>+22</td><td>+24</td><td>+24</td><td>+23</td><td>+22</td><td>+17</td><td>+17</td><td>+14</td><td>+15</td><td>+15</td></tr><tr><th>2006</th><td>+4</td><td>+14</td><td>+18</td><td>+15</td><td>+19</td><td>+20</td><td>+19</td><td>+18</td><td>+14</td><td>+15</td><td>+12</td><td>+12</td><td>+13</td></tr><tr><th>2007</th><td>+24</td><td>+25</td><td>+19</td><td>+23</td><td>+23</td><td>+22</td><td>+21</td><td>+15</td><td>+16</td><td>+12</td><td>+13</td><td>+13</td></tr><tr><th>2008</th><td>+26</td><td>+16</td><td>+23</td><td>+23</td><td>+21</td><td>+20</td><td>+14</td><td>+15</td><td>+11</td><td>+12</td><td>+12</td></tr><tr><th>2009</th><td>+7</td><td>+21</td><td>+22</td><td>+20</td><td>+19</td><td>+12</td><td>+13</td><td>+9</td><td>+10</td><td>+11</td></tr><tr><th>2010</th><td>+36</td><td>+30</td><td>+25</td><td>+22</td><td>+13</td><td>+14</td><td>+10</td><td>+11</td><td>+12</td></tr><tr><th>2011</th><td>+24</td><td>+19</td><td>+17</td><td>+8</td><td>+10</td><td>+6</td><td>+8</td><td>+9</td></tr><tr><th>2012</th><td>+15</td><td>+14</td><td>+3</td><td>+7</td><td>+2</td><td>+5</td><td>+7</td></tr><tr><th>2013</th><td>+14</td><td>-2</td><td>+4</td><td>-1</td><td>+3</td><td>+6</td></tr><tr><th>2014</th><td>-16</td><td>+0</td><td>-5</td><td>+1</td><td>+4</td></tr><tr><th>2015</th><td>+19</td><td>+1</td><td>+7</td><td>+10</td></tr><tr><th>2016</th><td>-14</td><td>+1</td><td>+7</td></tr><tr><th>2017</th><td>+20</td><td>+19</td></tr><tr><th>2018</th><td>+19</td></tr>"
      ],
      "text/plain": [
       "<IPython.core.display.HTML object>"
      ]
     },
     "metadata": {},
     "output_type": "display_data"
    },
    {
     "data": {
      "application/javascript": [
       "\n",
       "            setTimeout(function() {\n",
       "                var nbb_cell_id = 9;\n",
       "                var nbb_unformatted_code = \"def holding_period_map(df):\\n    yr = em.aggregate_returns(df[strat].pct_change(), 'yearly')\\n    df = pd.DataFrame(columns=range(1,len(yr)+1), index=yr.index)\\n\\n    yr_start = 0\\n    \\n    table = \\\"<table class='table table-hover table-condensed table-striped'>\\\"\\n    table += \\\"<tr><th>Years</th>\\\"\\n    \\n    for i in range(len(yr)):\\n        table += \\\"<th>{}</th>\\\".format(i+1)\\n    table += \\\"</tr>\\\"\\n\\n    for the_year, value in yr.iteritems(): # Iterates years\\n        table += \\\"<tr><th>{}</th>\\\".format(the_year) # New table row\\n        \\n        for yrs_held in (range(1, len(yr)+1)): # Iterates yrs held \\n            if yrs_held   <= len(yr[yr_start:yr_start + yrs_held]):\\n                ret = em.annual_return(yr[yr_start:yr_start + yrs_held], 'yearly' )\\n                table += \\\"<td>{:+.0f}</td>\\\".format(ret * 100)\\n        table += \\\"</tr>\\\"    \\n        yr_start+=1\\n    return table\\n\\ntable = holding_period_map(df)\\ndisplay(HTML(table))\";\n",
       "                var nbb_formatted_code = \"def holding_period_map(df):\\n    yr = em.aggregate_returns(df[strat].pct_change(), \\\"yearly\\\")\\n    df = pd.DataFrame(columns=range(1, len(yr) + 1), index=yr.index)\\n\\n    yr_start = 0\\n\\n    table = \\\"<table class='table table-hover table-condensed table-striped'>\\\"\\n    table += \\\"<tr><th>Years</th>\\\"\\n\\n    for i in range(len(yr)):\\n        table += \\\"<th>{}</th>\\\".format(i + 1)\\n    table += \\\"</tr>\\\"\\n\\n    for the_year, value in yr.iteritems():  # Iterates years\\n        table += \\\"<tr><th>{}</th>\\\".format(the_year)  # New table row\\n\\n        for yrs_held in range(1, len(yr) + 1):  # Iterates yrs held\\n            if yrs_held <= len(yr[yr_start : yr_start + yrs_held]):\\n                ret = em.annual_return(yr[yr_start : yr_start + yrs_held], \\\"yearly\\\")\\n                table += \\\"<td>{:+.0f}</td>\\\".format(ret * 100)\\n        table += \\\"</tr>\\\"\\n        yr_start += 1\\n    return table\\n\\n\\ntable = holding_period_map(df)\\ndisplay(HTML(table))\";\n",
       "                var nbb_cells = Jupyter.notebook.get_cells();\n",
       "                for (var i = 0; i < nbb_cells.length; ++i) {\n",
       "                    if (nbb_cells[i].input_prompt_number == nbb_cell_id) {\n",
       "                        if (nbb_cells[i].get_text() == nbb_unformatted_code) {\n",
       "                             nbb_cells[i].set_text(nbb_formatted_code);\n",
       "                        }\n",
       "                        break;\n",
       "                    }\n",
       "                }\n",
       "            }, 500);\n",
       "            "
      ],
      "text/plain": [
       "<IPython.core.display.Javascript object>"
      ]
     },
     "metadata": {},
     "output_type": "display_data"
    }
   ],
   "source": [
    "def holding_period_map(df):\n",
    "    yr = em.aggregate_returns(df[strat].pct_change(), 'yearly')\n",
    "    df = pd.DataFrame(columns=range(1,len(yr)+1), index=yr.index)\n",
    "\n",
    "    yr_start = 0\n",
    "    \n",
    "    table = \"<table class='table table-hover table-condensed table-striped'>\"\n",
    "    table += \"<tr><th>Years</th>\"\n",
    "    \n",
    "    for i in range(len(yr)):\n",
    "        table += \"<th>{}</th>\".format(i+1)\n",
    "    table += \"</tr>\"\n",
    "\n",
    "    for the_year, value in yr.iteritems(): # Iterates years\n",
    "        table += \"<tr><th>{}</th>\".format(the_year) # New table row\n",
    "        \n",
    "        for yrs_held in (range(1, len(yr)+1)): # Iterates yrs held \n",
    "            if yrs_held   <= len(yr[yr_start:yr_start + yrs_held]):\n",
    "                ret = em.annual_return(yr[yr_start:yr_start + yrs_held], 'yearly' )\n",
    "                table += \"<td>{:+.0f}</td>\".format(ret * 100)\n",
    "        table += \"</tr>\"    \n",
    "        yr_start+=1\n",
    "    return table\n",
    "\n",
    "table = holding_period_map(df)\n",
    "display(HTML(table))\n"
   ]
  }
 ],
 "metadata": {
  "kernelspec": {
   "display_name": "Python 3",
   "language": "python",
   "name": "python3"
  },
  "language_info": {
   "codemirror_mode": {
    "name": "ipython",
    "version": 3
   },
   "file_extension": ".py",
   "mimetype": "text/x-python",
   "name": "python",
   "nbconvert_exporter": "python",
   "pygments_lexer": "ipython3",
   "version": "3.6.12"
  }
 },
 "nbformat": 4,
 "nbformat_minor": 4
}
