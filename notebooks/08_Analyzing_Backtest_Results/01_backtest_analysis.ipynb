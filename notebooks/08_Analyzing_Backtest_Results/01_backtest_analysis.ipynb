{
 "cells": [
  {
   "cell_type": "code",
   "execution_count": 1,
   "metadata": {},
   "outputs": [],
   "source": [
    "%matplotlib inline"
   ]
  },
  {
   "cell_type": "code",
   "execution_count": 2,
   "metadata": {},
   "outputs": [],
   "source": [
    "from zipline import run_algorithm\n",
    "from zipline.api import order_target_percent, symbol,  \\\n",
    "    schedule_function, date_rules, time_rules\n",
    "from datetime import datetime\n",
    "import pytz\n",
    "import pyfolio as pf\n",
    "import matplotlib.pyplot as plt\n",
    "from matplotlib import rc, ticker\n",
    "\n",
    "import pandas as pd\n",
    "import numpy as np"
   ]
  },
  {
   "cell_type": "markdown",
   "metadata": {},
   "source": [
    "Run a backtest:"
   ]
  },
  {
   "cell_type": "code",
   "execution_count": 3,
   "metadata": {},
   "outputs": [],
   "source": [
    "def initialize(context):\n",
    "    # Which stocks to trade\n",
    "    dji = [\n",
    "        \"AAPL\",\n",
    "        \"AXP\",\n",
    "        \"BA\",\n",
    "        \"CAT\",\n",
    "        \"CSCO\",\n",
    "        \"CVX\",\n",
    "        \"DIS\",\n",
    "        \"DWDP\",\n",
    "        \"GS\",\n",
    "        \"HD\",\n",
    "        \"IBM\",\n",
    "        \"INTC\",\n",
    "        \"JNJ\",\n",
    "        \"JPM\",\n",
    "        \"KO\",\n",
    "        \"MCD\",\n",
    "        \"MMM\",\n",
    "        \"MRK\",\n",
    "        \"MSFT\",\n",
    "        \"NKE\",\n",
    "        \"PFE\",\n",
    "        \"PG\",\n",
    "        \"TRV\",\n",
    "        \"UNH\",\n",
    "        \"UTX\",\n",
    "        \"V\",\n",
    "        \"VZ\",\n",
    "        \"WBA\",\n",
    "        \"WMT\",\n",
    "        \"XOM\",  \n",
    "    ]\n",
    "    \n",
    "    # Make symbol list from tickers\n",
    "    context.universe = [symbol(s) for s in dji]\n",
    "    \n",
    "    # History window\n",
    "    context.history_window = 20\n",
    "    \n",
    "    # Size of our portfolio\n",
    "    context.stocks_to_hold = 10\n",
    "    \n",
    "    # Schedule the daily trading routine for once per month\n",
    "    schedule_function(handle_data, date_rules.month_start(), time_rules.market_close()) "
   ]
  },
  {
   "cell_type": "code",
   "execution_count": 4,
   "metadata": {},
   "outputs": [],
   "source": [
    "def month_perf(ts):\n",
    "    perf = (ts[-1] / ts[0]) - 1\n",
    "    return perf\n",
    "\n",
    "def handle_data(context, data):\n",
    "    # Get history for all the stocks.\n",
    "    hist = data.history(context.universe, \"close\", context.history_window, \"1d\")\n",
    "    \n",
    "    # This creates a table of percent returns, in order.\n",
    "    perf_table = hist.apply(month_perf).sort_values(ascending=False)\n",
    "\n",
    "    # Make buy list of the top N stocks\n",
    "    buy_list = perf_table[:context.stocks_to_hold]\n",
    "    \n",
    "    # The rest will not be held.\n",
    "    the_rest = perf_table[context.stocks_to_hold:]\n",
    "    \n",
    "    # Place target buy orders for top N stocks.\n",
    "    for stock, perf in buy_list.iteritems():\n",
    "        stock_weight = 1 / context.stocks_to_hold\n",
    "\n",
    "        # Place order\n",
    "        if data.can_trade(stock):\n",
    "            order_target_percent(stock, stock_weight)\n",
    "\n",
    "    # Make sure we are flat the rest.\n",
    "    for stock, perf in the_rest.iteritems():\n",
    "        # Place order\n",
    "        if data.can_trade(stock):\n",
    "            order_target_percent(stock, 0.0)   "
   ]
  },
  {
   "cell_type": "code",
   "execution_count": 5,
   "metadata": {},
   "outputs": [],
   "source": [
    "def analyze(context, perf):\n",
    "    # Use PyFolio to generate a performance report\n",
    "    returns, positions, transactions = pf.utils.extract_rets_pos_txn_from_zipline(perf)\n",
    "    pf.create_returns_tear_sheet(returns, benchmark_rets=None)"
   ]
  },
  {
   "cell_type": "code",
   "execution_count": 6,
   "metadata": {},
   "outputs": [],
   "source": [
    "start = pd.Timestamp('2003-01-01', tz = 'UTC')\n",
    "end = pd.Timestamp('2017-12-31', tz = 'UTC')"
   ]
  },
  {
   "cell_type": "code",
   "execution_count": null,
   "metadata": {},
   "outputs": [],
   "source": [
    "%%time\n",
    "result = run_algorithm(\n",
    "    start=start, \n",
    "    end=end, \n",
    "    initialize=initialize, \n",
    "    analyze=analyze, \n",
    "    capital_base=10000, \n",
    "    data_frequency = 'daily', \n",
    "    bundle='quandl' \n",
    ")"
   ]
  },
  {
   "cell_type": "markdown",
   "metadata": {},
   "source": [
    "View a day's snapshot:"
   ]
  },
  {
   "cell_type": "code",
   "execution_count": null,
   "metadata": {},
   "outputs": [],
   "source": [
    "# Select day to view\n",
    "day = '2009-03-17'"
   ]
  },
  {
   "cell_type": "code",
   "execution_count": null,
   "metadata": {},
   "outputs": [],
   "source": [
    "# Get portfolio value and positions for this day\n",
    "port_value = result.loc[day,'portfolio_value']\n",
    "day_positions = result.loc[day,'positions']"
   ]
  },
  {
   "cell_type": "code",
   "execution_count": null,
   "metadata": {},
   "outputs": [],
   "source": [
    "# Empty DataFrame to store values\n",
    "df = pd.DataFrame(columns=['value', 'pnl'])\n",
    "\n",
    "# Populate DataFrame with position info\n",
    "for pos in day_positions:\n",
    "    sym = pos['sid'].symbol \n",
    "    df.loc[sym,'value'] = pos['amount'] * pos['last_sale_price']\n",
    "    df.loc[sym,'pnl'] = df.loc[sym,'value'] - (pos['amount'] * pos['cost_basis'])\n",
    "    \n",
    "# Add cash position\n",
    "df.loc['cash', ['value','pnl']] = [(port_value - df['value'].sum()), 0]\n",
    "\n",
    "df.head(5)"
   ]
  },
  {
   "cell_type": "code",
   "execution_count": null,
   "metadata": {},
   "outputs": [],
   "source": [
    "# Make pie chart for allocations\n",
    "fig, ax1 = plt.subplots(figsize=[12, 10])\n",
    "ax1.pie(df['value'], labels=df.index, shadow=True, startangle=90)\n",
    "ax1.axis('equal')\n",
    "ax1.set_title('Allocation on {}'.format(day))\n",
    "plt.show()"
   ]
  },
  {
   "cell_type": "code",
   "execution_count": null,
   "metadata": {},
   "outputs": [],
   "source": [
    "# Make bar chart for open PnL\n",
    "fig, ax1 = plt.subplots(figsize=[12, 10])\n",
    "pnl_df = df.drop('cash')\n",
    "ax1.barh( pnl_df.index, pnl_df['pnl'],  align='center', color='green', ecolor='black')\n",
    "ax1.set_title('Open PnL on {}'.format(day))\n",
    "plt.show()"
   ]
  },
  {
   "cell_type": "markdown",
   "metadata": {},
   "source": [
    "Do some custom time series analytics:\n",
    "\n",
    "1. semi-log graph of the equity curve\n",
    "2. exposure held over time\n",
    "3. half a year rolling returns\n",
    "4. half a year max drawdown"
   ]
  },
  {
   "cell_type": "code",
   "execution_count": null,
   "metadata": {},
   "outputs": [],
   "source": [
    "# Function for annualized return\n",
    "def ann_ret(ts):\n",
    "    return np.power((ts[-1] / ts[0]), (year_length/len(ts))) -1"
   ]
  },
  {
   "cell_type": "code",
   "execution_count": null,
   "metadata": {},
   "outputs": [],
   "source": [
    "# Function for maximum drawdown\n",
    "def dd(ts):\n",
    "    return np.min(ts / np.maximum.accumulate(ts)) - 1"
   ]
  },
  {
   "cell_type": "code",
   "execution_count": null,
   "metadata": {},
   "outputs": [],
   "source": [
    "# Format for book image\n",
    "font = {'family' : 'eurostile',\n",
    "        'weight' : 'normal',\n",
    "        'size'   : 16}\n",
    "\n",
    "rc('font', **font)"
   ]
  },
  {
   "cell_type": "code",
   "execution_count": null,
   "metadata": {},
   "outputs": [],
   "source": [
    "# Settings\n",
    "calc_window = 126\n",
    "year_length = 252"
   ]
  },
  {
   "cell_type": "code",
   "execution_count": null,
   "metadata": {},
   "outputs": [],
   "source": [
    "# Copy the columns we need\n",
    "df = result.copy().filter(items=['portfolio_value', 'gross_leverage'])\n",
    "df.head(5)"
   ]
  },
  {
   "cell_type": "code",
   "execution_count": null,
   "metadata": {},
   "outputs": [],
   "source": [
    "# Get a rolling window from the backtest results\n",
    "rolling_window = result.portfolio_value.rolling(calc_window)\n",
    "rolling_window"
   ]
  },
  {
   "cell_type": "code",
   "execution_count": null,
   "metadata": {},
   "outputs": [],
   "source": [
    "# Calculate rolling analytics\n",
    "df['annualized'] = rolling_window.apply(ann_ret)\n",
    "df['drawdown'] = rolling_window.apply(dd)"
   ]
  },
  {
   "cell_type": "code",
   "execution_count": null,
   "metadata": {},
   "outputs": [],
   "source": [
    "# Drop initial n/a values\n",
    "df.dropna(inplace=True)"
   ]
  },
  {
   "cell_type": "code",
   "execution_count": null,
   "metadata": {},
   "outputs": [],
   "source": [
    "# Make a figure\n",
    "fig = plt.figure(figsize=(12, 12))\n",
    "\n",
    "# Make the base lower, just to make the graph easier to read\n",
    "df['portfolio_value'] /= 100"
   ]
  },
  {
   "cell_type": "code",
   "execution_count": null,
   "metadata": {},
   "outputs": [],
   "source": [
    "# First chart\n",
    "ax = fig.add_subplot(411)\n",
    "ax.set_title('Strategy Results')\n",
    "ax.plot(df['portfolio_value'], \n",
    "        linestyle='-', \n",
    "        color='black',\n",
    "        label='Equity Curve', linewidth=3.0)\n",
    "\n",
    "# Set log scale\n",
    "ax.set_yscale('log') \n",
    "\n",
    "# Make the axis look nicer\n",
    "ax.yaxis.set_ticks(np.arange(df['portfolio_value'].min(), df['portfolio_value'].max(), 500 ))\n",
    "ax.yaxis.set_major_formatter(ticker.FormatStrFormatter('%0.0f'))\n",
    "\n",
    "# Add legend and grid\n",
    "ax.legend()\n",
    "ax.grid(False)\n"
   ]
  },
  {
   "cell_type": "code",
   "execution_count": null,
   "metadata": {},
   "outputs": [],
   "source": [
    "# Second chart\n",
    "ax = fig.add_subplot(412)\n",
    "ax.plot(df['gross_leverage'], \n",
    "        label='Strategy exposure'.format(calc_window), \n",
    "        linestyle='-', \n",
    "        color='black',\n",
    "        linewidth=1.0)\n",
    "\n",
    "# Make the axis look nicer\n",
    "ax.yaxis.set_ticks(np.arange(df['gross_leverage'].min(), df['gross_leverage'].max(), 0.02 ))\n",
    "ax.yaxis.set_major_formatter(ticker.FormatStrFormatter('%0.2f'))\n",
    "\n",
    "# Add legend and grid\n",
    "ax.legend()\n",
    "ax.grid(True)"
   ]
  },
  {
   "cell_type": "code",
   "execution_count": null,
   "metadata": {},
   "outputs": [],
   "source": [
    "# Third chart\n",
    "ax = fig.add_subplot(413)\n",
    "ax.plot(df['annualized'], \n",
    "        label='{} days annualized return'.format(calc_window), \n",
    "        linestyle='-', \n",
    "        color='black',\n",
    "        linewidth=1.0)\n",
    "\n",
    "# Make the axis look nicer\n",
    "ax.yaxis.set_ticks(np.arange(df['annualized'].min(), df['annualized'].max(), 0.5 ))\n",
    "ax.yaxis.set_major_formatter(ticker.FormatStrFormatter('%0.1f'))\n",
    "\n",
    "# Add legend and grid\n",
    "ax.legend()\n",
    "ax.grid(True)\n"
   ]
  },
  {
   "cell_type": "code",
   "execution_count": null,
   "metadata": {},
   "outputs": [],
   "source": [
    "# Fourth chart\n",
    "ax = fig.add_subplot(414)\n",
    "ax.plot(df['drawdown'], \n",
    "        label='{} days max drawdown'.format(calc_window), \n",
    "        linestyle='-', \n",
    "        color='black',\n",
    "        linewidth=1.0)\n",
    "\n",
    "# Make the axis look nicer\n",
    "ax.yaxis.set_ticks(np.arange(df['drawdown'].min(), df['drawdown'].max(), 0.1 ))\n",
    "ax.yaxis.set_major_formatter(ticker.FormatStrFormatter('%0.1f'))\n",
    "\n",
    "# Add legend and grid\n",
    "ax.legend()\n",
    "ax.grid(True)\n"
   ]
  },
  {
   "cell_type": "code",
   "execution_count": null,
   "metadata": {},
   "outputs": [],
   "source": [
    "fig"
   ]
  }
 ],
 "metadata": {
  "kernelspec": {
   "display_name": "Python 3",
   "language": "python",
   "name": "python3"
  },
  "language_info": {
   "codemirror_mode": {
    "name": "ipython",
    "version": 3
   },
   "file_extension": ".py",
   "mimetype": "text/x-python",
   "name": "python",
   "nbconvert_exporter": "python",
   "pygments_lexer": "ipython3",
   "version": "3.5.10"
  }
 },
 "nbformat": 4,
 "nbformat_minor": 4
}
